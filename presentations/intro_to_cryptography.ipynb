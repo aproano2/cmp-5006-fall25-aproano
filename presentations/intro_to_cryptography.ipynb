{
 "cells": [
  {
   "cell_type": "markdown",
   "id": "0b322778",
   "metadata": {
    "slideshow": {
     "slide_type": "slide"
    }
   },
   "source": [
    "# CMP 5006 - Information Security \n",
    "\n",
    "\n",
    "## Foundations of Cryptography:\n",
    "### Comprehensive Introduction to Cryptographic Principles\n",
    "\n",
    "\n",
    "### Alejandro Proano, PhD. "
   ]
  },
  {
   "cell_type": "markdown",
   "id": "196431c7",
   "metadata": {
    "slideshow": {
     "slide_type": "slide"
    }
   },
   "source": [
    "## What is Cryptography?\n",
    "- **Definition:** The science of securing communication\n",
    "- **Root Etymology:**\n",
    "  * Greek: \"kryptos\" (hidden)\n",
    "  * \"graphein\" (writing)\n",
    "- **Core Purpose:** \n",
    "  * Confidentiality\n",
    "  * Integrity\n",
    "  * Authentication\n",
    "  * Non-repudiation "
   ]
  },
  {
   "cell_type": "markdown",
   "id": "1532774e",
   "metadata": {
    "slideshow": {
     "slide_type": "subslide"
    }
   },
   "source": [
    "## Why Cryptography Matters\n",
    "- **Protection Against:**\n",
    "  * Unauthorized Access\n",
    "  * Data Theft\n",
    "  * Espionage\n",
    "- **Critical in:**\n",
    "  * Financial Transactions\n",
    "  * Military Communications\n",
    "  * Personal Privacy\n",
    "  * Digital Communication\n",
    "- **Economic Impact**\n",
    "  * Cybercrime Prevention\n",
    "  * Data Protection Compliance\n"
   ]
  },
  {
   "cell_type": "markdown",
   "id": "27c137e0",
   "metadata": {
    "slideshow": {
     "slide_type": "subslide"
    }
   },
   "source": [
    "## Basic Cryptographic Terminology\n",
    "### Key Fundamental Concepts\n",
    "- **Plaintext**: \n",
    "  * Original, readable message\n",
    "  * Unencrypted information\n",
    "\n",
    "- **Ciphertext**: \n",
    "  * Encrypted, unreadable message\n",
    "  * Transformed from plaintext\n",
    "\n",
    "- **Encryption**: \n",
    "  * Process of converting plaintext to ciphertext\n",
    "  * Uses cryptographic algorithm\n",
    "  * Requires encryption key\n",
    "\n",
    "- **Decryption**: \n",
    "  * Reverse process of encryption\n",
    "  * Converts ciphertext back to plaintext\n",
    "  * Requires correct decryption key\n",
    "\n",
    "- **Communication Parties**:\n",
    "  * Sender\n",
    "  * Receiver\n",
    "  * Eavesdropper\n"
   ]
  },
  {
   "cell_type": "markdown",
   "id": "f69ba1e6",
   "metadata": {
    "slideshow": {
     "slide_type": "slide"
    }
   },
   "source": [
    "## Confidentiality\n",
    "### What is Confidentiality?\n",
    "- **Definition**: Ensuring that information is accessible only to authorized parties\n",
    "- **Key Mechanisms**:\n",
    "  - Encryption\n",
    "  - Access Controls\n",
    "  - Data Masking\n",
    "### Encryption Techniques\n",
    "- Symmetric Encryption\n",
    "- Asymmetric Encryption\n",
    "- Hybrid Encryption Methods\n",
    "\n",
    "### Example Scenarios\n",
    "- Secure email communication\n",
    "- Protected financial transactions\n",
    "- Confidential corporate communications\n",
    "\n"
   ]
  },
  {
   "cell_type": "markdown",
   "id": "faf83374",
   "metadata": {
    "slideshow": {
     "slide_type": "subslide"
    }
   },
   "source": [
    "## Integrity\n",
    "### Understanding Data Integrity\n",
    "- **Definition**: Maintaining and assuring the accuracy and consistency of data\n",
    "- **Core Components**:\n",
    "  - Detecting unauthorized modifications\n",
    "  - Ensuring data remains unaltered\n",
    "  \n",
    "### Integrity Protection Mechanisms\n",
    "- Cryptographic Hash Functions\n",
    "- Digital Signatures\n",
    "- Checksums\n",
    "- Message Authentication Codes (MACs)\n",
    "\n",
    "### Practical Examples\n",
    "- Verifying downloaded software\n",
    "- Ensuring email content hasn't been tampered with\n",
    "- Validating system configurations\n",
    "\n"
   ]
  },
  {
   "cell_type": "markdown",
   "id": "bd3c8387",
   "metadata": {
    "slideshow": {
     "slide_type": "subslide"
    }
   },
   "source": [
    "## Authentication\n",
    "### What is Authentication?\n",
    "- **Definition**: Verifying the identity of a user, system, or entity\n",
    "- **Authentication Methods**:\n",
    "  - Something you know (passwords)\n",
    "  - Something you have (security tokens)\n",
    "  - Something you are (biometrics)\n",
    "### Authentication Protocols\n",
    "- Multi-factor Authentication\n",
    "- Challenge-Response Mechanisms\n",
    "- Public Key Infrastructure (PKI)\n",
    "\n",
    "### Real-world Applications\n",
    "- Login systems\n",
    "- Network access control\n",
    "- Secure communication channels"
   ]
  },
  {
   "cell_type": "markdown",
   "id": "d3c26cde",
   "metadata": {
    "slideshow": {
     "slide_type": "subslide"
    }
   },
   "source": [
    "## Non-Repudiation\n",
    "### Understanding Non-Repudiation\n",
    "- **Definition**: Preventing an entity from denying previous commitments or actions\n",
    "- **Key Characteristics**:\n",
    "  - Providing proof of origin\n",
    "  - Ensuring accountability\n",
    "  - Creating irrefutable evidence\n",
    "### Implementation Techniques\n",
    "- Digital Signatures\n",
    "- Timestamping\n",
    "- Blockchain Technology\n",
    "- Secure Logging Systems\n",
    "\n",
    "### Practical Use Cases\n",
    "- Legal contracts\n",
    "- Financial transactions\n",
    "- Electronic voting systems\n"
   ]
  },
  {
   "cell_type": "markdown",
   "id": "2dcada5b",
   "metadata": {
    "slideshow": {
     "slide_type": "subslide"
    }
   },
   "source": [
    "## Interconnection of Principles\n",
    "### How These Principles Work Together\n",
    "- **Holistic Security Approach**\n",
    "- **Layered Defense Strategy**\n",
    "- **Complementary Protection Mechanisms**\n",
    "\n",
    "### Integrated Security Model\n",
    "```\n",
    "[Confidentiality] → [Integrity] → [Authentication] → [Non-Repudiation]\n",
    "```\n"
   ]
  },
  {
   "cell_type": "markdown",
   "id": "dc377ffe",
   "metadata": {
    "slideshow": {
     "slide_type": "slide"
    }
   },
   "source": [
    "## Historical Context of Cryptography\n",
    "- **Ancient Civilizations**\n",
    "  * Egyptian Hieroglyphs (1900 BCE)\n",
    "  * Spartan Scytale (5th Century BCE)\n",
    "- **Military Communications**\n",
    "  * Caesar Cipher (100 BCE)\n",
    "  * World War Encryption Techniques\n",
    "- **Technological Evolution**\n",
    "  * Mechanical Encryption Machines\n",
    "  * Enigma (World War II)\n",
    "  * Modern Digital Encryption\n"
   ]
  },
  {
   "cell_type": "markdown",
   "id": "2de2a1a4",
   "metadata": {
    "slideshow": {
     "slide_type": "subslide"
    }
   },
   "source": [
    "## Classical Encryption Techniques\n",
    "### What are Classical Ciphers?\n",
    "\n",
    "- **Definition**: Manual encryption techniques used before computer era\n",
    "- **Characteristics**:\n",
    "  - Simple algorithmic approaches\n",
    "  - Primarily manual encryption/decryption\n",
    "  - Limited complexity\n",
    "  - Educational value in understanding cryptographic principles\n",
    "\n"
   ]
  },
  {
   "cell_type": "markdown",
   "id": "61009d56",
   "metadata": {
    "slideshow": {
     "slide_type": "subslide"
    }
   },
   "source": [
    "## Classical Encryption Techniques\n",
    "### Historical Encryption Methods\n",
    "1. **Substitution Ciphers**\n",
    "   * Caesar Cipher\n",
    "   * Shift letters in alphabet\n",
    "   * Simple but vulnerable\n",
    "\n",
    "2. **Transposition Ciphers**\n",
    "   * Rearrange letters/characters\n",
    "   * Scytale Technique\n",
    "   * More complex than substitution\n",
    "\n",
    "3. **Polyalphabetic Ciphers**\n",
    "   * Vigenère Cipher\n",
    "   * Multiple substitution alphabets\n",
    "   * Increased complexity\n"
   ]
  },
  {
   "cell_type": "markdown",
   "id": "abde7656",
   "metadata": {
    "slideshow": {
     "slide_type": "subslide"
    }
   },
   "source": [
    "## Caesar Cipher Demonstration\n",
    "### Practical Example\n",
    "- Shift letters by fixed positions\n",
    "- Example: Shift 3 positions\n",
    "  * A → D\n",
    "  * B → E\n",
    "  * C → F\n",
    "\n",
    "### Encryption Process\n",
    "```\n",
    "Plaintext:  HELLO\n",
    "Shift:      3\n",
    "Ciphertext: KHOOR\n",
    "```\n"
   ]
  },
  {
   "cell_type": "markdown",
   "id": "1e7766c7",
   "metadata": {
    "slideshow": {
     "slide_type": "subslide"
    }
   },
   "source": [
    "## Rail Fence Cipher Example\n",
    "#### Original: ATTACKATDAWN\n",
    "```\n",
    "Encryption Process:\n",
    "A   C   D\n",
    " T A K T O N\n",
    "  T   A   W\n",
    "```\n",
    "- **Zigzag Pattern**\n",
    "- **Read Row by Row**\n",
    "- **Result**: ACDTAKTONTAW\n"
   ]
  },
  {
   "cell_type": "markdown",
   "id": "4c7e83b5",
   "metadata": {
    "slideshow": {
     "slide_type": "subslide"
    }
   },
   "source": [
    "## Limitations of Classical Techniques\n",
    "- **Vulnerable to:**\n",
    "  * Frequency Analysis\n",
    "  * Pattern Recognition\n",
    "  * Brute Force Attacks\n",
    "\n",
    "- **Modern Cryptography Advances:**\n",
    "  * Complex Mathematical Algorithms\n",
    "  * Large Key Spaces\n",
    "  * Computational Complexity\n"
   ]
  }
 ],
 "metadata": {
  "celltoolbar": "Slideshow",
  "kernelspec": {
   "display_name": "Python 3 (ipykernel)",
   "language": "python",
   "name": "python3"
  },
  "language_info": {
   "codemirror_mode": {
    "name": "ipython",
    "version": 3
   },
   "file_extension": ".py",
   "mimetype": "text/x-python",
   "name": "python",
   "nbconvert_exporter": "python",
   "pygments_lexer": "ipython3",
   "version": "3.12.3"
  }
 },
 "nbformat": 4,
 "nbformat_minor": 5
}
