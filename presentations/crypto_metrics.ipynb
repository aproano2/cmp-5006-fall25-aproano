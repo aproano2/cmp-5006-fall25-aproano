{
 "cells": [
  {
   "cell_type": "markdown",
   "id": "88c24ca7",
   "metadata": {
    "slideshow": {
     "slide_type": "slide"
    }
   },
   "source": [
    "# CMP 5006 - Information Security \n",
    "\n",
    "\n",
    "## Cryptographic Security Metrics:\n",
    "### Key Metrics for Evaluating Cryptographic Techniques\n",
    "\n",
    "\n",
    "### Alejandro Proano, PhD. "
   ]
  },
  {
   "cell_type": "markdown",
   "id": "ce95f7f5",
   "metadata": {
    "slideshow": {
     "slide_type": "slide"
    }
   },
   "source": [
    "##  Limitations of Classical Techniques\n",
    "\n",
    "- Vulnerable to:\n",
    "  * Frequency Analysis\n",
    "  * Pattern Recognition\n",
    "  * Brute Force Attacks\n",
    "\n",
    "- Modern Cryptography Advances:\n",
    "  * Complex Mathematical Algorithms\n",
    "  * Large Key Spaces\n",
    "  * Computational Complexity\n"
   ]
  },
  {
   "cell_type": "markdown",
   "id": "371c367f",
   "metadata": {
    "slideshow": {
     "slide_type": "slide"
    }
   },
   "source": [
    "## What is Cryptanalysis?\n",
    "- **Definition**: The art and science of breaking cryptographic systems\n",
    "- **Primary Goals**:\n",
    "  - Understand cipher weaknesses\n",
    "  - Recover original message without knowing the key\n",
    "  - Exploit systematic vulnerabilities\n"
   ]
  },
  {
   "cell_type": "markdown",
   "id": "a1337b74",
   "metadata": {
    "slideshow": {
     "slide_type": "slide"
    }
   },
   "source": [
    "## Cryptanalysis Techniques\n",
    "- Frequency Analysis\n",
    "- Pattern Recognition\n",
    "- Statistical Methods\n",
    "- Known Plaintext Attacks\n",
    "\n"
   ]
  },
  {
   "cell_type": "markdown",
   "id": "a1290b49",
   "metadata": {
    "slideshow": {
     "slide_type": "slide"
    }
   },
   "source": [
    "##  Frequency Analysis Fundamentals\n",
    "### Letter Frequency in English\n",
    "```\n",
    "Most Common Letters:\n",
    "E - 12.7%\n",
    "T - 9.1%\n",
    "A - 8.2%\n",
    "O - 7.5%\n",
    "I - 7.0%\n",
    "N - 6.7%\n",
    "```\n",
    "\n",
    "### Typical Letter Distribution\n",
    "- **Vowels**: E, A, I, O, U\n",
    "- **Common Consonants**: T, N, S, R, H\n"
   ]
  },
  {
   "cell_type": "markdown",
   "id": "14993ad9",
   "metadata": {
    "slideshow": {
     "slide_type": "subslide"
    }
   },
   "source": [
    "## Substitution Cipher Cryptanalysis\n",
    "#### Frequency Analysis Method\n",
    "1. Count letter frequencies in ciphertext\n",
    "2. Compare with standard English distribution\n",
    "3. Map most frequent ciphertext letters to most frequent plaintext letters\n"
   ]
  },
  {
   "cell_type": "code",
   "execution_count": 6,
   "id": "81a08758",
   "metadata": {
    "slideshow": {
     "slide_type": "subslide"
    }
   },
   "outputs": [],
   "source": [
    "def decrypt_caesar_cipher(encrypted_text, key):\n",
    "    decrypted_text = \"\"\n",
    "    for letter in encrypted_text:\n",
    "        if letter.isalpha():\n",
    "            decrypted_letter = chr((ord(letter) - key - ord('A')) % 26 + ord('A'))\n",
    "            decrypted_text += decrypted_letter\n",
    "        else:\n",
    "            decrypted_text += letter\n",
    "    \n",
    "    return decrypted_text\n",
    "\n",
    "def count_letters(text):\n",
    "    letter_count = {}\n",
    "    for letter in text:\n",
    "        if letter.isalpha():\n",
    "            if letter.lower() in letter_count:\n",
    "                letter_count[letter.lower()] += 1\n",
    "            else:\n",
    "                letter_count[letter.lower()] = 1\n",
    "    return letter_count"
   ]
  },
  {
   "cell_type": "code",
   "execution_count": 1,
   "id": "629ef894",
   "metadata": {
    "slideshow": {
     "slide_type": "subslide"
    }
   },
   "outputs": [],
   "source": [
    "### Example:\n",
    "\n",
    "ciphertext = \"\"\"\n",
    "Wkxi iokbc vkdob, kc ro pkmon dro psbsxq caekn, Myvyxov Kebovskxy Leoxnsk \n",
    "gkc dy bowowlob drkd nscdkxd kpdobxyyx grox rsc pkdrob dyyu rsw dy nscmyfob smo. \n",
    "Kd drkd dswo Wkmyxny gkc k fsvvkqo yp dgoxdi knylo ryecoc, lesvd yx dro lkxu yp \n",
    "k bsfob yp mvokb gkdob drkd bkx kvyxq k lon yp zyvscron cdyxoc, grsmr gobo grsdo\n",
    "kxn oxybwyec, vsuo zborscdybsm oqqc. Dro gybvn gkc cy bomoxd drkd wkxi drsxqc \n",
    "vkmuon xkwoc, kxn sx ybnob dy sxnsmkdo drow sd gkc xomocckbi dy zysxd. \n",
    "Ofobi iokb nebsxq dro wyxdr yp Wkbmr k pkwsvi yp bkqqon qizcsoc gyevn cod ez \n",
    "drosb doxdc xokb dro fsvvkqo, kxn gsdr k qbokd ezbykb yp zszoc kxn uoddvonbewc \n",
    "droi gyevn nsczvki xog sxfoxdsyxc. Psbcd droi lbyeqrd dro wkqxod\n",
    "\"\"\""
   ]
  },
  {
   "cell_type": "code",
   "execution_count": 2,
   "id": "50142eed",
   "metadata": {
    "slideshow": {
     "slide_type": "subslide"
    }
   },
   "outputs": [],
   "source": [
    "from collections import Counter\n",
    "tokens = list(ciphertext.lower().replace(' ','').replace('\\n',''))"
   ]
  },
  {
   "cell_type": "code",
   "execution_count": 3,
   "id": "9cb688a7",
   "metadata": {
    "slideshow": {
     "slide_type": "subslide"
    }
   },
   "outputs": [
    {
     "data": {
      "text/plain": [
       "Counter({'o': 67,\n",
       "         'd': 54,\n",
       "         'k': 53,\n",
       "         'y': 40,\n",
       "         'x': 38,\n",
       "         'b': 36,\n",
       "         's': 36,\n",
       "         'c': 32,\n",
       "         'r': 30,\n",
       "         'n': 23,\n",
       "         'v': 20,\n",
       "         'w': 15,\n",
       "         'g': 15,\n",
       "         'q': 14,\n",
       "         'p': 13,\n",
       "         'm': 13,\n",
       "         'e': 13,\n",
       "         'i': 12,\n",
       "         'z': 9,\n",
       "         ',': 7,\n",
       "         'l': 7,\n",
       "         'f': 6,\n",
       "         'u': 5,\n",
       "         '.': 4,\n",
       "         'a': 1})"
      ]
     },
     "execution_count": 3,
     "metadata": {},
     "output_type": "execute_result"
    }
   ],
   "source": [
    "Counter(tokens)"
   ]
  },
  {
   "cell_type": "code",
   "execution_count": 4,
   "id": "410f3411",
   "metadata": {
    "slideshow": {
     "slide_type": "subslide"
    }
   },
   "outputs": [],
   "source": [
    "alph = ['a', 'b', 'c', 'd', 'e', 'f', 'g', 'h', 'i', 'j', 'k', 'l', 'm', 'n', 'o', 'p', 'q', 'r', 's', 't', 'u', 'v', 'w', 'x', 'y', 'z']\n",
    "itoc = {ix:ch for ix,ch in enumerate(alph)}\n",
    "ctoi = {ch:ix for ix,ch in itoc.items()}"
   ]
  },
  {
   "cell_type": "code",
   "execution_count": 5,
   "id": "d15b6aec",
   "metadata": {
    "slideshow": {
     "slide_type": "subslide"
    }
   },
   "outputs": [
    {
     "data": {
      "text/plain": [
       "10"
      ]
     },
     "execution_count": 5,
     "metadata": {},
     "output_type": "execute_result"
    }
   ],
   "source": [
    "# In English, the most popular letter is E\n",
    "# e -> o\n",
    "# a, b, c, d, e, f, g, h, i, j, k, l, m, n, o, p, q, r, s, t, u, v, w, x, y, z\n",
    "# the key is: \n",
    "ctoi['o'] - ctoi['e']"
   ]
  },
  {
   "cell_type": "code",
   "execution_count": 7,
   "id": "d6a9ecda",
   "metadata": {
    "slideshow": {
     "slide_type": "subslide"
    }
   },
   "outputs": [
    {
     "name": "stdout",
     "output_type": "stream",
     "text": [
      "\n",
      "MANY YEARS LATER, AS HE FACED THE FIRING SQUAD, COLONEL AURELIANO BUENDIA \n",
      "WAS TO REMEMBER THAT DISTANT AFTERNOON WHEN HIS FATHER TOOK HIM TO DISCOVER ICE. \n",
      "AT THAT TIME MACONDO WAS A VILLAGE OF TWENTY ADOBE HOUSES, BUILT ON THE BANK OF \n",
      "A RIVER OF CLEAR WATER THAT RAN ALONG A BED OF POLISHED STONES, WHICH WERE WHITE\n",
      "AND ENORMOUS, LIKE PREHISTORIC EGGS. THE WORLD WAS SO RECENT THAT MANY THINGS \n",
      "LACKED NAMES, AND IN ORDER TO INDICATE THEM IT WAS NECESSARY TO POINT. \n",
      "EVERY YEAR DURING THE MONTH OF MARCH A FAMILY OF RAGGED GYPSIES WOULD SET UP \n",
      "THEIR TENTS NEAR THE VILLAGE, AND WITH A GREAT UPROAR OF PIPES AND KETTLEDRUMS \n",
      "THEY WOULD DISPLAY NEW INVENTIONS. FIRST THEY BROUGHT THE MAGNET\n",
      "\n"
     ]
    }
   ],
   "source": [
    "print(decrypt_caesar_cipher(ciphertext.upper(),10))"
   ]
  },
  {
   "cell_type": "markdown",
   "id": "b008789b",
   "metadata": {
    "slideshow": {
     "slide_type": "slide"
    }
   },
   "source": [
    "## 1. Computational Security Metrics"
   ]
  },
  {
   "cell_type": "markdown",
   "id": "4218acb6",
   "metadata": {
    "slideshow": {
     "slide_type": "subslide"
    }
   },
   "source": [
    "## Key Space\n",
    "- **Definition:** Total number of possible keys\n",
    "- **Importance:** Larger key space makes brute-force attacks more difficult\n",
    "- **Calculation:** $2^{|K|}$\n",
    "- **Example:** \n",
    "  - 128-bit key = $2^{128}$ possible combinations\n",
    "  - 256-bit key = $2^{256}$ possible combinations\n"
   ]
  },
  {
   "cell_type": "code",
   "execution_count": 11,
   "id": "20db0763",
   "metadata": {
    "slideshow": {
     "slide_type": "subslide"
    }
   },
   "outputs": [
    {
     "name": "stdout",
     "output_type": "stream",
     "text": [
      "38.53183944498959\n",
      "77.06367888997919\n"
     ]
    }
   ],
   "source": [
    "import math\n",
    "\n",
    "print(math.log10(2**128))\n",
    "print(math.log10(2**256))\n"
   ]
  },
  {
   "cell_type": "code",
   "execution_count": 22,
   "id": "1076130e",
   "metadata": {
    "slideshow": {
     "slide_type": "subslide"
    }
   },
   "outputs": [
    {
     "name": "stdout",
     "output_type": "stream",
     "text": [
      "10.007999171934436\n"
     ]
    }
   ],
   "source": [
    "# DES used 56-bits keys\n",
    "\n",
    "a = 2**56\n",
    "\n",
    "print(a * 10**(-9) / (2000*3600) )"
   ]
  },
  {
   "cell_type": "markdown",
   "id": "d1c40de6",
   "metadata": {
    "slideshow": {
     "slide_type": "subslide"
    }
   },
   "source": [
    "## Time Complexity\n",
    "- **Measures:** Computational effort required to break the encryption\n",
    "- **Common Classifications:**\n",
    "  - Polynomial time\n",
    "  - Exponential time\n",
    "  - Sub-exponential time\n"
   ]
  },
  {
   "cell_type": "markdown",
   "id": "56be2b62",
   "metadata": {
    "slideshow": {
     "slide_type": "slide"
    }
   },
   "source": [
    "##  2. Information Theoretic Metrics\n"
   ]
  },
  {
   "cell_type": "markdown",
   "id": "7c9a6425",
   "metadata": {
    "slideshow": {
     "slide_type": "subslide"
    }
   },
   "source": [
    "## Entropy\n",
    "- **Definition:** Measure of unpredictability or randomness\n",
    "- **Calculation:** Shannon entropy formula\n",
    "- **Higher entropy indicates stronger security**\n"
   ]
  },
  {
   "cell_type": "markdown",
   "id": "2fc3bc25",
   "metadata": {
    "slideshow": {
     "slide_type": "subslide"
    }
   },
   "source": [
    "### Key Equivocation\n",
    "\n",
    "It is a measure of the amount of uncertainty of the key remaining when the ciphertext is known.\n",
    "\n",
    "> $H ( K | C ) = H ( K ) + H ( P ) − H ( C )$"
   ]
  },
  {
   "cell_type": "markdown",
   "id": "b6cc8820",
   "metadata": {
    "slideshow": {
     "slide_type": "subslide"
    }
   },
   "source": [
    "## Spurious Keys\n",
    "\n",
    "If a cryptoanalyst is trying to figure out the key used to encrypt a ciphertext. She will reduce the set of keys to a smaller set of keys. Of those keys, there is one that is the true key **k**. The other keys in this small set are called **spurious keys**"
   ]
  },
  {
   "cell_type": "markdown",
   "id": "5e599dc0",
   "metadata": {
    "slideshow": {
     "slide_type": "subslide"
    }
   },
   "source": [
    "## Redundancy\n",
    "\n",
    "Suppose $L$ is a natural language. The entropy of $L$ is defined to be the quantity\n",
    "\n",
    "> $H_L = \\lim_{n \\rightarrow \\infty} \\frac{H({\\bf P}^n)}{n}$\n",
    "\n",
    "where $P^n$ is the random variable that has as its probability distribution that of all n-grams of plaintext\n",
    "\n",
    "\n",
    "The redundancy of $L$ is defined to be\n",
    "\n",
    "> $R_L = 1 − \\frac{H_L}{\\log_2 |P |}$\n",
    "\n",
    " $log_2 |P |$ measures the entropy per letter of the language $L$. A random language would have entropy $H_L$. So the quantity $R_L$ measures the fraction of **excess characters**, which we think of as redundancy.\n"
   ]
  },
  {
   "cell_type": "markdown",
   "id": "28532452",
   "metadata": {
    "slideshow": {
     "slide_type": "subslide"
    }
   },
   "source": [
    "## Theorem\n",
    "\n",
    "Suppose there is a cryptosystem where $|C| = |P |$ and keys are chosen equiprobably. Let $R_L$ denote the redundancy of the underlying language. Then given a string of ciphertext of length $n$, where $n$ is sufficiently large, the expected number of spurious keys, $s_n$, satisfies\n",
    "\n",
    "> $\\hat{s_n} \\geq \\frac{|K|}{|P|^{nR_L}}$ - 1\n",
    "\n",
    "\n",
    "This quantity approaches 0 exponentially quickly as $n$ increases. "
   ]
  },
  {
   "cell_type": "markdown",
   "id": "7c959526",
   "metadata": {
    "slideshow": {
     "slide_type": "subslide"
    }
   },
   "source": [
    "## Unicity Distance\n",
    "\n",
    "A cryptosystem has a unicity distance is defined to be the value of $n$, denoted by $n_0$ , at which the expected number of spurious keys becomes zero; i.e., the average amount of ciphertext required for an opponent to be able to uniquely compute the key, given enough computing time.\n",
    "\n",
    "\n",
    "- **Measures:** Amount of ciphertext required to uniquely determine the key\n",
    "- **Indicates theoretical breakability of a cryptosystem**\n"
   ]
  },
  {
   "cell_type": "markdown",
   "id": "771bbaff",
   "metadata": {
    "slideshow": {
     "slide_type": "subslide"
    }
   },
   "source": [
    "##  3. Quantitative Security Metrics"
   ]
  },
  {
   "cell_type": "markdown",
   "id": "23d08fca",
   "metadata": {
    "slideshow": {
     "slide_type": "subslide"
    }
   },
   "source": [
    "## Perfect Secrecy\n",
    "\n",
    "A cryptosystem has perfect secrecy if \n",
    "\n",
    "> $Pr[ x |y] = Pr[ x ]$\n",
    "\n",
    "> $\\forall x ∈ P , y ∈ C$ \n",
    "\n",
    "That is, the a posteriori probability that the plaintext is $x$, given that the ciphertext $y$ is observed, is identical to the a priori probability that the plaintext is $x$."
   ]
  },
  {
   "cell_type": "markdown",
   "id": "619f597b",
   "metadata": {
    "slideshow": {
     "slide_type": "subslide"
    }
   },
   "source": [
    "### Example\n",
    "\n",
    "Shifter cryptosystem"
   ]
  }
 ],
 "metadata": {
  "celltoolbar": "Slideshow",
  "kernelspec": {
   "display_name": "Python 3 (ipykernel)",
   "language": "python",
   "name": "python3"
  },
  "language_info": {
   "codemirror_mode": {
    "name": "ipython",
    "version": 3
   },
   "file_extension": ".py",
   "mimetype": "text/x-python",
   "name": "python",
   "nbconvert_exporter": "python",
   "pygments_lexer": "ipython3",
   "version": "3.12.3"
  }
 },
 "nbformat": 4,
 "nbformat_minor": 5
}
