{
 "cells": [
  {
   "cell_type": "markdown",
   "id": "34fc8050",
   "metadata": {
    "slideshow": {
     "slide_type": "slide"
    }
   },
   "source": [
    "# CMP 5006 - Information Security \n",
    "\n",
    "\n",
    "## Symmetric Encryption\n",
    "\n",
    "\n",
    "### Alejandro Proano, PhD. "
   ]
  },
  {
   "cell_type": "markdown",
   "id": "2698874b",
   "metadata": {
    "slideshow": {
     "slide_type": "slide"
    }
   },
   "source": [
    "## Symmetric Cryptography\n",
    "\n",
    "- Shared Secret Key\n",
    "- Encryption and Decryption Process\n",
    "- Single Key for Both Operations\n",
    "- Confidentiality Mechanism\n"
   ]
  },
  {
   "cell_type": "markdown",
   "id": "cee8ded4",
   "metadata": {
    "slideshow": {
     "slide_type": "subslide"
    }
   },
   "source": [
    "##  Security Challenges\n",
    "- Key Distribution\n",
    "- Key Management\n",
    "- Brute Force Attacks\n",
    "- Side-Channel Attacks\n",
    "- Computational Complexity\n"
   ]
  },
  {
   "cell_type": "markdown",
   "id": "9b0c9a49",
   "metadata": {
    "slideshow": {
     "slide_type": "subslide"
    }
   },
   "source": [
    "## Performance Considerations\n",
    "- Speed of Encryption/Decryption\n",
    "- Hardware Acceleration\n",
    "- Computational Overhead\n",
    "- Memory Requirements\n"
   ]
  },
  {
   "cell_type": "markdown",
   "id": "b9461d8f",
   "metadata": {
    "slideshow": {
     "slide_type": "subslide"
    }
   },
   "source": [
    "## Practical Applications\n",
    "- Disk Encryption\n",
    "- Network Security\n",
    "- Communication Protocols\n",
    "- Database Protection\n",
    "- Secure Communication Channels\n"
   ]
  },
  {
   "cell_type": "markdown",
   "id": "81ddc88d",
   "metadata": {
    "slideshow": {
     "slide_type": "subslide"
    }
   },
   "source": [
    "## Types of Symmetric Encryption\n",
    "- Block Ciphers\n",
    "- Stream Ciphers\n",
    "- Modes of Operation\n",
    "- Key Length Variations\n"
   ]
  },
  {
   "cell_type": "markdown",
   "id": "99783a12",
   "metadata": {
    "slideshow": {
     "slide_type": "slide"
    }
   },
   "source": [
    "## Examples of Symmetric Cryptographic Algorithms\n",
    "\n",
    "1. **Data Encryption Standard (DES)**: DES is a symmetric encryption algorithm that uses a 56-bit key. It was widely used in the past but is now considered insecure due to its small key size.\n",
    "\n",
    "2. **Advanced Encryption Standard (AES)**: AES is a symmetric encryption algorithm that replaced DES. It supports key sizes of 128, 192, and 256 bits, making it more secure than DES.\n",
    "\n",
    "3. **Triple Data Encryption Standard (3DES)**: 3DES is a symmetric encryption algorithm that applies DES three times with different keys. It provides a higher level of security than DES but is slower due to the multiple encryption rounds.\n"
   ]
  },
  {
   "cell_type": "markdown",
   "id": "20d1696d",
   "metadata": {
    "slideshow": {
     "slide_type": "slide"
    }
   },
   "source": [
    "## Block Cipher Architecture\n",
    "- Data Transformation\n",
    "- Round Functions\n",
    "- Substitution and Permutation"
   ]
  },
  {
   "cell_type": "markdown",
   "id": "bd2f21bd",
   "metadata": {
    "slideshow": {
     "slide_type": "subslide"
    }
   },
   "source": [
    "## Substitution-Permutation Networks\n",
    "\n",
    "- Block ciphers are symmetric encryption algorithms that operate on fixed-size blocks of data. \n",
    "- They divide the input data into blocks of a fixed length and apply a series of transformations to each block. \n",
    "- One common approach to designing block ciphers is using Substitution-Permutation Networks (SPN)."
   ]
  },
  {
   "cell_type": "markdown",
   "id": "12830c32",
   "metadata": {
    "slideshow": {
     "slide_type": "subslide"
    }
   },
   "source": [
    "## Substitution\n",
    "- The substitution step in an SPN involves replacing each element of the input block with another element from a predefined substitution table. \n",
    "- This table, known as an S-box, maps each possible input value to a corresponding output value. \n",
    "- The S-box is typically designed to be highly nonlinear, providing confusion and making it difficult for an attacker to deduce the original input."
   ]
  },
  {
   "cell_type": "markdown",
   "id": "d597f7d0",
   "metadata": {
    "slideshow": {
     "slide_type": "subslide"
    }
   },
   "source": [
    "## Permutation\n",
    "- After the substitution step, the permutation step rearranges the elements of the block according to a predefined permutation table. \n",
    "- This step provides diffusion, spreading the influence of each input bit across the entire block. \n",
    "- The permutation table ensures that each bit in the output block depends on multiple bits from the input block, increasing the complexity of the encryption process."
   ]
  },
  {
   "cell_type": "markdown",
   "id": "be712779",
   "metadata": {
    "slideshow": {
     "slide_type": "subslide"
    }
   },
   "source": [
    "## Key Expansion\n",
    "- To enhance the security of block ciphers, a key expansion algorithm is used to generate a set of round keys from the original encryption key. \n",
    "- Each round key is used in the encryption process to modify the input block. \n",
    "- The key expansion algorithm ensures that each round key is unique and independent of the original key, making it harder for an attacker to recover the key."
   ]
  },
  {
   "cell_type": "markdown",
   "id": "2176caef",
   "metadata": {
    "slideshow": {
     "slide_type": "subslide"
    }
   },
   "source": [
    "## Rounds\n",
    "- The encryption process in block ciphers is typically performed in multiple rounds. \n",
    "- Each round consists of a combination of substitution, permutation, and key mixing operations. \n",
    "- The number of rounds depends on the specific block cipher algorithm and the desired level of security. \n",
    "- More rounds generally provide stronger encryption but also increase the computational overhead."
   ]
  },
  {
   "cell_type": "markdown",
   "id": "324e2cca",
   "metadata": {
    "slideshow": {
     "slide_type": "slide"
    }
   },
   "source": [
    "## Data Encryption Standard (DES)"
   ]
  },
  {
   "cell_type": "markdown",
   "id": "059fda26",
   "metadata": {
    "slideshow": {
     "slide_type": "subslide"
    }
   },
   "source": [
    "## History\n",
    "- DES is an outdated symmetric key method of data encryption.\n",
    "- It was adopted in 1977 for government agencies to protect sensitive data and was officially retired in 2005.\n",
    "- IBM researchers originally designed the standard in the early 1970s.\n",
    "- DES was the first encryption algorithm the U.S. government approved for public disclosure.\n",
    "- Quickly adopted by industries, such as financial services, that needed strong encryption."
   ]
  },
  {
   "cell_type": "markdown",
   "id": "3bad666a",
   "metadata": {
    "slideshow": {
     "slide_type": "subslide"
    }
   },
   "source": [
    "## Features\n",
    "\n",
    "- **Block cipher:** The DES is a block cipher,in which the cryptographic key and algorithm are applied to a block of data simultaneously rather than one bit at a time. Block size for DES is 64-bit. Each block is encrypted using the secret key into a 64-bit ciphertext by means of permutation and substitution.\n",
    "- **Several rounds of encryption:** The DES process involves encrypting 16 times. It can run in four different modes, encrypting blocks individually or making each cipher block dependent on all the previous blocks. Decryption is simply the inverse of encryption, following the same steps but reversing the order in which the keys are applied.\n",
    "- **64-bit key:** The DES uses a 64-bit key, but 8 of those bits are used for parity checks. The effective key length is only 56 bits. The encryption algorithm generates 16 different 48-bit subkeys, one for each of the 16 encryption rounds. Subkeys are generated by selecting and permuting parts of the key.\n",
    "- **Substitution and permutation:** The algorithm defines sequences of substitution and permutation that the ciphertext undergoes during the encryption process."
   ]
  },
  {
   "cell_type": "markdown",
   "id": "6685cf63",
   "metadata": {
    "slideshow": {
     "slide_type": "subslide"
    }
   },
   "source": [
    "## Steps \n",
    "\n",
    "![](./images/des.png)"
   ]
  },
  {
   "cell_type": "markdown",
   "id": "8c7ed589",
   "metadata": {
    "slideshow": {
     "slide_type": "subslide"
    }
   },
   "source": [
    "## DES round\n",
    "\n",
    "![](./images/des-round.png)"
   ]
  },
  {
   "cell_type": "markdown",
   "id": "765ca014",
   "metadata": {
    "slideshow": {
     "slide_type": "subslide"
    }
   },
   "source": [
    "## DES function\n",
    "\n",
    "![](./images/des-function.png)\n"
   ]
  },
  {
   "cell_type": "markdown",
   "id": "0fde30f0",
   "metadata": {
    "slideshow": {
     "slide_type": "subslide"
    }
   },
   "source": [
    "## Problems with DES\n",
    "\n",
    "- The effective DES key length of 56 bits \n",
    "- It would require a maximum of $2^{56}$\n",
    "- This is not enough to protect data with DES against brute-force attempts with modern computers\n",
    "- There have always been suspicions that interference from the NSA weakened the original algorithm"
   ]
  },
  {
   "cell_type": "code",
   "execution_count": 14,
   "id": "91c5efef",
   "metadata": {
    "slideshow": {
     "slide_type": "subslide"
    }
   },
   "outputs": [
    {
     "data": {
      "text/plain": [
       "1.2216795864177779"
      ]
     },
     "execution_count": 14,
     "metadata": {},
     "output_type": "execute_result"
    }
   ],
   "source": [
    "2**48 * 10**(-9) / (64*3600)"
   ]
  },
  {
   "cell_type": "code",
   "execution_count": 11,
   "id": "f7541a09",
   "metadata": {
    "slideshow": {
     "slide_type": "subslide"
    }
   },
   "outputs": [
    {
     "data": {
      "text/plain": [
       "5.268692905666999e+18"
      ]
     },
     "execution_count": 11,
     "metadata": {},
     "output_type": "execute_result"
    }
   ],
   "source": [
    "2**128 * 10**(-9) / (2048*3600*24*365)"
   ]
  },
  {
   "cell_type": "code",
   "execution_count": null,
   "id": "9875db79",
   "metadata": {},
   "outputs": [],
   "source": [
    "~10**8"
   ]
  },
  {
   "cell_type": "markdown",
   "id": "9f815220",
   "metadata": {
    "slideshow": {
     "slide_type": "slide"
    }
   },
   "source": [
    "## Linear Cryptanalysis\n",
    "\n",
    "\n",
    "- Linear cryptanalysis is a type of cryptanalytic attack\n",
    "- Developed by Mitsuru Matsui in 1993\n",
    "- Primarily used against block ciphers\n"
   ]
  },
  {
   "cell_type": "markdown",
   "id": "d7e7c959",
   "metadata": {
    "slideshow": {
     "slide_type": "subslide"
    }
   },
   "source": [
    "## Basic Concept\n",
    "\n",
    "- Analyzes linear approximations of cipher behavior\n",
    "- Exploits statistical correlations between plaintext, ciphertext, and key bits\n"
   ]
  },
  {
   "cell_type": "markdown",
   "id": "5624fa68",
   "metadata": {
    "slideshow": {
     "slide_type": "subslide"
    }
   },
   "source": [
    "## How it Works\n",
    "\n",
    "1. Find effective linear approximations\n",
    "2. Gather plaintext-ciphertext pairs\n",
    "3. Analyze statistical bias\n",
    "4. Recover key bits\n"
   ]
  },
  {
   "cell_type": "markdown",
   "id": "bf8428ca",
   "metadata": {
    "slideshow": {
     "slide_type": "subslide"
    }
   },
   "source": [
    "## Linear Approximation\n",
    "\n",
    "- Represents cipher's behavior as a linear equation\n",
    "- Example:\n",
    "\n",
    "$P[i_1, i_2, ..., i_m] \\text{ XOR } C[j_1, j_2, ..., j_m] = K[k_1, k_2, ..., k_m]$\n",
    "\n",
    "  - P: plaintext bits\n",
    "  - C: ciphertext bits\n",
    "  - K: key bits\n",
    "\n"
   ]
  },
  {
   "cell_type": "markdown",
   "id": "bb6c23c5",
   "metadata": {
    "slideshow": {
     "slide_type": "subslide"
    }
   },
   "source": [
    "## Bias in Linear Approximations\n",
    "\n",
    "- Measure of how often the linear approximation holds\n",
    "- $\\text{Bias} = |Pr[\\text{equation holds}] - \\frac{1}{2}|$\n",
    "- Higher bias means more effective approximation\n"
   ]
  },
  {
   "cell_type": "markdown",
   "id": "c8cea382",
   "metadata": {
    "slideshow": {
     "slide_type": "subslide"
    }
   },
   "source": [
    "## Example: Simple Cipher\n",
    "\n",
    "Consider a simple 4-bit cipher:\n",
    "\n",
    "1. XOR with key\n",
    "2. S-box substitution\n",
    "3. XOR with key again\n",
    "\n",
    "S-box: {0->5, 1->7, 2->4, 3->1, 4->3, 5->2, 6->0, 7->6}\n"
   ]
  },
  {
   "cell_type": "markdown",
   "id": "f2cc576d",
   "metadata": {
    "slideshow": {
     "slide_type": "subslide"
    }
   },
   "source": [
    "## Finding Linear Approximations\n",
    "\n",
    "For our simple cipher:\n",
    "\n",
    "- $P[1] \\text{ XOR } C[3] = K[1] \\text{ XOR } K[3]$ \n",
    "- (holds with probability 3/4)\n",
    "- $\\text{Bias} = |3/4 - 1/2| = 1/4$\n"
   ]
  },
  {
   "cell_type": "markdown",
   "id": "c6235625",
   "metadata": {
    "slideshow": {
     "slide_type": "subslide"
    }
   },
   "source": [
    " ## Gathering Data\n",
    "\n",
    "- Collect many plaintext-ciphertext pairs\n",
    "- More data increases accuracy of the attack\n"
   ]
  },
  {
   "cell_type": "markdown",
   "id": "b77b00fe",
   "metadata": {
    "slideshow": {
     "slide_type": "subslide"
    }
   },
   "source": [
    "## Statistical Analysis\n",
    "\n",
    "- Count occurrences where linear approximation holds\n",
    "- Compare to expected probability\n",
    "- Deduce key bits based on significant deviations\n"
   ]
  },
  {
   "cell_type": "markdown",
   "id": "f897a58b",
   "metadata": {
    "slideshow": {
     "slide_type": "subslide"
    }
   },
   "source": [
    "## Advantages of Linear Cryptanalysis\n",
    "\n",
    "- Can break ciphers resistant to differential cryptanalysis\n",
    "- Often requires only known-plaintext (vs. chosen-plaintext)\n",
    "- Applicable to a wide range of ciphers\n"
   ]
  }
 ],
 "metadata": {
  "celltoolbar": "Slideshow",
  "kernelspec": {
   "display_name": "Python 3 (ipykernel)",
   "language": "python",
   "name": "python3"
  },
  "language_info": {
   "codemirror_mode": {
    "name": "ipython",
    "version": 3
   },
   "file_extension": ".py",
   "mimetype": "text/x-python",
   "name": "python",
   "nbconvert_exporter": "python",
   "pygments_lexer": "ipython3",
   "version": "3.12.3"
  }
 },
 "nbformat": 4,
 "nbformat_minor": 5
}
