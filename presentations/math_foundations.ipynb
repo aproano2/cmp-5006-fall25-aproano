{
 "cells": [
  {
   "cell_type": "markdown",
   "id": "4e9bfb7c",
   "metadata": {
    "slideshow": {
     "slide_type": "slide"
    }
   },
   "source": [
    "# CMP 5006 - Information Security \n",
    "\n",
    "## Mathematical Foundations\n",
    "\n",
    "### Alejandro Proano, PhD. "
   ]
  },
  {
   "cell_type": "markdown",
   "id": "b9d9d882",
   "metadata": {
    "slideshow": {
     "slide_type": "slide"
    }
   },
   "source": [
    "# Number Theory"
   ]
  },
  {
   "cell_type": "markdown",
   "id": "2a94d7e8",
   "metadata": {
    "slideshow": {
     "slide_type": "slide"
    }
   },
   "source": [
    "## Modular Arithmetic\n",
    "\n",
    "### Modulo Operation\n",
    "\n",
    "- The modulo operation finds the remainder after division of one number by another\n",
    "- Notation: $a \\mod n$\n",
    "- Mathematical representation: $a = k \\cdot n + r$, where $0 \\leq r < n$\n",
    "\n",
    "### Examples\n",
    "- $17 \\mod 5 = 2$\n",
    "- $10 \\mod 3 = 1$\n",
    "- $-7 \\mod 5 = 3$\n"
   ]
  },
  {
   "cell_type": "markdown",
   "id": "378993f3",
   "metadata": {
    "slideshow": {
     "slide_type": "subslide"
    }
   },
   "source": [
    "## Modulo Operation Properties\n",
    "\n",
    "- Always returns a non-negative remainder less than the modulus\n",
    "- $a \\mod n = r$ means $a = k \\cdot n + r$\n",
    "- Works with positive and negative numbers\n",
    "\n",
    "### Mathematical Representations\n",
    "- $a \\equiv r \\pmod{n}$\n",
    "- $a = k \\cdot n + r$\n"
   ]
  },
  {
   "cell_type": "markdown",
   "id": "3da2ddd5",
   "metadata": {
    "slideshow": {
     "slide_type": "subslide"
    }
   },
   "source": [
    "## Congruence Relations\n",
    " - Two numbers are congruent modulo $n$ if they have the same remainder when divided by $n$\n",
    "- Notation: $a \\equiv b \\pmod{n}$\n",
    "\n",
    "### Formal Definition\n",
    "$a \\equiv b \\pmod{n}$ if $n | (a-b)$\n",
    "\n",
    "### Examples\n",
    "- $17 \\equiv 2 \\pmod{5}$\n",
    "- $10 \\equiv 1 \\pmod{3}$\n",
    "- $-7 \\equiv 3 \\pmod{5}$\n"
   ]
  },
  {
   "cell_type": "markdown",
   "id": "5e07db73",
   "metadata": {
    "slideshow": {
     "slide_type": "subslide"
    }
   },
   "source": [
    "## Congruence Relation Properties\n",
    "### Reflexive Property\n",
    "- $a \\equiv a \\pmod{n}$\n",
    "\n",
    "### Symmetric Property\n",
    "- If $a \\equiv b \\pmod{n}$, then $b \\equiv a \\pmod{n}$\n",
    "\n",
    "### Transitive Property\n",
    "- If $a \\equiv b \\pmod{n}$ and $b \\equiv c \\pmod{n}$, then $a \\equiv c \\pmod{n}$\n"
   ]
  },
  {
   "cell_type": "markdown",
   "id": "bf1aaeaa",
   "metadata": {
    "slideshow": {
     "slide_type": "subslide"
    }
   },
   "source": [
    "## Modular Arithmetic Properties\n",
    "### Addition\n",
    "- $(a + b) \\mod n = ((a \\mod n) + (b \\mod n)) \\mod n$\n",
    "- Example: $(17 + 10) \\mod 5 = 2$\n",
    "\n",
    "### Multiplication\n",
    "- $(a \\cdot b) \\mod n = ((a \\mod n) \\cdot (b \\mod n)) \\mod n$\n",
    "- Example: $(4 \\cdot 3) \\mod 5 = 2$\n",
    "\n",
    "### Subtraction\n",
    "- $(a - b) \\mod n = ((a \\mod n) - (b \\mod n)) \\mod n$\n",
    "- Example: $(17 - 10) \\mod 5 = 2$\n"
   ]
  },
  {
   "cell_type": "markdown",
   "id": "5bbe58d1",
   "metadata": {
    "slideshow": {
     "slide_type": "subslide"
    }
   },
   "source": [
    "## Modular Arithmetic Theorems\n",
    "### Modular Inverse\n",
    "- An integer $a$ has a modular multiplicative inverse modulo $n$ if $\\gcd(a,n) = 1$\n",
    "- Notation: $a^{-1} \\mod n$\n",
    "\n",
    "### Euler's Theorem\n",
    "- If $\\gcd(a,n) = 1$, then $a^{\\phi(n)} \\equiv 1 \\pmod{n}$\n",
    "- $\\phi(n)$ is Euler's totient function\n"
   ]
  },
  {
   "cell_type": "markdown",
   "id": "4b4ad321",
   "metadata": {
    "slideshow": {
     "slide_type": "subslide"
    }
   },
   "source": [
    "## Computational Example\n",
    "### Python Implementation\n",
    "```python\n",
    "def modulo(a, n):\n",
    "    return a % n\n",
    "\n",
    "def is_congruent(a, b, n):\n",
    "    return a % n == b % n\n",
    "\n",
    "def modular_multiply(a, b, n):\n",
    "    return (a * b) % n\n",
    "\n",
    "def modular_power(a, k, n):\n",
    "    return pow(a, k, n)\n",
    "```\n"
   ]
  },
  {
   "cell_type": "markdown",
   "id": "bbe5cdcf",
   "metadata": {
    "slideshow": {
     "slide_type": "slide"
    }
   },
   "source": [
    "## Divisibility\n",
    "\n",
    "- A number $a$ is divisible by another number $b$ if $a$ can be divided by $b$ without a remainder\n",
    "- Mathematically: $a \\div b$ results in an integer\n",
    "- Notation: $b | a$ (read as \"b divides a\")\n",
    "\n",
    "### Examples\n",
    "- 12 is divisible by 3 because $12 \\div 3 = 4$\n",
    "- 15 is divisible by 5 because $15 \\div 5 = 3$\n",
    "- 7 is not divisible by 2\n",
    "\n"
   ]
  },
  {
   "cell_type": "markdown",
   "id": "3e689725",
   "metadata": {
    "slideshow": {
     "slide_type": "subslide"
    }
   },
   "source": [
    "## Divisibility Properties\n",
    "### Key Rules\n",
    "- If $a | b$ and $a | c$, then $a | (b + c)$\n",
    "- If $a | b$, then $a | (b \\cdot k)$ for any integer $k$\n",
    "- $0$ is divisible by every number\n",
    "- Every number is divisible by 1 and itself\n"
   ]
  },
  {
   "cell_type": "markdown",
   "id": "a4bbb8fe",
   "metadata": {
    "slideshow": {
     "slide_type": "slide"
    }
   },
   "source": [
    "## Factors and Multiples\n",
    "### Factors\n",
    "- A factor is a number that divides another number exactly\n",
    "- For number $n$, factors are integers $k$ such that $n \\div k = \\text{integer}$\n",
    "\n",
    "### Example: Factors of 12\n",
    "- Factors of 12: 1, 2, 3, 4, 6, 12\n"
   ]
  },
  {
   "cell_type": "markdown",
   "id": "794d46f4",
   "metadata": {
    "slideshow": {
     "slide_type": "subslide"
    }
   },
   "source": [
    "## Multiples\n",
    "- A multiple is a product of a number and an integer\n",
    "- Multiples are generated by multiplying a number by integers\n",
    "\n",
    "### Example: Multiples of 4\n",
    "- Multiples of 4: 4, 8, 12, 16, 20, ...\n"
   ]
  },
  {
   "cell_type": "markdown",
   "id": "4e1a4aab",
   "metadata": {
    "slideshow": {
     "slide_type": "slide"
    }
   },
   "source": [
    "##  Introduction to Prime Numbers\n",
    "1. **Definition and Basic Concepts**\n",
    "   - What is a prime number?\n",
    "   - First few prime numbers\n"
   ]
  },
  {
   "cell_type": "code",
   "execution_count": 1,
   "id": "2c3ebff6",
   "metadata": {
    "slideshow": {
     "slide_type": "subslide"
    }
   },
   "outputs": [
    {
     "name": "stdout",
     "output_type": "stream",
     "text": [
      "Primes between 2 and 100: [2, 3, 5, 7, 11, 13, 17, 19, 23, 29, 31, 37, 41, 43, 47, 53, 59, 61, 67, 71, 73, 79, 83, 89, 97]\n"
     ]
    }
   ],
   "source": [
    "def is_prime(n):\n",
    "    if n < 2:\n",
    "        return False\n",
    "    for i in range(2, int(n**0.5) + 1):\n",
    "        if n % i == 0:\n",
    "            return False\n",
    "    return True\n",
    "\n",
    "# Prime number generation\n",
    "primes = [x for x in range(2, 100) if is_prime(x)]\n",
    "print(\"Primes between 2 and 100:\", primes)"
   ]
  },
  {
   "cell_type": "markdown",
   "id": "14b0bc5b",
   "metadata": {
    "slideshow": {
     "slide_type": "slide"
    }
   },
   "source": [
    "## The Fundamental Theorem of Arithmetic\n",
    "\n",
    "- Every positive integer greater than 1 can be represented uniquely as a product of prime numbers\n",
    "- Formally: $n = p_1^{a_1} \\cdot p_2^{a_2} \\cdot ... \\cdot p_k^{a_k}$\n",
    "- Where:\n",
    "  - $p_i$ are distinct prime numbers\n",
    "  - $a_i$ are positive integers\n",
    "  - The representation is unique (up to order)\n",
    "  \n"
   ]
  },
  {
   "cell_type": "markdown",
   "id": "d10ddde5",
   "metadata": {
    "slideshow": {
     "slide_type": "subslide"
    }
   },
   "source": [
    "## Prime Factorization\n",
    "### Definition\n",
    "- Breaking down a number into a product of prime numbers\n",
    "- Each prime number is raised to a specific power\n",
    "\n",
    "### Mathematical Representation\n",
    "$n = p_1^{a_1} \\cdot p_2^{a_2} \\cdot ... \\cdot p_k^{a_k}$\n",
    "\n",
    "### Example\n",
    "- 60 = $2^2 \\cdot 3^1 \\cdot 5^1$\n",
    "  - Prime factors: 2, 3, 5\n",
    "  - Exponents represent how many times each prime appears\n"
   ]
  },
  {
   "cell_type": "markdown",
   "id": "ca927704",
   "metadata": {
    "slideshow": {
     "slide_type": "subslide"
    }
   },
   "source": [
    "## Prime Factorization Process\n",
    "### Step-by-Step Method\n",
    "1. Start with the smallest prime number (2)\n",
    "2. Divide the number by the prime\n",
    "3. Continue until the quotient becomes 1\n",
    "4. List the prime factors\n",
    "\n",
    "### Example: Factorizing 84\n",
    "- 84 ÷ 2 = 42\n",
    "- 42 ÷ 2 = 21\n",
    "- 21 ÷ 3 = 7\n",
    "- 7 ÷ 7 = 1\n",
    "- Result: $84 = 2^2 \\cdot 3^1 \\cdot 7^1$\n"
   ]
  },
  {
   "cell_type": "code",
   "execution_count": 6,
   "id": "398599a5",
   "metadata": {
    "slideshow": {
     "slide_type": "subslide"
    }
   },
   "outputs": [
    {
     "name": "stdout",
     "output_type": "stream",
     "text": [
      "Prime factors of 102: [2, 3, 17]\n"
     ]
    }
   ],
   "source": [
    "def prime_factorization(n):\n",
    "    factors = []\n",
    "    d = 2\n",
    "    while n > 1:\n",
    "        while n % d == 0:\n",
    "            factors.append(d)\n",
    "            n //= d\n",
    "        d += 1\n",
    "        if d * d > n:\n",
    "            if n > 1:\n",
    "                factors.append(n)\n",
    "            break\n",
    "    return factors\n",
    "n = 102\n",
    "print(\"Prime factors of {}:\".format(n), prime_factorization(n))\n"
   ]
  },
  {
   "cell_type": "markdown",
   "id": "6776958d",
   "metadata": {
    "slideshow": {
     "slide_type": "slide"
    }
   },
   "source": [
    "## Greatest Common Divisor (GCD) \n",
    "\n",
    "- The largest positive integer that divides both numbers without a remainder\n",
    "- Denoted as $GCD(a,b)$ or $\\gcd(a,b)$\n",
    "\n",
    "### Mathematical Representation\n",
    "$\\gcd(a,b) = \\max\\{d : d|a \\text{ and } d|b\\}$\n",
    "\n",
    "### Examples\n",
    "- $\\gcd(48, 18) = 6$\n",
    "- $\\gcd(17, 23) = 1$ (coprime numbers)\n",
    "- $\\gcd(0,n) = |n|$\n"
   ]
  },
  {
   "cell_type": "markdown",
   "id": "c2fee539",
   "metadata": {
    "slideshow": {
     "slide_type": "subslide"
    }
   },
   "source": [
    "## Properties of GCD\n",
    "### Key Characteristics\n",
    "- Commutative: $\\gcd(a,b) = \\gcd(b,a)$\n",
    "- $\\gcd(a,0) = |a|$\n",
    "- $\\gcd(a,b) \\leq \\min(|a|,|b|)$\n",
    "- If $\\gcd(a,b) = 1$, numbers are coprime\n"
   ]
  },
  {
   "cell_type": "markdown",
   "id": "e5a17302",
   "metadata": {
    "slideshow": {
     "slide_type": "subslide"
    }
   },
   "source": [
    "## Euclidean Algorithm\n",
    "### Definition\n",
    "- An efficient method to compute the GCD of two numbers\n",
    "- Based on the principle that $\\gcd(a,b) = \\gcd(b, a \\mod b)$\n",
    "\n",
    "### Algorithm Steps\n",
    "```\n",
    "function gcd(a, b):\n",
    "    while b ≠ 0:\n",
    "        temp = b\n",
    "        b = a mod b\n",
    "        a = temp\n",
    "    return a\n",
    "```\n",
    "\n",
    "### Example\n",
    "$\\gcd(48, 18)$:\n",
    "1. 48 = 2 * 18 + 12\n",
    "2. 18 = 1 * 12 + 6\n",
    "3. 12 = 2 * 6 + 0\n"
   ]
  },
  {
   "cell_type": "markdown",
   "id": "65efa171",
   "metadata": {
    "slideshow": {
     "slide_type": "subslide"
    }
   },
   "source": [
    "## Extended Euclidean Algorithm\n",
    "### Definition\n",
    "- Extends the standard Euclidean algorithm\n",
    "- Finds the GCD and coefficients $x, y$ such that:\n",
    "  $ax + by = \\gcd(a,b)$\n",
    "\n",
    "### Mathematical Representation\n",
    "$\\gcd(a,b) = ax + by$\n",
    "\n",
    "### Algorithm Steps\n",
    "```\n",
    "function extended_gcd(a, b):\n",
    "    if b == 0:\n",
    "        return a, 1, 0\n",
    "    else:\n",
    "        gcd, x, y = extended_gcd(b, a mod b)\n",
    "        return gcd, y, x - (a // b) * y\n",
    "```\n"
   ]
  },
  {
   "cell_type": "markdown",
   "id": "2b32c0af",
   "metadata": {
    "slideshow": {
     "slide_type": "subslide"
    }
   },
   "source": [
    "## Extended Euclidean Algorithm Example\n",
    "### Solving $48x + 18y = \\gcd(48,18)$\n",
    "- $\\gcd(48,18) = 6$\n",
    "- Coefficients $(x,y)$ that satisfy the equation\n"
   ]
  },
  {
   "cell_type": "markdown",
   "id": "d8aab038",
   "metadata": {
    "slideshow": {
     "slide_type": "subslide"
    }
   },
   "source": [
    "## Code Implementation\n",
    "### Python Example\n",
    "```python\n",
    "def gcd(a, b):\n",
    "    while b:\n",
    "        a, b = b, a % b\n",
    "    return a\n",
    "\n",
    "def extended_gcd(a, b):\n",
    "    if b == 0:\n",
    "        return a, 1, 0\n",
    "    else:\n",
    "        gcd, x, y = extended_gcd(b, a % b)\n",
    "        return gcd, y, x - (a // b) * y\n",
    "```\n"
   ]
  },
  {
   "cell_type": "markdown",
   "id": "aca650dd",
   "metadata": {
    "slideshow": {
     "slide_type": "slide"
    }
   },
   "source": [
    "## Euler's Totient Function (φ)\n",
    "\n",
    "- Counts the number of positive integers up to $n$ that are relatively prime to $n$\n",
    "- Notation: $\\phi(n)$ or $\\euler(n)$\n",
    "- Measures the count of numbers less than $n$ coprime to $n$\n",
    "\n",
    "### Mathematical Definition\n",
    "$\\phi(n) = |\\{k \\in \\mathbb{Z}^+ : 1 \\leq k \\leq n, \\gcd(k,n) = 1\\}|$\n",
    "\n",
    "---\n",
    "## Examples of φ(n)\n",
    "### Calculation Examples\n",
    "- $\\phi(1) = 1$\n",
    "- $\\phi(10) = 4$ (coprime numbers: 1, 3, 7, 9)\n",
    "- $\\phi(12) = 4$ (coprime numbers: 1, 5, 7, 11)\n",
    "- $\\phi(13) = 12$ (prime number case)\n"
   ]
  },
  {
   "cell_type": "markdown",
   "id": "87244073",
   "metadata": {
    "slideshow": {
     "slide_type": "subslide"
    }
   },
   "source": [
    "## Properties of Euler's Totient Function\n",
    "### Multiplicative Properties\n",
    "1. If $p$ is prime, $\\phi(p) = p - 1$\n",
    "2. If $p$ is prime and $k \\geq 1$, $\\phi(p^k) = p^k - p^{k-1}$\n",
    "\n",
    "### Multiplicative Function Property\n",
    "- For coprime numbers $a$ and $b$: $\\phi(ab) = \\phi(a) \\cdot \\phi(b)$\n"
   ]
  },
  {
   "cell_type": "markdown",
   "id": "dfd13aa3",
   "metadata": {
    "slideshow": {
     "slide_type": "subslide"
    }
   },
   "source": [
    "## Fundamental Properties\n",
    "### Key Relationships\n",
    "- $\\sum_{d|n} \\phi(d) = n$\n",
    "- $\\phi(n) = n \\prod_{p|n} (1 - \\frac{1}{p})$\n",
    "- For prime $p$: $\\phi(p^k) = p^k - p^{k-1}$\n"
   ]
  },
  {
   "cell_type": "markdown",
   "id": "7a532612",
   "metadata": {
    "slideshow": {
     "slide_type": "slide"
    }
   },
   "source": [
    "## Calculation Methods\n",
    "### Method 1: Prime Factorization\n",
    "For $n = p_1^{a_1} \\cdot p_2^{a_2} \\cdot ... \\cdot p_k^{a_k}$\n",
    "\n",
    "$\\phi(n) = n \\prod_{i=1}^{k} (1 - \\frac{1}{p_i})$\n",
    "\n",
    "### Example\n",
    "$\\phi(72) = 72 \\cdot (1-\\frac{1}{2}) \\cdot (1-\\frac{1}{3}) = 72 \\cdot \\frac{1}{2} \\cdot \\frac{2}{3} = 24$\n"
   ]
  },
  {
   "cell_type": "markdown",
   "id": "74c6a7a3",
   "metadata": {
    "slideshow": {
     "slide_type": "subslide"
    }
   },
   "source": [
    "## Calculation Method 2: Recursive Approach\n",
    "```python\n",
    "def euler_totient(n):\n",
    "    result = n  # Initialize result as n\n",
    "    \n",
    "    # Consider all prime factors of n\n",
    "    p = 2\n",
    "    while p * p <= n:\n",
    "        if n % p == 0:\n",
    "            # Subtract multiples of p\n",
    "            while n % p == 0:\n",
    "                n //= p\n",
    "            result -= result / p\n",
    "        p += 1\n",
    "    \n",
    "    # If n has a prime factor greater than sqrt(n)\n",
    "    if n > 1:\n",
    "        result -= result / n\n",
    "    \n",
    "    return int(result)\n",
    "```\n",
    "\n"
   ]
  },
  {
   "cell_type": "markdown",
   "id": "749ab4ff",
   "metadata": {
    "slideshow": {
     "slide_type": "subslide"
    }
   },
   "source": [
    "## Method 3: Brute Force Approach\n",
    "```python\n",
    "def euler_totient_brute(n):\n",
    "    count = 0\n",
    "    for k in range(1, n + 1):\n",
    "        if math.gcd(k, n) == 1:\n",
    "            count += 1\n",
    "    return count\n",
    "```\n"
   ]
  },
  {
   "cell_type": "markdown",
   "id": "af6f0113",
   "metadata": {
    "slideshow": {
     "slide_type": "slide"
    }
   },
   "source": [
    "## Advanced Properties\n",
    "### Euler's Theorem\n",
    "- If $\\gcd(a,n) = 1$, then $a^{\\phi(n)} \\equiv 1 \\pmod{n}$\n",
    "\n",
    "### Carmichael Function\n",
    "- Generalizes Euler's totient function\n",
    "- Smallest positive integer $m$ such that $a^m \\equiv 1 \\pmod{n}$\n"
   ]
  },
  {
   "cell_type": "markdown",
   "id": "94811b63",
   "metadata": {
    "slideshow": {
     "slide_type": "slide"
    }
   },
   "source": [
    "# Probability and Statistics\n"
   ]
  },
  {
   "cell_type": "markdown",
   "id": "f5dea019",
   "metadata": {
    "slideshow": {
     "slide_type": "slide"
    }
   },
   "source": [
    "## Random Variables\n",
    "- A function that maps outcomes of a random experiment to numerical values\n",
    "- Notated as $X: \\Omega \\to \\mathbb{R}$\n",
    "\n",
    "### Types of Random Variables\n",
    "1. Discrete Random Variables\n",
    "   - Countable set of possible values\n",
    "   - Example: Number of heads in 10 coin flips\n",
    "\n",
    "2. Continuous Random Variables\n",
    "   - Uncountable range of values\n",
    "   - Example: Exact temperature measurements\n"
   ]
  },
  {
   "cell_type": "markdown",
   "id": "2c908ca3",
   "metadata": {
    "slideshow": {
     "slide_type": "subslide"
    }
   },
   "source": [
    "## Probability distribution\n",
    "- A mathematical function that describes the likelihood of different outcomes\n",
    "- Assigns probabilities to all possible values of a random variable\n",
    "- Provides a complete description of a random phenomenon\n",
    "\n",
    "\n",
    "### Probability Mass Function (PMF)\n",
    "For discrete random variables:\n",
    "$P(X = k) = f(k)$\n",
    "\n",
    "### Probability Density Function (PDF)\n",
    "For continuous random variables:\n",
    "$f(x) \\geq 0$ and $\\int_{-\\infty}^{\\infty} f(x)dx = 1$\n",
    "\n"
   ]
  },
  {
   "cell_type": "markdown",
   "id": "03324256",
   "metadata": {
    "slideshow": {
     "slide_type": "slide"
    }
   },
   "source": [
    "## Probability Distributions\n",
    "### Common Distributions\n",
    "1. Bernoulli Distribution\n",
    "   - Binary outcome (success/failure)\n",
    "   - $P(X=1) = p$, $P(X=0) = 1-p$\n",
    "   - $\\mathbb{E}[X] = p$\n",
    "\n",
    "2. Binomial Distribution\n",
    "   - Number of successes in $n$ trials\n",
    "   - $P(X = k) = \\binom{n}{k} p^k (1-p)^{n-k}$\n",
    "   - $\\mathbb{E}[X] = np$\n",
    "\n",
    "3. Normal (Gaussian) Distribution\n",
    "   - $f(x) = \\frac{1}{\\sigma\\sqrt{2\\pi}} e^{-\\frac{(x-\\mu)^2}{2\\sigma^2}}$\n",
    "   - $\\mu$: mean, $\\sigma$: standard deviation\n",
    "\n"
   ]
  },
  {
   "cell_type": "markdown",
   "id": "d06b2001",
   "metadata": {
    "slideshow": {
     "slide_type": "subslide"
    }
   },
   "source": [
    "## Probability Distribution Properties\n",
    "### Key Characteristics\n",
    "- Mean (Expected Value)\n",
    "- Variance\n",
    "- Standard Deviation\n"
   ]
  },
  {
   "cell_type": "markdown",
   "id": "cbd69017",
   "metadata": {
    "slideshow": {
     "slide_type": "slide"
    }
   },
   "source": [
    "## Statistical Independence\n",
    "### Definition\n",
    "Two random variables $X$ and $Y$ are independent if:\n",
    "$P(X \\in A, Y \\in B) = P(X \\in A) \\cdot P(Y \\in B)$\n",
    "\n",
    "### Mathematical Representation\n",
    "$f_{X,Y}(x,y) = f_X(x) \\cdot f_Y(y)$\n",
    "\n",
    "### Example\n",
    "- Coin flips\n",
    "- Die rolls\n",
    "- Draws from independent populations\n"
   ]
  },
  {
   "cell_type": "markdown",
   "id": "27594547",
   "metadata": {
    "slideshow": {
     "slide_type": "subslide"
    }
   },
   "source": [
    "## Independence Conditions\n",
    "### Conditions for Independence\n",
    "1. Joint probability equals product of marginal probabilities\n",
    "2. Knowledge of one variable provides no information about another\n",
    "3. Correlation coefficient is zero\n",
    "\n",
    "### Computational Check\n",
    "$\\text{Cov}(X,Y) = \\mathbb{E}[XY] - \\mathbb{E}[X]\\mathbb{E}[Y] = 0$\n"
   ]
  },
  {
   "cell_type": "markdown",
   "id": "69c892d6",
   "metadata": {
    "slideshow": {
     "slide_type": "slide"
    }
   },
   "source": [
    "## Entropy\n",
    "### Information Theory Definition\n",
    "- Measure of uncertainty in a random variable\n",
    "- Quantifies information content\n",
    "\n",
    "### Shannon Entropy\n",
    "$H(X) = -\\sum_{i} P(X_i) \\log_2(P(X_i))$\n",
    "\n",
    "### Properties\n",
    "- Measures unpredictability\n",
    "- Maximum entropy for uniform distribution\n",
    "- Units: bits (base 2) or nats (natural log)\n"
   ]
  },
  {
   "cell_type": "markdown",
   "id": "ad745894",
   "metadata": {
    "slideshow": {
     "slide_type": "subslide"
    }
   },
   "source": [
    "## Entropy Examples\n",
    "### Coin Flip Entropy\n",
    "- Fair coin: $H = -(\\frac{1}{2}\\log_2(\\frac{1}{2}) + \\frac{1}{2}\\log_2(\\frac{1}{2})) = 1$ bit\n",
    "- Biased coin: Less entropy\n",
    "\n",
    "### Dice Roll Entropy\n",
    "- Fair 6-sided die: $H = -6 \\cdot \\frac{1}{6}\\log_2(\\frac{1}{6}) \\approx 2.585$ bits\n"
   ]
  }
 ],
 "metadata": {
  "celltoolbar": "Slideshow",
  "kernelspec": {
   "display_name": "Python 3 (ipykernel)",
   "language": "python",
   "name": "python3"
  },
  "language_info": {
   "codemirror_mode": {
    "name": "ipython",
    "version": 3
   },
   "file_extension": ".py",
   "mimetype": "text/x-python",
   "name": "python",
   "nbconvert_exporter": "python",
   "pygments_lexer": "ipython3",
   "version": "3.12.3"
  }
 },
 "nbformat": 4,
 "nbformat_minor": 5
}
