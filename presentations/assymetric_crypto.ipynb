{
 "cells": [
  {
   "cell_type": "markdown",
   "id": "c7983c89",
   "metadata": {
    "slideshow": {
     "slide_type": "slide"
    }
   },
   "source": [
    "# CMP 5006 - Information Security \n",
    "\n",
    "\n",
    "## Asymmetric Encryption\n",
    "\n",
    "\n",
    "### Alejandro Proano, PhD. "
   ]
  },
  {
   "cell_type": "markdown",
   "id": "0c1faa09",
   "metadata": {
    "slideshow": {
     "slide_type": "slide"
    }
   },
   "source": [
    "## What is Asymmetric Encryption?\n",
    "- Also known as Public Key Cryptography\n",
    "- Uses two different keys:\n",
    "  - Public Key (shared openly)\n",
    "  - Private Key (kept secret)\n",
    "- Keys are mathematically related but computationally difficult to derive\n"
   ]
  },
  {
   "cell_type": "markdown",
   "id": "b29e9aa4",
   "metadata": {
    "slideshow": {
     "slide_type": "subslide"
    }
   },
   "source": [
    "## Key Characteristics\n",
    "- Encryption Key ≠ Decryption Key\n",
    "- Public key can encrypt\n",
    "- Only private key can decrypt\n",
    "- Enables secure communication without shared secret\n"
   ]
  },
  {
   "cell_type": "markdown",
   "id": "a38a1349",
   "metadata": {
    "slideshow": {
     "slide_type": "slide"
    }
   },
   "source": [
    "## RSA Algorithm\n",
    "\n",
    "- Rivest-Shamir-Adleman algorithm.\n",
    "- It's one of the most common encryption methods in the world. \n",
    "- Steps:\n",
    "    - Key generation\n",
    "    - Encryption\n",
    "    - Decryption"
   ]
  },
  {
   "cell_type": "markdown",
   "id": "6a03470e",
   "metadata": {
    "slideshow": {
     "slide_type": "slide"
    }
   },
   "source": [
    "## Key Generation:\n",
    "\n",
    "- Select two large prime numbers $p$ and $q$.\n",
    "- Compute  $n = p \\times q$. The value $n$ is used as the modulus for both the public and private keys.\n",
    "- Calculate the totient function $\\phi(n) = (p-1) \\times (q-1)$.\n",
    "- Choose an integer $e$ such that $1 < e < \\phi(n)$ and $e$ is coprime with $\\phi(n)$. \n",
    "    - $e$ becomes the public exponent.\n",
    "- Determine $d$ as the modular multiplicative inverse of $e$ modulo $\\phi(n)$. \n",
    "    - $d \\times e \\equiv 1 \\ (\\text{mod} \\ \\phi(n))$. \n",
    "    - $d$ is the private exponent."
   ]
  },
  {
   "cell_type": "markdown",
   "id": "7e1ea1c3",
   "metadata": {
    "slideshow": {
     "slide_type": "subslide"
    }
   },
   "source": [
    "## Public and Private Keys:\n",
    "\n",
    "- Public Key: $(e, n)$\n",
    "- Private Key: $(d, n)$\n"
   ]
  },
  {
   "cell_type": "markdown",
   "id": "34fa68b4",
   "metadata": {
    "slideshow": {
     "slide_type": "slide"
    }
   },
   "source": [
    "## Encryption:\n",
    "- To encrypt a message $M$, convert $M$ into an integer $m$ such that $0 \\leq m < n$.\n",
    "- Compute the ciphertext $c$ using the public key: $c = m^e \\ (\\text{mod} \\ n)$.\n"
   ]
  },
  {
   "cell_type": "markdown",
   "id": "da13e712",
   "metadata": {
    "slideshow": {
     "slide_type": "slide"
    }
   },
   "source": [
    "## Decryption:\n",
    "- To decrypt the ciphertext $c$, use the private key: $m = c^d \\ (\\text{mod} \\ n)$.\n",
    "- Convert the integer $m$ back to the original message $M$.\n"
   ]
  },
  {
   "cell_type": "markdown",
   "id": "1680c2b3",
   "metadata": {
    "slideshow": {
     "slide_type": "slide"
    }
   },
   "source": [
    "## Example:\n",
    "\n",
    "### Key Generation\n",
    "- Let p = 11, q = 13\n",
    "- n = p * q = 143\n",
    "\n",
    "### Calculate Phi (Totient)\n",
    "- φ(n) = (p-1) * (q-1)\n",
    "- φ(n) = 10 * 12\n",
    "- φ(n) = 120\n"
   ]
  },
  {
   "cell_type": "markdown",
   "id": "63a0db52",
   "metadata": {
    "slideshow": {
     "slide_type": "subslide"
    }
   },
   "source": [
    "### Choose Public Exponent (e)\n",
    "- Requirements:\n",
    "  - 1 < e < φ(n)\n",
    "  - e must be coprime with φ(n)\n",
    "- Let e = 7\n",
    "- Verify: gcd(7, 120) = 1\n"
   ]
  },
  {
   "cell_type": "markdown",
   "id": "30a313bc",
   "metadata": {
    "slideshow": {
     "slide_type": "subslide"
    }
   },
   "source": [
    "### Calculate Private Exponent (d)\n",
    "- Find d such that: (d * e) ≡ 1 (mod φ(n))\n",
    "- Use modular multiplicative inverse\n",
    "- d = 103 (can be calculated using extended Euclidean algorithm)\n",
    "- Verification: (7 * 103) mod 120 = 1\n",
    "\n"
   ]
  },
  {
   "cell_type": "markdown",
   "id": "9f8db138",
   "metadata": {
    "slideshow": {
     "slide_type": "subslide"
    }
   },
   "source": [
    "### Public and Private Keys\n",
    "- Public Key: (n, e) = (143, 7)\n",
    "- Private Key: (n, d) = (143, 103)\n"
   ]
  },
  {
   "cell_type": "markdown",
   "id": "6d710225",
   "metadata": {
    "slideshow": {
     "slide_type": "subslide"
    }
   },
   "source": [
    "### Encryption Process\n",
    "- Choose a message: M = 42\n",
    "- Encryption: C = M^e mod n\n",
    "- C = 42^7 mod 143\n",
    "- C = 42 * 42^6 mod 143\n",
    "- C = 110\n"
   ]
  },
  {
   "cell_type": "markdown",
   "id": "f55f5380",
   "metadata": {
    "slideshow": {
     "slide_type": "subslide"
    }
   },
   "source": [
    "### Decryption Process\n",
    "- Decrypt Ciphertext: M = C^d mod n\n",
    "- M = 110^103 mod 143\n",
    "- M = 42\n"
   ]
  },
  {
   "cell_type": "code",
   "execution_count": 2,
   "id": "c80828c7",
   "metadata": {
    "slideshow": {
     "slide_type": "slide"
    }
   },
   "outputs": [],
   "source": [
    "### Python Implementation\n",
    "\n",
    "def gcd(a, b):\n",
    "    while b:\n",
    "        a, b = b, a % b\n",
    "    return a\n",
    "\n",
    "def mod_inverse(e, phi):\n",
    "    def egcd(a, b):\n",
    "        if a == 0:\n",
    "            return (b, 0, 1)\n",
    "        else:\n",
    "            g, y, x = egcd(b % a, a)\n",
    "            return (g, x - (b // a) * y, y)\n",
    "    \n",
    "    g, x, _ = egcd(e, phi)\n",
    "    if g != 1:\n",
    "        raise Exception('Modular inverse does not exist')\n",
    "    else:\n",
    "        return x % phi\n",
    "\n",
    "def generate_keypair(p, q):\n",
    "    # Calculate n and phi\n",
    "    n = p * q\n",
    "    phi = (p-1) * (q-1)\n",
    "    \n",
    "    # Choose e\n",
    "    e = 7  # In practice, this would be more carefully selected\n",
    "    \n",
    "    # Calculate d\n",
    "    d = mod_inverse(e, phi)\n",
    "    \n",
    "    return ((n, e), (n, d))\n",
    "\n",
    "def encrypt(pk, plaintext):\n",
    "    n, e = pk\n",
    "    cipher = pow(plaintext, e, n)\n",
    "    return cipher\n",
    "\n",
    "def decrypt(pk, ciphertext):\n",
    "    n, d = pk\n",
    "    plain = pow(ciphertext, d, n)\n",
    "    return plain\n"
   ]
  },
  {
   "cell_type": "code",
   "execution_count": 3,
   "id": "219ad095",
   "metadata": {
    "slideshow": {
     "slide_type": "slide"
    }
   },
   "outputs": [
    {
     "name": "stdout",
     "output_type": "stream",
     "text": [
      "Original Message: 42\n",
      "Encrypted Message: 81\n",
      "Decrypted Message: 42\n"
     ]
    }
   ],
   "source": [
    "# Example usage\n",
    "p, q = 11, 13\n",
    "public_key, private_key = generate_keypair(p, q)\n",
    "\n",
    "message = 42\n",
    "print(\"Original Message:\", message)\n",
    "\n",
    "ciphertext = encrypt(public_key, message)\n",
    "print(\"Encrypted Message:\", ciphertext)\n",
    "\n",
    "decrypted_message = decrypt(private_key, ciphertext)\n",
    "print(\"Decrypted Message:\", decrypted_message)\n"
   ]
  },
  {
   "cell_type": "markdown",
   "id": "9a518f00",
   "metadata": {
    "slideshow": {
     "slide_type": "slide"
    }
   },
   "source": [
    "## Limitations of This Simple Example\n",
    "- Uses small prime numbers\n",
    "- Demonstrates concept, not production-ready\n",
    "- Real-world implementations require:\n",
    "  - Larger primes\n",
    "  - Padding schemes\n",
    "  - Additional security measures\n"
   ]
  },
  {
   "cell_type": "markdown",
   "id": "c7dbc154",
   "metadata": {
    "slideshow": {
     "slide_type": "slide"
    }
   },
   "source": [
    "## Key Security Insights\n",
    "- Larger primes provide stronger encryption\n",
    "- Key length typically 2048+ bits in practice\n",
    "- Never reveal private key\n",
    "- Regularly rotate keys\n"
   ]
  },
  {
   "cell_type": "markdown",
   "id": "558908d8",
   "metadata": {
    "slideshow": {
     "slide_type": "slide"
    }
   },
   "source": [
    "## Practical Considerations\n",
    "- Computational complexity increases with key size\n",
    "- Prime number selection critical\n",
    "- Quantum computing potential threat\n"
   ]
  },
  {
   "cell_type": "markdown",
   "id": "74c7b97d",
   "metadata": {
    "slideshow": {
     "slide_type": "slide"
    }
   },
   "source": [
    "# RSA Vulnerabilities and Disadvantages\n"
   ]
  },
  {
   "cell_type": "markdown",
   "id": "cbae170e",
   "metadata": {
    "slideshow": {
     "slide_type": "slide"
    }
   },
   "source": [
    "## Prime Number Generation Weaknesses\n",
    "\n",
    "Vulnerability Example:\n",
    "- Poorly generated prime numbers\n",
    "- Predictable p and q values\n",
    "- Increased risk of factorization\n",
    "\n",
    "Real-World Scenario:\n",
    "Debian OpenSSL bug (2008)\n",
    "- Predictable random number generation\n",
    "- Reduced entropy in key creation\n",
    "- Millions of vulnerable cryptographic keys\n",
    "- [Interesting article](https://www.schneier.com/blog/archives/2008/05/random_number_b.html)\n",
    "\n"
   ]
  },
  {
   "cell_type": "markdown",
   "id": "56607641",
   "metadata": {
    "slideshow": {
     "slide_type": "slide"
    }
   },
   "source": [
    "## Computational Attacks\n",
    "\n",
    "Threat Vectors:\n",
    "- Number Field Sieve algorithm\n",
    "- Quantum computing potential\n",
    "- Decreasing computational complexity\n",
    "\n",
    "Practical Example:\n",
    "- 512-bit RSA keys cracked in 2009\n",
    "- 768-bit key factored in 2010\n",
    "- Demonstrating increasing factorization capabilities\n",
    "- [Interesting article](https://en.wikipedia.org/wiki/Texas_Instruments_signing_key_controversy)\n",
    "\n"
   ]
  },
  {
   "cell_type": "markdown",
   "id": "157d512a",
   "metadata": {
    "slideshow": {
     "slide_type": "slide"
    }
   },
   "source": [
    "## Side-Channel Attacks\n",
    "\n",
    "- Attacks that extract secret information by analyzing physical implementation details\n",
    "- Exploit information leakage through:\n",
    "  - Execution time\n",
    "  - Power consumption\n",
    "  - Electromagnetic emissions\n",
    "  - Sound\n",
    "  - Other observable system characteristics\n"
   ]
  },
  {
   "cell_type": "markdown",
   "id": "c0de1388",
   "metadata": {
    "slideshow": {
     "slide_type": "subslide"
    }
   },
   "source": [
    "## Timing attack\n",
    "\n",
    "- Different computational paths take different amounts of time\n",
    "- Execution time varies based on:\n",
    "  - Input data\n",
    "  - Secret key values\n",
    "  - Internal algorithm operations\n",
    "  \n",
    "- In RSA:\n",
    "    - the attacker needs to have the target system decrypt several carefully selected values of C\n",
    "    - by analyzing the timing variation, the attacker can obtain the key 1 bit at the time\n",
    "\n",
    "Source: P.Kocher, \"Timing attacks on implementations of Diffie-Hellman, RSA, DSS, and other systems\""
   ]
  },
  {
   "cell_type": "code",
   "execution_count": null,
   "id": "6bb44526",
   "metadata": {
    "slideshow": {
     "slide_type": "subslide"
    }
   },
   "outputs": [],
   "source": [
    "\n",
    "def decrypt(ciphertext, private_key):\n",
    "    start_time = time.time()\n",
    "    plaintext = pow(ciphertext, private_key, n)\n",
    "    end_time = time.time()\n",
    "    \n",
    "    # Execution time varies based on key bits\n",
    "    execution_time = end_time - start_time\n",
    "    return plaintext, execution_time\n",
    "\n",
    "# Attacker can infer key details from timing variations\n",
    "\n"
   ]
  },
  {
   "cell_type": "markdown",
   "id": "6aa8ea7c",
   "metadata": {
    "slideshow": {
     "slide_type": "subslide"
    }
   },
   "source": [
    "## Attack Limitations\n",
    "- Requires extremely precise time measurement\n",
    "- Needs multiple execution attempts\n",
    "- Affected by:\n",
    "  - System noise\n",
    "  - Environmental variations\n",
    "  - Hardware inconsistencies\n"
   ]
  },
  {
   "cell_type": "markdown",
   "id": "ede98707",
   "metadata": {
    "slideshow": {
     "slide_type": "subslide"
    }
   },
   "source": [
    "## Defensive Techniques\n",
    "\n",
    "- Constant-Time Implementations\n",
    "- Add random execution delays\n",
    "- Implement cryptographic blinding\n",
    "- Use noise injection techniques\n"
   ]
  },
  {
   "cell_type": "markdown",
   "id": "a236315f",
   "metadata": {
    "slideshow": {
     "slide_type": "subslide"
    }
   },
   "source": [
    "## Power Analysis Attack\n",
    "\n",
    "Attack Methodology:\n",
    "- Measure power consumption during decryption\n",
    "- Correlate power signatures with key bits\n",
    "- Reconstruct secret key information\n",
    "\n",
    "Vulnerable Scenarios:\n",
    "- Hardware implementations\n",
    "- Smart cards\n",
    "\n"
   ]
  }
 ],
 "metadata": {
  "celltoolbar": "Slideshow",
  "kernelspec": {
   "display_name": "Python 3 (ipykernel)",
   "language": "python",
   "name": "python3"
  },
  "language_info": {
   "codemirror_mode": {
    "name": "ipython",
    "version": 3
   },
   "file_extension": ".py",
   "mimetype": "text/x-python",
   "name": "python",
   "nbconvert_exporter": "python",
   "pygments_lexer": "ipython3",
   "version": "3.12.3"
  }
 },
 "nbformat": 4,
 "nbformat_minor": 5
}
