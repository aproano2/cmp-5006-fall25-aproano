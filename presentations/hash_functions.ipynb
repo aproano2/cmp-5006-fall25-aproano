{
 "cells": [
  {
   "cell_type": "markdown",
   "id": "f197f37b",
   "metadata": {
    "slideshow": {
     "slide_type": "slide"
    }
   },
   "source": [
    "# CMP 5006 - Information Security \n",
    "\n",
    "\n",
    "## Cryptographic Hashes\n",
    "\n",
    "\n",
    "### Alejandro Proano, PhD. "
   ]
  },
  {
   "cell_type": "code",
   "execution_count": null,
   "id": "0cedb2a7",
   "metadata": {
    "slideshow": {
     "slide_type": "slide"
    }
   },
   "outputs": [],
   "source": [
    "## MAP\n",
    "a = dict()\n",
    "# the address in memory of 1 is given by hash(x)\n",
    "a['x'] = 1\n",
    "a['y'] = 2\n",
    "\n",
    "## SET\n",
    "b = set()\n",
    "# the address in memory of x is determined by hash(1)\n",
    "b.add(1)\n",
    "b.add(2)"
   ]
  },
  {
   "cell_type": "markdown",
   "id": "d0cd69c3",
   "metadata": {
    "slideshow": {
     "slide_type": "slide"
    }
   },
   "source": [
    "## What is a Cryptographic Hash Function?\n",
    "\n",
    "- A mathematical algorithm that maps data of arbitrary size to a fixed-size output\n",
    "- Designed to be a one-way function (practically impossible to invert)\n",
    "- Key properties:\n",
    "  1. Deterministic\n",
    "  2. Quick to compute\n",
    "  3. Infeasible to reverse\n",
    "  4. Small changes in input cause large changes in output\n",
    "  5. Collision-resistant\n"
   ]
  },
  {
   "cell_type": "markdown",
   "id": "3ca9b402",
   "metadata": {
    "slideshow": {
     "slide_type": "slide"
    }
   },
   "source": [
    "## Properties of Cryptographic Hash Functions\n",
    "\n",
    "### 1. Pre-image Resistance\n",
    "\n",
    "Given a hash value h, it should be computationally infeasible to find any message m such that:\n",
    "\n",
    "$\\text{hash}(m) = h$\n",
    "\n",
    "### 2. Second Pre-image Resistance\n",
    "\n",
    "Given an input $m_1$, it should be computationally infeasible to find a different input $m_2$ such that:\n",
    "\n",
    "$\\text{hash}(m_1) = \\text{hash}(m_2)$\n",
    "\n",
    "### 3. Collision Resistance\n",
    "\n",
    "It should be computationally infeasible to find two different messages $m_1$ and $m_2$ such that:\n",
    "\n",
    "$\\text{hash}(m_1) = \\text{hash}(m_2)$\n"
   ]
  },
  {
   "cell_type": "markdown",
   "id": "c5ec27bc",
   "metadata": {
    "slideshow": {
     "slide_type": "slide"
    }
   },
   "source": [
    "## Common Cryptographic Hash Functions\n",
    "\n",
    "1. MD5 (deprecated)\n",
    "2. SHA-1 (deprecated)\n",
    "3. SHA-2 family (SHA-256, SHA-512)\n",
    "4. SHA-3 family\n",
    "5. BLAKE2\n",
    "6. BLAKE3\n"
   ]
  },
  {
   "cell_type": "markdown",
   "id": "291b532f",
   "metadata": {
    "slideshow": {
     "slide_type": "subslide"
    }
   },
   "source": [
    "## Example: SHA-256\n",
    "\n",
    "SHA-256 produces a 256-bit (32-byte) hash value, typically rendered as a 64-digit hexadecimal number.\n"
   ]
  },
  {
   "cell_type": "code",
   "execution_count": 14,
   "id": "ef15a20c",
   "metadata": {
    "slideshow": {
     "slide_type": "subslide"
    }
   },
   "outputs": [
    {
     "name": "stdout",
     "output_type": "stream",
     "text": [
      "de0640f1dc17ca1b01fb9eba3019ed07c12e2af4ae990ecb36aa669898a9fd40\n",
      "b70e01f32faf33c2f7fb33025e7dd3839f54bd70d62b1d046d65359959ad66f6\n",
      "58.0 64\n"
     ]
    }
   ],
   "source": [
    "import hashlib\n",
    "from scipy.spatial import distance\n",
    "\n",
    "message = \"Hello, Crypto!\"\n",
    "hash_object = hashlib.sha256(message.encode())\n",
    "hex_dig = hash_object.hexdigest()\n",
    "print(hex_dig)\n",
    "\n",
    "message1 = \"Hello, Crypto!!\"\n",
    "hash_object1 = hashlib.sha256(message1.encode())\n",
    "hex_dig1 = hash_object1.hexdigest()\n",
    "print(hex_dig1)\n",
    "\n",
    "print(distance.hamming(list(hex_dig), list(hex_dig1))*len(list(hex_dig)), len(list(hex_dig)))"
   ]
  },
  {
   "cell_type": "markdown",
   "id": "9ba175c9",
   "metadata": {
    "slideshow": {
     "slide_type": "slide"
    }
   },
   "source": [
    "## Applications of Cryptographic Hashes\n",
    "\n",
    "1. Password storage\n",
    "2. Data integrity verification\n",
    "3. Digital signatures\n",
    "4. Proof of work in blockchain\n",
    "5. Hash-based message authentication codes (HMAC)\n"
   ]
  },
  {
   "cell_type": "markdown",
   "id": "3a7df3f5",
   "metadata": {
    "slideshow": {
     "slide_type": "subslide"
    }
   },
   "source": [
    "## Password Storage Example\n",
    "\n",
    "Instead of storing plaintext passwords, store their hashes:\n"
   ]
  },
  {
   "cell_type": "code",
   "execution_count": 4,
   "id": "0385d6f0",
   "metadata": {
    "slideshow": {
     "slide_type": "subslide"
    }
   },
   "outputs": [],
   "source": [
    "def hash_password(password):\n",
    "    return hashlib.sha256(password.encode()).hexdigest()\n",
    "\n",
    "def verify_password(stored_hash, provided_password):\n",
    "    return stored_hash == hash_password(provided_password)"
   ]
  },
  {
   "cell_type": "code",
   "execution_count": 15,
   "id": "860b2095",
   "metadata": {
    "slideshow": {
     "slide_type": "subslide"
    }
   },
   "outputs": [
    {
     "name": "stdout",
     "output_type": "stream",
     "text": [
      "True\n",
      "False\n"
     ]
    }
   ],
   "source": [
    "# Usage\n",
    "stored_hash = hash_password(\"mySecurePassword123\")\n",
    "print(verify_password(stored_hash, \"mySecurePassword123\"))  # True\n",
    "print(verify_password(stored_hash, \"wrongPassword\"))        # False"
   ]
  },
  {
   "cell_type": "markdown",
   "id": "5409e048",
   "metadata": {
    "slideshow": {
     "slide_type": "subslide"
    }
   },
   "source": [
    "## Salt in Password Hashing\n",
    "\n",
    "To prevent rainbow table attacks, use a salt:\n",
    "\n",
    "$hash = H(password || salt)$\n",
    "\n",
    "Python example:\n"
   ]
  },
  {
   "cell_type": "code",
   "execution_count": 6,
   "id": "503960ad",
   "metadata": {
    "slideshow": {
     "slide_type": "subslide"
    }
   },
   "outputs": [],
   "source": [
    "import os\n",
    "\n",
    "def hash_password(password):\n",
    "    salt = os.urandom(32)\n",
    "    key = hashlib.pbkdf2_hmac('sha256', password.encode(), salt, 100000)\n",
    "    return salt + key\n",
    "\n",
    "def verify_password(stored_password, provided_password):\n",
    "    salt = stored_password[:32]\n",
    "    key = stored_password[32:]\n",
    "    new_key = hashlib.pbkdf2_hmac('sha256', provided_password.encode(), salt, 100000)\n",
    "    return key == new_key"
   ]
  },
  {
   "cell_type": "code",
   "execution_count": 7,
   "id": "d0304e3a",
   "metadata": {
    "slideshow": {
     "slide_type": "subslide"
    }
   },
   "outputs": [
    {
     "name": "stdout",
     "output_type": "stream",
     "text": [
      "True\n",
      "False\n"
     ]
    }
   ],
   "source": [
    "stored_hash = hash_password(\"mySecurePassword123\")\n",
    "print(verify_password(stored_hash, \"mySecurePassword123\"))  # True\n",
    "print(verify_password(stored_hash, \"wrongPassword\")) "
   ]
  },
  {
   "cell_type": "markdown",
   "id": "d5ee7abd",
   "metadata": {
    "slideshow": {
     "slide_type": "slide"
    }
   },
   "source": [
    "## Hash Collision Example\n",
    "\n",
    "Birthday Paradox: In a room of 23 people, there's a 50% chance two share a birthday.\n",
    "\n",
    "For a hash function with n-bit output, we expect to find a collision after approximately $2^{n/2}$ hashes due to the birthday attack.\n",
    "\n",
    "For SHA-256 (256-bit output), we'd need approximately $2^{128}$ hashes to find a collision with 50% probability.\n"
   ]
  },
  {
   "cell_type": "code",
   "execution_count": 16,
   "id": "4be639ea",
   "metadata": {
    "slideshow": {
     "slide_type": "slide"
    }
   },
   "outputs": [
    {
     "data": {
      "text/plain": [
       "340282366920938463463374607431768211456"
      ]
     },
     "execution_count": 16,
     "metadata": {},
     "output_type": "execute_result"
    }
   ],
   "source": [
    "(2**128)"
   ]
  },
  {
   "cell_type": "markdown",
   "id": "42373bcf",
   "metadata": {
    "slideshow": {
     "slide_type": "slide"
    }
   },
   "source": [
    "## Merkle–Damgård Construction\n",
    "\n",
    "Many hash functions (MD5, SHA-1, SHA-2) use this construction:\n",
    "\n",
    "1. Pad the message\n",
    "2. Split into fixed-size blocks\n",
    "3. Process blocks sequentially with a compression function\n",
    "4. Output the final state as the hash\n",
    "\n",
    "```\n",
    "       m₁           m₂           m₃\n",
    "       |            |            |\n",
    "       v            v            v\n",
    "IV --> f --> h₁ --> f --> h₂ --> f --> Hash\n",
    "```\n",
    "\n",
    "Where f is the compression function, and IV is the initial value.\n"
   ]
  }
 ],
 "metadata": {
  "celltoolbar": "Slideshow",
  "kernelspec": {
   "display_name": "Python 3 (ipykernel)",
   "language": "python",
   "name": "python3"
  },
  "language_info": {
   "codemirror_mode": {
    "name": "ipython",
    "version": 3
   },
   "file_extension": ".py",
   "mimetype": "text/x-python",
   "name": "python",
   "nbconvert_exporter": "python",
   "pygments_lexer": "ipython3",
   "version": "3.12.3"
  }
 },
 "nbformat": 4,
 "nbformat_minor": 5
}
