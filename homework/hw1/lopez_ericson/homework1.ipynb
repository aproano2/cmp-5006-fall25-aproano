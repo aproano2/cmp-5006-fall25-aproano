{
 "cells": [
  {
   "cell_type": "markdown",
   "id": "19da92da",
   "metadata": {},
   "source": [
    "### **Names**\n",
    "Ericson López\n",
    "\n",
    "Pablo Herrera"
   ]
  },
  {
   "cell_type": "markdown",
   "id": "843f0620",
   "metadata": {},
   "source": [
    "# **Part I: Research Component**"
   ]
  },
  {
   "cell_type": "markdown",
   "id": "df5af02a",
   "metadata": {},
   "source": [
    "## **Subsitution Ciphers**"
   ]
  },
  {
   "cell_type": "markdown",
   "id": "d5ffb02b",
   "metadata": {},
   "source": [
    "### Algorithm 1: Caesar Cipher\n",
    "- Brief historical context and inventor/origin\n",
    "  This algorithm is named in honor of the emperor Julius Caesar who used to send messages by substituting the letters of the message with next letter in the order of the alphabet. It was developed around 100 BC and gave his empire strategic advantages since nobody who reads quickly the message can know what is happening.\n",
    "  In that time Caesar Cipher was used by shifting 3 words to the right of the alphabet, so a letter ‘A’ becomes ‘D’ in the message to send. This number was not random because the messenger needed to encrypt and decrypt quickly the messages cause the time was not instant like in our days and with a shift of 3 they can reorder fast in their heads the new letters to write.\n",
    "- Description of the encryption/decryption process\n",
    "  The encryption/decryption process is very simple. It is based on a substitution method by shifting the letters to the next letter in a sequential way of an alphabet. With a given shift number $s$ and an alphabet with $n$ letters the encryption process consists on substitute the actual letter in the $a$ position of the dictionary with another letter in the $(a+s) \\bmod n$ position in the dictionary. Modulo operation is important to guarantee each letter has another letter to be substituted even if this letter is the last in the alphabet. $E(a) = (a+s) \\bmod n$\n",
    "  The decryption process is the backwards process where with a given shift number $s$ and an alphabet with $n$ letters the actual encrypted letter in the $a$ position of the dictionary references the $(a-s) \\bmod n$ position for the real letter in the dictionary. $D(a) = (a-s) \\bmod n$\n",
    "- Key space size\n",
    "  The key space is equal to $l-1$ where $l$ is the length of the actual alphabet. This is because of the max possible shifts you can do to get different encryption results (omitting the shift with value $l$ since its equal to a shift 0 which means no encryption of the plain text). In the English alphabet the key space size is 25, the number of letters in the alphabet.\n",
    "- Known vulnerabilities and cryptanalysis methods\n",
    "  Greater vulnerability is related with the key space size. Since it is only 26 for an alphabet like the English alphabet it will only take 25 tries to guess the shift value using brute force.\n",
    "  Another important vulnerability is the language words relationship. Even if each letter has perfect secrecy, this is not guaranteed to a composition of letter (words) where the frequency of each word is dependent on vocabulary and common words (articles) in that language (probability to have a starting letter of set of letters in a word or text is dependent from the context of construction of that language). \n",
    "  It can be exploded by using frequency analysis (relating the most or less frequency of some letters in a language with the most or less frequency of some letter in a cypher text) or using crib dragging (using know words or phrases like articles to find the shift value by aligning the decryption to get those words).\n",
    "\n",
    "- Real-world usage examples (if any)\n",
    "  This algorithm is not used outside the educational field as it has a small key space size and has highly relation with plain text. However, its use during the Julius Caesar empire is still real word usage and can be a safer encryption method for quick physical messages between people without using technology.\n",
    "\n",
    "---\n",
    "\n",
    "## Algorithm 2: Affine Cipher\n",
    "- Brief historical context and inventor/origin\n",
    "  Algorithm’s name came from the affine transformation method where a function is mapped into a new space by using a matrix multiplication (AX) and a vector addition (b). This algorithm improved those two concepts by using multiplication and addition to create a substitution function that maps a letter of the plain text into a letter of the ciphertext.\n",
    "\n",
    "- Description of the encryption/decryption process\n",
    "  The encryption/decryption process is a mix of Caesar cypher and multiplication cypher. The multiplication cypher, not explained previously, consists of using a map multiplication function to obtain the cypher value. The encryption function is $E(x) = (a \\cdot x) \\bmod n$ where $x$ is the position of the letter in the alphabet, $a$ is a fixed number to perform the multiplication process. Since the process must be reversible, $a$ needs to have an inverse multiplicative such as we can define a decryption function $D(x)$ related with the encryption key $a$. \n",
    "  The decryption process of the multiplication cypher is resumed on the decryption function $D(y) = (a^{-1} \\cdot y) \\bmod n$ where $y$ is the position of the cyphered letter in the alphabet and $a^{-1}$ the inverse multiplicative of $a$ in the modulo space of $n$. \n",
    "  Now, the encryption process of affine cipher consists of using a map multiplication/addition function to obtain the cypher value. \n",
    "  The encryption function is $E(x) = (a \\cdot x + b) \\bmod n$ where $x$ is the position of the letter in the alphabet, $a$ is a fixed number to perform the multiplication process and $b$ is another fixed number to perform the addition/shifting process. As you can expect, $E(x)$ needs to be reversible so we can have a function $D(y)$ to pass through the cyphertext to the plain text. The function is $D(y) = a^{-1}(y-b) \\bmod n$ where $a^{-1}$ is the inverse multiplicative of the key $a$.\n",
    "- Key space size\n",
    "  The key space size will be a combination of the possibilities of key $a$ and key $b$ using the multiplication rule. The key possibilities for $b$ are equal to the length of the alphabet so for the English alphabet the possibilities will be equal to 26 (this is no 25 unlike the Caesar cipher cause here we could use shift 0 knowing the multiplication part of affine cipher will also give a ciphertext different of the plaintext).\n",
    "  The key possibilities for $a$ are the Euler’s totient number for $n$ where $n$ is the length of the alphabet because Euler’s totient theorem says that if a number $a$ is coprime of $n$ then It’s guaranteed a inverse multiplicative for $a$ in the space of modulo $n$. For the English alphabet the Euler’s totient number is equal to $\\phi(26)=12$, so just 12 key possibilities for $a$.\n",
    "  Finally the key possibilities for affine cipher using English alphabet will be equal to $K(a,b)=K(a)\\cdot K(b)=12\\cdot 26=312$.\n",
    "- Known vulnerabilities and cryptanalysis methods\n",
    "  Again, greater vulnerability is related to the key space size. Since it is only 312 key possibilities using the English alphabet, it will just take 312 tries using brute force to finally have 100% chance to get the real key.\n",
    "\n",
    "  The second vulnerability is still the one-to-one relation with the letters of the alphabet that keeps the original alphabet letters relation in the words/texts into the new cipher text. Processes like frequency analysis or crib dragging could exploit this vulnerability.\n",
    "\n",
    "- Real-world usage examples (if any)\n",
    "  This algorithm is not used outside the educational field as it has a small key space size and has highly relation with plain text. However, it can be used as a second layer of encryption for algorithms like DES or another common technique of encryption.\n",
    "\n",
    "---\n",
    "\n",
    "## Algorithm 3: Monoalphabetic Substitution\n",
    "- Brief historical context and inventor/origin\n",
    "  This algorithm is a generalization of the previous algorithms (Caesar, multiplication and affine) which wants to give the plain text and cipher text a mapping relation not based just on a linear (affine) addition/multiplication process.\n",
    "- Description of the encryption/decryption process\n",
    "  Encryption/decryption process is based on a fixed permutation of the letters in the alphabet. Now the encryption/decryption of each letter is independent, unique and reversible. The key now has to be a permutation of the positions for all letters in the alphabet instead of being a unique value $a$ or set of two values $a,b$; for example, a valid key could be $K=[A,B,N,M,\\ldots,O,X,V,C]$ where this permutation refers the set of the alphabet: {A,B,C,D,\\ldots,X,Y,Z}. Using the number positions the key will be a permutation of the normal positions $K=[1,2,\\ldots,25]$.\n",
    "  The encryption method $E(x)$ will use the key $K$ and search the value $K[x]$ and the decryption $D(y)$ method will use the key $K$ and search the position $x$ where the value $K[x]$ is equal to $y$.\n",
    "\n",
    "- Key space size\n",
    "  Since the key is a permutation, the key space size is equal to all possible permutation in the length of the alphabet. If the length of the alphabet is $n$, then the key space size will be $n!$. For the English alphabet the key space size is equal to $26! = 4.03\\times10^{26}$ possibilities.\n",
    "- Known vulnerabilities and cryptanalysis methods\n",
    "  In this algorithm the key space size is greater than the previous algorithms. Actually, computers have FLOPs processing capacity in order of TFLOPs ($10^{12}$ FLOPs) so some cipher text in monoalphabetic substitution could be deciphered using brute force and a 1TFLOP PC in around $1.29\\times10^{10}$ years.\n",
    "  Although that, this algorithm also preserves the language relations of the composition of letters in words and texts. So again, methods to exploit letters, words or common phrases like frequency analysis and crib dragging could exploit this vulnerability.\n",
    "  Cryptanalysis methods like deep neural networks and transformer architectures can be also used to decrypt this kind of algorithm.\n",
    "\n",
    "- Real-world usage examples (if any)\n",
    "  This algorithm could be used to encrypt data. However, its 1 step process and the no need of brute force to decrypt this make this algorithm not the best to use in real scenarios.\n",
    "\n",
    "---\n",
    "\n",
    "## Algorithm 4: Polyalphabetic Substitution\n",
    "Polyalphabetic substitution is an extension of monoalphabetic substitution where more than one cipher alphabet is used to map the plain text into the cipher text. Thus, for each word in a plain text probably a different alphabet is used each time.\n",
    "A lot of polyalphabetic substitution algorithms have been developed:\n",
    "### Alberti cipher\n",
    "Alberti cipher was one polyalphabetic substitution algorithm developed by Leon Battista Alberti in 1467. It was based on a word key (whichever someone wants) that was repeated in a cyclical way on the plain text to get a the first stage of cipher text, then this first cipher text is used to get the real encryption by using the positions of the word key in the alphabet to denote which alphabet will be used to encrypt the word on the plain text. \n",
    "The encryption/decryption process was performed by using two concentric disks, one with the normal alphabet and another with the ciphered alphabet (the internal disk could be rotated based on a key like the explained before). The key space size in this cipher will depend on the pattern used to rotate the internal disk, if the pattern is a work key then the key space size will be 26^n where n is the length of this word key.\n",
    "\n",
    "![](https://www.cs.trincoll.edu/~crypto/historical/albertidiscs.jpg)\n",
    "### Trithemius cipher\n",
    "Trithemius cipher was developed by Johannes Trithemius in the XV century. Its encryption/decryption process was based on a table called tabula recta which is essentially a table with all the Caesar cipher alphabets. \n",
    "Trithemius proposal was to encrypt the first letter of plain text with the first Caesar alphabet (shift 0), the next letter with the second Caesar cipher alphabet (shift 1) and so on.\n",
    "Unfortunately, for this cipher the key space size will be equal to the number of Caesar alphabets (26) because if someone knows that works with an ascendant shift then the possibilities reduce in which letter was the initial of the process. \n",
    "The vulnerability of this cipher algorithm is the key space size, since only 26 tries are necessary to discover plain text by using bruteforce.\n",
    "\n",
    "<img src=\"https://upload.wikimedia.org/wikipedia/commons/thumb/9/9a/Vigen%C3%A8re_square_shading.svg/1200px-Vigen%C3%A8re_square_shading.svg.png\" alt=\"thritemius\" width=\"30%\">\n",
    "\n",
    "### Vigenère cipher\n",
    "Vigenère cipher was another polyalphabetic substitution algorithm developed by Blaise de Vigenère in 1586. It was also based on tabula recta; however, it introduces a key to switch between the Caesar cipher alphabets instead of going in an ascendant or descendant order.\n",
    "The key space is related to the length of the key. If the key length is 1, then all the letters in the plain text will have the same key and just one alphabet will be used (guess the key from 26 possibilities). For a key length $n$ the key space size will be $26^{n}$.\n",
    "\n",
    "<img src=\"https://img.favpng.com/3/15/15/polyalphabetic-cipher-substitution-cipher-cryptography-vigen-re-cipher-png-favpng-4x6RMCFf5YddrTZSJdJ4ydH5u.jpg\" alt=\"vigenere\" width=\"40%\">\n",
    "\n",
    "\n",
    "### Enigma machine\n",
    "The Enigma machine is perhaps the most famous polyalphabetic substitution cipher device in history. It was developed by Arthur Scherbius in 1928 at the end of WWI. It worked by allowing a user to press a letter on a keyboard, after which a different letter would light up on a display, representing the encrypted form of the input. After each key press, the machine’s internal wiring would shift, changing the electrical pathways. This meant that even if the same letter was pressed again, it would produce a different encrypted output, making the cipher far more secure and complex. Also, during the war, enigma machines had different configurations for each day so the key to encrypt/decrypt was based on the daily configurations shared between the German army.\n",
    "\n",
    "Key space size of Enigma machine was related to the selection of three rotors given 5 rotors (5x4x3=60) plus the start position of each rotor (26x26x26=$26^3$) plus three words used for the actual cipher session (26x26x26=$26^3$) plus the internal configuration to map each word into another in each letter entered. In just the configurations the key space is $1.85 \\times 10^{10}$ possibilities.\n",
    "\n",
    "<img src=\"https://images.squarespace-cdn.com/content/v1/5bf28ad6b98a7888bf3cdce5/1605068005997-0W9A4AE3E43V0I9V4VHN/Fig+3+-+3+wheel+enigma.jpg\" alt=\"Enigma\" width=\"30%\">\n",
    "\n",
    "### In general\n",
    "All these polyalphabetic algorithms are resistant to simple frequency analysis techniques because the frequency of each letter get completely vanished for the use of different alphabets in one cipher session. Also, it’s important for these algorithms to share not only the key (word key, pattern or initial configurations), but also the way to use the key and switch between dictionaries (disks, tabula recta, intern function of Enigma machine).\n",
    "\n",
    "Without knowing that, there are $26!$ possible alphabets for each encryption of each letter and the key space size will be equal to the key space size of the word key/pattern/configurations multiplied by $26!$\n",
    "\n",
    "Some of these algorithms also have vulnerabilities related to the repetition of the key in the plain text where cryptanalysis methods like Kasiski method can exploit this to obtain the key. Also, this can be combined with statistical analysis to define some aspects of the key like the length (Friedman test) and use frequency analysis by columns or guided searches (heuristics) to find the key. However, it’s a more complicated way to obtain it compared to monoalphabetic substitution.\n",
    "\n",
    "---\n",
    "\n",
    "## Algorithm 5: Columnar Transposition\n",
    "\n",
    "- Brief historical context and inventor/origin\n",
    "  Columnar transposition is a classical rearrangement cipher with roots in ancient transposition methods such as the Spartan scytale. It became common in the 19th–20th centuries for military and diplomatic traffic and, in its strengthened form as double transposition (two successive columnar steps with two keys), it was considered one of the strongest hand ciphers used during World War I and World War II.\n",
    "\n",
    "- Description of the encryption/decryption process\n",
    "  To encrypt, the sender chooses a keyword of length n. The plaintext is written in rows beneath the keyword, forming a matrix; the last row may be padded with nulls to complete the grid. The columns are then reordered according to the alphabetical order of the keyword’s letters (if letters repeat, a consistent tie-breaking rule is used). The ciphertext is produced by reading down each column in that new order. Decryption reverses the procedure: knowing the keyword and its length, it calculates the number of rows by dividing the length of the ciphertext by the key (the remainder is the length of the last row). Then, the receiver reconstructs the matrix in the right column order and reads the plaintext row by row.\n",
    "\n",
    "- Key space size\n",
    "  If the keyword length is n, the number of possible column permutations is n!. When the attacker does not know n, they must also search likely lengths, increasing the effort. In double transposition, the effective key space grows roughly as ($n_1!$)($n_2!$) (or $(n!)^2$ if both keys share the same length), which explains its historical resilience for manual use.\n",
    "\n",
    "- Known vulnerabilities and cryptanalysis methods\n",
    "  A single columnar transposition preserves single-letter frequencies (it only permutes positions), so language statistics remain visible. Practical attacks include: guessing or estimating the number of columns (e.g., trying divisors or plausible widths), performing trial anagramming of columns, and using multiple-anagramming techniques when several messages share the same key and length. Today, computer-assisted searches can iterate permutations with language scoring. Mistakes in padding or irregular fills can leak structure and speed up attacks.\n",
    "\n",
    "- Real-world usage examples (if any)\n",
    "  Columnar and double transposition were used extensively when cipher machines were unavailable. Double transposition saw service with German Abwehr agents and Allied resistance networks in World War II, and when operated carefully with sufficiently long, non-dictionary keys, it could frustrate hand methods until machine/computer assistance became common.\n",
    "\n",
    "![](https://upload.wikimedia.org/wikipedia/commons/thumb/7/78/Double_columnar_transposition_example.png/500px-Double_columnar_transposition_example.png)\n",
    "_Step-by-step process for the double columnar transposition cipher._\n",
    "\n",
    "---\n",
    "\n",
    "## Algorithm 6: Rail Fence Cipher\n",
    "\n",
    "- Brief historical context and inventor/origin\n",
    "  The Rail Fence cipher is a simple transposition technique that writes text in a zigzag across several rows (“rails”). While not attributed to a single inventor, it is conceptually related to ancient transpositions such as the scytale, and today it appears mainly in puzzles and didactic settings rather than in serious field use.\n",
    "\n",
    "- Description of the encryption/decryption process\n",
    "  To encrypt, choose a number of rails k. Write the plaintext diagonally down from rail 1 to rail k, then diagonally up from rail k back to rail 1, and repeat until all letters are placed. The ciphertext is formed by reading the letters row by row (rail by rail). To decrypt let $N$ be the number of rails used during encryption. Observe that as the plaintext is written in zigzag fashion, the vertical position of each letter repeats with a period $T = 2(N - 1)$. Let $L$ be the length of the ciphertext (the number of letters).\n",
    "\n",
    "  **Case 1: $L$ is a multiple of $T$.**\n",
    "  Define $K = \\frac{L}{2(N - 1)}$. Then split the ciphertext into $N$ segments:\n",
    "\n",
    "  - The first and last segment have length $K$.\n",
    "  - Each intermediate segment (for rails 2 through $N-1$) has length $2K$.\n",
    "    Place each segment in its corresponding rail (row) in a zigzag-pattern layout (first and last rows spaced so the diagonals align). Then “read” down the first column, diagonally up, down, etc., following the zigzag pattern, to reconstruct the plaintext.\n",
    "\n",
    "  **Case 2: $L$ is not a multiple of $T$.**\n",
    "  The same idea applies, but the segments cannot all be exactly $K$ or $2K$. Two methods are common:\n",
    "\n",
    "  1. Determine how many letters fall into each rail by simulating a full zigzag path (including a partial last cycle) and counting the number of visits per rail. Then partition the ciphertext accordingly, place the segments in their rails, and read off in zigzag order.\n",
    "  2. Construct an empty grid of $N$ rows × $L$ columns, mark the zigzag path with placeholders (e.g., “\\*” or blanks) in the pattern the encryption would follow, then fill in the ciphertext row by row into those placeholder positions, and finally traverse the grid in the zigzag order to read the plaintext.\n",
    "\n",
    "  **Alternate algebraic diagonal method (for non-padded ciphertext):**\n",
    "  Introduce variables $x$ and $y$:\n",
    "\n",
    "  - $x + 1$ = number of diagonals in the zigzag.\n",
    "  - $y$ = number of empty spaces (gaps) in the final diagonal.\n",
    "\n",
    "  Use the relation\n",
    "\n",
    "  $$\n",
    "  1 = \\frac{L + y}{\\,N + (N-1)\\,x\\,}\n",
    "  $$\n",
    "\n",
    "  Increment $x$ until the denominator $N + (N-1)\\,x$ becomes ≥ $L+y$, then solve for the minimal nonnegative integer $y$. Once $x$ and $y$ are known, block out the $y$ empty spots, break the ciphertext into the $N$ rail-segments (accounting for diagonals), fill row by row, and then read the zigzag path to recover the plaintext.\n",
    "  > _Wikipedia's example:_\n",
    "W.........V.........O\n",
    ".E.......O.E.......T.N\n",
    "..A.....C...R.....A...C\n",
    "...R...S.....E...N.....E\n",
    "....E.I.......D.U.......\n",
    ".....D.........R........\n",
    "The resulting cipher text is:\n",
    "WVO EOETN ACRAC RSENE EIDU DR\n",
    "\n",
    "\n",
    "- Key space size\n",
    "  The key is just the rail count k and this goes from ≥ 1 to less than the length of the plaintext. In practice, k is small (often 2–4), which makes the key space tiny and brute force over k trivial.\n",
    "\n",
    "- Known vulnerabilities and cryptanalysis methods\n",
    "  It is extremely weak. An attacker can simply try plausible k values and check intelligibility. Because it is a pure transposition, it preserves letter frequencies; for k = 2 the alternating pattern is especially revealing. Short, structured messages are broken almost immediately.\n",
    "\n",
    "- Real-world usage examples (if any)\n",
    "  Primarily educational or recreational. Its importance is conceptual: it illustrates how position permutation works and why simple transpositions alone offer little security.\n",
    "\n",
    "---\n",
    "\n",
    "## Algorithm 7: Hill Cipher\n",
    "\n",
    "- Brief historical context and inventor/origin\n",
    "  The Hill cipher is a polygraphic substitution scheme invented by Lester S. Hill in 1929. It was the first practical cipher to use linear algebra on blocks of letters, achieving strong diffusion by mixing symbols within each block.\n",
    "\n",
    "- Description of the encryption/decryption process\n",
    "  Map letters to numbers (A=0, …, Z=25). Group the plaintext into blocks of size n and represent each block as a vector over integers mod 26. Choose an invertible n×n key matrix K modulo 26 (the determinant must be coprime with 26 to ensure invertibility). Encryption multiplies each plaintext vector P by K modulo 26 to obtain ciphertext vector C. Decryption multiplies C by K⁻¹ (the modular inverse matrix) to recover P. Changing a single plaintext letter alters all n letters of the corresponding ciphertext block.\n",
    "  This property anticipates Shannon’s diffusion principle: patterns in the plaintext are spread across multiple symbols in the ciphertext. For example, encrypting \"ACT\" and \"CAT\" with the same key produces entirely different ciphertext blocks, showing that every letter influences all others within the block. Unlike modern block ciphers (e.g., AES), where diffusion accumulates across many rounds, Hill cipher achieves local diffusion directly in each multiplication step.\n",
    "\n",
    "- Key space size\n",
    "  The total number of $n\\times n$ matrices over a 26-letter alphabet is $26^{\\,n^{2}}$, so $\\log_{2}(26^{\\,n^{2}})=n^{2}\\log_{2}26\\approx 4.7\\,n^{2}$ bits is an upper bound on the key size. That bound overcounts because only invertible matrices (mod 26) are valid keys. A matrix is invertible modulo 26 if it is invertible modulo 2 and modulo 13, so the number of invertible keys equals the product of the orders of $\\mathrm{GL}(n,\\mathbb{Z}_{2})$ and $\\mathrm{GL}(n,\\mathbb{Z}_{13})$. Using those formulas (and simplifying) gives an effective keyspace size that is well approximated by $4.64\\,n^{2}-1.7$ bits. For example a $5\\times5$ Hill cipher has an effective key size of about $4.64\\cdot25-1.7\\approx114$ bits. Note that key-search is not the most efficient attack in practice because known-plaintext linear recovery is far faster; thus a large keyspace alone does not imply practical security.\n",
    "\n",
    "- Known vulnerabilities and cryptanalysis methods\n",
    "  The fundamental weakness of the basic Hill cipher is its complete linearity: encryption is a linear map $C=K\\cdot P$ (mod 26). As a result, a sufficiently determined known-plaintext attack recovers the key by solving a linear system. Concretely, about $n^{2}$ plaintext/ciphertext character pairs (i.e., enough scalar equations to determine the $n^{2}$ entries of $K$) allow an attacker to set up and solve for $K$ by standard linear algebra; if the system happens to be underdetermined, only a few additional pairs are needed. Calculating the solution is then computationally trivial. Linearity also means the cipher provides diffusion but essentially no confusion; without non-linear operations an attacker can exploit linear relationships in the data. Poorly chosen keys (for example matrices with many zeroes or low mixing) reduce diffusion and make statistical or heuristic attacks easier. For these reasons matrix multiplication alone is not considered secure, though it remains a valuable diffusion step when combined with non-linear components.\n",
    "\n",
    "- Real-world usage examples (if any)\n",
    "  Historically limited because manual matrix arithmetic is cumbersome and, by the 1930s–1940s, rotor machines were taking over. Today the Hill cipher is mainly pedagogical, illustrating how linear algebra can drive block substitutions and diffusion. It is frequently cited in textbooks and courses because it provides one of the clearest classical examples of Shannon’s diffusion principle, even though it lacks the nonlinearity needed for modern security.\n",
    "\n",
    "---\n",
    "\n",
    "## Algorithm 8: One-Time Pad\n",
    "\n",
    "- Brief historical context and inventor/origin\n",
    "  The one-time pad (OTP) is the only known cipher that offers *perfect secrecy- when used correctly. The principle was first outlined by Frank Miller in 1882, later reinvented in 1917 by Gilbert S. Vernam for telegraphy, and refined by Joseph Mauborgne, who recognized that truly random, single-use keys eliminate cryptanalytic leverage. Claude Shannon’s 1949 proof formally established its information-theoretic security, making OTP a cornerstone of modern cryptographic theory.\n",
    "\n",
    "- Description of the encryption/decryption process\n",
    "  Sender and receiver share in advance a truly random key (pad) of the same length as the plaintext, used only once.\n",
    "\n",
    "   - Encryption: each plaintext symbol is combined with the  corresponding key symbol. In alphabetic form, numerical values of letters are added modulo 26. In binary form, bits are XORed with key bits.\n",
    "\n",
    "  - Decryption: the receiver reverses the operation. For alphabetic messages, ciphertext values are subtracted from the key values modulo 26. For binary messages, applying XOR with the same key restores the plaintext (since XOR is its own inverse).\n",
    "\n",
    "  Because the key is random, single-use, and as long as the message, the ciphertext is statistically indistinguishable from random noise, providing perfect secrecy.\n",
    "\n",
    "  ![](https://www.tutorialspoint.com/cryptography/images/one_time_pad.jpg)\n",
    "\n",
    "- Key space size\n",
    "  For a message of length $N$, (in english) there are $26^N$ possible keys in the alphabetic case or $2^N$ in the binary case. Brute force offers no advantage: all possible plaintexts of length $N$ are equally likely. This property directly embodies Shannon’s definition of perfect secrecy.\n",
    "\n",
    "- Known vulnerabilities and cryptanalysis methods\n",
    "  OTP has no inherent weaknesses but fails if its assumptions are violated. Reusing keys (the \"two-time pad\") exposes correlations that attackers can exploit, as shown in the Venona project against Soviet traffic. Using pseudorandom or patterned key material undermines secrecy. Key distribution, storage, and disposal are the central challenges, especially at scale. Furthermore, OTPs do not authenticate messages, leaving systems vulnerable to tampering unless paired with additional mechanisms.\n",
    "\n",
    "- Real-world usage examples (if any)\n",
    "  OTPs have historically been employed in high-security environments: diplomatic cables, espionage communications, Cold War hotlines, and military operations. Pads were often printed on flammable “flash paper” for quick destruction. In modern practice, OTP remains impractical for widespread use because secure key distribution and management are prohibitively demanding. Instead, cryptographic systems rely on computational hardness assumptions, while OTPs survive in specialized or niche contexts requiring absolute secrecy.\n",
    "\n",
    "---\n",
    "## References\n",
    "https://www.splunk.com/en_us/blog/learn/caesar-cipher.html\n",
    "https://www.ghostvolt.com/articles/cryptography_history.html\n",
    "https://en.wikipedia.org/wiki/Affine_transformation\n",
    "https://www.geeksforgeeks.org/dsa/implementation-affine-cipher\n",
    "https://medium.com/@omarwhadidi9/mono-alphabetic-substitution-ciphers-ad150149ed1e\n",
    "https://www.cs.trincoll.edu/~crypto/historical/alberti.html\n",
    "https://blog.gcwizard.net/manual/en/thritemus-cipher/01-what-is-the-trithemius-cipher\n",
    "https://es.wikipedia.org/wiki/Enigma_(máquina)\n",
    "https://en.wikipedia.org/wiki/Vigenère_cipher\n",
    "https://www.tumblr.com/spookiestbook/186430688221/vigenère-cipher-strengths-and-weaknesses\n",
    "https://en.wikipedia.org/wiki/Transposition_cipher\n",
    "https://en.wikipedia.org/wiki/Hill_cipher\n",
    "https://crypto.stackexchange.com/questions/74448/block-cipher-linearity-in-relation-to-hill-ciphers\n",
    "https://en.wikipedia.org/wiki/One-time_pad\n",
    "https://www.tutorialspoint.com/cryptography/cryptography_one_time_pad_cipher.htm\n",
    "\n",
    "---\n",
    "---"
   ]
  },
  {
   "cell_type": "markdown",
   "id": "c8915979",
   "metadata": {},
   "source": [
    "## **Part II: Practical Exercises**"
   ]
  },
  {
   "cell_type": "markdown",
   "id": "db7836cc",
   "metadata": {},
   "source": [
    "### Exercise 1: Caesar Cipher Analysis\n",
    "\n",
    "Given the following ciphertext encrypted with a Caesar cipher:\n",
    "```\n",
    "Al osk lzw twkl gx laewk, al osk lzw ogjkl gx laewk, al osk lzw syw gx oakvge, \n",
    "al osk lzw syw gx xggdakzfwkk, al osk lzw whguz gx twdawx, al osk lzw whguz gx \n",
    "afujwvmdalq, al osk lzw kwskgf gx Dayzl, al osk lzw kwskgf gx Vsjcfwkk, al osk \n",
    "lzw khjafy gx zghw, al osk lzw oaflwj gx vwkhsaj, ow zsv wnwjqlzafy twxgjw mk, \n",
    "ow zsv fglzafy twxgjw mk, ow owjw sdd ygafy vajwul lg Zwsnwf, ow owjw sdd ygafy \n",
    "vajwul lzw glzwj osq...\n",
    "```"
   ]
  },
  {
   "cell_type": "code",
   "execution_count": 47,
   "id": "757095b5",
   "metadata": {},
   "outputs": [],
   "source": [
    "text=\"\"\"Al osk lzw twkl gx laewk, al osk lzw ogjkl gx laewk, al osk lzw syw gx oakvge, \n",
    "al osk lzw syw gx xggdakzfwkk, al osk lzw whguz gx twdawx, al osk lzw whguz gx \n",
    "afujwvmdalq, al osk lzw kwskgf gx Dayzl, al osk lzw kwskgf gx Vsjcfwkk, al osk \n",
    "lzw khjafy gx zghw, al osk lzw oaflwj gx vwkhsaj, ow zsv wnwjqlzafy twxgjw mk, \n",
    "ow zsv fglzafy twxgjw mk, ow owjw sdd ygafy vajwul lg Zwsnwf, ow owjw sdd ygafy \n",
    "vajwul lzw glzwj osq...\"\"\""
   ]
  },
  {
   "cell_type": "code",
   "execution_count": 48,
   "id": "427b8e72",
   "metadata": {},
   "outputs": [],
   "source": [
    "def decrypt_caesar(ciphertext, shift):\n",
    "    # Decrypts a Caesar cipher by shifting letters back by the specified amount\n",
    "    decrypted_text = \"\"\n",
    "    for char in ciphertext:\n",
    "        if char.isalpha():\n",
    "            shifted = ord(char) - shift\n",
    "            # Decrypt lowercase letters\n",
    "            if char.islower():\n",
    "                if shifted < ord('a'):\n",
    "                    shifted += 26\n",
    "            # Decrypt uppercase letters\n",
    "            elif char.isupper():\n",
    "                if shifted < ord('A'):\n",
    "                    shifted += 26\n",
    "            decrypted_text += chr(shifted)\n",
    "        else:\n",
    "            decrypted_text += char\n",
    "    return decrypted_text"
   ]
  },
  {
   "cell_type": "markdown",
   "id": "9437d5a6",
   "metadata": {},
   "source": [
    "#### a) Decrypt the message using frequency analysis (show your work)\n",
    "### Frequency Analysis\n",
    "\n",
    "Obtain most common letter in cipher text and compare with most common letters to get the shift value to use.\n",
    "\n",
    "Obtain less common letter in cipher text and compare with less common letters in English to get the shift value to use.\n",
    "\n",
    "![](https://stancarey.wordpress.com/wp-content/uploads/2013/01/peter-norvig-english-language-letter-count-frequency-table.jpg?w=640)"
   ]
  },
  {
   "cell_type": "code",
   "execution_count": 49,
   "id": "94d38b22",
   "metadata": {},
   "outputs": [
    {
     "name": "stdout",
     "output_type": "stream",
     "text": [
      "Most and least common letters in English:\n",
      "1. e - 12.49%\n",
      "2. t - 9.28%\n",
      "3. a - 8.04%\n",
      "\n",
      "\n",
      "Least common letters in English:\n",
      "1. z - 0.09%\n",
      "2. q - 0.12%\n",
      "3. j - 0.16%\n",
      "\n",
      "\n",
      "Most common letters in cipher text:\n",
      "1. w: 47 - 14.73%\n",
      "2. l: 34 - 10.66%\n",
      "3. k: 28 - 8.78%\n",
      "\n",
      "Least common letters in cipher text:\n",
      "1. c: 1 - 0.31%\n",
      "2. n: 2 - 0.63%\n",
      "3. q: 3 - 0.94%\n"
     ]
    }
   ],
   "source": [
    "# Most common letter in English\n",
    "print(\"Most and least common letters in English:\")\n",
    "print(\"1. e - 12.49%\")\n",
    "print(\"2. t - 9.28%\")\n",
    "print(\"3. a - 8.04%\")\n",
    "print(\"\\n\")\n",
    "print(\"Least common letters in English:\")\n",
    "print(\"1. z - 0.09%\")\n",
    "print(\"2. q - 0.12%\")\n",
    "print(\"3. j - 0.16%\")\n",
    "print(\"\\n\")\n",
    "#Parse text to get letter frequency\n",
    "text_2 = text.lower()\n",
    "letter_frequency = {}\n",
    "for char in text_2:\n",
    "    if char.isalpha():\n",
    "        if char in letter_frequency:\n",
    "            letter_frequency[char] += 1\n",
    "        else:\n",
    "            letter_frequency[char] = 1\n",
    "# Sort letters by frequency\n",
    "sorted_frequency = sorted(letter_frequency.items(), key=lambda x: x[1], reverse=True)\n",
    "#Total letters on cipher text\n",
    "total_letters = sum(letter_frequency.values())\n",
    "#Print 3 most common and 3 least common letters\n",
    "print(\"Most common letters in cipher text:\")\n",
    "for i in range(3):\n",
    "    print(f\"{i+1}. {sorted_frequency[i][0]}: {sorted_frequency[i][1]} - {sorted_frequency[i][1]/total_letters*100:.2f}%\")\n",
    "print(\"\\nLeast common letters in cipher text:\")\n",
    "for i in range(1,4):\n",
    "    print(f\"{i}. {sorted_frequency[-i][0]}: {sorted_frequency[-i][1]} - {sorted_frequency[-i][1]/total_letters*100:.2f}%\")\n"
   ]
  },
  {
   "cell_type": "code",
   "execution_count": 50,
   "id": "0f417a7c",
   "metadata": {},
   "outputs": [
    {
     "name": "stdout",
     "output_type": "stream",
     "text": [
      "\n",
      "Shift value between most common letters (w and e): 18\n",
      "Shift value between 2nd most common letters (l and t): 18\n",
      "Shift value between 3rd most common letters (k and a): 10\n",
      "Shift value between least common letters (c and z): 3\n",
      "Shift value between 2nd least common letters (n and q): 23\n",
      "Shift value between 3rd least common letters (q and j): 7\n"
     ]
    }
   ],
   "source": [
    "#Get shift values between w (1st most common in cipher text) and e (1st most common in English)\n",
    "shift1 = (ord('w') - ord('e')) % 26\n",
    "print(f\"\\nShift value between most common letters (w and e): {shift1}\") \n",
    "#Get shift values between l (2nd most common in cipher text) and t (2nd most common in English)\n",
    "shift2 = (ord('l') - ord('t')) % 26\n",
    "print(f\"Shift value between 2nd most common letters (l and t): {shift2}\")\n",
    "#Get shift values between k (3rd most common in cipher text) and a (3rd most common in English)\n",
    "shift3 = (ord('k') - ord('a')) % 26\n",
    "print(f\"Shift value between 3rd most common letters (k and a): {shift3}\")\n",
    "#Get shift values between c (1st least common in cipher text) and z (1st least common in English)\n",
    "shift4 = (ord('c') - ord('z')) % 26\n",
    "print(f\"Shift value between least common letters (c and z): {shift4}\")\n",
    "#Get shift values between n (2nd least common in cipher text) and q (2nd least common in English)\n",
    "shift5 = (ord('n') - ord('q')) % 26\n",
    "print(f\"Shift value between 2nd least common letters (n and q): {shift5}\")\n",
    "#Get shift values between q (3rd least common in cipher text) and j (3rd least common in English)\n",
    "shift6 = (ord('q') - ord('j')) % 26\n",
    "print(f\"Shift value between 3rd least common letters (q and j): {shift6}\")"
   ]
  },
  {
   "cell_type": "code",
   "execution_count": 51,
   "id": "e5707bf1",
   "metadata": {},
   "outputs": [
    {
     "name": "stdout",
     "output_type": "stream",
     "text": [
      "\n",
      "Decrypted text with shift value 18:\n",
      "It was the best of times, it was the worst of times, it was the age of wisdom, \n",
      "it was the age of foolishness, it was the epoch of belief, it was the epoch of \n",
      "incredulity, it was the season of Light, it was the season of Darkness, it was \n",
      "the spring of hope, it was the winter of despair, we had everything before us, \n",
      "we had nothing before us, we were all going direct to Heaven, we were all going \n",
      "direct the other way...\n",
      "\n",
      "Decrypted text with shift value 10:\n",
      "Qb eia bpm jmab wn bquma, qb eia bpm ewzab wn bquma, qb eia bpm iom wn eqalwu, \n",
      "qb eia bpm iom wn nwwtqapvmaa, qb eia bpm mxwkp wn jmtqmn, qb eia bpm mxwkp wn \n",
      "qvkzmlctqbg, qb eia bpm amiawv wn Tqopb, qb eia bpm amiawv wn Lizsvmaa, qb eia \n",
      "bpm axzqvo wn pwxm, qb eia bpm eqvbmz wn lmaxiqz, em pil mdmzgbpqvo jmnwzm ca, \n",
      "em pil vwbpqvo jmnwzm ca, em emzm itt owqvo lqzmkb bw Pmidmv, em emzm itt owqvo \n",
      "lqzmkb bpm wbpmz eig...\n",
      "\n",
      "Decrypted text with shift value 23:\n",
      "Do rvn ocz wzno ja odhzn, do rvn ocz rjmno ja odhzn, do rvn ocz vbz ja rdnyjh, \n",
      "do rvn ocz vbz ja ajjgdnciznn, do rvn ocz zkjxc ja wzgdza, do rvn ocz zkjxc ja \n",
      "dixmzypgdot, do rvn ocz nzvnji ja Gdbco, do rvn ocz nzvnji ja Yvmfiznn, do rvn \n",
      "ocz nkmdib ja cjkz, do rvn ocz rdiozm ja yznkvdm, rz cvy zqzmtocdib wzajmz pn, \n",
      "rz cvy ijocdib wzajmz pn, rz rzmz vgg bjdib ydmzxo oj Czvqzi, rz rzmz vgg bjdib \n",
      "ydmzxo ocz joczm rvt...\n",
      "\n",
      "Decrypted text with shift value 3:\n",
      "Xi lph iwt qthi du ixbth, xi lph iwt ldghi du ixbth, xi lph iwt pvt du lxhsdb, \n",
      "xi lph iwt pvt du uddaxhwcthh, xi lph iwt tedrw du qtaxtu, xi lph iwt tedrw du \n",
      "xcrgtsjaxin, xi lph iwt htphdc du Axvwi, xi lph iwt htphdc du Spgzcthh, xi lph \n",
      "iwt hegxcv du wdet, xi lph iwt lxcitg du sthepxg, lt wps tktgniwxcv qtudgt jh, \n",
      "lt wps cdiwxcv qtudgt jh, lt ltgt paa vdxcv sxgtri id Wtpktc, lt ltgt paa vdxcv \n",
      "sxgtri iwt diwtg lpn...\n",
      "\n",
      "Decrypted text with shift value 7:\n",
      "Te hld esp mpde zq etxpd, te hld esp hzcde zq etxpd, te hld esp lrp zq htdozx, \n",
      "te hld esp lrp zq qzzwtdsypdd, te hld esp pazns zq mpwtpq, te hld esp pazns zq \n",
      "tyncpofwtej, te hld esp dpldzy zq Wtrse, te hld esp dpldzy zq Olcvypdd, te hld \n",
      "esp dactyr zq szap, te hld esp htyepc zq opdaltc, hp slo pgpcjestyr mpqzcp fd, \n",
      "hp slo yzestyr mpqzcp fd, hp hpcp lww rztyr otcpne ez Splgpy, hp hpcp lww rztyr \n",
      "otcpne esp zespc hlj...\n"
     ]
    }
   ],
   "source": [
    "#Two shift values are repeated, so we have 5 different shift values: 18, 10, 23, 3, 7\n",
    "#We will try to decrypt the cipher text with these 5 shift values\n",
    "print(\"\\nDecrypted text with shift value 18:\")\n",
    "print(decrypt_caesar(text, 18))\n",
    "print(\"\\nDecrypted text with shift value 10:\")\n",
    "print(decrypt_caesar(text, 10))\n",
    "print(\"\\nDecrypted text with shift value 23:\")\n",
    "print(decrypt_caesar(text, 23))\n",
    "print(\"\\nDecrypted text with shift value 3:\")\n",
    "print(decrypt_caesar(text, 3))\n",
    "print(\"\\nDecrypted text with shift value 7:\")\n",
    "print(decrypt_caesar(text, 7))"
   ]
  },
  {
   "cell_type": "markdown",
   "id": "8910e9fd",
   "metadata": {},
   "source": [
    "The shift key was 18, obtained by only deciphering 5 spurious keys instead of trying all the 25 possible keys."
   ]
  },
  {
   "cell_type": "markdown",
   "id": "cbbc3e2d",
   "metadata": {},
   "source": [
    "#### Deciphered text"
   ]
  },
  {
   "cell_type": "code",
   "execution_count": 52,
   "id": "ee2ccc60",
   "metadata": {},
   "outputs": [
    {
     "name": "stdout",
     "output_type": "stream",
     "text": [
      "It was the best of times, it was the worst of times, it was the age of wisdom, \n",
      "it was the age of foolishness, it was the epoch of belief, it was the epoch of \n",
      "incredulity, it was the season of Light, it was the season of Darkness, it was \n",
      "the spring of hope, it was the winter of despair, we had everything before us, \n",
      "we had nothing before us, we were all going direct to Heaven, we were all going \n",
      "direct the other way...\n"
     ]
    }
   ],
   "source": [
    "print(decrypt_caesar(text, 18))"
   ]
  },
  {
   "cell_type": "markdown",
   "id": "5166e204",
   "metadata": {},
   "source": [
    "#### b) What is the key used?"
   ]
  },
  {
   "cell_type": "markdown",
   "id": "eb8311cd",
   "metadata": {},
   "source": [
    "Assuming the text ciphered was a legible English text, the key used was 18 since it gets a English text once it was deciphered."
   ]
  },
  {
   "cell_type": "markdown",
   "id": "99dea9f2",
   "metadata": {},
   "source": [
    "### Exercise 2: Affine Cipher Implementation\n",
    "\n",
    "The Affine cipher uses the formula: E(x) = (ax + b) mod 26\n",
    "\n",
    "**Given:** Plaintext = \"CRYPTOGRAPHY\", a = 5, b = 8"
   ]
  },
  {
   "cell_type": "code",
   "execution_count": 53,
   "id": "f47508c8",
   "metadata": {},
   "outputs": [],
   "source": [
    "def gcd_function(a, b):\n",
    "    while b:\n",
    "        #Recursive implementation using Euclid's algorithm\n",
    "        # gcd(a, b) = gcd(b, a mod b)\n",
    "        a, b = b, a % b\n",
    "    return a\n",
    "def encrypt_affine(plaintext, a, b):\n",
    "    #Encrypts an Affine cipher using the formula y=E(x) = (ax + b) mod 26\n",
    "    #Ensure a and 26 are coprime so a has a modular multiplicative inverse\n",
    "    if gcd_function(a, 26) != 1:\n",
    "        raise ValueError(\"a and 26 must be coprime.\")\n",
    "    ciphertext = \"\"\n",
    "    for char in plaintext:\n",
    "        if char.isalpha():\n",
    "            #Obtain the ascii number for 'a' or 'A' depending on case\n",
    "            #To replace with the lowercase or uppercase letters after encryption\n",
    "            offset = ord('a') if char.islower() else ord('A')\n",
    "            x = ord(char) - offset\n",
    "            encrypted_char = (a * x + b) % 26\n",
    "            ciphertext += chr(encrypted_char + offset)\n",
    "        else:\n",
    "            ciphertext += char\n",
    "    return ciphertext\n",
    "\n",
    "\n"
   ]
  },
  {
   "cell_type": "markdown",
   "id": "9b8886e3",
   "metadata": {},
   "source": [
    "#### a) Encrypt the plaintext (show calculations for first 3 letters)"
   ]
  },
  {
   "cell_type": "code",
   "execution_count": 54,
   "id": "8337702b",
   "metadata": {},
   "outputs": [
    {
     "name": "stdout",
     "output_type": "stream",
     "text": [
      "Plaintext actual character: C\n",
      "Plaintext character position in the alphabet (0-25): 2\n",
      "Acutal calculation: C=(5 * 2 + 8) mod 26 = 18\n",
      "Encrypted character position in the alphabet (0-25): 18\n",
      "Encrypted character: S\n",
      "-----\n",
      "Plaintext actual character: R\n",
      "Plaintext character position in the alphabet (0-25): 17\n",
      "Acutal calculation: C=(5 * 17 + 8) mod 26 = 15\n",
      "Encrypted character position in the alphabet (0-25): 15\n",
      "Encrypted character: P\n",
      "-----\n",
      "Plaintext actual character: Y\n",
      "Plaintext character position in the alphabet (0-25): 24\n",
      "Acutal calculation: C=(5 * 24 + 8) mod 26 = 24\n",
      "Encrypted character position in the alphabet (0-25): 24\n",
      "Encrypted character: Y\n",
      "-----\n",
      "Ciphertext: SPYFZAMPIFRY\n"
     ]
    }
   ],
   "source": [
    "plaintext=\"CRYPTOGRAPHY\"\n",
    "a= 5\n",
    "b= 8\n",
    "#Print of first 3 letters calculation process\n",
    "for i in range(3):\n",
    "    char=plaintext[i]\n",
    "    print(f\"Plaintext actual character: {char}\")\n",
    "    x = ord(char) - ord('A')\n",
    "    print(f\"Plaintext character position in the alphabet (0-25): {x}\")\n",
    "    #Affine cipher formula\n",
    "    y= (a * x + b) % 26\n",
    "    print(f\"Acutal calculation: C=({a} * {x} + {b}) mod 26 = {y}\")\n",
    "    print(f\"Encrypted character position in the alphabet (0-25): {y}\")\n",
    "    print(f\"Encrypted character: {chr(y + ord('A'))}\")\n",
    "    print(\"-----\")\n",
    "ciphertext = encrypt_affine(plaintext, a, b)\n",
    "print(f\"Ciphertext: {ciphertext}\")"
   ]
  },
  {
   "cell_type": "markdown",
   "id": "021b1297",
   "metadata": {},
   "source": [
    "#### b) Find the decryption key values (multiplicative inverse of a)"
   ]
  },
  {
   "cell_type": "code",
   "execution_count": 55,
   "id": "a6c17daa",
   "metadata": {},
   "outputs": [],
   "source": [
    "def extended_gcd(a, b):\n",
    "    if a == 0:\n",
    "        return b, 0, 1\n",
    "    gcd, x1, y1 = extended_gcd(b % a, a)\n",
    "    x = y1 - (b // a) * x1\n",
    "    y = x1\n",
    "    return gcd, x, y\n",
    "def get_modular_multiplicative_inverse(a):\n",
    "    #a*a_inv = 1 mod 26\n",
    "    # Extended Euclidean Algorithm: gcd(a, b) = ax + by\n",
    "    # If b=26, and gcd(a, 26) = 1, then ax + 26y = 1\n",
    "    # (ax+26y) mod 26 = 1 mod 26\n",
    "    # (ax mod 26 + 26y mod 26) mod 26 = 1 mod 26\n",
    "    # (ax mod 26 + 0) mod 26 = 1 mod 26\n",
    "    # (ax mod 26) = 1 mod 26\n",
    "    # So x is the modular multiplicative inverse of a mod 26\n",
    "    if gcd_function(a, 26) != 1:\n",
    "        raise ValueError(\"a and 26 must be coprime to have a modular multiplicative inverse.\")\n",
    "    gcd, x, y = extended_gcd(a, 26)\n",
    "    return x % 26\n"
   ]
  },
  {
   "cell_type": "code",
   "execution_count": 56,
   "id": "4ab625a0",
   "metadata": {},
   "outputs": [
    {
     "name": "stdout",
     "output_type": "stream",
     "text": [
      "Modular multiplicative inverse of 5 mod 26 is: 21\n",
      "Pair of decryption keys: (21, 8)\n"
     ]
    }
   ],
   "source": [
    "a_inv= get_modular_multiplicative_inverse(a)\n",
    "print(f\"Modular multiplicative inverse of {a} mod 26 is: {a_inv}\")\n",
    "print(f\"Pair of decryption keys: ({a_inv}, {b})\")"
   ]
  },
  {
   "cell_type": "markdown",
   "id": "396b1749",
   "metadata": {},
   "source": [
    "#### c) Verify your encryption by decrypting the first 3 letters"
   ]
  },
  {
   "cell_type": "code",
   "execution_count": 57,
   "id": "0611d165",
   "metadata": {},
   "outputs": [],
   "source": [
    "def decrypt_affine(ciphertext, a_inv, b):\n",
    "    # Decrypts an Affine cipher using the formula x=D(y) = a_inv * (y - b) mod 26\n",
    "    plaintext = \"\"\n",
    "    for char in ciphertext:\n",
    "        if char.isalpha():\n",
    "            offset = ord('a') if char.islower() else ord('A')\n",
    "            y = ord(char) - offset\n",
    "            decrypted_char = (a_inv * (y - b)) % 26\n",
    "            plaintext += chr(decrypted_char + offset)\n",
    "        else:\n",
    "            plaintext += char\n",
    "    return plaintext\n"
   ]
  },
  {
   "cell_type": "code",
   "execution_count": 58,
   "id": "c736e406",
   "metadata": {},
   "outputs": [
    {
     "name": "stdout",
     "output_type": "stream",
     "text": [
      "CRY\n"
     ]
    }
   ],
   "source": [
    "#decrypting first 3 letters\n",
    "print(decrypt_affine(ciphertext[:3], a_inv, b))"
   ]
  },
  {
   "cell_type": "markdown",
   "id": "fef6dba3",
   "metadata": {},
   "source": [
    "### Exercise 3: Perfect Secrecy Analysis\n",
    "\n",
    "Consider a simple cipher that operates on single bits where:\n",
    "- Key space: {0, 1}\n",
    "- Plaintext space: {0, 1}  \n",
    "- Encryption: C = P ⊕ K (XOR operation)\n",
    "- Each key is chosen with probability 1/2"
   ]
  },
  {
   "cell_type": "markdown",
   "id": "a738c724",
   "metadata": {},
   "source": [
    "#### a) Create the complete encryption matrix showing all possible (plaintext, key, ciphertext) combinations"
   ]
  },
  {
   "cell_type": "code",
   "execution_count": 59,
   "id": "8c6782fe",
   "metadata": {},
   "outputs": [
    {
     "name": "stdout",
     "output_type": "stream",
     "text": [
      "P | K | C = P ⊕ K\n",
      "--|---|----------\n",
      "0 | 0 | 0\n",
      "0 | 1 | 0\n",
      "1 | 0 | 1\n",
      "1 | 1 | 1\n"
     ]
    }
   ],
   "source": [
    "data = []\n",
    "\n",
    "# All possible combinations\n",
    "for P in [0, 1]:\n",
    "    for K in [0, 1]:\n",
    "        C = P ^ K  # XOR operation\n",
    "        data.append({'P': P, 'K': K, 'C': C})\n",
    "\n",
    "print(\"P | K | C = P ⊕ K\")\n",
    "print(\"--|---|----------\")\n",
    "for row in data:\n",
    "    print(f\"{row['P']} | {row['K']} | {row['P']}\")\n"
   ]
  },
  {
   "cell_type": "markdown",
   "id": "878c8c92",
   "metadata": {},
   "source": [
    "#### b) Calculate P(C=0) and P(C=1)"
   ]
  },
  {
   "cell_type": "markdown",
   "id": "31827d8f",
   "metadata": {},
   "source": [
    "From the table, each of the 4 cases is equally likely (since P(K=0)=P(K=1)=1/2).  \n",
    "- P(C=0) = 1/2  \n",
    "- P(C=1) = 1/2  "
   ]
  },
  {
   "cell_type": "markdown",
   "id": "a778c977",
   "metadata": {},
   "source": [
    "#### c) Calculate P(P=0|C=0) and P(P=1|C=0)\n",
    "Using Bayes’ theorem:\n",
    "\n",
    "$$\n",
    "P(P=0 \\mid C=0) = \\frac{P(C=0 \\mid P=0)\\,P(P=0)}{P(C=0)}\n",
    "$$\n",
    "\n",
    "- $P(C=0 \\mid P=0) = \\tfrac{1}{2}$  (Half cases in the table)\n",
    "- $P(P=0) = p$ (any prior)  \n",
    "- $P(C=0) = \\tfrac{1}{2}$  (Half cases in the table)\n",
    "\n",
    "Therefore:\n",
    "\n",
    "$$\n",
    "P(P=0 \\mid C=0) = p, \\quad P(P=1 \\mid C=0) = 1-p\n",
    "$$\n",
    "\n",
    "So the posterior is the same as the prior."
   ]
  },
  {
   "cell_type": "markdown",
   "id": "44956742",
   "metadata": {},
   "source": [
    "#### d) Does this cipher achieve perfect secrecy? Prove your answer using Shannon's definition"
   ]
  },
  {
   "cell_type": "markdown",
   "id": "916361b1",
   "metadata": {},
   "source": [
    "Shannon’s definition: A cipher has perfect secrecy if  \n",
    "\n",
    "$$\n",
    "P(P=m \\mid C=c) = P(P=m) \\quad \\forall m,c\n",
    "$$\n",
    "\n",
    "Which means that knowing the ciphertext C does not change our beliefs about the plaintext P.  \n",
    "In other words, the posterior probability distribution of the message after observing C must be exactly the same as the prior distribution before seeing C.  \n",
    "\n",
    "We showed above that:\n",
    "\n",
    "$$\n",
    "P(P=0 \\mid C=c) = p = P(P=0), \\quad P(P=1 \\mid C=c) = 1-p = P(P=1)\n",
    "$$\n",
    "\n",
    "for both c=0 and c=1.  \n",
    "\n",
    "Therefore, observing the ciphertext gives the adversary no extra information about the plaintext.  \n",
    "This satisfies Shannon’s definition, so the cipher achieves perfect secrecy.  \n",
    "\n",
    "An equivalent way to see this is to check that the ciphertext distribution is independent of the plaintext:  \n",
    "\n",
    "$$\n",
    "P(C=0 \\mid P=0) = P(C=0 \\mid P=1) = \\tfrac{1}{2}\n",
    "$$  \n",
    "\n",
    "Thus, the probability of each ciphertext does not depend on the message, confirming perfect secrecy."
   ]
  },
  {
   "cell_type": "markdown",
   "id": "18ab06eb",
   "metadata": {},
   "source": [
    "#### e) What happens to perfect secrecy if we reuse the key for multiple bits?"
   ]
  },
  {
   "cell_type": "markdown",
   "id": "e30aa07c",
   "metadata": {},
   "source": [
    "If the same key bit is reused for multiple plaintext bits:\n",
    "\n",
    "$$\n",
    "C_1 = P_1 \\oplus K, \\quad C_2 = P_2 \\oplus K\n",
    "$$  \n",
    "\n",
    "Then combining the two ciphertexts:\n",
    "\n",
    "$$\n",
    "C_1 \\oplus C_2 = P_1 \\oplus P_2\n",
    "$$\n",
    "\n",
    "Which means the adversary learns the parity of the two plaintext bits directly, even without knowing the key.  \n",
    "This leaks information about the relationship between $P_1$ and $P_2$.  \n",
    "\n",
    "According to Shannon’s definition of perfect secrecy, the ciphertext should not change the adversary’s probabilities about the plaintext.  \n",
    "But in this case, after observing $(C_1, C_2)$, the adversary can rule out half of the possible $(P_1, P_2)$ pairs (those with the wrong parity).  \n",
    "\n",
    "Therefore, perfect secrecy is lost when the key is reused.  \n",
    "This is why the One-Time Pad is only perfectly secure if the key is: chosen uniformly at random, as long as the message, and never reused.\n"
   ]
  },
  {
   "cell_type": "markdown",
   "id": "b4727cff",
   "metadata": {},
   "source": [
    "\n",
    "### Exercise 4: Entropy and Key Analysis\n",
    "\n",
    "Consider the following scenarios:\n",
    "\n",
    "**Scenario A:** A password system where:\n",
    "- Passwords are exactly 4 characters long\n",
    "- Each character is chosen uniformly from {A, B, C, D}\n",
    "\n",
    "**Scenario B:** A Vigenère cipher with:\n",
    "- Key length = 3\n",
    "- Each key character chosen uniformly from 26-letter alphabet"
   ]
  },
  {
   "cell_type": "markdown",
   "id": "3a566a78",
   "metadata": {},
   "source": [
    "Shannon's Entropy \n",
    "$$\n",
    "H = -\\sum_x P(x),\\log_2 P(x)\n",
    "$$\n"
   ]
  },
  {
   "cell_type": "markdown",
   "id": "b9992aec",
   "metadata": {},
   "source": [
    "#### a) Calculate the entropy (in bits) for Scenario A"
   ]
  },
  {
   "cell_type": "code",
   "execution_count": 60,
   "id": "bf795691",
   "metadata": {},
   "outputs": [
    {
     "name": "stdout",
     "output_type": "stream",
     "text": [
      "Number of possible keys: 256\n",
      "Probability of each key: 1/256 = 0.00390625\n"
     ]
    }
   ],
   "source": [
    "possible_keys_A = 4**4\n",
    "print(f\"Number of possible keys: {possible_keys_A}\")\n",
    "prob_of_each_key_A = 1/possible_keys_A\n",
    "print(f\"Probability of each key: 1/{possible_keys_A} = {prob_of_each_key_A}\")"
   ]
  },
  {
   "cell_type": "markdown",
   "id": "f078a764",
   "metadata": {},
   "source": [
    "$$\n",
    "H = -\\sum_{x=1}^{256} \\tfrac{1}{256} \\log_2\\big(\\tfrac{1}{256}\\big)\n",
    "$$\n",
    "\n",
    "\n",
    "$$\n",
    "H = -256 \\cdot \\tfrac{1}{256}\\cdot \\log_2\\big(\\tfrac{1}{256}\\big).\n",
    "$$\n",
    "\n",
    "\n",
    "$$\n",
    "H = -\\log_2\\big(\\tfrac{1}{256}\\big) = \\log_2(256).\n",
    "$$"
   ]
  },
  {
   "cell_type": "code",
   "execution_count": 61,
   "id": "c46ffae4",
   "metadata": {},
   "outputs": [
    {
     "name": "stdout",
     "output_type": "stream",
     "text": [
      "Entropy of the key space: H(A) = log2(256) = 8.0 bits\n"
     ]
    }
   ],
   "source": [
    "import math\n",
    "entropy_A =  math.log2(possible_keys_A)\n",
    "print(f\"Entropy of the key space: H(A) = log2(256) = {entropy_A} bits\")"
   ]
  },
  {
   "cell_type": "markdown",
   "id": "41fa735e",
   "metadata": {},
   "source": [
    "#### b) Calculate the entropy (in bits) for Scenario B "
   ]
  },
  {
   "cell_type": "code",
   "execution_count": 62,
   "id": "f1e563ee",
   "metadata": {},
   "outputs": [
    {
     "name": "stdout",
     "output_type": "stream",
     "text": [
      "Number of possible keys: 17576\n",
      "Probability of each key: 1/17576 = 5.689576695493855e-05\n"
     ]
    }
   ],
   "source": [
    "possible_keys_B = 26**3\n",
    "print(f\"Number of possible keys: {possible_keys_B}\")\n",
    "prob_of_each_key_B = 1/possible_keys_B\n",
    "print(f\"Probability of each key: 1/{possible_keys_B} = {prob_of_each_key_B}\")"
   ]
  },
  {
   "cell_type": "markdown",
   "id": "87cbf219",
   "metadata": {},
   "source": [
    "$$\n",
    "H = -\\sum_{x=1}^{26^3} \\tfrac{1}{26^3} \\log_2\\big(\\tfrac{1}{26^3}\\big)\n",
    "$$\n",
    "\n",
    "\n",
    "$$\n",
    "H = -(26^3) \\cdot \\tfrac{1}{26^3}\\cdot \\log_2\\big(\\tfrac{1}{26^3}\\big).\n",
    "$$\n",
    "\n",
    "\n",
    "$$\n",
    "H = -\\log_2\\big(\\tfrac{1}{26^3}\\big) = \\log_2(26^3).\n",
    "$$"
   ]
  },
  {
   "cell_type": "code",
   "execution_count": 63,
   "id": "93666b31",
   "metadata": {},
   "outputs": [
    {
     "name": "stdout",
     "output_type": "stream",
     "text": [
      "Entropy of the key space: H(B) = log2(17576) = 14.1013 bits\n"
     ]
    }
   ],
   "source": [
    "import math\n",
    "entropy_B = math.log2(possible_keys_B)\n",
    "print(f\"Entropy of the key space: H(B) = log2(17576) = {entropy_B:.4f} bits\")"
   ]
  },
  {
   "cell_type": "markdown",
   "id": "80c0e94d",
   "metadata": {},
   "source": [
    " \n",
    "#### c) If an attacker can test 1000 keys per second, how long would it take to break each system in the worst case?"
   ]
  },
  {
   "cell_type": "code",
   "execution_count": 64,
   "id": "57de51b1",
   "metadata": {},
   "outputs": [
    {
     "name": "stdout",
     "output_type": "stream",
     "text": [
      "Time to break key space A at 1000 keys/second: 0.256 seconds\n",
      "Time to break key space B at 1000 keys/second: 17.576 seconds\n"
     ]
    }
   ],
   "source": [
    "time2break_A = possible_keys_A/1000\n",
    "print(f\"Time to break key space A at 1000 keys/second: {time2break_A} seconds\")\n",
    "\n",
    "time2break_B = possible_keys_B/1000\n",
    "print(f\"Time to break key space B at 1000 keys/second: {time2break_B} seconds\")\n"
   ]
  },
  {
   "cell_type": "markdown",
   "id": "5c324670",
   "metadata": {},
   "source": [
    "#### d) Calculate the \"unicity distance\" concept: If English text has entropy ≈ 1.5 bits per character, how much ciphertext would theoretically be needed to uniquely determine a 3-character Vigenère key?"
   ]
  },
  {
   "cell_type": "markdown",
   "id": "02f7442b",
   "metadata": {},
   "source": [
    "The **unicity distance** is approximated by:\n",
    "\n",
    "$$\n",
    "n_0 \\approx \\frac{H(K)}{R}\n",
    "$$\n",
    "\n",
    "where \\(H(K)\\) is the key entropy (bits), and \\(R\\) is the **redundancy per character** of the language.  \n",
    "\n",
    "For English, entropy per character \\(\\approx 1.5\\) bits, and alphabet size 26 gives therefore:"
   ]
  },
  {
   "cell_type": "code",
   "execution_count": 65,
   "id": "ee9306d7",
   "metadata": {},
   "outputs": [
    {
     "name": "stdout",
     "output_type": "stream",
     "text": [
      "R (redundancy per character) = log2(26) - 1.5 = 3.20044 bits/char\n"
     ]
    }
   ],
   "source": [
    "R = math.log2(26) - 1.5\n",
    "print(f\"R (redundancy per character) = log2(26) - 1.5 = {R:.5f} bits/char\")"
   ]
  },
  {
   "cell_type": "code",
   "execution_count": 66,
   "id": "ef899c14",
   "metadata": {},
   "outputs": [
    {
     "name": "stdout",
     "output_type": "stream",
     "text": [
      "Unicity distance = H(B) / R = 4.4061 characters\n"
     ]
    }
   ],
   "source": [
    "unicity_distance = entropy_B / R\n",
    "print(f\"Unicity distance = H(B) / R = {unicity_distance:.4f} characters\")"
   ]
  },
  {
   "cell_type": "markdown",
   "id": "09fb2a68",
   "metadata": {},
   "source": [
    "Theoretically, about \\(4\\)–\\(5\\) ciphertext characters are enough, on average, to uniquely determine a 3-character Vigenère key."
   ]
  },
  {
   "cell_type": "markdown",
   "id": "3d40ce5b",
   "metadata": {},
   "source": [
    "## **Part III: Pico CTF**"
   ]
  },
  {
   "cell_type": "markdown",
   "id": "12a70c60",
   "metadata": {},
   "source": [
    "### **C3 Problem**\n",
    "\n",
    "**Encryption algorithm (obtained from convert.py)**\n",
    "\n",
    "out is the ciphered text\n",
    "\n",
    "```sh\n",
    "lookup1 = \"\\n \\\"#()*+/1:=[]abcdefghijklmnopqrstuvwxyz\"\n",
    "lookup2 = \"ABCDEFGHIJKLMNOPQRSTabcdefghijklmnopqrst\"\n",
    "\n",
    "out = \"\"\n",
    "\n",
    "prev = 0\n",
    "for char in chars:\n",
    "  cur = lookup1.index(char)\n",
    "  out += lookup2[(cur - prev) % 40]\n",
    "  prev = cur\n",
    "```"
   ]
  },
  {
   "cell_type": "code",
   "execution_count": 67,
   "id": "023b9255",
   "metadata": {},
   "outputs": [
    {
     "name": "stdout",
     "output_type": "stream",
     "text": [
      "Ciphertext: DLSeGAGDgBNJDQJDCFSFnRBIDjgHoDFCFtHDgJpiHtGDmMAQFnRBJKkBAsTMrsPSDDnEFCFtIbEDtDCIbFCFtHTJDKerFldbFObFCFtLBFkBAAAPFnRBJGEkerFlcPgKkImHnIlATJDKbTbFOkdNnsgbnJRMFnRBNAFkBAAAbrcbTKAkOgFpOgFpOpkBAAAAAAAiClFGIPFnRBaKliCgClFGtIBAAAAAAAOgGEkImHnIl\n"
     ]
    }
   ],
   "source": [
    "#Get the text from the file ciphertext\n",
    "with open(\"files/ciphertext\", \"r\") as file:\n",
    "    ciphertext = file.read().strip()\n",
    "print(f\"Ciphertext: {ciphertext}\")"
   ]
  },
  {
   "cell_type": "code",
   "execution_count": 68,
   "id": "82bc041f",
   "metadata": {},
   "outputs": [
    {
     "name": "stdout",
     "output_type": "stream",
     "text": [
      "Length of plaintext alphabet: 40\n",
      "Length of ciphertext alphabet: 40\n"
     ]
    }
   ],
   "source": [
    "#See the length of plan text alphabet and the cipher text alphabet\n",
    "lookup1 = \"\\n \\\"#()*+/1:=[]abcdefghijklmnopqrstuvwxyz\"\n",
    "lookup2 = \"ABCDEFGHIJKLMNOPQRSTabcdefghijklmnopqrst\"\n",
    "print(f\"Length of plaintext alphabet: {len(lookup1)}\"   )\n",
    "print(f\"Length of ciphertext alphabet: {len(lookup2)}\")"
   ]
  },
  {
   "cell_type": "markdown",
   "id": "9a2c53ed",
   "metadata": {},
   "source": [
    "We can descipher it using it recursively knowing that the first prev is 0.\n",
    "\n",
    "$y=(x-prev)\\bmod 40$\n",
    "\n",
    "$y=(x-prev)\\bmod 40$\n",
    "\n",
    "$x=(y+prev)\\bmod 40$"
   ]
  },
  {
   "cell_type": "markdown",
   "id": "a4597d00",
   "metadata": {},
   "source": [
    "#### **Method 1**"
   ]
  },
  {
   "cell_type": "code",
   "execution_count": 69,
   "id": "2f6945f1",
   "metadata": {},
   "outputs": [
    {
     "name": "stdout",
     "output_type": "stream",
     "text": [
      "#asciiorder\n",
      "#fortychars\n",
      "#selfinput\n",
      "#pythontwo\n",
      "\n",
      "chars = \"\"\n",
      "from fileinput import input\n",
      "for line in input():\n",
      "    chars += line\n",
      "b = 1 / 1\n",
      "\n",
      "for i in range(len(chars)):\n",
      "    if i == b * b * b:\n",
      "        print chars[i] #prints\n",
      "        b += 1 / 1\n",
      "\n"
     ]
    }
   ],
   "source": [
    "X=[]\n",
    "j=0\n",
    "while j<len(ciphertext):\n",
    "    #Start with first char who has prev=0, then use the x obtained as prev for the next iteration\n",
    "    #Until the end of the ciphertext\n",
    "    if j==0:\n",
    "        prev=0\n",
    "    y=lookup2.index(ciphertext[j])\n",
    "    x=(y+prev)%40\n",
    "    X.append(lookup1[x])\n",
    "    prev=x\n",
    "    j+=1\n",
    "#For the first character, prev is 0\n",
    "y=lookup2.index(ciphertext[0])\n",
    "\n",
    "print(\"\".join(X))"
   ]
  },
  {
   "cell_type": "markdown",
   "id": "7090449c",
   "metadata": {},
   "source": [
    "#### **Method 2**"
   ]
  },
  {
   "cell_type": "code",
   "execution_count": 70,
   "id": "490c8ba9",
   "metadata": {},
   "outputs": [
    {
     "name": "stdout",
     "output_type": "stream",
     "text": [
      "Decrypted text:\n",
      "#asciiorder\n",
      "#fortychars\n",
      "#selfinput\n",
      "#pythontwo\n",
      "\n",
      "chars = \"\"\n",
      "from fileinput import input\n",
      "for line in input():\n",
      "    chars += line\n",
      "b = 1 / 1\n",
      "\n",
      "for i in range(len(chars)):\n",
      "    if i == b * b * b:\n",
      "        print chars[i] #prints\n",
      "        b += 1 / 1\n",
      "\n"
     ]
    }
   ],
   "source": [
    "import numpy as np\n",
    "\n",
    "# Lookup tables for decryption\n",
    "lookup1 = \"\\n \\\"#()*+/1:=[]abcdefghijklmnopqrstuvwxyz\"\n",
    "lookup2 = \"ABCDEFGHIJKLMNOPQRSTabcdefghijklmnopqrst\"\n",
    "\n",
    "# Read the encrypted text\n",
    "with open(\"files/ciphertext\", \"r\") as file:\n",
    "    ciphertext = file.read().strip()\n",
    "\n",
    "# Convert the encrypted text into indices\n",
    "cipher_indices = np.array([lookup2.index(char) for char in ciphertext])\n",
    "\n",
    "# Create a vector to store previous values\n",
    "prev_values = np.zeros(len(cipher_indices), dtype=int)\n",
    "\n",
    "# Calculate cumulative previous values\n",
    "prev_values[1:] = np.cumsum(cipher_indices[:-1])\n",
    "\n",
    "# Calculate decrypted indices\n",
    "plain_indices = (cipher_indices + prev_values) % 40\n",
    "\n",
    "# Convert decrypted indices to plaintext\n",
    "plaintext = ''.join(lookup1[idx] for idx in plain_indices)\n",
    "\n",
    "# Print the decrypted text\n",
    "print(\"Decrypted text:\")\n",
    "print(plaintext)"
   ]
  },
  {
   "cell_type": "markdown",
   "id": "362c934d",
   "metadata": {},
   "source": [
    "#### **Getting the key**"
   ]
  },
  {
   "cell_type": "markdown",
   "id": "ba2ab6d8",
   "metadata": {},
   "source": [
    "Now execute the desciphered code (key implicitely in the code and obtained by executing the code)"
   ]
  },
  {
   "cell_type": "code",
   "execution_count": 71,
   "id": "77fee8c7",
   "metadata": {},
   "outputs": [],
   "source": [
    "code=\"\"\"#asciiorder\n",
    "#fortychars\n",
    "#selfinput\n",
    "#pythontwo\n",
    "\n",
    "chars = \"\"\n",
    "from fileinput import input\n",
    "for line in input():\n",
    "    chars += line\n",
    "b = 1 / 1\n",
    "\n",
    "for i in range(len(chars)):\n",
    "    if i == b * b * b:\n",
    "        print chars[i] #prints\n",
    "        b += 1 / 1\"\"\""
   ]
  },
  {
   "cell_type": "code",
   "execution_count": 72,
   "id": "26273362",
   "metadata": {},
   "outputs": [
    {
     "name": "stdout",
     "output_type": "stream",
     "text": [
      "a\n",
      "d\n",
      "l\n",
      "i\n",
      "b\n",
      "s\n"
     ]
    }
   ],
   "source": [
    "chars = \"\"\n",
    "#Concatenate all lines of the desciphered code. The code is saved in code variable\n",
    "chars = code.strip()\n",
    "\n",
    "b = 1 / 1\n",
    "\n",
    "for i in range(len(chars)):\n",
    "    if i == b * b * b:\n",
    "        print(chars[i]) #prints\n",
    "        b += 1 / 1"
   ]
  },
  {
   "cell_type": "markdown",
   "id": "828048ac",
   "metadata": {},
   "source": [
    "\n",
    "#### ****Screenshot flag accepted****\n",
    "<img src=\"./images/C3_ss.png\" alt=\"c3_problem\" width=\"40%\">"
   ]
  },
  {
   "cell_type": "markdown",
   "id": "0ec698b9",
   "metadata": {},
   "source": [
    "### **Easy Peasy Problem**"
   ]
  },
  {
   "cell_type": "markdown",
   "id": "d676d278",
   "metadata": {},
   "source": [
    "#### **Method 1**"
   ]
  },
  {
   "cell_type": "markdown",
   "id": "208236bf",
   "metadata": {},
   "source": [
    "From otp.py we know the server reads a single random key of length 50000 bytes and uses it as a stream. At startup it encrypts the flag with the first n bytes of the key, advancing the internal pointer from 0 to n. Subsequent encryptions resume from that pointer, and if the pointer reaches the end of the key it wraps around to the beginning. Formally, for the flag bytes $P[0..n−1]$ and keystream $K[0..]$, the printed ciphertext is $C[i] = P[i] ⊕ K[i]$. This design turns the one-time pad into a rolling pad, which can be exploited by forcing a wrap and sending known plaintext."
   ]
  },
  {
   "cell_type": "code",
   "execution_count": 73,
   "id": "54265d2d",
   "metadata": {},
   "outputs": [
    {
     "name": "stdout",
     "output_type": "stream",
     "text": [
      "******************Welcome to our OTP implementation!******************\n",
      "This is the encrypted flag!\n",
      "5b1e564b6e415c0e394e0401384b08553a4e5c597b6d4a5c5a684d50013d6e4b\n",
      "\n",
      "What data would you like to encrypt? Here ya go!\n",
      "2953301457460b17135d38\n",
      "\n",
      "What data would you like to encrypt? "
     ]
    }
   ],
   "source": [
    "!printf 'Hello World\\n\\n' | nc mercury.picoctf.net 20266"
   ]
  },
  {
   "cell_type": "markdown",
   "id": "ec45fa72",
   "metadata": {},
   "source": [
    "Running netcat to the service shows the banner and the hex-encoded ciphertext of the flag. This confirms the initial C the server produces at startup with offset 0, and it also reveals the exact length n of the encrypted flag in bytes. That length is critical because it defines how far the internal key pointer advanced and how much padding we must send later to come back to the start of the key."
   ]
  },
  {
   "cell_type": "code",
   "execution_count": 74,
   "id": "6a02c95b",
   "metadata": {},
   "outputs": [
    {
     "name": "stdout",
     "output_type": "stream",
     "text": [
      "Encrypted flag in bytes: b'[\\x1eVKnA\\\\\\x0e9N\\x04\\x018K\\x08U:N\\\\Y{mJ\\\\ZhMP\\x01=nK'\n",
      "Number of bytes in the encrypted flag: 32\n",
      "Number of bytes to pad to reach key length (50000): 49968\n"
     ]
    }
   ],
   "source": [
    "KEY_LEN = 50000\n",
    "encrypted_flag = \"5b1e564b6e415c0e394e0401384b08553a4e5c597b6d4a5c5a684d50013d6e4b\"\n",
    "C = bytes.fromhex(encrypted_flag)\n",
    "n = len(C)\n",
    "pad_len = KEY_LEN - n\n",
    "print(f\"Encrypted flag in bytes: {C}\")\n",
    "print(f\"Number of bytes in the encrypted flag: {n}\")\n",
    "print(f\"Number of bytes to pad to reach key length ({KEY_LEN}): {pad_len}\")"
   ]
  },
  {
   "cell_type": "markdown",
   "id": "3d67c6fa",
   "metadata": {},
   "source": [
    "Computing n from the hex string and then pad_len = KEY_LEN − n tells us how many bytes of dummy input are needed to move the pointer from position n to the end of the key, so that the next encryption starts exactly at K[0] again. This step uses only values visible in the output and constants taken from otp.py (KEY_LEN = 50000), and it does not require guessing anything about the key itself."
   ]
  },
  {
   "cell_type": "code",
   "execution_count": 75,
   "id": "f7cb1272",
   "metadata": {},
   "outputs": [
    {
     "name": "stdout",
     "output_type": "stream",
     "text": [
      "******************Welcome to our OTP implementation!******************\n",
      "This is the encrypted flag!\n",
      "5b1e564b6e415c0e394e0401384b08553a4e5c597b6d4a5c5a684d50013d6e4b\n",
      "\n",
      "What data would you like to encrypt? Here ya go!\n",
      "20771d3979271d3920701d3925251d3979221d39227427731d3924746c721d3920241d392325211d3922271d392523091d3978201d3927771d2f311a6f1d3970271f1d39787207751d3978791d3970271d3925741d3927701d392270761d3927201d397023061d3922711d397627277e311d392770116e1d392777371d3925771d392470240826231d3920711d392325201d39222421641d392323180e1d3923207d75321d3920706c1d3978252f021d397176201d3979751d3979701d397025631d3978731d3979711d3922221d3923791d3925781d3979271d39702536057c1d397923081d3979781d3978751d3970247e1d3925251d3970793d2d3c6970181d3920791d3922743b13233c3c1d3922701d3923762c2f1d3927761d3924711d3979726f380515721d3920231d3978231d3923201d3922751d331d392273071d3971771d3922701d3978241d3927271d3979747e1d3971241d3924711d3922773c712c1d3976271d3925761d3925232971371d3923251d392376691d3978761d3923741d3970221d3971273a111d3979251d3979701d3923706e1d3925780c1d3978271d3970241d3927731d392427061d3971271d3922721d3976271d3925707e1d3925771d3922720c3c3a1d392227151d392275006a1d3925241d3925781d3925793a251d3979231d397873601d3923772e1d392725317d0b6f1d3978761d3979741d3927251d3979741d3925791d3922741d3979741d397072641d392378131d3970791d3979721d3978781d397923341d3971271d3920711d3979701d397177002d1d3922791d3923241d392272101d3978761d3978701d392222271d3927781d3979711d3924241d3978761d3920741d3979791d3970751d3979781d39252328081d3970786e1d392525061d3923730c741d3927221d397927091d3925791d351a1d3927721d392370781d3923221d3925221d3923791d3920781d3927701d3927771d3979231d3924751d3976271d3924761d3920251d3924731d3971711d3923751d3922251d3922271d392571171d3920771d3979787e1d3922791d3971791d3920751d3927783c140f051d392524771d1d2a1d3920231d3971271b0d1d39207712231d3922751d3927761d3922271d3922251d39232206271b1d3922701d1d101d397823761d3971751d3920220a1d3971231d3923201d3927711d392325011d3970791d3924717c1d392574741d3924241d3920701d3979751d2f321d3924791d3978761d3927271d3922791d3979241d3924781d3971761d3979731d3925750c1d392524071d3922731d392278251d3920781d3920271d3976271a381d3920791d3971761d3979203c1d3979270a1d3923761d392324601d392023731d392020081d392522321d3923731d3970781d397976021f1d39252077021d3922781d3971227a1d3924787d031d3978741d392424741d3922271d3979241d3923771d3920721d3925731d3970223b1d3922771d39707908041d3979791d3922761d2f360a1d3978790b61631d3923711b1d3970231d3924751d39702533221d3923781d3927797d0e0b0a1d392475231d397871331d3979731d3970741d3927761d3978201a1d3979711d3978251d397876791d3924221d3922722a301d3970711d3923701d3922741d3971241d3970231d3925781d3920711d3920201d3978711d3920721d3925741d3922741d1d1d3970781d3925731d3970787376387e1d3970251d3970751d3979711d3979781d3978737a1d39207723291d3970771d3927227c1d3971732a781d3979781d3924761d3979781d39257628691d3920237c1d397170371d392074716e1d3920761d3924731d3927771d3924771d3927761d3979751d397823081d3924741d3978701d3923231d3979727f1d3927770c1d3979701d3979741d3924206a1d3978231d3922731d3920221d3923241d392377017f2d221d3979771d3971763a1d3979761d3970720c0b1d1d1d3925721d3925241e1d3923201d3925721d392522681d3923731d3978721d3924201d3922791d3970221d3922252d1d3970271d392422681d3920701d3927791d3920251d3927761d3927721d3978251d3971791d3970231d3979241d3970781d3971271d3925736b1d392376191d3920246c701d3922751d3923231d3927271d3970771d3978771d3970721d66161d3971751d3927761d3927271d3922241d3978271d392022217d671d3924231d3923761d3927711d3979201d3927761d3979241d3971731f1d397978141d3927791d1d1d39717468086e1d3927771d3922241d392477641d3978737b1d3922721d3925201d397179791d3927731d392778691d3971711d392324656b1d3978271d3971791d3924711d3971791d3925223a1d351d3978741d3922781d3971751d3924771d3920791d3927271d392574261d397076732b1d392771631d392076221d3924736e1d3922771d3924271d3313211d392475611d3970771d3971233f7a1d3923241d392320771d392572160b717f1d3978717a1d3971751d392574261d3925741d39707912181d3927781d3923731d3920241d39707160130d331d397076197f1c1d3922761d3924771d3920741d3920237e2d1d3970701d3971721d3924777b1d3924770d703c1d392224161d3925721d3925703b1d3978791d3925251d392370226c1d392071081d3923771d3970271d392375041d1d3b701d39207407051d3979751d397822031d3924221d39272515781d3922251d3923721d3976271d39237728341d3925251d3970731d3979791d3920701d3978241d3978231d3920221d661d3970721d3927727e1d39797874711d3925271d3920231d3971241d3978256b1d3922741d3923231d3920731d3979221830710e1d3970741d3922721d3971706d1d2f2e78321d392525381d3920711d3970241d3971761d3923741d397078071d3924251d3970221d3978251d3971741d3970761d3971791d39237129121d3923751d3922201d3970771d3920721d3927221d3925751d3970737d1d3920782e1e1d3924771d3979271d3971221d3923201d3978231d3924221d392073211d3927721d3925723c1d3970731e1d3925722a1d3927791d3979771d3979771d3927271d3979771d3927771d3920231d3922731d397972061d3925241e1d392527761d3922251d2f6a13011d3924201d3978731d3920761d3970701d3978251d3920721d3924721d3922231d392571681d3923731d3970247b1d2f1d392522141d3923731d3970221d3924783f1d3978761d3925221d392525081d35340301651d392578691d3978701d3971701d3922741d3978741768671d3922716b1d397927071d3971711d3978231d3924221d3978751d3923236f151d39797400082f1d3971711d3925221d3976271d3970716b1d3979721d3924711d3971731d397920641d3971721d3922721d3925791d3924701d3922711d3925761d3924721d3923741d3925201d3920721d3927201d3924761d3979791d3971271d3927251d3920751d397070161d392724131d3927762a1d3925740a211d3922791d3924221d3925791d397176786d1d3923701d3920771d3979751d3925220b1d3927791d3923251d3920221d3927741d3970731d3924721f701d3970731d397023011d3920761d3925716e1d3920710f1d3920770a1d3924701d392327151d3927711d3970761d3925771d392372771d33131d3923722d1d3925731d3978241d3922761d3971751d3971741d3979751d3922231d3979781d3979701d3925781d3925221d3971271d3978701d3923791d3923771d3978771d3925231d392522721d392079301d3925771d3923711d392070761d3970226e1d3920771d397970781d3978756e191d3970241d661d3971761d3920701d392524241d3920232a1d3970761d3923201d3971731d3978231d3927781d3979251d3970761d3971271d3971221d3979231d3925256a1d397022191d392273727409721d3970793f1d3979741d392472751d3925241d3925701d3970781d397027391d3920701d1d1d3978221d3971241b1d392772321d3925741d3971231d39277977101d392220741d3971721d3925721d3971751d3978731d39787562201d3979711d3978721d392773671d39782027701d3925791d3927251d392473261d3970751d392425121d392275320c1d3920791d3920271d3922221d3970711d392478191b1d39707206207c1d3923742f2c1d3923711d392273702a1d3924731d3927741d3925271d3978711d3920781d3923782e1d3925241d3923733a1d3920741d397979751d3920721d3924761d39277364051d3927711d3979201d3976271d1d1d3971271d3923271d3922206a1d3924201d2f1d3925271d3927741d3925751d3927751d3970201d392074681d3922771800711d3922706d1d3927711d397972751d3978241d3927721d392579031d3978250d1d3925741d392725293f1d3970711d3927231d3971771d3920781d392474031d3927231d3924781d3978276f1d3924711d3920781d3971241d3924726e1d3971731d392374281d3922271d3923206c1d3970792f141d3927791d3927271d3927751d397923111d392423311d3925711a1d39242414031d3920240d1d3978771d397627221a12071d3923741d3924221d3925791d3927201d3925721d397972221d392227387d1d3971761d3924761d3971226e1d3924231d3922256b1d3920700d1d3924741d3922791d3920722c1d392776061d3922751d39237167011d39227007766a1d3978241d3925731d3979751d397025151d397177711d3927251d3970731d3970791d3924791d39257971221d3924791d3927761d397922001d392320071d3920711d3925276b7c1d3920766b6f161d3978231d3924771d392724193a741d3970711d3920202f321d397873251d3925711d3923231d397173781d3920711d3970781d3925783268681d3979791d661d3978251d3924251d3924761d39787879330c1d3927201d3923731d3979711d397822741d3923241d3922701d3922771d3922271d3923791d3925721d3922271d3925201d3924741d3920271d3922232667090f2b1d3923221d3979247b1e771d33721d392477271d397627751d3923721d3922711d392471731d3979231d3971731d397975251b791d3923781d392423221d3976271d3970701d3925751d3920201d3924741d39702429611d392778311d3924757f1f1d3920231d39227064011d3979221d392577691d3924791d3927761d39792334091d392577771d3923221d3979771d392579102f681f1d3925237e7c12011d392524711d3970781d39222337601d3925741d3920237b1d3920761d3925257f1d39202409363a1d3920741d3923251d397970281d3922767e1d392720693f0f241d3971791d3924781d392771091d3971791d3927701d3927791d3927721d3923251d392223651c1d3927221d3922781d3923731d3978741d3923201d3979701d3925791d3978711d3979201d3925781d3927741d3927231d3922251d3924701d3978701d397175311d39782069086c181d3923771d392276361e1d3971222d1d3924791d3922771d3979791d3922271d3924772c1d3978781d3979201d3978743d1d3979271d397627211d3924791d392220741d3922271d3927781d3978201d3979751d3922732a1d3920791d3925241d3971721d3927781d3927231d3920751d392376311d3922771d392570321d3922740d1d3971761d3927741d3927731d3970203a1d3979711d3970241d3922237d1d3979201d3922763c1b1d3925746d1d397877603b1d3925792e14191d3978771d3978251d3927771d39202500780f681d3979202d1d3923772d1332086a391d397075041d3925241d3978277c7e1d392479291d3971231d3920231d3978201d3927201d3979771d3971231d3923701d39707906111d3925701d3971761d3978241d397071001d397079251d3925791d3970761d3925767e1d3923271d3925761d3970251e1d351d3923761d3927201d3927791d3925761d3922791d3970771d3979762b1d392378101d1d1d397972331d3920781d3970257b1d3970781d3922221d3927711d39247620611d3924741b1d3927761d3922201d3970231d392778641d3920241d3923711d661d3922241d3923701d3970273a1d3979277c631d3971231d3923741d392375691d397127181d3971756d1d397971641d3923271d3979711d397023161d3924730f251d3978781d3927731d2f6f1d3970700c1d3922241d3502101d3971246c1d3920221d3927771d3978241d3976270d1d3922751d3923231d397822381d39792465301d3978731d392374376a1d3925781d3927201d3978741d3923251d3971711d3924701d3971241d3970701d3979741d1d1d3970271d397172781d3920781d397074701d3971777a1d3979276b1d3922741d392472361e1d3920271d3978711d3978731d392072001d3924741d3927751d392479131d3920791d3927231d3923271d3925790d1d3925270d1d3925722a1d3970771d392723641d397076361d39717379601d3923221d3920701d3927781d3925271d3925731d3922791d39202260061a1d3971221d3970731d39277170341d3970761d3978231d661d3922761d3922741d2f7e081d3924791d3923251d3923751d392527341d3927251d3971701d661d3971731d3979221d397975721d3978231d3922711d392575651d3922246f1d351d3970751d3971701d3970751d397872231d3971271d392327271d3978241d3924201d3924231d3927761d3978761d397074691d3978731d3923251d3979250d1d3920711d3970252a7f1d3970760d1d392370381d3970707f1d39222704017d1d392774171d397123021d3925701d3920767b1d3924716c1d3978791d351d3978781d3927756d1d3922271d3927771d392077271d397072221d3920751d3970246d1d3970751d3979771e1d3927731d3922761d3978731d3978771d392773221d3922241d392327161d3978721d3920721d3979723a07091d392778091d3922711d392025711d3925761d3923241d3925231d3922731d3925791e071d3970716d1d392725697f1d3923771d3924711d3978797e1d3920760a1d397973001d3927271d3924223b181d3927791d3971701d397920741d3979751d392476601d392775091d392776742a1d392479651d3922201d3920781d392271741d3976271d3978731d397875071d3971721d3971796322361d3979247b1d3971721d3978781d3978791d392025141d392025031d3927201d3922731d3925761d3923272a1d3923231d392479121d39247260261d3971761d392522001d3920751d397071231d3920201e0e1d397824031d3976271d3925236f131d3923781d1d1d392478781d3923251d3924731d3978721d3970731d392725041d3970791d3970791d3979791d3971231d3971771d3922201d397920347f1d3923791d392072723c331d3922251d3979731d3371301d3925271d3923201d392277091d3922736b1d3923767a70241d3978731d39717233671d392725111d3970731d3920771d397924371d3976272b1d1d390e1d3979771d3979231d397022171d3920751d3970762c1d3971271d3922781d3923751d3979731d3923771d397174791d3979731d3925761d3978741d3920241d3971701d3927781d3923791d3971701d397074671d3922761d397173651d3927731d39787874601d3971733f302b1d3920252f0c1d3978251d3922731d3925703c1d3922741d397871741d3970751d3979701d3978201d3924731d3971741731212d1d3923707e37121d3922241d3971701909190f1d3924221d3971733f1d3925721d3920711d3924701b7f1d3978201d392325101d3924747e361d3923783d1d3922231d3923251d3970271d3924781d661d3920241d33781d3970221d3922741d3925271d3925771d3922271a1d397025721d39787770721d3922711d3970701d3924712e02280d1d3927771d3927781a1d3924761d3923231d392371027f0c24613c7b1d3920791d3925781d3924241d3923701d3978701d3927231d3971791d3978221d666b0e1d3971741d3979241d3979771d3925751d333a6b051e1d3927791d3923711d3920741d3978221d3927201d3970791d397973161d3925706d031d3927251d3920221d3970701d392375286c1d397923041d3923761d3922221d3927231d3970771d397924311d392375377b6f1d3927721d392373272c1d3971241d3979760b6d1d3927711d397175066b1d3971720d1d3922233c1d3920251d3925731d3927751d3922222d1d3978781d3922241d661d3927711d3922201d3979201d3927201d3922773969707f1d3925741d3978791d3920221d3924771d351d3970741d3923271d3925771d3927771d3924771d3922271d3924701d3979731d3927701d3978797d1d3978783829773f1d3923701d3927751d3970231d3925721d3922791d3927731d3923271d392779781d3922221d39222075186a306c1d3925241d3925701d3925711d3976271d397123691d3925736f111d3920731d3979231d3922771d392527121d3927271d3927701d3924241d3970771d392224301d3979221d3978781f071d3922221d3924721d397072761d3920251d3922241d3970713d1d3923701d3979241d3925781d3920751d3927241d397970711d3924791d3971721d392020221d3970791d392370651d3979221d3924721d3927771d3970751d3924231d3927221d3925231d3922721d3978761d3971751d3927726f1d3978762e6137331d3927241d392476652e261d3971791d3927222f1d392520650c641d3971731d3927771d392322011d3971241d392223111d3927781d331d3920761d397876041d3978231d3925781d3923251d1d1d3970701d3927761d397872151d3979701d3925751d3979771d3925753f1d3971241d3924711d3923731d3923201d39797771121d397873272606081d3970721d3979241d666b1d3924221d3922271b7a1d3979701d3979741d3971227a1d3927731d392027791d3922741d3920761d3978771d3978781d397820761d3927721d3927731d3920251d3976271d3979773a121d3925201d3978771d3927701d3924221d3924271d3978706d330472381d3924221d3923741d3979741d3923726e1d3971271d392377111d39787479601d397179781d3979761d3970241d3978791f1d3922220e1d3979791d3922793d1d3922751d3924791d3979761d3920781d392571381d3923271d3924701d3970701d3979271d3978251d3925791d3978763939153c6b0312091d3978791d3923751d392574771d3924231d3978736b2a1d397970121d3923711d3922201e131d3970231d3922221d3925761d3923277c1d392527731d3920721d3922252677067b260d1d392470271d3922241d3925223f0e342d1b1d3979741d392770381d392320231d392275091d3979251d3925231d3925786c1d3927741d397073087569101d3920751d3979791d3978271d3922701d3979711d392277391d3979721d397922741d3924252c2e1d3978751d3923701d397173021d392778161d3924241d397971791d392324141d351d3920761d3925201d3923270f1d3923731d397973051b1d3979791d397827633c1c1d3978723d1d3920251d3970271d3979731d3979761d3970222a1d3923797f1d3924711d3923761d392372091d3924761d3923771d3927721d3978701d3920771f381d3924751d3978701e1d1d1d39782373332c1d3922711d392723201d3978241d397073291d397876711d3922751d331d392373091d392723771d3922721d2f741d392273701d3924231d3925241d397175141d3971276c641a1d392270301d3923761d392471601d3978731d3920701d3979701d3925711d3978741d3927751d397973381d3970251d3978711d3979781d3920251d3920751d3979251d3922771d3925767f1d3925771d3979251d3971271d3925711d3923221d392073141d351d3978701d3924701d3923751d3920741d3970791d3979701d3979241d3924271d3978771d3971771d3920221d3971271d3925741d3925741d392373171d3927751d392720011d3927721d3372702f0e201d392075221d3970791d397972611d3923711d3920731d3922241d392027611d3923771e0c1d3925231d3920791d3979721d3978716f071d3920701d392479151d3970221d3976276e641d1d1d3925791d3922751d3971731d3970701d39247339751d3970251d392370361d3970791d392523111d3920721d397925283f151d3922241d3925271d392523641b791d3971232a271d3923221d392078281d3978761d3978760d1d392775641d3978201d3970752b221d392527313f1d397071241d3924701d3925271d3970201d392578731d3978781d3922271d3971761d3925781d3927772a30381d3920751d3927731d3927721d39702319061d3923721d3978251d3924221d397973301d3922231d3976271d3924751d3927231d39207861141d3925251d3970701d3927241d397974731d331d3923741d3925752a1d3971731d392322161d3920231d3924781d3978751d3920751d3922221d392024231d3971731d3925201d392720141d392378761d3922701d3979273b1d39792333101d3920761d39202408071d392077151d392420171d3970231d3979201d3920251d3971231d39247870101d3979721d3924256e0b1d351d3970221d397820051d3979771d3970701d3923731d3978727d09061d352c1d392424133d1d3979241d3970761d3922791d39277421701d3920271d3920781d3970231d3925792f1d3970271d3925761d3925761d3979730a1d3927231d3970221d3971771d3979751d2f741d3978251d392379711c1d397973251d3978791b1d3923751d3925771d3971717b1d3978231d3924231d3971751d3971751d397972721d392377191d3927781d3924716b1d3924707d1d3927741d3920221d3978747d1d3924737b681d3920251d3920791d661d3920242a1d3925221d3920701d392325141d3927721d3925701d3923230b1d3971221d3979781d3922721d392727671d3924201d3920203210251d397875721d3922231d39707911651d39792734211d3971741d3979761d397923621d397123231d3925766b1d392574251d3979721d397174391d3970791d3978221d39242231081062751d3923251d3927250d1d3925771d3927701d351f1d3979741d3978776e1d3925731d3920241d3920231d3978721d3970771d3923781d392078011d3970271d392577721d3924701d392377782c1d3925251d3922761d3971750c1d3971761d3920271d3922231d3924751d3978711d3920751d3923251d3927231d3922711d3927771d3923771d3970711d3925781d3923201d3971221d3970721d3927241d397877161d3970791a2b2d651d3978777a1d3922791d3979201d392523111d3979751d3924761d3925701d3922251d3920711d3971731d3927242e1d3922751d3923771d3922231d3927221d3924257f761d3971731d3927761d39717662121d3970731d3920791d3979711d3925251d3979711d3971771d3927781d3971271d3923271d3970751d3970711d3927231d3922711d3970272a1d661d3922791d3922242b1d3979231d397024291d3922721d3979791d3922751d397922711d3920231d3920271d3923271d3927701d3971277b1d39222211201d397877321d3922791d1d621d3923271d392771651d3927787b1d3924781d3923781d392476351d392427291d3920757b21231d392272251d3978751d3927201f1d3924761d3922761d3927721d3971731d397027626c1d3979781d3922701d3922751d3922733824271d3920701d392772651d392470011d3925221d3927791d3923721d3925721d3920251d392423301b1d3924201d3979257f1d3970701d3970251d3927721d392722281d397073151d3978221d3923781d3927761d3978231d3923741d3923767d3a221d3925731d3922271d392077051d3923751d392420021d392379701d3927701d3923201d3925761d3979733063291d3923741d3920731d3920732e7d1d397924671d661d392072226a1d3922761d392525390f3d1d3920271d3920271d392323061d3970757c1d3924271d1d1d3970221d3970717f1d3927761d397973651d3927761d3923701d397974301d3927722a1d3970771d3925721d3927761d3971271d3922203f671d392073041d3979730a1d392022691d3978231d3924761d397176081d3922771d3923732238741d3922201d3979781b1d397123781d3923771d3970241d3979271d3925731d3927271d3922751d3979723a1d397825701d3971771d3971221d397873797e6f1d3925741d3924791d3978701d392375221d3920791d3925761d3978741d3924791c1b1d3920711d397075221d39277314701d392325181d3971231d3979231d3976271d3924766101311d3970781d3925200e1d3927711f1d3978761d3923241d39237513711d392371011d3924711d3922251d3922791d3924251d3922231d397174781d3979771d3925251d3920781d3978721d3927221d3923741d3925711d3971791d3925747d2f1d3923751d392074731f1d3923741d3920741d3925701d3923756f611d3970202d1d3924783a1d3924781d3978761d392324151d392071071d3978711d392022261d3922241d397172761d3978701d3923251d397073631d3927711d3971221d3925731d39222728611d3925781d3978761d3922771d3920782a1d3927781e1d3920241d3920770518301d3923221d3970271d392225241d3922741d3922771d331d3978761d3924252a1d3925711f1d3922251d3979756f1d3927231d3970721d3922791d3978252b011d3979271d3922271d3920251c1d3923277a001d3924761d3970751d3927251d397879351d3923701d3923721d3971771d3922781d3924791d39257923731d3979760f1d3976271d3927251d3923731d397173271d3978781d3925241d3923721d3923251d39257208141f3b0e0e1b1d397879351d392577781d392470341d3920701d3920241d3920701d3978761d397124641d3924781d3923240d1d3979791d3971741d397979261d3978710f1d392422611d3979761d3978793d1d3978741d3979771d392327380c1d3970246b6e1d3971731d2f1d351d3979241d3927731d351d3922731d3925251d3979741d392379616d1d3979721d397825151d392373751d3922201d397027381d3927741d3978751d3979797d212c1d392777051d3920221d392071691d397924101d3923741d3924701d3923251d2f7c1d3979751d3925231d3979712f1d3922701d3920231d3927771a1d3978751d3979230a1d3920251d3920771d392724111d3927241d3923221d3925711d392572301d3978201d3979721d3920781d397075681d3971771d3925791d3927271d3923247b1d3970246d1d392578076d1d3979201d3920741d3925711d3922711d392370721f6d1d392079327e681d392027692c771d3925751d3970791d3920251d3923221d3978753f1d3971741d3979781d3970231d3920271d3970711d3978771d3922202a1d3927231d1d1d3923792f1d3979271d3923761d392778001d3978221d3970731d3920791d397978741d3924231d3970731d3923706d231d3923223d6b1d330b2c1d3978771d3978751d3925221d3920711d3978701d3922230e6e1d3920721d3920791d3920230f26251d3922781d3927721d3925731d39707976360f281d3970751d3920251d3924731d66212a671d3927206f1d39272717011d3979781d3927711d3920221d392324330e1d3920771d3978763c1d353f241d397075281d3920721d392072190f1d3920761d397927091d3979256d1d3970701d392327321c1d397874141c1d3923201d3920761d397072231d3925721d3978241d3925711d3927703a2f111d3971701d3924771d3978751d3971243c121d3978771d39787731361d3922761d3925731d3927771d3924791d3978221d392576321d3927711d397173761d3979726b011d3927771d3979751d392371301d3923251d397970781d3925751d3978701d3922201d397627631d3971271d3927751d3920733a1d3920751d3979771d3920791d3920251d3927772a1d3922251d3971771d3920221d397078751d3923701d3925761d3978711d3978701d392323631d3924721d397825191d3922221d3924747e1d3924221d3979786d6f1d3927731d397920011d3927731d3979740d1b1d3979231d3922271d3923221d3920241d352a1d3970771d397078021d3920741d3971710f1d3978221d3927741d39252324731d3970251d3924741d3925781d3924771d3925701d3923741d397872611d3920251d3923761d3920721d3978773a1d397072681d3971221a031d3925201d3927741d3970741d3978221d3979231d3923741d3970711d392724780e1d3971271d392371077a1d3970200c051d392420712f1d3925781d397870131d3923741d3923731d3979791d3920721d3927721d3922273a1d392477291d392220031d3922770f1d3922201d3976271d3971231d3970731d392379241d3970761d3924731d3923771d3971751d3978711d3924751d3970731d3927276a1d397972311d3920271d3923251d397179131d3924721d3979251d3971731d3971751d2f1d3924221d3971751d3970271d3924701d3970761d3927761d3971736e1d397173701d3924771d3978791d392272201d3922727c1d3971221d3979271d1d1d3979231d3925721d3923771d661d3920771d397177121d3978761d397924361d3927751d397978311d2f061d3923791d3924231d3923241d3922761d3922701d3924201d39247272117a1d3978791d3927721d392279211d3979241f76141d392377741d3923231d3922201d3922221d3922236a6a1d392277221d3924241d3920741d661d3971746c1d3924237501311d392273151d392376100e1d3920221d3978711d35391c1d3970731d3923201d392522081d3979721d3970231d3978731b091d3920200102311d3923231d3922201d3971726e1d3978796c1d3925203a1d3979221d392570301d39222075227a02297c271d392320081d39277626140c781d3925781d3927771d3971221d39202702201d3927716c1d392725681d3970771d3978771e182f1d3978781d3927201d3970231d3925701d3923271d392772131d3978761d397976352e171d3920781d3925781d3922721d397920771d1d0b1d392025071303191d3970783d7c1d392424301d3927711d3923793d1f1d3927741d3979711d3925771d1d1d3970721d3923751d397820021d3925716d0d1d392425101d392770701d3971221d3925221d3979751d39257069050d1d392574391d3979271d3927793b1d3979771d3925781d3927781d3923731d3971231d3970771d3979721d3970781d331d3978221d39237278341d3971721d3925767e1d3920711d3920241d3970791d3920781d392779681d3971791d3924241d3923247b1d3979201d3920791d39247538231d3920731d3971711d3978700f1d3920771d3925251d3978741d350d1d397823091d392225191d3923730d1d3970241d3979201d39237172781d392770161d3925701d3978251d3924231d392322281d3922761d3978771d3979703a0f0f291d3923771d3923731d392078051d3971701d39707162791d3927711d3971221d3979791d397873681d3922771d3970241d3971721d3927731d3979741d3970240a1d39702510281d3979757869721d3923241d3925737c1d3922271d392220001d392270301d3923761d3925221d392322071d3924781d3923761d3979203c1d3924231d3927731d392573241d392776041d3970741d392722701d392720611d3920741d3925731d3978251d3922251d3927751d3925221d3927781d3927761d3922791d3924272d1d392076781d39222313333a1d3970221d3978711d3927221d3923731d3920763b740a07641d397977221d3970251d3979761d3925251d3971241d3979271d392375151d3920241d3970251d3923751d3971271d3920721d3971711d3979226e1d33740d1d3927701d3979761d392024776a240b1d3925731d3927701d3978201d3923711d3924741d3923201d3970741d3925202b007d081d3970226f7d1d3971271d397874311d392323081d397873027c1d3970781d3923231d3978736a1d3924791d3978761d3924271d3922731d3979792d1d3920761d3920201d3971701d3927791d3924791d3924731d3927721d3927722f081d397124351d3927241d3923760d1822061d3924797d1d397170321d39242211753c1d392379011e1d3920271d392475731d392779622a1d3925781d3925251d3924241d3920731d3925737b1c651d3923241d3927741d3920781f25681d3923251d3978761d3922741d3971731d392376651d3979243c1d3978781d3978771d3925751c211d3923761d3922221d3923781d392270241d3971231d3978711d3923232a1d3920761d397173241d351d3925271d3923781d3979741d3971741d3979761d397927220124601d397822191d3925231d392773631d3924701d3979741d3925791d3970751d3924781d3925271d392324071d397079741d392071201d3970751d3970277a1d3924721d392576276b111d3979231d3979761d3979237b1d3923761d3923751d3924241d3923241d3923701d3927791d3927731d3978721d3922221d392478011d397871141d3920761d3923771d3920701d397877361d3970771d3927271d392374611d3979701d351d3925241d3927251d3978773f1d3924751d3970231d3922711d3925231d3923241d3925721d3979733d211d3970781d3925791d3971241d392378091d3970711d3925241d3978710f1d397924121d3978271d3924222a1d3924256b1d3925721d3922701d3920701d39717062291d3924770e1d3979751d3927711d3922751d3979721d3923761d3927711c3f1d3920703a1d3979781d3922791d3978701d3923763f1d3970721d397174167b1d3978731d3920201d39257967061d3924231d3927201d3923751d3978251d3978271d3978751d3924711d392075261d392725221d392724786362131d397824360e301d3922741d3920741d3927201d3923763a1d39252463341d3978751d3978791d3922741d3923237b631d3923731d392022331d3979271d397920291d392323301d3925241d3927221e1d3927742b2f1d3925251d3970791d392571083a1d392376141d39717030351d39712261671e1d3922701d33141d3978236c1d392579712a1d3970700f2d31210e1d3979751d3923231d392777192b1d39227838691d1d6d1d3927771d397176232f1d39272035121d3970791d3979237f1d3925746f1d3927221d3970206b0f1d3924221d3923201d3922731d392571641b1d3922761d3924760e1d3920231d3970221d3920241d3920791d3920771e1d3970252c7c1d3920201d3925241a1d3922711d39762769711d3978781d397872083b361d3971231d3922251d39797727131d3920711d3923761d392771601d3927231d397170241d3978731d3925271d3924241d3920731d3922256a201d3927741d3971731d3927750a1f1d392470171d330c6e1d39797001741d3978231d3922202f1d3970221d3925761d39787533741c1d3978721d3979731d3970251d3979231e1d392524151d392524730e69291d3922791d3927782d1d3927233d1b1d392520371d3927711d3979231d3927793f1d3971721d39242570013a1d3925711d3979221d39252018621d3970771d3924201d3920751d3925251d3978251d3920731d397027091d3927251d3927741d3920711513781d39717779171a1d3978251d3923731d3920796b741d3920751d397170041d392727041d3970701d3922741d39782362381b1d397123601d3924231d3979246a1d3979251d3922251d3923711d3925241d3927241d3923781d3970781d39277176691d3920711d3924221d3970761d3922241d3978711d3924781d3979761d3925221d397124061d3922221d3922781d3970701d3978251d392527051d397075241d3924761d3922701d3922231d3971791d3970271d3927743d01121d3979251d392223641d3971791d3927791d3922741d3925787f1d3971241d3970246b1d3922231d3923271d3927231d3920731d3927206d0c1d3970703d1d3922251d392222101d3925701d397922221f1d3922761d3971791d3927251d3925221d3927731d351d392574031d3923761d3923221d392477682f1d3924241d661d3979250c753a1d3923761d3978257d791d3923741d3927711d39277036091d3927706e731d3925701d3978756a611d3924731d3927741d392527611d397127221d3922721d3923227d1d3924791d3920251d3920703c1d3924701d3979731d3923206d1d392073141d3971761d392020767a1d3922251d3924701d3924751d3978251d397820181d3971751d3971791d397976181d397876291d3920791d3925221d3923231d3924711a1d3927781d3920771d3978221d392323061d3924701d3978270f011d3920241d39257923331d3920221d3971271d3920271d3920731d3923231d39702277651d3978231d3923241d3970201d3970751d3978270f607f1d397176111f341d3979711d3924781d3922231d397127671d3924251d392271741d3971701d3979701d3922741d3979221d3920241d392477301d3925751d3925731d3924271d3925701d1d031d3978760c1d392775281d3920790d311d3920701d397627071d3923791d3923221d3920231d3924701d3971741d3978240c1a191d3925251d3920792b191d3971711d3927741d3927731d3922711c641d3978791d397871751d3978751d3971741d3978221d3971771d351d3924231d3920711d3922726e1d3970781d3970271d397127313d1d3979271d3978241d39712411306c091d3924721d3979777b2a621d3924201d3922701d3979741d392270381d397024321d3970741d3922781d3924271d397071261d3971791d3922241d392472691d3922721d3978206b1d3979793b1d3923242d327e1d3924252f281d3923770433021d3924781d392073171d3979231d3970741d3979751a701d3922791d3920271d3978791e1d39207328001d3924721d3925271d3979751d3927241d3979740d1d3924221f1d3978791d397975630a1d3924787f1c721d397970331d661d3971711d3979701d3925741d3922781d3920721d3922771d3923251d3924721d3978711d3924221d3922731d3925231d3923771d3925252a1d3922731d3971227d6b601d392372071d3925271d3923751d3979221d3971271d3922721d3971231d3924271d3927201d3978761d3923231d3920771d392476023b1b1d3971701d3920271d392073271d3922701d3920221d392070381d392772771d3925781d39237968681d1d72051d3925711d3971791d3979231d3978741d3923731d3922220b1d1d1d3978731d3925791d3920231d661d3927721d3927250f1d3920701d3979231d397925051d3927231d392327041d3978736e1d351d3971271d392771121d3923781d3970711d3970223c1d397124071d3971701d3924251d3927231d3920797f301d3923741d3922791d3979201d392327131d3925731d3922731d3927711d3978751d3979221d3927741d397824331d392427071d3924781d3927701d3971241a1d392374181d3979721d3971790f15101d3927771d3971771d3920221d397975671d3922761d392078091d3970760b1d3979251d3922791d3925761d3925781a641d392425681d3979741d3923780e1d3927231d3971711d392225201d3924201d2f1d3978781d3970231d392725651d3927221d3924231d3923221d3920271d3979741d3927771d3970231d3927271d3979771d3970201d3922223b1d3978271d3920701d392222361d392074211d3978241d3920200b1d3971221d3924701d3971222e1d397025381d3920221d3922731d3971701d39222212101d3970780c1d3924791d3924701d3920751d3971711d3920220f05241d3920750c1d3970231d3922781d3978711d3970711d39257719737f1d3920226f1d3922721d3923763a281d3925243f1d39787434231d3923221d397070133d1d3927771d3927741d392771391d3920202c181d3978731d3978761d3978751e1d3927721d3970221d3979241d3971221d3925271d397875681d3979770c1d3970723c1d3970721d397025686a1d3970221d397176101d3970271d392274741d3927771d392475151d3927251d392277071d3920270a101d3927791d3970731d392322121d39232316171d3927791d3922241d3923711d3978253f1d3920251d3924271d3920711d3922711d3979221d3927756a1d3971731d3920780c1f0e1d397878651d3923241d392074041d3978781d39207139087a1d3923241d3979251d3923771d3923241d3970761d3970701d3971241d3920722022621d392020071d3923271d3923201d3922761d397822331d3978251d397027771d3971761d397976141d3922271d3924761d3971761d3925761d3922791d3923221d3925761d3924731d392374351d3979731d3922781d392374181d392727141d3923270d7c241d397870061d392372681d397074761d66071b1c1d392274707e1d3922201d3970221d351d3922771d667e741d3978791d3979781d3924762d1d3923791d3922241d3970791d3924241d3920201d3925771e1d392075101d3923231d3979271d392272701e1d3923731d3925732a1d351d397971221d3924761d3920201d3924706e0f1d3920771d3920201d3923751d3971741d3979241d3922241d3978221d3923271d3927251d3927781d3927241d2f737b1d661d3920711d3923771d3927271d3924251d3927711d3971231d3970246a2e1d3971711d3970701d3978271d3927701d3922701d3925240d1d392470751d3922231d3924711d3925251d351b630e111b2e3b1c1d397022191d3925221d392522601d39252478321315351d3971701d39247027251d3970231d39707736743c291d3920271d3924792b1d392379730a7e1d3927771d3927753f351d3979722b37131d3922761d2f6c1d397922731d392577151d3979791d3924761d3971231d3924781d3923221d3927741d3970721d661d33341d3927221d3923241f1d3920746d1d392273371d3927732a1d3924251d3971232e631d3927241d39257627021d3979721d3922733d262b1d3922761d3920730d1d661d3927761d3970732e1d3971771d3978753f1d3979771d3925702f1d3924721d3924706364131d397179031d3925771d3923711d3923271d39707478221d392278041b1d3924221d3923790d752a091d3922701d392278171d397927111d3920761d397977220c1d3927711d3970793a1d3971751d2f12671d3970701d3922243b1d3924711d3920731d3923251d3925777b1d3925787b1c1d3927201d3924230b1d39232723681d397927791d3970741d3920711d392276361a1d3971221d3925721d3978741d3923731d3978720d1d392571691d3927751d3970201d39257471751d3922251d3979711d392272142d1d3923711d397074351d3925781d3922791d3971751d3978271d3971711d3971731d392270221d3978747e1d397077341d3978247e6e2a691d661d1d1d3971701d3970781d392079111d3922741d3925761d3925761d392727171d3979251d3922711d3920226d1d3922201d392075707d711d3978231d3979771d3922271d3923711d3927231d392775641d3925221d392078001d3924771d397176651d3920761d392570071d3923731d3923743b221d3978221d3979751d3924737a1d3920721d3925741d3927741d3920711d3927781d3970771d392471161d3927776b251d3925741d3924251d3924741d3920781d3971711d392377611d3979241d3924251d3970711d3970753d1d3978201e1d3924711d3920751d3920251d3927721d3924771d397022311d3979760a1d3924241d3924241d392220341d3922741d3970221d3979241d3923731d3979253c1d397823701d3979751d397023681d3925717a1d3978221d3925221d3970741d392477041d3927731d392522031d3979771d1d073d33101d392074741d3923271d3924781d3922741d3970241d3923771d3971241d392020733217201d3925701a1d3925771d3920271d3925761f1d392423611d3924251d3922251d3923251d3920251d3923731d397927281f0d34151d39257201733b1d392727771d392779211d3925721d3927231d3971741d392024361d392574321d3979731d3970201d3924790836061d3922221d3970791d3924223a1d3970253c1d3922781d351d3922721d397175161d3920741d3920787d1d392323067a1d3978221d3979231d392522001d3925711d3979761d3971241d3970701d3927221d3924241d3924201d3971701d3920791d3925731d3924231d397023371d3971761d3920791d3971731d3924271d3924252a1d3927781d392723790c1d3971723f1d3927781c1d3922731d3971701d3924237a1d39227126781d392527762d271d3922771d3922701d3923701d3923761d397174771c1d39717229111d3979737c1d3922751f6d12351d3970701d39702526331d3927761d3922751d3979711d3978751d3922791d3927711d3925741d3970791d3979712a09171d3979746b1d3979760d1d3925703f1d3920221d392324681d3927241d3920271d397074781d3979781d3970761d3923751d3922246e1d3978751d3925241d3970243c1d3922711d3979761d3978771d3920761d3920787e1d397024601e1d3927741d397973791d3923761d3927711d392079281d3922731d3978791d3971231d3971271d3927750567162a160d001d3970251d3922711d3978731d3925731d3978731d3924791d3927756a1d3927251d3979231d3924251d3970731d3979751d3922241d3925231d3971707d1d392574761d3922231d3922770c1d3924221d3979731d3970241d392071621d3923757f1d3927711d392025161d39782721101d3920241d3925241d397823626739091d392774281d3925271d3922701d3923701d3970721d3925791d3971741d3978721d39207309031d3971791d3978231d3971771d3922271d39792202641d3927710d1d3925241d3924731d3923711d3978251d3971723b1d3923251d3970701d3970737e1d3924241d3971711d3971757f1d3979241d3924701d3925741d3927751d3920231d3971221d3924221d397872361d392079321d3920791d331d3978221d3970251d3979271d3979791d3978771d3922721d3927231d3925231d1d0c22786e1d3971741d39717715311d397977176c1d397973271d392427041d397970361d3920201d3923731d3925271d3925701d3923711d392575601d3923761d397174640c73323d1d3920731d3970737b1d3970741d3970716c6c1d3923231d392474631d3970711d3925201d3924771d3927701d3971741d3971751d3976271d3978711d39712225056e1d3979771d3978231b1d3978771d3920721d3925781d3927271c1d3922781d3924761d3978221d3978743b1d3978781d3927741d1d261d3920231d39272218681d3922251d3970761d3979731d3920251d3920741d397924691d3920203810017d1d39257621781d3927721d392527731d3971726c1d3979221d397873011d3978761d397827281d3978711d3970201d3922276f7f261d3978731d3970741d397022382f1d3979206d731d3925711d3925247f1d3970721d3922743a1d3927221d392078191d392474081d3970241d3927781d3922791d3924711d3927771d3923721d39797722061d3923791d3925231d3924721d397975681d397874690c1d3979221d392722121d3979251d392225191d3920251d3978751d3979221d3924701d3927791d3922721d3922791d3976271d3978221d3923220e1d351d3920797d1d3925251d3978741d392423201d3979231d3923271d3927241d331d3970771d392577331d3925241d392722261d3920201d1d1d3923711d3924221d1d1d3922731d3978221d3925791d3979740a1d3971231d397072371d3924787d1d392373071d3922771d3927751d3923247a3d1d3925751d397979231d3920731d3920791d392079692f1d3979241e1d3971241d3970271d3920790d211d3979241d3924731d3925781d3920711d3922711d397873741d3923711d3925750d1d3979751f1d392079381d3923751d3923271d3923741d3927751d3978221d3978713f1d3978761d3925771d39797221741d3927791d3922751d397922741d3927241d3920731d3979701d3971231d392270081d3925241d3927721d3925791d392424091d3925231d3927241d3979781d3922746b1d397170191d3922701d392022711d3922751d3978711d3920701d3971721d3924701d3979201d3970721d392276651d3979241d392076051d392574101d3927230a1d3925771d39792502321d392376691d39237365631d3978771d392022071d3978767a1d1d1d392277281d3923247d301d3924271d3920781d3925791d3978241d3924201d3923231d392475351b271d3978241d661d392073223c677f242f721d392479381d392522111d3970731d3924221d3978781d3927711d3922721d3924731d397079631d3924252e371d3979241d3971711d397071031d3978711d3927731d39707602347f611d3979241d3922783a1d39792217011d3923741d3978221d3924271d3922731d3927721d3922741d3924781d3978791d397072311d3927226e116c371d3920771d3927791d392020371d3923771d3925781d3924201d3971741d3927251d3978731d3927201d3922201d3978231a151d3978791d397870121d3978791d3978721d3971751d392027697b1d39782023001f1d3924731d3920721d3925251d3925721d3923701d3925717e671d331d3923771d3925781e71220d1d397974601d3979221d3920201d3970771d397972070d061d3979721d3925761d3979231d3923701d3979781a1d3978731d3978200a1d3970251d3924710a0b7f1d3970201d397078272b1d3970771d3924252e381d3978251d3979201d3924270b3f750d001d3970231d3924761d3970241f15030d1d3970791d3971701d3927791d392473227f1d3970761d397022651d3970750b1d3920731f3032237e1d3978701d3927766e201a1d3923271d3979777e371d3923771d397071681d392778711d3970791d3979781d397171063f1d397174111d3979771d392225181d392074651d3924741d3924791d39792577271d39207412151d3970731d3922231d3925781d3922207f7f1d3971221d3924221d3920791d392473311d3925791d2f091d3970741d3970701d392473071d3978761d397173381d3922731d3970221d3979251d392224241d3971741d3971241d3923791d3978761d397878031d3925231b691d392524181d3978766174061d3923791d3978753d1d3978791d3927242d1d3979741d3923771d3924701d3924221d3970771d3925767c1d3971761d3978701d392072131d1d39381d3979726f1d3927251d3920771d35706b1d3970711d3927251d3925251d3920731d3924791d397825321d3970231d3971701d39242579061d3922791d3979741d39272329211d1d321d3923791d3978760f75113f381d3924271d3979721d3924271d39707163111d3924711d3979766c1d3978231d3978701d3978781d397122681d3924721d3927701d3970221d3920221d3978701d3927231d3925271a1d3979221d3979241d3920231d3925791d397977213a673b1d3920753f2c1d392227111d3922711d3927221d3978791d3978700c2a621d3927231d3979251d3976276a1d392022771d3979271d3925271d3922751d3924201d3920201d3923731d3922701d3979221d3922721d3976271d3927231d3970706b1a601d3922231d3923791d397122731d3979761d392573761d3979771d39222335061d3920731d392272011d3970251d3920781d3978231d3970761d3970761d3925232f1d3970732c6a1d3923751d3920791d3978751d3927791d39257260671d3979701d3924251d6618091d3927751d3925711d3925231d392222021d3923741d3978721d3923271d3922241d3924771d397070351d3922791d3971241d39257111111d392074183a1d392223611d392422371717331d3922781d3924781c1d3924791d3920791d3971726f150b1d3970781d3970701d3922721a1d392423371d3978721d3924241d3927221d3970751d3924741d3971271d3970727d1d3923711d3927231d397075601d3923751d3970751d3923771d3920721d3924201d3978221d3924251d3920251d3927251d3970711d3979791d3924241d3978241d3979701d3971711d39797979721d3922741d3970231d3978751d392575111d3979231d3970222e1d392422250e6f1d392222761d39222037021d3920761d3923241d3923241d3922271d3979231d39797225132c011d392322001d392027601d3971731e1d3922241d3970271d392577253326361d3927741d3925761d3920221d3923722a6a321d3922791d3923731d392478161d3979241d3923791d3922731d3971741d39707004336f1d397972151d3970201d39207812171d392479101d3927251d3970702b7d0e1d3924761d3978221d3979241d392779261d661d3970761d3923223a1d3920741d3923221d3924251d3978741d3924233c2d1d3924771d3924741d3922201d392520133b1d3922771d392474741d3922791d392379001d3971751d3978201d3927731d3971721d3970231d3922721d2f110d1d392273601d3927731d1d1d39797603601d3923271d3970241d3925251d3924251d3979251d3979701d3924751d3979781d3978741d3923731d3922720d1d3971241d3971231d3923717e1d3923731d3971741d3970731d3970791d3923201d397077141d3927773a0b1d392070701d392474151d3927781d3970731d3979721d3923731d39247712771d3923251f1d3924761d3922751d3978251d3976271d3978701d3922250d1d392772351d3978711d397825721d3925761d3927711d3920201d3970791d3922201d3925781d3925221d397878091d39227739391d3923721d3979251d39232228161d3970221d3927251d3924751d66211d392422011d3920781d3923740f102a1c1d3971752a1d3923257c6a1d3923761d3923201b211d3924741d392779241d3927243c1d3970221d3924761d397972651d3924781d3970701d39277170101d3923751d3924741d392073781d392079021d3927781d3978251d351d3920771d392778001d392476241d3979781d3924741d392025131d3925781d3920771d392325641d392770771d3922771d3927221d3924751d3925701d3971751d397871081d3927781d3927767c0b3c1d3978223d061d3923241d3923751d351d3970222e6e1d3979271d3927791d3978231c1d3922721d392520121d3976271d392420181d1d1d1d1d3927741d3922272c2c191d392570011d3978711d3978271d3927271d3927253b36061d3979271d3971711d3923761d397022651d3978761d3979231d3979711d661d3971766e1d3920721d397827282e3f1a1d392578251d392372251d392224721d3979791d3970771d3978721d3923731d397174616d02141d3971231d3927221d397123180e371d392224021d3927241d3927751d3979221d397022311d3927271d392522161d3978721d39222515081d3927251d3924233c7f0e2b1d3927751d392770161d392771761d3979251d3927787f1d351d66651d39272021381d3923701d3920221d3978791d3924221d3979751d392479281d3927703321201d3922241d3978241d3979700d1d3927252c360b1d3978721d3979221d3927231d3978700c7427771d397820201d3971731d3920201d3923731d3925771d3923221d392070212a1d3925770a1d3925721d3978751d397870681d3927701c1d392425301d3923221d392323391d397972777d1d3924221d39717907051d3927731d3923791d392777721d3923200b1d3925701d3923701d3922221d3923781d3979701d3925241d3923751d3927221d3920741d397127321d3978231d39227139370e1d3971791d3979761d3971751d392573781d3924732b7a1d3979711d3925221c1d3922731d3922741d3970777e0f2b1d3970201d39242400781d392579771d3923241d392572691d3925741d392220101d3927781d3976276d1d3920741d3923231d351d3924721d3970711d3970791d3922271d39222405761d392376033305621d3970771d3923701d3920731d3970221d3979721d3924201d39252332031d3978201d392724171d392276640b1d3924251d3927771e131d39277304311d392373341d3924791d3970761d3971796a73760e0e1d397175011d3978201d3923231d3922757e391d392371681d3979221d3924251d397127381d3923207d20691d392524121d3920221d3922731d3970780a1d3925741d397824381d3970761d3927781d3922791d3922771e1d392579173f021d397976617f1d392278351d3923271d392422101d3978791d3970251d3970791d3978713b0d1d3979251d3927701d3971791d3979247b2c081d3922721d331d39227205171d3971711d3927771d392379691d3924701d397922321d3925271d3971793d3d1d3920720d07291d3978731d3922751d39272068051d3979727f001d397079081d3927201d392276271d3971241a1d3927270c6b1d3920721d3971271d3976271d392473131d3923767c6c1d392025767c1d3978251d3971231d333b1d3924792d1d392775621d661c621d39227433311d392223251d3920741d3970781d3970771d3970716e1d39277163311d3923231d392776781d397824151d3925251d3925737c1d3971231d392371361a1d3927221d3927251d3970733c1d392578656a1d3922761d3922721d392577071d39787560031d3978701d3924731d3971711d3923781d3971241d397825141d397077771d397022331d3924776d1d3979771d397022761d3927231d3979751d3978701d397078071f1d3924761d3970702c3a0a1d3925722a1d3970221d3979721d397820111d3970711d39257503081d39707519061d3923791d3979701d3923711d3927711d392724256c1d392070001d39232300207d1d3927711d3920221d39227475142e6209381d3978791d3923781d392570241d3925201d3978771d3970231d3978731d39247136381d392379701d3924231d392779286b151d3971731d3923756d1d3924721d3922701a1d3971230c1d3920251d3924713b160e271d3922251d392771731d3927201d3978256b1d3923201d3979241d3924731d392071161d392424651d3923201d392720081d3925761d3978201d3924751d3925221d3971221d3923791d39227911321d3927767a311d397924101d392777251d3976271c182838061d3979761d3970771d3920791d3920221d3924741d3925791d3923741d392427201d3971701d3978721d3922231d3923741d3922251d39202019311d3970791d3925721d3979241d3970221d3927231d66201d3924712a1d3920231d397072181d3920761d3924791d3925221d392524681d3979257e1d3978751d3923726d051d392775371d3970747b1d3922251d3979242a141d3922781d3927731d3920771d3927753a1d3971231312351d3978711d3971721d3922781d392523621d39237668771d3922241d3979751d3970271d397076640c260b1d3970751d3920203a1d3923233b1d3971711d3925761d3925701d392775291d3970701d3927231d3978711d392077221d3923781e1d3979791d3922771d3927271d3922201d392471741d3925791d3927221d392027151d3927741d39222072351d3970781d3920741d3925741d392375751d661d397122631d392725601d331d3979231c1d3978241d3970761d3979233f1d3978221d3925251d3920721d3971721b1d3978721d3923761d392479091d3925711d3927771d3970731d3927736d32391d392274011d3923762c2b1d3924791d3925203c6d1d3924721d3923201d2f1d3920271d3924761d397877001d3978221d3979761d392223733c1d3920731d39257205771d3970251d3925712177071d392276002c721d3925271d331d3971771d3927271d3979761d3979232b3b1d3979231d3979231d3923761d3925761d3978781d3922221d3978231d397023301d392075261d3970201b1d1d1d3927720d1d3978201d392275710f011d3971761d351d3924761d3970221d3925761d392072371d3923231d3970251f1d3979201d3970221f1d397879081d3927761d3978731d3924751d3978761d3970700b1d39247014131d397171361d3923771d3970731d3922741d3979741d3923231d3922251f1d3925796b1d3924781d3924781d3924740e1d3925241d3927761d3923721d3922241d3978240f1d3971771d3978761d3970247c1d392224191d397875091d3924731d3970771d3927711d3923231d3922231d392323702a1d392575000f1d3970771d3971720b041d3978201d3924201d3923271d3923731d3920271d3971771d3920741c1d3978781d3979711d392374131d3920711d3979721d3922731d392279111d39277263391d3978721d3927711d3925771d397822171d3924751d3920221d3925241d3970231d3927231d3971241d3927741d3927702e202f1d3927231d3925201d3978701d3978201d3970711b1d392024641d3924751d3925231d39797106341d3970241d3923751d39242013152703631d1d1d39257520761d3920741d3979751d392325671d3923791d397177241d3924231d3927250b1d3970763f1800261d3979721d3979251d392575651d397876341d39787406781d3925221d3927761d3979251d397820231d3925781d3978771d3925771d3920771d3978751d3971721d3924231d392227261d3920711d397077741d3927271d39792326391d3971721d3924201d397177303f031d392776097968000d1d3920761d3978732f1d3927241d3970201d3978231d3925231d3920231d661d3979711d3978251d3920792a1d3927207f1d397872141d3970741d3920231d397927091d39237668641d3970252a1d3927741d397978721d3923761d3970791d3920721d3923741d3922771d39227337381d392520221d3920776d1d3922791d3920271d3920711d3924741d3971751d3927741d3922771d3978741d3920271d39702215181d3971241d3927711d3923201d397179113a1d3925743a39381d397123681d3971221d3927701d3970761d3925271d3924706b1d3978241d39717360301d392523121d3971791d3924791d392724081d3927741d3927231d3924771d3970221d39257524380e221d3971791d39797061241d3971711d3923791d3927771d39787713051f1d3923271d3920761d3970231d3920771d397071071d3979751d3971221d392720251d3971741d3970701d3923711d397124671d3924241d3970201d3923221d2f00101d3927701d3922221d392571721d3925761d3924716f1d3970791d3927711d3970796f1d392476027a7a2c1d3970731d3971721d3927771d3979741d3927243f1d3978721d39237778231d3971731d3925790e2f1d3978201d3920751d3924251d39252003626f1d392472031d3927761d3924257e253b1d3979731d397920161d3970711d3978251d3924776d1d3924751d3925731d3924201d3970711d3924771d3923781d392325211d3924791d3978741d3970743c1d39717479121d3978201d1d691d3979271d3922207f1d3920251d3923761d392475001d397976370a256d1d3923721d39227578716f35617b111d3970761d3979741d3920251d392077271d3927221d3920201d392720187e1d3978701d3970751d3979771d3979791d1d7e1d3925741d3924741d3971741d3923751d3923761d392279171d397925311d3971231d3924271d3978791d3920791d3925251d392370001d3925231d3920271d392425750f3536341d397823121d3923781d3924231d3924251d3925741a1d3976271d39257664761d3920241d3971791d39222039101d3971771d3978781d3970701d3979711d3923730f1d3923761d3927721d397171301d3971761d3923701d397170151d3922771d392525761d3978236d1d1d1d397027021d3920221d3978271d392524011d3925721d392425751d3924251d3923707a1d3922780f6f1d392775141d397924751d397979291d392027011d3979201d3922791d3924251d3922761d39797116197b1d397122241d3979781d39252203631d3970231d3970221d3925701d3971711d3925711d3925701d392022101d392420196323321d3971721d3920242b1d3971731d3924731d3924701d3970241d3920223c1d3923221d392076651d3978761d3922241d3979791d3970231d3922771d397072261d3922711d3922271d39232079251d3923761d3979241d3925721d3920251d3924781d3924221d3970741d3922791d3920711d3970271c0e1d3925760b1d3971741d3978221d3922761d3922221d3970771d3922781d397027671d3922731d3922201d3920741d3925241f1d3922241d392572601d3927241d3970701d3979791d3970701d3923241d3923251d392770311d3927721f1d3923781d3978761d392075360a701d3970761d3971791d3978776c631d3924201d392779267d1d3971771d3970231d3978741d3920251d3970721d3979273f6a1d39247075781d392220131d3925771a1d3923221d392075277a1d3927751d3927231d3925271d3978271f1d3978731d352e1d3923720b1d3978712c0b1d3922253f1d3922231d392424231d397179181d3920201d3978771d3923730c7f1d3927721d3924277f1d35151d3924241d392225271d3924761d3979201c371d3922781d397822271d392577741d3970231d3924201d392727231d3925721d3979701d3978251d3925731d3920201d3925241d3922701d397627391d392379741d3927751d3978761d3976271d3927221d3927251d3927701d3923741d3978741d3970720d1d392327341d3976271d397976213b1c1d3925247d0c1d392525691d3923732f111d392420251d3924201d3922701d3927273f701d3971791d3978791d3925791d3970731d3922701d3923221d392479331d397873111d3923251d3978711d3924731d3978241d3923201d3978741d3979271d3920721d3978221d3978706a1d3923781d3971741d3927231d2f391d3979796e7e1d3971231d3927201d3923791d3971791d3925701d3925781d3927751d392471071d3970221d392379141f17071d392773091d3924711d3971731d3922741d3924751d39202574701d3920781d3971711d3920773c1d3978221d3923742d1c1d3971247c1d392727031d397822201d392471331d3925743a2a7b1d3924741d3979731d3978721d3923751d397172202c3f1d3979717a1d3922221d3978741d392223711d3923711d3920787e1d392222030e1d3925741d3924781d3924231d1d1d3978201c30341d3971711d3925731d3920711d392470271d3922250a1d661d3970221d397124121d3970711d3970251d392425711d3971751d3971731d3979701d3920201d3978711d3925271d39207119181d392074691d3920201d3925231d3925701d3925721d3970751d3924721d392370280d1d392424211d3925790c1d3927776e1d3979231d3978721d3925241d3920717a1d392525361d3924711d3979721d392276781d3927231d3920781d397020111d3925251d3920761d3922231d392078071d3922711d3925226e1d3925751d3920771d2f1d3922201d3979221d3970781d3922791d3979751d397975702a781d3978731d392327721d39202707151d35081d3925276d1d3970731d392727281d3970781d3922711d3924732d1d3923251d397870241d3927701d3978771d397023681d39242223333b1d397027771d39702325673d1d3924271d392276737b1d3924271d3923701d397822271d3971701d3978711d3970721d3979711d3971751d3978231d392072131d3923781d3970731d39227520221d392720201a1d392023061d3927731d3979781d3927271d3925781f1d1d1d397978341d392779341d3970761d3922792b1d3927231d3923751d3979251d392778741d3924731d3922711d3979701d3923271d3924736e1d3925781d3927221d3979711d3979781d3971731d3927791d3923701d392371091d3978201d3970277816731d3922271d3924701d3924761d3970771d3927731d3920251d3922206e1d3970241d397023332b260309656d1d3924231d392374251d3970796d1d3971231d3978741d392379353b02097c1d3978201d397873311d3971702b761d3979707e212e721d3979731d392424787d73191d331d3979757e0f1a1d397879221d3924751d392271366a1d3927251d3970201d3971721d3920752d1d3979701b1d3925271d3923791d3924231d3979711d3920731d3970221e7f201d3970781d3979721b29131d3978271d3925221d3925201d397972381d3922221d3922241d3927201d3922221d3920730c1d392423381d3920701d3970231d39782562221d3970251d3979756d0e081d392271611d3923751d3922231d392078086b1d3927741b1d397027033b28001d3925761d3922701d397175151d3922711d392474741d3924721d3979742c1d3978271c1d3979731d3979731d3979701d3927252962701d3970231d3920221d3925741d397070711d3971741d3924711d392373091d3920750f1d3970241d392570171d3978221d3971751d3920771d3978781d3924790d1d3978781d3970721d3978721d3925701d3922251d3925201c1d3924742e1d3924221d3920701d3923231d3927751d397920721d3925276a281d392275721d3924741d3978731d3971751d3925251d3971741d3920700a1d392776141d3970271d39237872633f0b2b1d397927210b051d3970241d3971271d3927251d3979761d3922221d3923701d392023390c1d3924761d3978201d3925201d3927741d3978731d3925242c1d3971711d397975211d3970761d2f1d392425381d3920251d392720071d39797962281623281d3970751d3927221d3927717f1d3970721d3925781d392371121d3927251d3927201d3970771d3927241d3923751d3979747d711d3924786b3d621d3971791d3927706c1c1d3923271d392424681d3970721d3970251d3922221d392771781d3925791d3920701d3927711d3923781d392078071d397820201d3924201d3971776c241d3927221d3923761d3979271d3971271d3920230c1d39707802311d3920251d3922721d397172381d3979761d3927791d3979221d3925251d3970721d3970231d39237310740f1d3920723f1d3978201d392570731d3927701d3927781d392027280c221276341d3927766f1d3920701d3927271d3979711d33017d1d3927711d3925781d3922741d3970771d3970721d3924251d3924231d3922271d392220351d3970741d3978711d39277567167e1d3927701d392275756f1d3978721d3922241d39707379051d3924791d3979721d3922711d3978741d392075311d3925701d397024041d397025021d3970271d397870731d3979712d1d3925751d3920241d3925231d392527131d3971771d3970231d392475201d331d3971766c171d3970231d3920201d3925241d3927761d397124721d3924721d392475361d3924221d3927711d3923761d3922253a1d3979701d3920741d392324751d3925271d3970731d39252029081d3920731d397074141d66371d3923201d3971701d3925781d3920721d3923741d3970776b1d3924741d39717419316f1d392477051d3924720d772b1d392579301d3924721d3925781d3978272d1d3971741d3924721d3923241d3922711d3927701d39227919341d392773751d3970761d3924221d3923241d3922271d3971221d3927221d3925723f1d3924791d3927231d3920771d3927721d39247674601d3927246d1d392270071d3979271d3979791d3978706c1d3979231d3970221d3923251d392024711d3978781d392779791d3927703810327f6a04711d3927250a251d39787802251d3925731d3925743f1d392476381d3927761d3978741d3979201d3922271d3970761d392279201d3920777c1d3924221d3924221d39202361391d3925701d3920741d3970701d3979251d3927771d3925762f291d3971241d3927711d3971246e1d3924751d3970241d3970231d3920771d3925251d3924231d3923711d3927201d3925701d3922771d3924202b1d3979271d397122683d1d3920221d3924711d3924751d397176031d3970221d3924241d3979201d397925271d3927781d3924221d3978741d3925703a1d3922701e1d3978771d392378221d3922780e1d3920721d3979241d3971241d3979766a191d3920721d3970251d3971271d39707535771d392423331d3923756a1d3970741d3971741d392327017e201d3922201d3979741d3979767e611d3978231d351d397924331d3927251d3978711d3922252c1d3979751d3978731f231d3927741d3978701d3979722e2b1d3925701d3925731d3922200b1f1d392322241d39797371731d3920221d3920221e040a617f1d3927747d1d3924201d3970271d3971797b1d3923757e1d3927741d351a1d3920791d3927246c641d3979760d0d1d331d3920761d397920231d331d3923701a1d392520081d3979251d3924740b0c1d3927791d3970711d39717138191d3924241d392722681d3978201d3923761d3927741d3978251d392325246b121d3927701d3924232c3b1d3979231d3970241d3970241d3978721d3924233d1d3978761d392275796c09141d3925771d397824091d351d3924272f1d3927271d3971791d2f1d3978776c1d392071081d3970701d3920731d3924241d392078241d3978751d3923256d1d3922771d3979781d3978791d3971731d3922741d3976271d3971741d3922791d3978230b26351d3922742f1d392473621d3924781d3971701d3970251d397124221d3976271d3923731d3978721d2f1d3927751d3922742f7a1d3925701d3920721d3970231d392277732f1d392778121d3970702d1d39247816101d3927711d392275271d3978231d351d397873641d3971762b161d3923241d3922796d3d1d3979271d3971241d392227211d3924771d3979741d3922731d3923721d3924707a2d1d3924721d3979711d392477071d392570702f1d392727311d3924751d3924761d3927721d3978761d3924241d3970241d351d397978341d392575391d3971741d3970221d3923731d3920741d3978791d3925700f2e1d39237834366c6c1d3971751d3971223b0e1b1d3970746d1d3978731d3976277e1d39272416081d3979251d3923736e1a1d3978761d3922271d3970271e1d3927771d3923221d3923732b1d3971701e691d3920221d397179240571641d3971722d616a1d3922231d3925797c1d3925761d39207332301d3920731d3971271d3927741d3925782b1d3924242829211d3923791d3925221d3979763012781d3922721d3978762a1d3927221d392722081d3925221d3979741d3970231d397976341d661d3923731d397123037c1d39277909341d3920761d397070251d3923741d3920771d3927737d1d3922271d3971731d3978721d3970241d3971221d3923751d3923701d3922270d1d39787326101d3923732602341d392374601d3971751c1d392278631d397173671d3920751d3924711d3971271d3923221d3922741d3922201d3927761d3920251d397077171d3925221d3970781d3924221d3920741d331d3927731d3920701d3923721d392478111d3978733d1d3971241d392322321d3922201d3927707c391d3927721d3979741d6628123a1d3920251d3979781d3922791d3970786e1d3924721d3978711d397023151d3920701d3923721d392725031d3971741d3971271d3978201d3978221d3978201d3978701d3978221d3925201d397173111d3920711d397022726a1d3970781d392572776a1d397973381d3924711d3979761d3923701d3925760b3f1d392778101d3970781d3923271d3922271d3924761370161d3924781d3970241d3923711d3924741d3924731d3970761d397879741d3970731d3923271d3979221d397827341d3924271d392077722e1d39782264001d3925701d397878631d3924272d1d3920782b641d3978221d3922251d3927721d3923721d3922751d392379101d3922781d3978731d3978251d397171781d3927701d3971232d7e7c1d3925701d3925721d3920741d3971703b321d3923231d3971751d3922201d3979251d3920221d3925201d3970701d3922791d3923201d3922773d1d3925760034237a741d3971791d3971751d397825351d392271771d3927701d3971753a1d392778623124701d3979221d3971711d39797507091d392525141d3927251d397974731d3922761d3924771d397871351d392271727d1d3922761d3978251d3925791d392720691d3924271d3978230b1d3970741b0b1d3924747a1d3925721d3920701d3925711d3925711d392572781d3925751d3979251d3924231d392070221d3923762c1d3925271d3970241d3920201d392276151d3979751d397078227a7e1d3978231d3978791d3971751d3971721d337a251d3922771d3970711d3927701d3970251d3927231d3970206f132d1d392773671d3922721d397123261d3923721d39787872781d3920201d3971756a1d3970721d392372761d3970712b1d3970231d3923781d3923791d3922781d3923731d39237637791d3924761d3925731e1d2f1d3924241d392478733b1d3920201d3970711d3970761d3971711d3925271d392024191d3923731d3927771d392022791d331d3971231d397077191e1d392725151d3978201d3924721d3920251d3971752c1d3927221d3922221d3979771d39232025371d3970756b1d392370123b1d3924721d3978251d3922751d3927731d392576391d3924727d271d3924243a1d3922751d3971741d3927791d3970737b2c1d3979781d3923791d3979741d3920731b1d3922251d3920701461221d3970771d3971271d392224281d392325211d3927226a1d3923721d392722091d39222421291d3925711d39787425641d3978731d3920241d3979721d3979797a3b1d3970731d392325141d3922751d3979731d1d137f271d3924711d3925721d397174011d3970257c1d3923761d392476707c1d3925271d3920731d3923271d397827220f1d3925751d3971751d3978243d1d3979231d3979227a271d3922200d171d3927761d3927271d3922782f1d39717176333a1d3920201d392772101d3978271d3979251d392576341d397871361d3925241d3927736c1d3971721d392227231d3979751d3927221d3925221d3923227f351d3920761d3925721d3924712b1d3971241d392074161d3920221d3920701d3925721d392472707b1d3927791d3927271d3927751d3923701d3924711d3970201d39227472111d3923731d397876201d3923241d3927761d3920751d39242535341d3924711d397876641d3970711d3920271d3971741d3927791d3978201d356e341a1d3978251d3923791d392374741d3970741d392479641d3922221d3922771d3923781d3923701d3922716e1d3925251d3927751d3920221d3925793a1d392373631d3923251d3922781d3979220f1d3971721d3970221d3978271d3971791d3924701d3920221d3924751d3971751d3979711d3979721d3978200f1d3924731d3979221d392278750d3d103d1d1d1d3922781d3920271d3923716f131d3971231d3970221d3920753b1d3979231d392079371d397923161d392777183f6c1d3922777c3b1d3971771b0e2c1d3978786e1d397123016e1d3979731d3924711d392320251d392378311d392272751d3927781d3920781d3925241d392774106b1d3978271d3979201d3978701d3922251d3925701d3925751d3923781d3925231d397872287e1d3925701d3976271d3927201d3922731d3922202d051d3978781d2f6c1d3920231d392427177e1d3971221d392425761d3920781d392273113c1d397124691d660d1d3978731d3924791d3924771d3925722d1d3927711d3925273c1d3979251d3979201d3920711d3922221d3923761d39702737321d3922221d3970711d3924731d3978271d3925771d3519092f1d392272330d2f1d392574251d3979201d397172102b1d3927751d3922781d3970742d1d3920721d3925731d3979741d351d3927201d3978761d3927711d3920231d39207205051d3978241d3970251d3920241d3925721d3924241d3971751d3925251d3922751d3924761d3979256a1d3924231d3922241d3970241d3979741d3925721d3925711d3979276a2d1d3979276f7a1d3978201d397825211d3924221d3925761d3970751d351d3924221d3923721d3979241d3976271d3978721d3978270d1d397627111d3920741d3970786f1d3927771d3971777e721d3920221d3979231d3924781d397071351d3927781d392524631d3978781d397979101d3970761d3923241d392520781d3979247c1d3971741d392372171d3978771d3925247615740b1d3922701d3927231d392478631d392074273f621d3924771d3927241d3979771d3922761d3924221d392376771d392223061d3927750c1d3924781d3979241d3978781d331d397877191d3924771d3927201d3978791d3925241d392777601d3920747b1d3970271d3925271d3927731d3920711d3970200b101d3979752919631d3922792e1d3978781d3971221d3978771d3920251d3979761d3925221d392275181d3970716d1d3927201d3978791d3970791d3971791d3925791d3971751d3923707d1d3971231d392073061d392423606a1d392774741d3924201d392379271d3924201d3925221d3922271d3925221d397177211d3978741d3925791d3978721d3971222c1d3978271d3979241d3923771d3922791d3922751d3924251d3924241d392475651d3971761d3927241d3978232e1d3925771d392473602c1d3923231d3920241d392425741d3920781d3920721d331d3920761d3922231d3925781d3925271d3970771d3979251d3970231d3970711d3922751d3922241d3971221d3978251d3927271d392322311d3927741d3971753f1d3978711d2f1d392427371d3978776f0c1d3979241b1d3925241d3923701d392472341d397977601d3978271d3922791d3971231d3924793c1d3978731d1d153a1d397174291d392420001d3922741d392573071d3923272b1d3979221d3978771d3927791e601d3920791d3923771d392574101d3922270d03291d3922221d3922241d3925792a2d1d39257601301d3970201d3923271d39797571336736651d3923741d3923781d3927221d3970271d3970771d3925201d3925741d3922781d3923711d3978741c1a681d3978201d3971741d3971731d3924791d3927701d3923221d3920751d3971271d3923771d3971751d3922721d3978761d3979771d3979711d39782477201d3979256c1d392322681d397022391d3923701d3923721d3970251d3925761d3923771d3927221d3927701d397975771d3970270a1d3922251d3978781d66131d3922781d3924231d3924221d397971381d3922731d3970751d392227371d392272381d392575791d397627091d3922711d3978781d39257310781d397923752a1d392571341d3978790a1d3970251d3920761d3924771d3970201d3920771d39707913061d392079271d3924711d392274287a1d3979223a1d3925271d3971271d3923231d3922711d331d3927781d3923731d3979251d3923721d3923711d397979261d39277769747d381d3925771d392079251d3925770b1d3923226d0f0f792a1d3922731d39252567191d39797038681d3978231d392277281d3979241d3979711d3922707f1d397877621d3920771a1d392473736a6b7b060a1d3923221d3925781d3925711d3924231d3978241d392570387a1d3920221d3978761d3920791d3971760a0c061d3922241d3925731d392472141d3924701d3971751d3927781b1d3924761d3927791d3927761d3927241a121c172e1d3922761d3970781d3925781d3920786b1d39227978741d397023651d3920791d397923101d392779211d3978241d3927761d3923246c1d39797608291d331d3927271d3971221d3927201d3924272d1d3970271d3924781d3927711d3923700c061d3925711d392527201d397970681d3922731d3978762d741d3923781d3971221d39247921751d3978241d3925771d3978207e1d3970711d3924791d3922221a063b1d3923771d397972381d3927711d3922223a191d3923751d3927751d39277706611d3920221713333f1d3922716a001d3971771d3979751d3970271d3927711d3925231d3923220c1d331d3924731d3924201d3927743a1d392377353d1d3923221d3970771d397976252c1d3923771d3927221d3925781d3979751d3978201d39277036111d3924701d3927781d39707627233d1d397076741d39707263171d3971231d397924731d3923271d3970731d3979241d3923727f1d3979761d3920781d3925231d3920271d3978780e1d3979201d392724121d397078791d3920231d3978220a761d3978251d3925790c1d3927751d1d3f2b1d39782230061d3925781d392724331d3979771d3924763c1d3922221c1d3927701d3927731d3979771d3925731d392778101d3978721d3923731d392577076c1d397022221d3927251d397172641d3979761d3970221d3924731d392574096d1d3979711d39797300197a17631d397020733b1d2f791d3923230807231d3978741c261d397175761d3923771d3927711d3923771d3920232c2c261d39707371021d397977221d3927271d3924761d3923741d3922771d3978786e1d3924761d3927721d3922711d3971743c7e1d3971721d3924771d392073271d1d241d3922790f1d3970771d3970782e341d397823611d3923711d392477691d3923761d3923700e1d3920780a022b1d3978761d397874381d3920701d3979271d3920251d3925721d397077051d3927751d392727021d3922751d397978611d3978732e1d351d392577751d3971221d3971701d3979761d3924736f1d3923201d3920771d3978251d3923741d3970741d392279701d3970201d3971240a6104032f1d3927781d3925781d3924711d3924251d392375001d3927721d397874201d1d1d3927703d681d3978271d3923777f1d3924731d3923761d3979711d3923791d3920791d3927207b1d3979201d3978241d3978240a2b1d3971221d392376191d3970777d1d392327340f1d397922051d3924787b1d3922251d3920791d397177671d3978701d661d3970731d3920701d3920781d3971221d3978771d3920741c2b1d3920271c1d392222321d3922241d3923701d3924701d3970201d3927701d3925731d3920231d3971223c621d3924731d397022091d3923251d397824251d397172651d3924771d392376361d3920201d3920781d3978781d3971721d3971241d3970791d3979221d3924787d231d3971741d397920181d39227926341d3920251d3923771d3920271d3927771d397179161d3970761d3925781d331d3922781d3927251d3927771d392725751d3924781d3971761d3970251d3978700615751d3971271d3925221d3923711d3979251d392420391d3923701263251c1d3978243b311d39707708251d39252519381d3979251d3979761d3924721d3970711d392076176f1d397822680763601d397177211d3920731d3920202e1d3924781d392076381d392077221d3920771d3970251d392477791d3920771d3923787f62261d3927241d3923771d39207378031d3927781d3923761d3979777e6e6515301d3970711d3920701d3920741e6b00031d3978761d3924771d3924271d3920231d3927741d3920711d3927201d3927251d3922721d3923201d3979771d3971767f1d3923241d3971231d3925201d3927761d3920731d3925780a1d3970271d3925221d397070001d392025201d3978761d397022101d3979751d3925221d397922021d3970221d3923771d3978747c1d3923251d3923701d3927207b1d3978742b6b1d397973251d3979701d3923791d3976271d3922786b1d392778296a1d3970751d3971711d3971751d3970741d3922797d6f1d3979221d3970711d3971727a2e211d3923781d3924701d3925711d3922241d3920731d3978777b1d3925791d3920221d3978761d3924231d3979231d3924751d3920761d3924741d3922721d3979220f1d3978791d3979711d3971271d3924711d3971747d1d397074021d397824201d3922741d3923731d397974711d3923271d3923751d660719741d3927781d392375687f1d3979251d3924701d3924771d2f1d3979781d3970730a1d3920761d3923791d3979771d3922731d39762775631d3922767a1d3978721d3979761d3970771d3970711d3927761d3920701d392477191d392527741d3923731d3924271d39717531191d3979251d392577101d397123151d3924231d39797221171d3970701d392322381b231d3978271d3922721d3978791d3927781d397974241d2f1d39277723010a7c1d392725361d392775151d3979241d392223601d392527111d3923233d1d3922201d3923787b1d3971761d3925231d3922771d3924796b1d3978701d3971223b1d392374797b681b1d397975341d3979240b741d3979746d1d3978741d3970221d3923221d3979791d3922221d3971791d2f187d041d392272391d3922771d3979221d3924240a021d3970270b1d39202769331d3925270d1d3970751d3923791d3927761d397924672a1d3923231d3979231d3920731d3971793d331d392324101d3925711d392224391d3970231a1d392224341f1d392377021d3970201d3927711d3923751d3979231d3927721d3923731d392575291d3922731d3920771d3924721d3920791d392770711d392725011d397072361d3970770710671d3920761d3971271d3920271d3920231d3970221d3925791d3922241d3971241d3923781d3920241d3970231d3922721d3979727f0a651d3927701d392570021d3979231d3978751d3920731d392376071d3924251d3923731d3979251d3923701d3923251d3971231d3978751d3927751d3970271d3922227c17291d3922241d3970781d3920271d3920741d397627221d3924231d3927751d3923731d3970251d392574351d3923701d3927201b1d3927237d1d3970787d1d3923231d3978721d3925721d3923273a3f78767c7f74731d3970731d392725641d3976271d3970241d3920776b1d3927741d3922201d3924731d39232501011d397978271d3978701d392571331d3920751d3979221d3927731d3978751d3978701d3978201d397824041d3970241d392278141d3920731d3970791d3920721d392224071d3922221d3970241d392322741d3923711d3971741d3923702f1d392574366e1d3979791d3927751d3924743a1d331d3970781d392020291d3927711d392579311d392420201d397872091d397976721d3970711d3979241d3922797e1d3979771d3978251d3927751d3925771d3922207e6d7a1d39222522221d3924271d3922711d3978221d3922731d392374711d3920721d3978771d3924241d3971271d3920253c1d3979752e1d3978200c161d3923757f1d3924701d397070251d331d3927251d392422231d3971741d3920781d3922761d3925271d3920701d3927741d397172721d3927701d3920271d397022341d3922241d3978751d3978761d3922791d392071201d3925761d3927727d161d392474381d3970201d3925761d392472001d3970230d1d3978741d3970241d392378390f1d3920711d3927751d3978251d3924221d3970781d3923731d392527341d1d1d3979273c1d3927717010731d397825371d3927231d3920770d771d3970771d3927230a1d3970741d3922271d392376011d3971271d3924761d3922771d3923271d392224361d3927731d3923201d3922251d3979751d3925271d3971731d3971721d3925241d392478101d3979221d3925711d392324263833387a1d3978251d66721d397879341d39272003311d39702308251d397072351d3923787d061d3927701d3922791d3927711d3971721d3979781d39232508681d397023701d392722171d392025342b1d3923231d392520391d3978251d3924271d3978251d397876671d397075161d3923751d3925781d3924201d3922201d3920760d1d3979227b1d3978761d3920772a0b1d3920273d1d3923713d1d3925712730171d3920751d66790e1d3927711d3924271d3923711d3971741d392575171d3979721d3971761d3924781d3979701d3923781d3979751d331d3925720e1d3979241d3978241d3979701d3978731d3925731d3970781d3978226f7a1d3979781d397075771d3979251d3924231d3979701d3970241d3925251d3924771d3978751d397974091d3922241d3924701d3924721062131d3923761d3978791d3979761d3978721d3927711d3927251d3922201d3979731d397176741d3925703462091d3925271d3925731d3924781d39792773761d3920751808671d392075191d392425651d3925711f1d3925771d392773171d39792470791d3971271d3971731d3927731d3927741d3927781d3925221d3925221d3923797d1f1c1d3927271d3924251d397073621d3971791d3923741d3971711d392527247e1d3970251d3922711d397177131d3922203d1d3971751d397822031d3924241d3924761d3923230a1d3920231d392072291d3971771d392774371d397071371d392078651d3979271d39782313761d3970241d3979771d3922251d3922251d392477317a71240e1d3920791d3979251d3971742d1d3927721d3925701d331d3922271d3979251d392572011d3978791d3923791d3922791d3971751d3920207f1d3925781d3979752a1d397924361d3922731d3971231d392727331d3970711d3927256d1d392379131d3923221d3978271d3924701d39797860731d3979720c1d3923726f1d3978251d3924791d397970221d39277701152c1d3923232b1d3923791d3923701d3925731d3927781d39782726001d3978221d3924731d3927731d3971271d3922771d3922241d3922231d3923741d3970701d3978241d3920751a1d3971741d3924703d711d3971721d3978730d1d3927707a1d3970707d1d3922762f1d3920751d3979231d3925731d392770281d3924201d3924201d3978737e1d661d3924231d39257664631d392070251d392320781d392778771d3979781d392522271d3922221c761d3924731d3927731d3978721d661d3923251d392327261d392276731d3978241d39787469771d392478261d331d3925781d3970731d397179601d3970787f1d392376191d3971221d3979710f1c1d392471091d3920222b1d3922221d3925751d3971221d3979781d3970711d3979751d3925751d3923781d3922201d392025641d3970731d392275101d3924751d3978711d3979761d392571780d2374657f191d3922751d3970791d397824621d3920241d2f1569131d3924727a311d397873251d3924701d3970741d3924771d3979723f221d3970781d3924241d3927221d397871781b1d3971741d3925207e1d3979791d3978201d3920201d397875252c1d3920711d3924721d3922721d3971703a0727691d3971741d3927701d3978791d3927771d3925751d3971761d3970231d3922761d3970241d3970761d3920771d392475172c1d3925240f0b2b02620f1d3970761d392276191d392722281d3979701d3922782b1d3978741d3923771d39247964120b6f29336c1d3927751d3923271d3978711d3924701d3922770216152d1d3979751d3979242b1d39247039271d3925241d39257138231d3920271d3924761d3979241d3971711d3924741d39797109621d392577316e1d3924791d3922241d3927782a221d397124191d3924766f1d392020651d3978711d661d39707002671d3923761d39227373196a1d3924761d3978201d3925241d3970701d3979201d3971771d39787928611d3970730e1d3925751d3925701d3978793d1d3927251d397024357b237f1d3979761d3924201d3925231d3922721d3978771a00281d3979741d3925232f62221d397024781d392223141d392279651d3924731d3978791d1d1d351d3923732b3b1d3971761d3924741d3927751d3923781d3922721d3920741d3971241d3970243a041d3927271d3923271d39717603771d3979790d1d3923731d3920741d3979771d3971242b1d3979271d397874321d3927221d3979731d392370311d397020191d3920701d3979791d3970767c1d3979221d392274171b1d3925781d3971711d3927791d3927751d39232019331d392027347c1d3979781d3920231d3920241d3925791d3924271d3920231d3971721d3971701d3920271d3923771d3924241d331d3927231d3920241d3927773b1d3925790f1d39707165120d201d3923220c1d3923742e1d392325781d3920721d392524246e077e1d3920701d3922227d1d3920241d3922781a1d3924771d3925722f1d3978731d3924221d3924751d2f1d3925241d3978201d397124201b1d3971761d3970741d397977091d3976276d731d3971701d3922751d392524127e3936191d392479671d3924721d392423201d3925741d3979751d392375651d392225331d397879681d3922792f1d3923791d39717730621d3978721d3923231d3978711d3924771d3927737c1d3970222c3f191d3979751d392573281d3924761d3924701d3924721d3971701d3970761d3924231d3922761d3923722f1d3923711d392520761d3924771d3970721d3925221d3978721d1d1d3925711b1d3971701d3976271d661d3922231d39237818241d3924231d397179041d3920251d3971761d3979771d3925251d39707313206b1d3922231d39207328296c1d3927221d397020791d3925781d3923251d3925237c1d39247512321d39277232091d3927270d042b1d3979751d3978231d3979242b6e7c15041374651d3922751d39787561053a1d3920271d3971241d3925771d392370141d3927200e1d397172131d3925721d3923251d3927721d3925781d3927701d397978321d3970711d3971721d3971772d1d3920246b731d3923231d3923721d3971771d397175021d3924791d392073631d3925721d3923226d091d397870751d3920736c1d3978271d3979713d1d3922771d3920251d3923771d3927791d3920241d3970251d1d1d3922720026631d3927221d351d3971221d3978761d3970241d3927276427026a767d1d3979741d3920741d3979251d397820710c1d3979781d3925271d3922741d3924741a1d397925671d392472271d3970791d3978241d3927221d3978796b1d3979271d3978252721161d3925751d3922721d3920771d3923791d3971721d3971721d3971741d3920237d251d3971746c241d3927793d1d397978191d392420151d3925796813103f1d397871381d3978722f2919001d3978791d3978711d3923201d3979761d39787623111d3922741d3925781d3971751d3924756c1d3925751d392073731d3927791d39277269351d392375391d3979221d3979711d3978751d3920781d3970701d3970251d3978781d392322211d3978791d392076391d3979751d3922721d3925741f1d3927221d3920781d3924221d3970711d3922201d392073181d3979731d3971741d3978251d3978241d3971741d3922271d3927791d397071232a1d3920231d397077721d3922250c2a1d3970207d32321d3927791d3925791d397175061d3927741d3971741d392279771d3924777c171d3970741d397025681d3970781d392476221d3925721d3979731d3920770a1d39207672021d3920731d3920731d392071251d397920651d3979201d392523601d3923201d392072091d3920701c361c1d3922231e36601d2f1d3923251d3970771c1d397027281d397174761d3923781d3976273c1d3922791d3923271d3979241d3971751d3922741d3976271d351d3920781d397974611d3920241d397073303d16161d3923231b081d3978701d3927752c1d1d7b3774691d3923751d392275362d1d3923771d3970251d397825671d3925780c1d3923791d3978771d39717508651d3920741d3971793c1b1d3925221d3924761d39707834781d3920761d3920781d397875071a1c1d3924740177151d661d392578211d3927711d3927201d3971792f1d3927781d3925257f651d3978231d3978231d392276151d3922781d3923731d3925721d3925701d3979721d3925223169392429021d39787506171d3922791d3920781d3970721d3979790c1d3925206b1d392023611d3927271d392278070f1d3970791d3979791d3924201d3920791d3923231d3920701d3927771d392278711d3923701d3925251d3924731d3925271d3925791d3971237c1d3971760a1d39257568032f6e1d3925771d39787021001d3970241d3979221d3971723b781d3920221d3971791d3970711d397079211d331d39797709011d3924771d3970271d39232335381d397174736f1d392073693d1d3923711d3970721d3927717a1d3970781d3971761d3925702e361d3922781d392476771d3979741d3924730c131d3979721d3978221d3927751d39207711201f1d3979776c1d3971701d397076641d3970250d1d3920731d3920750d601d3920767c331d3923776313701d3927761d392722331f286c1f1d3925223a1d392424361d3920781d3971791d3971221d3923721d3971761d3922791d3925781d397027371d3924731d3970741d3924761d3927221d3970201d3920711d39782214361d3978201d3927752f1d397975621d397122041d3922751d33341d3971731d3924231d3925231d3923721d3922711d3923231d333439233b1d3922221d3978241d3978701d3978241d392425101d3971731d3979771d3979241d3920751d3979251d3970727f3d1d3970761d3924751d397879231d392775001d3925701d3971701d392279321d3970237073091d3924721d3970201d3978761d392023171d392273261d3978781d3970761d331d3979276a376c1d3924251d3924751d3979731d392225271d3924247b0e1d39702008221d3970272b1d3927271d392324093c331d3920271a1d3924741a1d3978206a211d3970741d3920753b021d392079121d3920791d3971241d392422731d3927241d3923221d3970241d39257024671d3979761d3970701d3979731d392074161d3979722f1d3923751d392078361d3971791d3924731d3922700a1d3979701d3923711d3927786d1d3923271d3924751d392079101d392074171d3924761d397174191d392527641d3923771d3970741d3925741d3970241d3971221d3927721d3970241d392373611d661d3978221d3922741d3927766c231d3922721d3976271d3970751d397978671d3927761d3924701d3925251d3920231d3978736e1d3970781d3920781d3925221d3924731d3927771d3920241d3924221d392276191d3920761d397927351d392572641d3979751d3924201d3979241d3970701d3978751d3922231d2f1d3970231d392275091d392076371c691d39787009001d3922741d3979791d3920751d3970231d3978231d3920721d3923781d3979251d392224731d3970201d3924761d39237965381d3971791d3970741d3925731d39797571111c1d3924271c291d3920791d3923751d3970221d392720341f131d392476371d3970233c1d3927721f1d3971731d3979231d397825181d3978741d3925791d3920271d3922782c1d3920741d3923761d3920701d3924771d3924751d3923721d3923791d3923746e1d397177071d3923741d3970771d3924791d3978751d39237213031d3970761d3924201d397878161d3971721d3924791d392274231d3925701d3970730e156a32181d3924271d3924761d3925232d1d3978781d397874171d3979761d3979251d3924231d3920751d3923701d3925201d397874200f1d392775201d3923740c1d3925270d1d3924781d3923781d3979231d3920221d3920201d3978222f1d3920276a1d3971241d3978761d3970721d3978201d3978721d3927701d3925771d3920201d3970271d397970320a231d3923761d3971721d3970271d3923761d3923751d3920741d331d39702579771d392022171d3970741d3920251d3927723b211d392770097004221d3923221d3924251d3971751d392075771d39237511151d3971731d3924731d39787576271d39252321711d3920201d3922731d39242339601d3923720d1d397024231d3922737128006b1d3979201d39202735631d3979731d3922201d3924761d3971741d3922781d3922241d3970713b1d3970251d397627271c1d3979771a771d392424121d3925791d3927721d392474603f1d397020302a0c1d3920221d3920761d3920751d3927740d1d3970761d3978747c1d392772677d1d392522101d3924781d39207905061f371d3924701d3922221d3923241d3920781d3927251d3920241d3970241d3925241d3922220c1d3922781f1d3978271f1d3970711d3927271d3970791d3923221d392773611d397071031d39227575041d3927790f1d3924271d3978761d3922701d392720371d392278041d3923771d3924271d397073001d3920791d3925761d3925231d3925721d3923727e1d3920221d3925771d3927751d3971221d3970761d3978771d3922771d3925711d3924271d397073641d3924721d39237178301d39222431301d3971231d3971761d3978701d3924771d3978761d3927221d397027241d3971711d3978780d1d3920221d392374681d3923241d39252560683773250d38701d3922741d3920711d392378011d392472106b137c1d3971237e1d3978781d3922761d397923271d3979791d397070211d2f1d3923271d3922250a1d351d3922731d3922236c2f1d3970751d660f311d397070031d3923233f1d392372292c1d3978242a1d3978241d3923771d392377281d3924791d3920721d397971631d397079011d3925741d3979231d397820372a1d3920713b1d3920781d392478071d3979711d3978771d392370731d39247379122e0e1d3920701d3978721d3925761d392074371d397171646074700f1d1d1d3971731d3927241d3970781d3971751d3970701d39227968031d3920722d1d3925241d3923231d3978781d3923233a73781d3923231d3970241d3923701d3923251d3923723371171d3979701d3925761d392271681d3920201d3924221d3970200d691d331d3923751d3978741d3971231d3920711d39797261721d397025321d3927721d3924741d392420621d3970271d3927201c301d3971711d3920751d3922207f1d392074791d3925242e1d3920711d3923797535051d3970761d3924711d3925271d3979741d3923221d3971241d3979781d1d721d3925777a1d392573081d3925746f1d3920201d3976271d3922791d3920741c1d3970776e711d3978751d3927731d3970201d3920720d2f2d1d3970762a1d392375111d3925201d3925241d3978721d392770711d3925751d3924781d3979270e071d3927701d3927201d3923251d3971221d3979201d3920251d3924201d3924721d392524621d3920271d3922201d3923741d3979251d3923791a1d33741d3970731d3923201d3924251d3922221d661d3927721d392724701d3368361d3920761d392573211d3920727f1a1d3924221d3920241d39237916231d3979791d3920207d1d3970201d3924221d3927226f2226031d3927781d3927231639081d392470301d1d10631d392322041d3925231d1d7d1d39797906311d3971761d3979241d3927231d3971731d3923257e1d3923791d3978251d3925761d3979763a1d3923771d397877621d3927271d392474370a1d392579101d392474071d3970751d3925771d3922236b1f1d3970791d3923201d3971231d397023791d3970251d3970721d3927251d3979761d3979271d3924711d3925241d3978221d3920711d3922781d392573221d3922791d3923791d3927762c1d3925271d3970741d3971771d3923241d39257819601d3922221d3971731d3971771d3979221d3927271d3971271d3920721d3971236e1d392420611d3978221d3971711d3920221d3922711d3920716a201d3971761d1d1d3927781d397975751d3925761d3978791d3979271d3925257074311d3979231d2f151d3978221d3925271b041d3927761d3920791d3970751d3925771d397870681d3970761d3924711d3922271d392575221d3920771d3925241d3922771d3922251d3927201d3925701d3979751d3923731d3920797a1d3923271d392075371d3920761d397172091d3979771d3923201d392370681d397822281d3922251b0c611d392225281d3920751d3978761d3924761d3922771d3922221d392778171d3927721d3923781d3920721d3970773b1d331d392024152c1d3920731d3922221d3923271d3920271d3925751d3920701d3920782e1d3923241d3979771d3976271d3925781d3923711d3923711d397124702d1f25141d3922762f1d3925700e161d3978741d3970761d3923251d392470780a1d3924751d397876231d3925791d3978721d3923241d3979781d3925791d3925761d3923221d3922271d39702429381d3978251d3920771d3927771d397920681d3970731d3925727f1d3970771c161d3927781d3924271d3920731d3927771d3924781d3924273b39307c1d3927781d3925701d3978770e1d3927241d3925781d3971741d392470751d392027191d3927251f1d3927241d3924797e65621c1d3925711d39202063341d3971271d392573781d397823371d3979771d39237260652a1d397027021d3925771d392371171d3978781d3978781d3920701d3970241d3970731d3927761d3925231d3925721d3920711d3970221d3924761d3927241d3979711317131d392473151d3922201d3922761d3922251d3970782b1d3924711d3922271d3920251d3970231d397070151d3922220c1d3922761d392075151d39207233271d3979722a1d3922750e1d3971791d3923721d392727301d3971761d3970251d3922701d392223681d3978781d3927791d3925751d397172131d39272378331d3971791d3971241d3923711d3925741d3978271d3971721d3925271d1d24031d397070171d3927731d392479643f311d3927741d3922243a1d3979250e1d3978791d3924271d3923201d3970203c221d3971221d3978221d3920221d3924731d392377311d3971241d3923201d3927241d3924731d3922701d3978711d3979731d3978206d0465767e1d3970771d3924231d3978741d3970727d7c153d1d3925781d392774151d3927721d3924731d3925221d39792477241d3927251d3922781d3920241d3979791d3924701d3970761d3924751d392378211d3978701d397970141e1d392770711d392377741d397173791d3920731d3970771d3971231d392075251d3971241d3970231d3970241d3978791d3922781d3920767f1d397871221d3970736a1d3922721d3970741d3927721d3978711d3927731d3927781d3925201d3978741d350a1d397123011d3978771d3923703b791622752c1d3923241d3924701d3923781d3923781d1d1d3923771d392522291d3979701d3924701d3978201d392470741d3920751d3925786d1d3922761d3978201d3979771d3922781d3924271d3979781d3978741d3978722f61286b1d3924741d3927221d3970731c1d3971771d3923741d3923771d39272007241d3970771d3924241d3923711d3925251d3927241d3923791d3923771d3923701d3927791d2f1d392223611d392223282c7b1d3924721d3979231d397171181d3922201d3970231d3925731d3927781d3978761d397072201d3979271d3924201d3920241d3920221d3924201d3970761d39232770251d39222071741d3927226e7b326d1d3924741d3927271d3971751d3925231d3970701d1d1d3927781d3923701d3971221d392378361d3927751d3978791d3925771d3978241d3970721d3924790f1d3970753a171d3925741d3979201d661d3924700a1d3920741d3922201f1d3978751d3923761d3924781c321d3924761d3925731d3927701d397877270b1d3923711d3925747c1d3922231d39707931071d3971271d3925271d397077361d3923751d3924761b1d392725331d3970751d3922701d3971711d3923741d392275297f1d3924241b1d3924766f1d3925701d3925231d3927231d397177231d3971711d3924221d3924246838017b1d3970767b251d3979221d3922711d3970761d35717a1d3979221d3920271d3927711d392420711d3925791d3978781d3925721d392023781d3970201d3924790c181d3920701d3925201d3925761d3920201d3979231d3925731d3970271d3924732a1d3970781d3927221d397920331d3978251d3923711d3970741d3970761d3925731d3920251d3924781d3920731d392320112d641d3971761d392073021d39257411133c1d3922781d39797910201d3978241d3922771d3922221d392376601d392320781d3978761d3924711d39792709771d3971741d3970711d392424131d3971731d3925271d3978237f601d3978202a161f1d351a1d3924701d3979241d3925756b1c2b2909292e1d3923251d3979251d392723253f1d3920271d3924251d3920271d3970721d397170711d3927226d25371a1d3923700c1d3920221d3976271d3923221d392274601d3979731a1d3970766a1d3978231d3920741d39782539227a1d3923231d3924761d1d1d3978711d397023121d3924791d3924797a1d3971750a1d392079161d392375181d397172041d3927201d3927791d397923311d3924711d3922701d397924181d3970201d3924761d3924761d3923231d3922201d3979757e3c1d39272202397b1d392273251d392424731d392379031d3920251d397974731d39237879790b1d392379221d3978221d3925741d39277839201d3979241a1d3970731d3920791d3927203a1d392577281f331d3923771d3925711d39227115121d39787072241d3978751d3925701d3922741d39237019141d3970791d3920761d397122061d3971791d3978251d3978771d392727221d3922761d3970241d3978201d3978711d3920251d3923251d3922203c1d3979751d3925741d397927621f1d3927721d3920781d3922240c201d1d1d331d3920731d3979221c1d3920771d3925781d397827691d3920257f1d3920731d3925201d3971721d3923741d3927791d3924241d3970791d392070631c1d3927271d3920731d397873121d3924271d3927251d3920791d3922251d3978703a0a1d3923201d3927761d3925701d392575791d3979721d3920231d3924721d3970231d3979241d3970741d3927771d392724181d3971761d3971742f3a1d397072271d3978231d3922221d397175701d3979201d3920746b2c2f6e701d3927741d3922783d381d3927711d3979251d39787025316a1d3927220f1d3971753d1d3978751d3923721d3924761d3922701d3979791d3924761d39237238291d392571191d3924751d3978201d3978711d3923706d1d3970751d3922701d39702017791d3923741d3979791d3923231d397971151d3923226f1d3920761d392525211d397875121d3978781d397924771d2f351d3922791d392378752a1d3925751d3971721d3927791d3922276e1d392575631d3970721d3924791b0f1d3920201d3922201d39222260351d3978791d3927756a1d3925241d3978771d3925761d3971741d3924251d3923791d3925201d3978201d3920791d392324707d1d3971711a611d392324321d3920751d397827611d3920251d3970736a1d3927731d3971231d397971381d3924231d3920712b1d3979751d3922201d3970722a692c1d3979701d3970251d3925781d1d1d392772711d3979701d392327131d3927257c1d397974011d392779361d3970731d392274351d3922200f1d3978251d3920251d3927271d3925717f1d3971791d3924731d392078081d3925781d3922791d3927781d3979711d3978236e1d3927201d3927791d3927201d3979711d3922231d392578770c321d3927723f361d3924771d3978721d3923751d3927271d397972682b321d3923721d3923231d3927761d3923761d3971771d3978751d3923721a1d392424731d3971711a1d3924257a1d3925791d3927751d3971226b1d3924241d3979741d3971271d3927237d0d1d397874341d3927751d3923793f1d3927201d392472171d3971731d3979711b231d3925271a601d3920701d3970711d3922771d397025261d392771136d1d3924257c1d3970711d3925201d3970771d3920241d3927791d3923751d3922771d3927741e1d3924201d392372731d3920250b1d3970771d392478391d397923721d3979791d3978741d3923770f1d392373331d3971221d3927740c191d397879241d3979231d3925742b1d3924721d3970711d3922740e1d39207525011d3978706e1d3925241d39797718641d3979711d3923791d3978781d3970251d3923761d3920241d397176183d1d392424041d3927251d3922791d3971271d3970761d3920741d3978231d39227015371d3924221d3978221d392370191d3924231d3979231d3979731d3979221d3922271d3923771d3971231d3971221d3927761d3920761d3971771d392272771d3970221d3924731d3924206b1d3925751d3924271d3979791d3923741d3923701d3925273c1d3924752d1d3925201d3979731d3924201d3923751d392576683c1d3925721d3927740e1d3979221d3976271a1d3924271d3924221d39257825231d3922741d3923241d397972711d3923791d39797761351d3927251d3923231d3978701d3922711d3979780e062d1d3979271d3978271d3979231d3927721d392323301d3970241d3978761d3923701d3923241d3979751d3923271d397874021d3978701d3927257f241d3970782c1d3920241d392379781d3920231d3978751d3922721d397922211d39782513161d3925711d3923721d3920762b26021d3925231d3923771d3971701d397175111d3927741d39787477163f1d3922271d39797371051d3922252d1d3927200a1d3923711d3925761d3979741d397627201d3923231d3927721d39702232251d392475751d3978221d392225681d3978731d397873311c2e1d3924741d3924767e1d3970780e1d3979741d3922222f1d3978251d3923741d3970711d3927761d392472271d392222151d397979291d3922767d1d392327391d3970231d3924771d392376771d3920757a1d392377213b1d3923231d39277517301d3922221d3979771d3927751d3970791d392323611d3922731d39712230671d3924711d397827041d3924751d3920226b2a1d3976271d3924751d397124031d3927761d3970763809021d3923771d3970221d3923741d3971751d3924791d3927221d3925741d3971711d3922781d3924241d397827751d3924202b1d392577371d392071241d397171120d1d3927271d397970331d3922252f1d3922751d392371216c1d3927761d397122651d3978221d3971741d3970721d3970781f1d392423311d3979231d3924721d351d3925751f1d3925751d3978741d331d3920251d3970251d3979231d3979222e202d311d39797671181d3979271d392524676f371d3924271d3979757e091d3920791d3920251d3922751d3978223d1d3922251d3924790b1d3925751e616b1d392779321d3924231d3978791d3920221d3924241d3979741d3970711d3927221d397879671d3979241d3925253d7f1d39712313241d397076637722121d3923711d397822291f1d3971741d392427241d3924731f1d392422091d3920751d3925762b1d392373071d3970771d3922741d3920751d3979771d392770181d3978232d3b291d3979251d392076721d3927221d3970271d397824691d3925701d1d121d3925241d3978241d3979221d3979741d3971241d3927791d3925741d3920241d3927271d3925721b3d1d397927371d3925701e1d1d7a6f341d3925761d3971701d397825161d3920251d3970736e1d3927751d1d1d3971272c1d3927221d3978720e1d3925241d3925221d3927237a1d3970251d392022771d397872701d3979201d3925231d3978721d3971711d3925711d392771331d3920271d3922741d392325281d3924241d3920711d3924231d2f1d3927720f1d3971221d3920781d3971773b1d3924221d3923202b711d3978271d3924221d3927711d351d3970731d3978791d3970241d3924751d3970743c7a651d3920701d397072681d3970271d3927771d39797502371d3922741d3922241d3920231d392478100d1d3970771d397978601d3970241d39797179262f1d3927791d3927270f1d392522131d397175387a1d397876671d3923231d39207229317e061d39227935211d3922731d3925791d3979271d3923791d3927761d3922791d351d392775086a1d3970721d3925731d3970751d3924741d392771031d397974111d351d3922241d3923226e1d3920751d392225301d3925221d3923761d392724321d3978761d3922241d3923771d397073791d397927061d3922201d3970271d3927706f1d3927201d3925221d3971771d3978256f1d3923752b1d3979701d3925706536141d397025781d397023241d3920751d3924721d3920721d3925241d3920721d3924271d3924721d3922742d301d3970791d3979711d3970751d392224061d3923721d3920781d397123741d3978701d3979201d3925751d3978721d397070391d3922731d3920791d3978781d3924791d397022641d3920241d3978741d661d3923251d2f1d3927251d392278711d397823681d3970271d3979751629721d3979701d3927711d3920271d3979221d3922731d39787423093b1d3922711d3978710c1d3979731d3927711d351f1d3927711d3978762f27341d3970781f1d3979241d3922251d3970771d3978771d3923781d3978781d3924251d392370101d3924231d3924721d3970771d1d1d3923201d392478741d392474091d397825251d3971761d3923251d3925751d3924226024281d392470321d351d39247423671d3978251d3920201d3924271d3978721d3923221d392027773b071d3925751d3923251d3923721d3920251d392578001d3922231d3979731d3924711d3922721d3922201d3971701d3920736d13766f1d2f051d3927791d3970791d3927761d3978221d3923200c081d392227021d3924771d3922701d397823202c151613301d3971771d392477311a1d3922271d3970271d3927231d3978231d39227508251d397827793b3a1d39207633791d3922731d3979751d392720271f201d392320101d331d661d3923711d2f1d3979731d3920761a351d397179341d3927231d392774021d397022601d3927721d3978201d397171631d2f181d392570153f1d3927207a1b1d3920731d3923731d3924271d3978731d3923771c7f1d3924721d3922223d1d3976270d1d392375701d392474391d3922271d3920701d392378171d3923741d3979201d39702463731d3979711d39707527071d3971721d3979731e1d3971241d3923731d3979221d3927711d392023251d3978221916027d69381d3923731d3924791d3920711d392420011d3927701d3976271d3970791d3970241d3970751d3971721d3923746e091d392425346c1d3924741d3925791d3925241d3971721d3979201d3924271d3925701d3978761d3978700e141d3971731d3924761d3922791d3923781d39247563101d392479131d39792727731d3923701d3971796d1d397071162b18641d3923711d3923221d3925257f1e3d1d3922241d3924711d3920271d3922731d3924241d3920741d397824121d392077371d392522181d351d351d392378650d1d3927711d3922277e1d3979231d3924791d3925701d3923751d3922761d3920700f1d3971791d3922781d3927722f3c1d3927751d1d741d3978251d3978253a1e1d3925713b247a20396e1d392770291d3970271d39717604061d3978791d3922741d331d3978251d3971231d3970271d3924221d3979771d3925231d392470051d3922791d3923761d3925231d3924781d3920763f251d3979711d3927791d3922741d3971701d3923731d3920271d3979791d397872742f301d3920240e1d392771191d3979791d3978751d3970791d3922751e1d3924701d3924241d3970791d397972751d3970741d3970221d392024291d3924231d3923241d3925711d3920750b721d397975701d351d392222261d3979771d3922716a0b1d3923701d397971181d3924271d3971721d3922731d3927761d3971791d3922741d3971791d3924781d3971271d3978751d3925201d3978271d392771611d3971231d3927761d3971771d3978202d186c1d3927241d3927791d3971791d3927231d3978251d3978781d3925271d39787209721d3924741d3920273d1d3923721d3922731d3970251d3924231d3925271d3970791d3925241d3920711d3923751d3920771d3978701d3979711d3970751d3922231d3971771d3924761d397971381d392574211d3923226f1d3925711d3924751d351d3922761d3971231d392771731d3979711d3924221d3979711d392072301d397179201d3971721d3924781d392277686c1d3924221d330b6c1d3971221d3971791d3924741d39202405131d3979713b382a671d392772611d397924016a1d3920247d1d3922721d3978751d3970751d3920761d3924771d39277331621d3922770f1d392575631d3922221d2f2d1d397875367f2c1d3927251c1d3971771d392570361108211d3920221d3971791d661d392725231100201d3920271b1d3979781d3924711b011d3920721d1d1d397877391d3920781d3979731d392327781d3920201d3924731d3927271d3924731d3922701d3970231d39782213241d3923240a713d1d1d1d392473321d3925731d3924791c321d392279371d397922381d3920751d3976271d392573191d3920711d392373741d3970201d3922237d1d392772111d3978741d3920781d3923771d3970741d392422102964031d3922701d392778151d3927201d3924222b001d661d3922251d3979201d3971701d3920761d3920731d392727121d3920203d1d397820351d3925201d39717329151d3925236b01651d392478231d3978751d3920271d3920781d397971291d3979726e17641d392723191d397072341d3971771d3924251d3925241d3922241d3979231d3970251d3924251d3922751d3971791d3927221d3971231d3970791d3927751d397970221e1d3927781d392523271d3971792d7f2f201d3978271d392476091d39257320241d3922781d3970241d3970231d3923251d3978241d3924721d397074111d3925791d397875281d3979721d3923731d3923761d3920231d392373371d3978791d3920201d3970771d3979241d3971271d3923221d3923241d3976271d3978201d3927701d39277432301d3927251d3923721d3927241d3927711d39247876073f1d3979241d3920741d3923231d3978781d3979791d3924721d3922741d3978741d3978781d3923201d3979763f6b1d3922797f1d39787808111d3979231d3927771d3978251d3922241d3923251d39712417361d397627361d3927721d392323151d3978751d3922701a181d3924241d3924241d3925743b0d631d392578251d3925711d3927781d3920721d3920741d3923701d3978721d39712404341d3971751d3979273b1e301d3978701d3970781d3978781d3970781d3927721d3971231d3922701d3923781d3978731d3920781d3927791d397924761c1d392276031d3923771d392277081d3971741d3971791d392525041d3971231d3979773277761d3978731d3970771d3979251d3978751d3920751d3924241d3971241d3970201d397975146f1d3927201d3924221d392374081d3970771d3979701d3978781d397070161d3925741d3970221d3927721d392424711d3978241d3923781d3970771d351d3922231d3920207b1d392722301d392072241d3971731d3925221d397927311d3922761d3978771d392777366a1d3925241d3923781d1d1d3971791d3971701d3970751d3970751d3922241d3920241d3925791d3971221d3922222a1d392775651d392779241d3924781d2f1d3923251d661d3971741d3927271d3971701d3978731d3979761d3925271d3970751a1d3923231d397920261d397877641d392479786d3d1d3922231d3970231d3923711d3971741d351d3979233f1d3927271d3924741d661d392774251d392575011d39257072111d3920711d3979766d1d3925781d3979231d3971221d3979731d3922771d3924731d3923791d3970761d3922740a1d3970733a1d3920251d3924733d1d3924241d3922761d3924791d3978791d3923701d392423043d1d3979781d3979731d3927781d3925751d3920271d3971761d3923711d392474671d3978221d392276691d3978251d392027390d751d392223281d3970731d3920256b3b1d3923762f671d3971231d3970741d39782205651d3970751d3922251d3971721d3923251d397873151d3922241d3927731d3971731d3920781d3971711d39227165221d3923201d3920721d3923791d3922701d3920221d3925711d3920201d3925241d3970756a1d3920271d3927756c7b2c361d397070361b1d3970222a1d392272366b06313d0b1d3970231d392524751d3979781d3971711d3971761d392278161d3923711d3971701d3920721d3922791d3927201d3927701d392720270b111d3979791d3925731d3927782325711d3925271d3922761d392774631d1d7c1d3924241d3971727a1d392479131d3927731d3924231d39277024352a1d392376691d3920201d397972761d3927781d3922241d3923222971141d3920201d3970741d397872291d39257406251c1d3970721d392224751d3923231d3922781d3971761d333b1d3922201d397127332c1d3971731d392073271d392578653b1d3970271d3922251d39712279031d392571671d3970797d1d3923781d3924751d331d3927751d331d3927723d721d3927776c1d3922790e1d397979381d392777641d3925731d3971271d3920792a7b6f1d392023112a1d397923001d3925731d3925780f1d3978772d631d39797526201d397823361d39237879001d3971711d3927791d3925741d3978781d3970251d3925721d3924271d392722331d3970781d3971721d397923611d3978720f181d3920221d3924241d3924761d3970700d3f1d3923226a1d397922241d3920271d3925241d3923207d1d3923201d3970791d3920791d3924231d392474161d3978721d3922701d39252070081d3970701d2f1d3922271d3924711d3978781d392078670f071d3922221d3970741d39782076081d3923231d3927757b330a1d39712203181d392471351d3979251d3971241d397920160a1d392470212c1d392227121d3920202e1d3925781d3925781d3927761d39237403381d397072211d39272471001d3978751d3924236d0c1d3925711d3927201d39227672762d1d3920271d3971731d3970751d3924762a1d3922711d3920771d3922741d397870131d331d3970791d3925221d3978721d3920701d3923711d3979731233363c1d3920241d392575051b09291d3920761d397972100c1d3923741d3924761d3978241d392727391d397877121d3970201d661d3925781d3971771d392573056a1d3979231d3922271d3922221d3925741d392574191d3927231d3924741d392327251d3923796e741d3922791d1d1e191d3978781d392776671d397170231d3978711d397978791d3922741d3920202c090e061d3978771d397025121f771d3978760d1d3971796f1d3978731d3920771d397874060d1d392375221d3923751d3920751d3925771d3920771d3925231d3924727f1d3971711d3924711d397876771d3927731d397177731d3923761d3927741d3970761d397079011d392723671d3922231d3920741d351d3927741d3979221d3925741d392323636b1d3923771d397970690a141a26291d397073631d3971761d3971741d3927201d3922766f6d1d392373171d3924717d181d397978001d3971221d3927721d3920222d0f0e7f1d3924731d3922760e1d392320381d392772011d3920231d392023781d397927061d3922751d392571350a1d3970241d3978771d3922701d3971751d3979761d3920241d3924701d3925711d3925711d397174671d392577241d661d3971721d392324321d397871201d392474281d3978221d3927222a1d3923711d3922731d3976271d3971721d392573091d3925781c001d3922761d3925731d397025061d3924221d3978241d3970701d3922761d3923201d3922241d39207478081d3978251d3925731d3922251d3927701d397822366d1d392527301d3923781d3924761d3979711d3925791d3979761d357362751d3922781d3923721d397176741d3923761d3920221d3925730a031d3971701d392573721d3923236c1d39257675121d3922241d397173282d1d3970751d3924791d3925741d3924741d3970760e1d3922771d397073651d3923711d3978221d3924251d3922251d3979761d3923271d3923760c1d3925271d3922721d3979251d39712439091d3922241d3924271d397922191d392322241d3922731d3923221d3922251d3927741d392472021d397179331d3922221d39252260191b253b1d392276631d3978242d1d3979747a351d2f251d397179331d3920702a121d3927741d3924791e371d392323101d3971231d3970231d3979253709281d3970251d392425301d3925726e1d3970731d392527311d3971751d3979781d3970231d397122291d3925752e2d6d111d39242527351d397824682a1d3927721f0e1d3925711d3979241d3924791d3922773f1d397975731d392572091d392372156c1d3978751d3971731d3927231d3925273b1d3970201d3922732f1d3922277e082e1d3924761d3922271d392722181d3971231d3920201d3971761d3978201d397077351d3920251d39717932301d3927270e0c1d39702330227a201d3922221d3923763b1d3925730e1d397973651d2f1d3978741d39207001047a1d3979791d3920741d392576381d662c1d392022731d3927201d3927731d3920721d3922231d3927721d2f1d3978701d3923751d392777311d392023621d3925741d3976271d3924761d3971771d3927271d392320011d3970706e2d0d0d1d3924783a331d3920221d3924731d3978761d3970701d3922771d39717628791d392427141d3920781d3979201d3922791d3924781d3924791d3922781d3922781d39792718141d3924251d397827341d33211d3971741d392079011d3927771d3925241d397877386e1d3922701d3927741d3920711d39277205321d3925761d3971751d3922221d3920226c1d397176651d3920726078751d3979701d3971731d3978701d3922771d3979791d3923731d353f1d3923721d397820261d3971771d3923241d3927761d3970751d39247316181d3920741d3925731d397175111d3971761d3923701d397079641d3924781d3920231d3978251d392271251d3978251d3970236b1d3920761d3978711d3920731d3920221d3925241d3924201d392473171d3923241d3970711d3924201d3923781d3923771d3971791d39227425391d3922271d3979781d3923731d3971711d3923731d3970221d3978701d3927793f1d3924231d397824061d397075061d3970791d3920233672001d3920701a286a1d392571616a331d392074121d3970231d392370341d3922731d1d1d3924761d3927233a1d3978251d39232777047e1d3970241d392573741d3927721d3922721d3978750f1d3978241d3970231d3970201d3970771d3923761d3923776d1d3970756b1d3923731d3971221d3923241d392374291d3970741d2f1d3924721d392573281d392078291d39272003191d3923751d3923201d3978271d3920241d3971761d3923751d3970731d3971751d3922701d3978731d397872221d3971732704721d3970201d3978767d741d3978231d331d392024261d3970231d3976271d3970741d3970721d3979251d3925241d3979722227191a1d39227807391d397071051c1d392775681d3924771d3920711d3925763f7f1d392527641d3979721d39207867231d3978751d3927751d392220291d3923221d3925711d3923791d3920751d3923791d392777091d3925221d3920781d3979781d3925761d392273351d3922791d397878621d392423181d3920731d3925711d3925781d3970721d397879171d3978231d3979731d3978791d3923271d3971741d3923756c1d3971771d397174091d3978231d3924741d3920731d3927781d392779241d3970781d3925761d3924721d3927721d3970761d3920231d3970201d39227919071d3927711d3978271d3971741d3979751d3923201d661d3924751d3922711d3923751d39252534141d392220191d397872371d661d397924797a1d331d3978231f342f041d3979701d3920711d39257861021d397079063d64680e093c1d397976691d3970241d397976791d3979711d3927731d39717522771d397970171d3978251d3924751d3979241d3971721d3924791d392220061d392271341d3927771d3970717d1d3923781d3922271d3979711d3925750d091d392376676a3c1d3978731d3927701d3979777e1d392573381d3920701d392071051d3923271d3924762e1d3927771d392575141d3923271d3925781d39782778711d3971761f3d6f1d3920771d3927701d3924771d3970731d3970241d3927201d3927202c1d3922761d3924771d3970751933241d3925231d3922241d3927231d3924201d3925251d3922767e761d3920201f1d3920710a1d392025261d3922741d392776001d392372\n",
      "\n",
      "What data would you like to encrypt? Here ya go!\n",
      "2366273d1d3924791d3923771d3970231d3978790a1d3925791d3920771f1d39\n",
      "\n",
      "What data would you like to encrypt? "
     ]
    }
   ],
   "source": [
    "!python3 -c \"print('A'*49968+'\\n'+'A'*32+'\\n')\" | nc mercury.picoctf.net 20266"
   ]
  },
  {
   "cell_type": "markdown",
   "id": "c04917a6",
   "metadata": {},
   "source": [
    "Sending A repeated pad_len bytes advances the pointer to the end and triggers the wrap. Immediately sending A repeated n bytes causes the server to return S where $S[i] = A ⊕ K[i]$ for i = 0..n−1, because after wrapping the keystream realigns to K[0]. Since A is known and constant (ASCII 0x41), we can recover the first n keystream bytes as $K[i] = S[i] ⊕ 0x41$. This leaks exactly the keystream segment that encrypted the flag at startup."
   ]
  },
  {
   "cell_type": "code",
   "execution_count": 76,
   "id": "01b141b7",
   "metadata": {},
   "outputs": [
    {
     "name": "stdout",
     "output_type": "stream",
     "text": [
      "picoCTF{99072996e6f7d397f6ea0128b4517c23}\n"
     ]
    }
   ],
   "source": [
    "enc = bytes.fromhex(\"5b1e564b6e415c0e394e0401384b08553a4e5c597b6d4a5c5a684d50013d6e4b\")\n",
    "leak = bytes.fromhex(\"2366273d1d3924791d3923771d3970231d3978790a1d3925791d3920771f1d39\")\n",
    "\n",
    "key0 = bytes([b ^ 0x41 for b in leak])         # key[0:n]\n",
    "flag = bytes([c ^ k for c, k in zip(enc, key0)])  # plaintext de la flag\n",
    "\n",
    "print(\"picoCTF{\" + flag.decode() + \"}\")\n"
   ]
  },
  {
   "cell_type": "markdown",
   "id": "83c9fd85",
   "metadata": {},
   "source": [
    "With the recovered keystream slice $K[0..n−1]$, we decrypt the flag by computing $P[i] = C[i] ⊕ K[i]$ for i = 0..n−1 and render it as ASCII. This succeeds because reusing the same keystream on different inputs lets a known-plaintext block expose the key, violating perfect secrecy."
   ]
  },
  {
   "cell_type": "markdown",
   "id": "c1ca5df8",
   "metadata": {},
   "source": [
    "#### **Method 2**"
   ]
  },
  {
   "cell_type": "markdown",
   "id": "9124bc32",
   "metadata": {},
   "source": [
    "A second “method” would not add new insight because it exploits the same root weakness: keystream reuse. Whether we force a wrap and probe $K[0..n−1]$ with A×n, or request KEY_LEN bytes to dump a full rotated cycle and then realign, both approaches recover the identical keystream segment that encrypted the flag and then compute $P = C ⊕ K$. The difference is purely operational (how we line up and extract K), not cryptanalytic. In a true one-time pad, security fails only when its assumptions are violated; here, the violated assumption is “never reuse the key.” Any variant for this problem reduces to the same keystream-reuse attack. Therefore, presenting one clear method suffices and a “second method” would be a stylistic rewrite of the same attack, not a distinct break."
   ]
  },
  {
   "cell_type": "markdown",
   "id": "9e4175f3",
   "metadata": {},
   "source": [
    "#### ****Screenshot flag accepted****\n",
    "<img src=\"./images/Easy_peasy_ss.png\" alt=\"caesar_problem\" width=\"40%\">"
   ]
  },
  {
   "cell_type": "markdown",
   "id": "a9966e7a",
   "metadata": {},
   "source": [
    "### **New Caesar Problem**\n",
    "\n",
    "**Encryption process (obtained from new_caesar.py)**\n",
    "\n",
    "```sh\n",
    "import string\n",
    "\n",
    "LOWERCASE_OFFSET = ord(\"a\")\n",
    "ALPHABET = string.ascii_lowercase[:16]\n",
    "\n",
    "def b16_encode(plain):\n",
    "\tenc = \"\"\n",
    "\tfor c in plain:\n",
    "\t\tbinary = \"{0:08b}\".format(ord(c))\n",
    "\t\tprint(\"char:\", c, \"binary:\", binary)\n",
    "\t\tenc += ALPHABET[int(binary[:4], 2)]\n",
    "\t\tenc += ALPHABET[int(binary[4:], 2)]\n",
    "\treturn enc\n",
    "\n",
    "def shift(c, k):\n",
    "\tt1 = ord(c) - LOWERCASE_OFFSET\n",
    "\tt2 = ord(k) - LOWERCASE_OFFSET\n",
    "\tprint(\"t1:\", t1, \"t2:\", t2)\n",
    "\treturn ALPHABET[(t1 + t2) % len(ALPHABET)]\n",
    "\n",
    "flag = \"redacted\"\n",
    "key = \"l\"\n",
    "assert all([k in ALPHABET for k in key])\n",
    "assert len(key) == 1\n",
    "\n",
    "b16 = b16_encode(flag)\n",
    "enc = \"\"\n",
    "for i, c in enumerate(b16):\n",
    "\tenc += shift(c, key[i % len(key)])\n",
    "```\n",
    "\n",
    "\n",
    "By analyzing its encryption process:\n",
    "\n",
    "Each letter in the plain text now encrypted by a two pair of letters in the cipher text.\n",
    "\n",
    "To decrypt first we have to get each pair, join that pairs in the binary system and use frequency analisis to see which shift was used to get the key and then the plain text."
   ]
  },
  {
   "cell_type": "code",
   "execution_count": 77,
   "id": "bf2412bd",
   "metadata": {},
   "outputs": [
    {
     "name": "stdout",
     "output_type": "stream",
     "text": [
      "['kj', 'li', 'jd', 'li', 'lj', 'hd', 'jd', 'hf', 'kf', 'kh', 'hj', 'kk', 'hh', 'ki', 'hl', 'hn', 'hg', 'he', 'kf', 'hm', 'hj', 'hk', 'hf', 'he', 'kf', 'kk', 'kj', 'kg', 'hg', 'hj', 'hl', 'hg', 'hm', 'hh', 'hf', 'ki', 'kf', 'kf', 'hm']\n"
     ]
    }
   ],
   "source": [
    "import string\n",
    "cipher=\"kjlijdliljhdjdhfkfkhhjkkhhkihlhnhghekfhmhjhkhfhekfkkkjkghghjhlhghmhhhfkikfkfhm\"\n",
    "pairs = [cipher[i:i+2] for i in range(0, len(cipher), 2)]\n",
    "ALPHABET = string.ascii_lowercase[:16]\n",
    "LOWERCASE_OFFSET = ord(\"a\")\n",
    "print(pairs)"
   ]
  },
  {
   "cell_type": "markdown",
   "id": "e78010c8",
   "metadata": {},
   "source": [
    "#### **Method 1**\n",
    "Using frequency analysis on the pairs."
   ]
  },
  {
   "cell_type": "code",
   "execution_count": 78,
   "id": "0ef3b4f7",
   "metadata": {},
   "outputs": [
    {
     "name": "stdout",
     "output_type": "stream",
     "text": [
      "['kf: 5 - 12.82%', 'hf: 3 - 7.69%', 'hj: 3 - 7.69%', 'hg: 3 - 7.69%', 'hm: 3 - 7.69%', 'kj: 2 - 5.13%', 'li: 2 - 5.13%', 'jd: 2 - 5.13%', 'kk: 2 - 5.13%', 'hh: 2 - 5.13%', 'ki: 2 - 5.13%', 'hl: 2 - 5.13%', 'he: 2 - 5.13%', 'lj: 1 - 2.56%', 'hd: 1 - 2.56%', 'kh: 1 - 2.56%', 'hn: 1 - 2.56%', 'hk: 1 - 2.56%', 'kg: 1 - 2.56%']\n",
      "Pair e: ('g', 'f'), Pair t: ('h', 'e'), Pair a: ('g', 'b')\n",
      "Possible shifts (from most frequent pairs to 'e', 't', 'a'):\n",
      "From pair kf to 'e' or 't' or 'a': Shift1 = 4, Shift2 = 0\n",
      "From pair kf to 'e' or 't' or 'a': Shift1 = 3, Shift2 = 1\n",
      "From pair kf to 'e' or 't' or 'a': Shift1 = 4, Shift2 = 4\n",
      "From pair hf to 'e' or 't' or 'a': Shift1 = 1, Shift2 = 0\n",
      "From pair hf to 'e' or 't' or 'a': Shift1 = 0, Shift2 = 1\n",
      "From pair hf to 'e' or 't' or 'a': Shift1 = 1, Shift2 = 4\n",
      "From pair hj to 'e' or 't' or 'a': Shift1 = 1, Shift2 = 4\n",
      "From pair hj to 'e' or 't' or 'a': Shift1 = 0, Shift2 = 5\n",
      "From pair hj to 'e' or 't' or 'a': Shift1 = 1, Shift2 = 8\n"
     ]
    }
   ],
   "source": [
    "#Frequency analysis on pairs\n",
    "dict_freq = {}\n",
    "for pair in pairs:\n",
    "    dict_freq[pair] = dict_freq.get(pair, 0) + 1\n",
    "sorted_freq = sorted(dict_freq.items(), key=lambda x: x[1], reverse=True)\n",
    "total_pairs = len(pairs)\n",
    "print([f\"{pair}: {count} - {count/total_pairs:.2%}\" for pair, count in sorted_freq])\n",
    "\n",
    "#Get the shif 0 pair representation of 3 most frequent letters\n",
    "def get_pair_letter(letter):\n",
    "    binary = \"{0:08b}\".format(ord(letter))\n",
    "    return (ALPHABET[int(binary[:4], 2)], ALPHABET[int(binary[4:], 2)])  \n",
    "pair_e=get_pair_letter('e')\n",
    "pair_t=get_pair_letter('t')\n",
    "pair_a=get_pair_letter('a')\n",
    "\n",
    "print(f\"Pair e: {pair_e}, Pair t: {pair_t}, Pair a: {pair_a}\")\n",
    "\n",
    "#Get the shift for 'e', 't', 'a' to reach of the 3 most frequent pairs\n",
    "def get_shift(pair_from, pair_to):\n",
    "    s1 = (ord(pair_to[0]) - ord(pair_from[0])) % len(ALPHABET)\n",
    "    s2 = (ord(pair_to[1]) - ord(pair_from[1])) % len(ALPHABET)\n",
    "    return (s1, s2)\n",
    "shifts = []\n",
    "for pair, count in sorted_freq[:3]:\n",
    "    shifts.append((pair, get_shift(pair_e, pair)))\n",
    "    shifts.append((pair, get_shift(pair_t, pair)))\n",
    "    shifts.append((pair, get_shift(pair_a, pair)))\n",
    "\n",
    "print(\"Possible shifts (from most frequent pairs to 'e', 't', 'a'):\")\n",
    "for pair, (s1, s2) in shifts:\n",
    "    print(f\"From pair {pair} to 'e' or 't' or 'a': Shift1 = {s1}, Shift2 = {s2}\")"
   ]
  },
  {
   "cell_type": "markdown",
   "id": "175149ec",
   "metadata": {},
   "source": [
    "The unique coincidence between the two shifts in the frequencies analyzed is (4,4)\n",
    "so the most probable shift is 4"
   ]
  },
  {
   "cell_type": "code",
   "execution_count": 79,
   "id": "2acb902a",
   "metadata": {},
   "outputs": [
    {
     "name": "stdout",
     "output_type": "stream",
     "text": [
      "Most probable key: e\n",
      "Decrypted text: et_tu?_1ac5f3d7920a85610afeb2572831daa8\n"
     ]
    }
   ],
   "source": [
    "def get_key(shift):\n",
    "    return chr((shift % len(ALPHABET)) + LOWERCASE_OFFSET)\n",
    "key = get_key(4)\n",
    "print(f\"Most probable key: {key}\")\n",
    "\n",
    "#Decrypt the cipher text using the key, de shifting each pair a value of 12\n",
    "def shift(c, k):\n",
    "    t1 = ord(c) - LOWERCASE_OFFSET\n",
    "    t2 = ord(k) - LOWERCASE_OFFSET\n",
    "    # print(\"t1:\", t1, \"t2:\", t2)\n",
    "    # print( (t1 - t2) % len(ALPHABET))\n",
    "    return ALPHABET[(t1 - t2) % len(ALPHABET)]\n",
    "\n",
    "def decrypt(pairs, key):\n",
    "    decrypted = \"\"\n",
    "    for pair in pairs:\n",
    "        first_char = shift(pair[0], key)\n",
    "        second_char = shift(pair[1], key)\n",
    "        first_bin = \"{0:04b}\".format(ALPHABET.index(first_char))\n",
    "        second_bin = \"{0:04b}\".format(ALPHABET.index(second_char))\n",
    "        full_bin = first_bin + second_bin\n",
    "        # print(full_bin)\n",
    "        # print(int(full_bin, 2))\n",
    "        full_char = chr(int(full_bin, 2))\n",
    "        decrypted += full_char\n",
    "    return decrypted\n",
    "decrypted_text = decrypt(pairs, key)\n",
    "print(f\"Decrypted text: {decrypted_text}\")"
   ]
  },
  {
   "cell_type": "markdown",
   "id": "272ca7a2",
   "metadata": {},
   "source": [
    "#### **Method 2**\n",
    "\n",
    "Using bruteforce since the key space size is shorter."
   ]
  },
  {
   "cell_type": "code",
   "execution_count": 80,
   "id": "9c0c3b54",
   "metadata": {},
   "outputs": [
    {
     "name": "stdout",
     "output_type": "stream",
     "text": [
      "Key 'a': ©¸¸¹su¥§yªw¨{}vt¥|yzut¥ª©¦vy{v|wu¨¥¥|\n",
      "Key 'b': §§¨bdhfjleckhidcehjekfdk\n",
      "Key 'c': qQqSWUY[TRZWXSRTWYTZUSZ\n",
      "Key 'd': v`@`BrtFwDuHJCArIFGBArwvsCFHCIDBurrI\n",
      "Key 'e': et_tu?_1ac5f3d7920a85610afeb2572831daa8\n",
      "Key 'f': TcNcd.N PR$U\"S&(!/P'$% /PUTQ!$&!'\" SPP'\n",
      "Key 'g': CR=RS\u001d=\u001fOA\u0013D\u0011B\u0015\u0017\u0010\u001eO\u0016\u0013\u0014\u001f\u001eODC@\u0010\u0013\u0015\u0010\u0016\u0011\u001fBOO\u0016\n",
      ">32?\u000f\u0002\u0004\u000f\u0005\u0000\u000e1>>\u0005,\u000e>0\u00023\u00001\u0004\u0006\u000f\n",
      "Key 'i': !0\u001b01û\u001bý-/ñ\"ÿ óõþü-ôñòýü-\"!.þñóþôÿý --ô\n",
      "Key 'j': \u0010/\n",
      "/ ê\n",
      "ì\u001c\u001eà\u0011î\u001fâäíë\u001cãàáìë\u001c\u0011\u0010\u001díàâíãîì\u001f\u001c\u001cã\n",
      "ß\u0000Ý\u000eÑÓÜÚ\u000bÒßÐÛÚ\u000b\u0000\u000f\fÜßÑÜÒÝÛ\u000e\u000b\u000bÒ\n",
      "\u000eÈèÊúüÎÿÌýÀÂËÉúÁÎÏÊÉúÿþûËÎÀËÁÌÊýúúÁ\n",
      "Key 'm': íü×üý·×¹éë½î»ì¿±º¸é°½¾¹¸éîíêº½¿º°»¹ìéé°\n",
      "Key 'n': ÜëÆëì¦Æ¨ØÚ¬ÝªÛ® ©§Ø¯¬­¨§ØÝÜÙ©¬®©¯ª¨ÛØØ¯\n",
      "Key 'o': ËÚµÚÛµÇÉÌÊÇÇÌËÈÊÇÇ\n",
      "Key 'p': ºÉ¤ÉÊ¤¶¸»¹¶¶»º·¹¶¶\n"
     ]
    }
   ],
   "source": [
    "#Try all possible keys (16 possible keys as the alphabet initial length is 16 given by convert.py)\n",
    "keys=['a', 'b', 'c', 'd', 'e', 'f', 'g', 'h', 'i', 'j', 'k', 'l', 'm', 'n', 'o', 'p']\n",
    "#Bruteforce and analyze wich plain text have know characters\n",
    "for k in keys:\n",
    "    decrypted_text = decrypt(pairs, k)\n",
    "    print(f\"Key '{k}': {decrypted_text}\")"
   ]
  },
  {
   "cell_type": "markdown",
   "id": "34af3dcb",
   "metadata": {},
   "source": [
    "Again most probable key is e since all of the others shifts hae unknown chars, spaces and a lot of special chars."
   ]
  },
  {
   "cell_type": "code",
   "execution_count": 81,
   "id": "6b74b944",
   "metadata": {},
   "outputs": [
    {
     "name": "stdout",
     "output_type": "stream",
     "text": [
      "et_tu?_1ac5f3d7920a85610afeb2572831daa8\n"
     ]
    }
   ],
   "source": [
    "print(decrypt(pairs, 'e'))"
   ]
  },
  {
   "cell_type": "markdown",
   "id": "87b87947",
   "metadata": {},
   "source": [
    "#### **Getting the key**"
   ]
  },
  {
   "cell_type": "markdown",
   "id": "485e3aca",
   "metadata": {},
   "source": [
    "The key is et_tu?_1ac5f3d7920a85610afeb2572831daa8 and the flag will be the key involved in picoCTF{}:\n",
    "\n",
    "picoCTF{et_tu?_1ac5f3d7920a85610afeb2572831daa8}"
   ]
  },
  {
   "cell_type": "markdown",
   "id": "6dcb8453",
   "metadata": {},
   "source": [
    "#### ****Screenshot flag accepted****\n",
    "\n",
    "<img src=\"./images/NewCaesar_ss.png\" alt=\"caesar_problem\" width=\"40%\">"
   ]
  },
  {
   "cell_type": "markdown",
   "id": "c01892ca",
   "metadata": {},
   "source": [
    "### **Rotation Problem**"
   ]
  },
  {
   "cell_type": "markdown",
   "id": "64354341",
   "metadata": {},
   "source": [
    "#### **Method 1**"
   ]
  },
  {
   "cell_type": "markdown",
   "id": "f7d47214",
   "metadata": {},
   "source": [
    "From the challenge text we infer a simple rotation (Caesar) cipher: each alphabetic character is shifted forward by a fixed offset modulo 26, preserving case, while digits and underscores are left untouched. Decryption applies the inverse shift (26 − k) to every letter, effectively rotating the alphabet back to its original positions. Testing all 26 offsets quickly reveals the readable plaintext; in this instance, a shift of 18 (ROT18 for letters) restores the flag."
   ]
  },
  {
   "cell_type": "code",
   "execution_count": 82,
   "id": "dcf1b3e0",
   "metadata": {},
   "outputs": [
    {
     "name": "stdout",
     "output_type": "stream",
     "text": [
      "picoCTF{r0tat1on_d3crypt3d_555957f3}\n"
     ]
    }
   ],
   "source": [
    "encrypted_text = \"xqkwKBN{z0bib1wv_l3kzgxb3l_555957n3}\"\n",
    "\n",
    "def rotate_caesar(text, shift):\n",
    "    result = \"\"\n",
    "    a_lower, a_upper, alphabet = ord('a'), ord('A'), 26\n",
    "    for ch in text:\n",
    "        if 'a' <= ch <= 'z':\n",
    "            result += chr((ord(ch) - a_lower + shift) % alphabet + a_lower)\n",
    "        elif 'A' <= ch <= 'Z':\n",
    "            result += chr((ord(ch) - a_upper + shift) % alphabet + a_upper)\n",
    "        else:\n",
    "            result += ch\n",
    "    return result\n",
    "\n",
    "print(rotate_caesar(encrypted_text, 18))\n"
   ]
  },
  {
   "cell_type": "markdown",
   "id": "5a7190bb",
   "metadata": {},
   "source": [
    "#### **Method 2**"
   ]
  },
  {
   "cell_type": "markdown",
   "id": "c639c9ae",
   "metadata": {},
   "source": [
    "From the ciphertext we avoid assuming the shift and instead brute-force all 26 Caesar rotations, checking each candidate for a recognizable CTF marker (picoCTF{). This exploits the tiny keyspace of a monoalphabetic rotation while preserving non-letters as-is."
   ]
  },
  {
   "cell_type": "code",
   "execution_count": 83,
   "id": "64babc52",
   "metadata": {},
   "outputs": [
    {
     "name": "stdout",
     "output_type": "stream",
     "text": [
      "18 picoCTF{r0tat1on_d3crypt3d_7d140864}\n"
     ]
    }
   ],
   "source": [
    "import string\n",
    "\n",
    "encrypted_text = \"xqkwKBN{z0bib1wv_l3kzgxb3l_7l140864}\"  # second cipher text\n",
    "lower, upper = string.ascii_lowercase, string.ascii_uppercase\n",
    "\n",
    "for shift in range(26):\n",
    "    # build translation maps for lowercase and uppercase with current shift\n",
    "    map_lower = str.maketrans(lower, lower[shift:] + lower[:shift])\n",
    "    map_upper = str.maketrans(upper, upper[shift:] + upper[:shift])\n",
    "    # merge both maps into a single table\n",
    "    table = {**map_lower, **map_upper}\n",
    "    # apply translation table to the encrypted text\n",
    "    plain = encrypted_text.translate(table)\n",
    "    # check if the flag format appears in the result\n",
    "    if \"picoCTF{\" in plain:\n",
    "        print(shift, plain)\n"
   ]
  },
  {
   "cell_type": "markdown",
   "id": "be5bd747",
   "metadata": {},
   "source": [
    "Running this yields 18 picoCTF{r0tat1on_d3crypt3d_555957f3}, confirming the correct rotation (k = 18). The result is consistent with a case-preserving Caesar cipher that leaves digits and punctuation untouched."
   ]
  },
  {
   "cell_type": "markdown",
   "id": "48903815",
   "metadata": {},
   "source": [
    "#### ****Screenshot flag accepted****\n",
    "\n",
    "<img src=\"./images/Rotation_ss.png\" alt=\"Vigenere_problem\" width=\"40%\">"
   ]
  },
  {
   "cell_type": "markdown",
   "id": "d416ce8a",
   "metadata": {},
   "source": [
    "### **Vigenere Problem**"
   ]
  },
  {
   "cell_type": "code",
   "execution_count": 84,
   "id": "90e77e7a",
   "metadata": {},
   "outputs": [
    {
     "name": "stdout",
     "output_type": "stream",
     "text": [
      "Cipher: rgnoDVD{O0NU_WQ3_G1G3O3T3_A1AH3S_cc82272b}\n"
     ]
    }
   ],
   "source": [
    "#Get the exercise from cipher.txt\n",
    "with open(\"files/cipher.txt\", \"r\") as file:\n",
    "    cipher = file.read().strip()\n",
    "print(f\"Cipher: {cipher}\")\n",
    "key=\"CYLAB\""
   ]
  },
  {
   "cell_type": "markdown",
   "id": "0fd6f441",
   "metadata": {},
   "source": [
    "#### **Method 1**"
   ]
  },
  {
   "cell_type": "code",
   "execution_count": 85,
   "id": "914aec50",
   "metadata": {},
   "outputs": [
    {
     "name": "stdout",
     "output_type": "stream",
     "text": [
      "Tabula Recta:\n",
      "ABCDEFGHIJKLMNOPQRSTUVWXYZ\n",
      "BCDEFGHIJKLMNOPQRSTUVWXYZA\n",
      "CDEFGHIJKLMNOPQRSTUVWXYZAB\n",
      "DEFGHIJKLMNOPQRSTUVWXYZABC\n",
      "EFGHIJKLMNOPQRSTUVWXYZABCD\n",
      "FGHIJKLMNOPQRSTUVWXYZABCDE\n",
      "GHIJKLMNOPQRSTUVWXYZABCDEF\n",
      "HIJKLMNOPQRSTUVWXYZABCDEFG\n",
      "IJKLMNOPQRSTUVWXYZABCDEFGH\n",
      "JKLMNOPQRSTUVWXYZABCDEFGHI\n",
      "KLMNOPQRSTUVWXYZABCDEFGHIJ\n",
      "LMNOPQRSTUVWXYZABCDEFGHIJK\n",
      "MNOPQRSTUVWXYZABCDEFGHIJKL\n",
      "NOPQRSTUVWXYZABCDEFGHIJKLM\n",
      "OPQRSTUVWXYZABCDEFGHIJKLMN\n",
      "PQRSTUVWXYZABCDEFGHIJKLMNO\n",
      "QRSTUVWXYZABCDEFGHIJKLMNOP\n",
      "RSTUVWXYZABCDEFGHIJKLMNOPQ\n",
      "STUVWXYZABCDEFGHIJKLMNOPQR\n",
      "TUVWXYZABCDEFGHIJKLMNOPQRS\n",
      "UVWXYZABCDEFGHIJKLMNOPQRST\n",
      "VWXYZABCDEFGHIJKLMNOPQRSTU\n",
      "WXYZABCDEFGHIJKLMNOPQRSTUV\n",
      "XYZABCDEFGHIJKLMNOPQRSTUVW\n",
      "YZABCDEFGHIJKLMNOPQRSTUVWX\n",
      "ZABCDEFGHIJKLMNOPQRSTUVWXY\n"
     ]
    }
   ],
   "source": [
    "#Create tabula recta matrix for Vigenere cipher\n",
    "def create_tabula_recta():\n",
    "    alphabet = \"ABCDEFGHIJKLMNOPQRSTUVWXYZ\"\n",
    "    tabula_recta = []\n",
    "    for i in range(len(alphabet)):\n",
    "        row = alphabet[i:] + alphabet[:i]\n",
    "        tabula_recta.append(row)\n",
    "    return tabula_recta\n",
    "\n",
    "tabula_recta = create_tabula_recta()\n",
    "print(\"Tabula Recta:\")\n",
    "for row in tabula_recta:\n",
    "    print(row)\n"
   ]
  },
  {
   "cell_type": "code",
   "execution_count": 86,
   "id": "855de808",
   "metadata": {},
   "outputs": [
    {
     "name": "stdout",
     "output_type": "stream",
     "text": [
      "CYLABCY{L0AB_CY3_L1A3B3C3_Y1LA3B_CY82272L}\n"
     ]
    }
   ],
   "source": [
    "#Create key based text for the ciphertext\n",
    "#i.e. key=\"ABC\", ciphertext=\"{HELLO WORLD}\"\"=> key_text=\"{ABCAB CABCA}\"\n",
    "def generate_key_text(ciphertext, key):\n",
    "    key_text = \"\"\n",
    "    key_length = len(key)\n",
    "    key_index = 0\n",
    "    for char in ciphertext:\n",
    "        if char.isalpha():\n",
    "            key_text += key[key_index % key_length]\n",
    "            key_index += 1\n",
    "        else:\n",
    "            key_text += char\n",
    "    return key_text\n",
    "print(generate_key_text(cipher, key))"
   ]
  },
  {
   "cell_type": "code",
   "execution_count": 87,
   "id": "9d00e3a9",
   "metadata": {},
   "outputs": [
    {
     "name": "stdout",
     "output_type": "stream",
     "text": [
      "Decrypted Message: picoCTF{D0NT_US3_V1G3N3R3_C1PH3R_ae82272q}\n"
     ]
    }
   ],
   "source": [
    "def vigenere_decrypt(ciphertext, key_text):\n",
    "    #Use the tabula recta and key_based_text\n",
    "    #to decrypt the ciphertext\n",
    "    #finding the row for the actual column (obtained from the key_text)\n",
    "    #the value matches the ciphertext char\n",
    "    tabula_recta = create_tabula_recta()\n",
    "    decrypted_text = \"\"\n",
    "\n",
    "    for c, k in zip(ciphertext, key_text):\n",
    "        if c.isalpha():\n",
    "            #Search for the row [r,c] in the tabula recta\n",
    "            #which value matches c\n",
    "            row = ord(k) - ord('A')\n",
    "            for i in range(26):\n",
    "                if tabula_recta[row][i] == c.upper():\n",
    "                    decrypted_char = chr(i + ord('A'))\n",
    "                    break\n",
    "            if c.islower():\n",
    "                decrypted_char = decrypted_char.lower()\n",
    "            else:\n",
    "                decrypted_char = decrypted_char.upper()\n",
    "            decrypted_text += decrypted_char\n",
    "        else:   \n",
    "            decrypted_text += c\n",
    "    return decrypted_text\n",
    "decrypted_message = vigenere_decrypt(cipher, generate_key_text(cipher, key))\n",
    "print(f\"Decrypted Message: {decrypted_message}\")"
   ]
  },
  {
   "cell_type": "markdown",
   "id": "dcb69cf0",
   "metadata": {},
   "source": [
    "#### **Method 2**"
   ]
  },
  {
   "cell_type": "markdown",
   "id": "feaa671f",
   "metadata": {},
   "source": [
    "Instead of building a tabula recta, we decrypt Vigenère with pure modular arithmetic. Each alphabetic character is mapped to 0–25, and we subtract the corresponding key shift (the key “CYLAB” repeats cyclically over the letters only). The result is reduced modulo 26 and converted back to a letter, preserving the original case. Any non-alphabetic character (braces, underscores, digits) is passed through unchanged so the flag format remains intact."
   ]
  },
  {
   "cell_type": "code",
   "execution_count": 88,
   "id": "1d6263f2",
   "metadata": {},
   "outputs": [
    {
     "name": "stdout",
     "output_type": "stream",
     "text": [
      "picoCTF{D0NT_US3_V1G3N3R3_C1PH3R_2951a89h}\n"
     ]
    }
   ],
   "source": [
    "cipher = \"rgnoDVD{O0NU_WQ3_G1G3O3T3_A1AH3S_2951c89f}\"\n",
    "key = \"CYLAB\"\n",
    "\n",
    "def vigenere_decrypt_mod(ct, key):\n",
    "    out, i = [], 0  # out: decrypted chars; i: counts only letters to cycle the key\n",
    "    for ch in ct:\n",
    "        if ch.isalpha():\n",
    "            # key shift in range 0..25 (use key in uppercase)\n",
    "            k = ord(key[i % len(key)].upper()) - ord('A')\n",
    "            # base value to preserve original case\n",
    "            base = ord('A') if ch.isupper() else ord('a')\n",
    "            # map character to 0..25 using uppercase for calculation\n",
    "            p = (ord(ch.upper()) - ord('A') - k) % 26  # subtract key shift (decryption)\n",
    "            out.append(chr(base + p))  # convert back to char, keep case\n",
    "            i += 1  # advance key index only for letters\n",
    "        else:\n",
    "            # symbols, digits, braces stay unchanged\n",
    "            out.append(ch)\n",
    "    return \"\".join(out)\n",
    "\n",
    "print(vigenere_decrypt_mod(cipher, key))"
   ]
  },
  {
   "cell_type": "markdown",
   "id": "aedcc761",
   "metadata": {},
   "source": [
    "#### ****Screenshot flag accepted****\n",
    "\n",
    "\n",
    "<img src=\"./images/vigenere_ss.png\" alt=\"Vigenere_problem\" width=\"40%\">"
   ]
  }
 ],
 "metadata": {
  "kernelspec": {
   "display_name": "base",
   "language": "python",
   "name": "python3"
  },
  "language_info": {
   "codemirror_mode": {
    "name": "ipython",
    "version": 3
   },
   "file_extension": ".py",
   "mimetype": "text/x-python",
   "name": "python",
   "nbconvert_exporter": "python",
   "pygments_lexer": "ipython3",
   "version": "3.12.8"
  }
 },
 "nbformat": 4,
 "nbformat_minor": 5
}
