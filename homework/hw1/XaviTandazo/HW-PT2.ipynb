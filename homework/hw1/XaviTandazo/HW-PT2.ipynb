{
 "cells": [
  {
   "cell_type": "markdown",
   "id": "8ca4b294",
   "metadata": {},
   "source": [
    "# **Parte II: Ejercicios Prácticos**\n",
    "### *Xavier Tandazo*\n",
    "___\n",
    "### **Exercise 1: Caesar Cipher Analysis**\n",
    "Given the following ciphertext encrypted with a Caesar cipher:"
   ]
  },
  {
   "cell_type": "code",
   "execution_count": 5,
   "id": "2040d4bb",
   "metadata": {},
   "outputs": [],
   "source": [
    "ciphertext = \"\"\"Al osk lzw twkl gx laewk, al osk lzw ogjkl gx laewk, al osk lzw syw gx oakvge,\n",
    "al osk lzw syw gx xggdakzfwkk, al osk lzw whguz gx twdawx, al osk lzw whguz gx\n",
    "afujwvmdalq, al osk lzw kwskgf gx Dayzl, al osk lzw kwskgf gx Vsjcfwkk, al osk\n",
    "lzw khjafy gx zghw, al osk lzw oaflwj gx vwkhsaj, ow zsv wnwjqlzafy twxgjw mk,\n",
    "ow zsv fglzafy twxgjw mk, ow owjw sdd ygafy vajwul lg Zwsnwf, ow owjw sdd ygafy\n",
    "vajwul lzw glzwj osq...\"\"\""
   ]
  },
  {
   "cell_type": "code",
   "execution_count": 6,
   "id": "d70a50e6",
   "metadata": {},
   "outputs": [],
   "source": [
    "def caesar_decrypt(text, shift):\n",
    "    result = \"\"\n",
    "    for ch in text: #aqui recorremos cada caracter\n",
    "        if ch.isalpha(): #verificamos si es una letra, ya que hay muchos espacios y comas\n",
    "            base = ord('A') if ch.isupper() else ord('a')\n",
    "            result += chr((ord(ch) - base - shift) % 26 + base) #transformamos la letra a su indice, le restamos el desplazamiento y volvemos a transformar a letra\n",
    "        else:\n",
    "            result += ch #si no es una letra, la dejamos igual\n",
    "    return result"
   ]
  },
  {
   "cell_type": "markdown",
   "id": "6fc59154",
   "metadata": {},
   "source": [
    "Ahora vamos a descargar una libreria para validar palabras."
   ]
  },
  {
   "cell_type": "code",
   "execution_count": null,
   "id": "5a54b7a2",
   "metadata": {},
   "outputs": [],
   "source": [
    "import nltk\n",
    "nltk.download('words')"
   ]
  },
  {
   "cell_type": "markdown",
   "id": "929dd702",
   "metadata": {},
   "source": [
    "Con esto ya podemos encontrar el mejor score tomando como **guía** el diccionario de palabras y contrastando con cada de las keys que generemos (total 26). "
   ]
  },
  {
   "cell_type": "code",
   "execution_count": null,
   "id": "dc7757cb",
   "metadata": {},
   "outputs": [
    {
     "name": "stdout",
     "output_type": "stream",
     "text": [
      "Mejor clave con nltk: 18  — score: 1.0\n",
      "\n",
      "Texto descifrado con la mejor clave:\n",
      "\n",
      "It was the best of times, it was the worst of times, it was the age of wisdom,\n",
      "it was the age of foolishness, it was the epoch of belief, it was the epoch of\n",
      "incredulity, it was the season of Light, it was the season of Darkness, it was\n",
      "the spring of hope, it was the winter of despair, we had everything before us,\n",
      "we had nothing before us, we were all going direct to Heaven, we were all going\n",
      "direct the other way...\n",
      "\n",
      "Resto de candidatos — score:\n",
      "\n",
      "2) clave 25 — score=0.271\n",
      "3) clave 0 — score=0.165\n",
      "4) clave 6 — score=0.153\n"
     ]
    }
   ],
   "source": [
    "from nltk.corpus import words\n",
    "ENGLISH_VOCAB = set(w.lower() for w in words.words()) #usamos la libreria para tener un vocabulario en ingles\n",
    "\n",
    "def clean_and_words(s):\n",
    "    cleaned_chars = []\n",
    "    for ch in s:\n",
    "        if ch.isalpha() or ch.isspace():  #mantenemos letras y espacios\n",
    "            cleaned_chars.append(ch.lower())\n",
    "        else:\n",
    "            cleaned_chars.append(' ') #reemplazamos otros caracteres por ' '\n",
    "    cleaned = ''.join(cleaned_chars)\n",
    "    return [w for w in cleaned.split() if w] #devolvemos la lista de palabras\n",
    "\n",
    "def score_with_nltk_vocab(plain):\n",
    "    tokens = clean_and_words(plain) #obtenemos las palabras\n",
    "    if not tokens:\n",
    "        return 0  #evitar division por cero\n",
    "    valid = sum(1 for w in tokens if w in ENGLISH_VOCAB) #contar palabras validas\n",
    "    return valid / len(tokens) #proporcion de palabras validas\n",
    "\n",
    "candidates = []\n",
    "for k in range(26):\n",
    "    plain = caesar_decrypt(ciphertext, k) #desciframos con la clave k\n",
    "    score = score_with_nltk_vocab(plain) #calculamos score basado en vocabulario\n",
    "    candidates.append((k, score, plain)) #guardamos k, score y texto descifrado\n",
    "\n",
    "candidates.sort(key=lambda t: t[1], reverse=True)\n",
    "\n",
    "best = candidates[0] #mejor clave y score\n",
    "print(\"Mejor clave con nltk:\", best[0], \" — score:\", best[1])\n",
    "print(\"\\nTexto descifrado con la mejor clave:\\n\")\n",
    "print(best[2]) #imprimimos solo el texto del mejor\n",
    "\n",
    "print(\"\\nResto de candidatos — score:\\n\")\n",
    "for i, (k, score, _) in enumerate(candidates[1:4], 2): #enumeramos desde el segundo mejor\n",
    "    print(f\"{i}) clave {k} — score={score:.3f}\")"
   ]
  },
  {
   "cell_type": "markdown",
   "id": "35234c23",
   "metadata": {},
   "source": [
    "___\n",
    "### **Exercise 2: Affine Cipher Implementation**\n",
    "Given the following ciphertext encrypted with a Caesar cipher:\n",
    "\n",
    "$$\n",
    "E(x) = (a \\cdot x + b) \\mod 26\n",
    "$$\n",
    "\n",
    "Donde:\n",
    "\n",
    "- Plaintext: **CRYPTOGRAPHY**  \n",
    "- \\(a = 5\\)  \n",
    "- \\(b = 8\\)  \n",
    "- Índices de letras: \\(x = 0 \\text{ para A}, 1 \\text{ para B}, \\dots, 25 \\text{ para Z}\\)"
   ]
  },
  {
   "cell_type": "markdown",
   "id": "0104a67d",
   "metadata": {},
   "source": [
    "   **a)** Encrypt the plaintext (show calculations for first 3 letters) "
   ]
  },
  {
   "cell_type": "markdown",
   "id": "de63e955",
   "metadata": {},
   "source": [
    "\n",
    "El proceso a \"mano\" de las 3 primeras letras sería así, reemplazando todo lo que el enunciado nos proporciona (variables a,b y x) según corresponda con la letra del *Plaintext*:\n",
    "\n",
    "| Letra | Índice \\(x\\) | Cálculo \\(E(x) = (5x+8) \\mod 26\\) | Índice cifrado \\(y\\) | Letra cifrada |\n",
    "|-------|--------------|----------------------------------|---------------------|---------------|\n",
    "| **C**     | 2            | (5·2 + 8) mod 26                | 18                  | S             |\n",
    "| **R**     | 17           | (5·17 + 8) mod 26               | 15                  | P             |\n",
    "| **Y**     | 24           | (5·24 + 8) mod 26               | 24                  | Y             |"
   ]
  },
  {
   "cell_type": "code",
   "execution_count": 14,
   "id": "1cd2e534",
   "metadata": {},
   "outputs": [
    {
     "name": "stdout",
     "output_type": "stream",
     "text": [
      "Texto cifrado completo: SPYFZAMPIFRY\n"
     ]
    }
   ],
   "source": [
    "#Ponemos los datos\n",
    "pla = \"CRYPTOGRAPHY\" #texto plano\n",
    "a = 5\n",
    "b = 8\n",
    "\n",
    "def let_a_ind(c): #esta sera funcion para convertir letra a indice (A=0,...,Z=25)\n",
    "    return ord(c.upper()) - ord('A')\n",
    "\n",
    "def ind_a_let(i): #y esta funcion para convertir indice a letra\n",
    "    return chr(i + ord('A'))\n",
    "\n",
    "#Encriptamos\n",
    "cip = \"\"\n",
    "for c in pla:\n",
    "    x = let_a_ind(c)  #convertimos la letra a indice\n",
    "    y = (a * x + b) % 26  #formula del enunciado\n",
    "    cip += ind_a_let(y)  #convertimos de vuelta a letra y agregar al ciphertext\n",
    "\n",
    "print(\"Texto cifrado completo:\", cip)"
   ]
  },
  {
   "cell_type": "markdown",
   "id": "ce100bf2",
   "metadata": {},
   "source": [
    "**b)** Find the decryption key values (multiplicative inverse of a)"
   ]
  },
  {
   "cell_type": "markdown",
   "id": "f8ba1fd0",
   "metadata": {},
   "source": [
    "\n",
    "Sabemos que la fórmula de descifrado del Affine Cipher:\n",
    "\n",
    "$$\n",
    "D(y) = a^{-1} \\cdot (y - b) \\mod 26\n",
    "$$\n",
    "\n",
    "donde:\n",
    "\n",
    "$$\n",
    "a \\cdot a^{-1} \\equiv 1 \\ (\\text{mod } 26)\n",
    "$$\n",
    "\n",
    "Dado que $a = 5$, buscamos $a^{-1}$ tal que:\n",
    "\n",
    "$$\n",
    "5 \\cdot a^{-1} \\equiv 1 \\ (\\text{mod } 26)\n",
    "$$"
   ]
  },
  {
   "cell_type": "code",
   "execution_count": null,
   "id": "52519da5",
   "metadata": {},
   "outputs": [
    {
     "name": "stdout",
     "output_type": "stream",
     "text": [
      "La inversa es 21\n"
     ]
    }
   ],
   "source": [
    "#Esta funcion srive para encontrar inversa multiplicativa modulo m\n",
    "def inv_mod(a, m):\n",
    "    for i in range(1, m): #probamos por todos los posibles valores de 1 a m-1\n",
    "        if (a * i) % m == 1: #verificamos la condicion de inversa\n",
    "            return i\n",
    "    return None #si no existe inversa\n",
    "\n",
    "a = 5\n",
    "m = 26\n",
    "a_inv = inv_mod(a, m) #calcular inversa multiplicativa\n",
    "print(\"La inversa es\", a_inv)\n"
   ]
  },
  {
   "cell_type": "markdown",
   "id": "cedfb9fe",
   "metadata": {},
   "source": [
    "Entonces encontramos que:\n",
    "\n",
    "$$\n",
    "a^{-1} = 21\n",
    "$$\n",
    "\n",
    "Entonces concluímos que la fórmula de descifrado completa es:\n",
    "\n",
    "$$\n",
    "D(y) = 21 \\cdot (y - 8) \\mod 26\n",
    "$$"
   ]
  },
  {
   "cell_type": "markdown",
   "id": "01076996",
   "metadata": {},
   "source": [
    "**c)** Verify your encryption by decrypting the first 3 letters "
   ]
  },
  {
   "cell_type": "markdown",
   "id": "ca5a5d58",
   "metadata": {},
   "source": [
    "El proceso a \"mano\" de las 3 primeras letras cifradas sería así, usando la fórmula de descifrado:\n",
    "\n",
    "| Letra cifrada | Índice \\(y\\) | Cálculo \\(D(y) = 21 \\cdot (y - 8) \\mod 26\\) | Índice descifrado | Letra descifrada |\n",
    "|---------------|--------------|--------------------------------------------|-----------------|----------------|\n",
    "| **S**         | 18           | 21*(18-8) mod 26 = 210 mod 26             | 2               | C              |\n",
    "| **P**         | 15           | 21*(15-8) mod 26 = 147 mod 26             | 17              | R              |\n",
    "| **Y**         | 24           | 21*(24-8) mod 26 = 336 mod 26             | 24              | Y              |\n"
   ]
  },
  {
   "cell_type": "code",
   "execution_count": null,
   "id": "bb4cf09b",
   "metadata": {},
   "outputs": [
    {
     "name": "stdout",
     "output_type": "stream",
     "text": [
      "Texto descifrado completo: CRYPTOGRAPHY\n"
     ]
    }
   ],
   "source": [
    "#Ponemos los datos\n",
    "a_inv = 21\n",
    "b = 8\n",
    "\n",
    "#Funciones de conversion letra a indice\n",
    "def let_a_ind(c):\n",
    "    return ord(c.upper()) - ord('A')\n",
    "\n",
    "def ind_a_let(i):\n",
    "    return chr(i + ord('A'))\n",
    "\n",
    "#Decframos el plaintext\n",
    "plain = \"\"\n",
    "for c in cip:\n",
    "    y = let_a_ind(c) #indice de la letra cifrada\n",
    "    x = (a_inv * (y - b)) % 26 #formula de descifrado\n",
    "    plain += ind_a_let(x) #convertimos de indice a letra y agregar al plaintext\n",
    "\n",
    "print(\"Texto descifrado completo:\", plain)\n"
   ]
  },
  {
   "cell_type": "markdown",
   "id": "1ca31708",
   "metadata": {},
   "source": [
    "**d)** How many valid keys exist for the Affine cipher? Explain your reasoning."
   ]
  },
  {
   "cell_type": "markdown",
   "id": "0d440bba",
   "metadata": {},
   "source": [
    "Sabemos que para que una clave `a` sea válida en el Affine Cipher, se debe cumplir que tenga **inversa multiplicativa módulo 26**.  \n",
    "Es decir, que `a` y 26 deben ser **coprimos**:\n",
    "\n",
    "$$\n",
    "\\gcd(a, 26) = 1\n",
    "$$\n",
    "\n",
    "- Los posibles valores de `a` entre 1 y 25 que cumplen esta condición son:\n",
    "\n",
    "$$\n",
    "a = 1, 3, 5, 7, 9, 11, 15, 17, 19, 21, 23, 25\n",
    "$$\n",
    "\n",
    "Osea que hay 12 valores posibles para `a`.\n",
    "\n",
    "- El valor de `b` puede ser cualquier número entre 0 y 25, osea que hay 26 posibilidades.\n",
    "\n",
    "Por lo tanto, el número total de claves válidas del Affine Cipher es:\n",
    "\n",
    "$$\n",
    "12 \\cdot 26 = 312\n",
    "$$"
   ]
  },
  {
   "cell_type": "markdown",
   "id": "0ab44afc",
   "metadata": {},
   "source": [
    "___\n",
    "#### **Exercise 3: Perfect Secrecy Analysis**\n",
    "Consider a simple cipher that operates on single bits where:\n",
    "- Key space: {0, 1}\n",
    "- Plaintext space: {0, 1}\n",
    "- Encryption: C = P ⊕ K (XOR operation)\n",
    "- Each key is chosen with probability 1/2"
   ]
  },
  {
   "cell_type": "markdown",
   "id": "370f03ff",
   "metadata": {},
   "source": [
    "**a)** Create the complete encryption matrix showing all possible (plaintext, key, ciphertext) combinations\n",
    "\n",
    "| Plaintext (P) | Key (K) | Ciphertext (C = P ⊕ K) |\n",
    "|---------------|---------|------------------------|\n",
    "| 0             | 0       | 0                      |\n",
    "| 0             | 1       | 1                      |\n",
    "| 1             | 0       | 1                      |\n",
    "| 1             | 1       | 0                      |"
   ]
  },
  {
   "cell_type": "markdown",
   "id": "c1d1b4a8",
   "metadata": {},
   "source": [
    "**b)** Calculate P(C=0) and P(C=1) \n",
    "\n",
    "Sabemos que cada clave se elige con probabilidad \\(1/2\\) y que cada plaintext es igualmente probable.  \n",
    "\n",
    "De la matriz de cifrado:\n",
    "\n",
    "| Plaintext (P) | Key (K) | Ciphertext (C = P ⊕ K) |\n",
    "|---------------|---------|------------------------|\n",
    "| 0             | 0       | 0                      |\n",
    "| 0             | 1       | 1                      |\n",
    "| 1             | 0       | 1                      |\n",
    "| 1             | 1       | 0                      |\n",
    "\n",
    "Entonces podemos ver que:\n",
    "\n",
    "- \\(C = 0\\) ocurre en dos de las cuatro combinaciones posibles:\n",
    "\n",
    "$$\n",
    "P(C=0) = \\frac{2}{4} = \\frac{1}{2}\n",
    "$$\n",
    "\n",
    "- \\(C = 1\\) ocurre en las otras dos combinaciones:\n",
    "\n",
    "$$\n",
    "P(C=1) = \\frac{2}{4} = \\frac{1}{2}\n",
    "$$\n",
    "\n"
   ]
  },
  {
   "cell_type": "markdown",
   "id": "cd2e058a",
   "metadata": {},
   "source": [
    "**c)** Calculate P(P=0|C=0) and P(P=1|C=0) \n",
    "\n",
    "Usamos la definición de probabilidad condicional:\n",
    "\n",
    "$$\n",
    "P(P=p \\mid C=c) = \\frac{P(P=p, C=c)}{P(C=c)}\n",
    "$$\n",
    "\n",
    "De la matriz de cifrado:\n",
    "\n",
    "| Plaintext (P) | Key (K) | Ciphertext (C = P ⊕ K) |\n",
    "|---------------|---------|------------------------|\n",
    "| 0             | 0       | 0                      |\n",
    "| 0             | 1       | 1                      |\n",
    "| 1             | 0       | 1                      |\n",
    "| 1             | 1       | 0                      |\n",
    "\n",
    "Para \\(C = 0\\):\n",
    "\n",
    "- Combinaciones con \\(C=0\\): \\((P=0,K=0)\\) y \\((P=1,K=1)\\)  \n",
    "- Probabilidades conjuntas: \\(P(P=0, C=0) = 1/4\\), \\(P(P=1, C=0) = 1/4\\)  \n",
    "- Como \\(P(C=0) = 1/2\\):\n",
    "\n",
    "$$\n",
    "P(P=0 \\mid C=0) = \\frac{P(P=0, C=0)}{P(C=0)} = \\frac{1/4}{1/2} = \\frac{1}{2}\n",
    "$$\n",
    "\n",
    "$$\n",
    "P(P=1 \\mid C=0) = \\frac{P(P=1, C=0)}{P(C=0)} = \\frac{1/4}{1/2} = \\frac{1}{2}\n",
    "$$"
   ]
  },
  {
   "cell_type": "markdown",
   "id": "5ef58672",
   "metadata": {},
   "source": [
    "**d)** Does this cipher achieve perfect secrecy? Prove your answer using Shannon's definition\n",
    "\n",
    "\n",
    "La definición de Shannon dice que un cifrado logra **secreto perfecto** si la distribución de probabilidad del plaintext es **independiente del ciphertext**, es decir:\n",
    "\n",
    "$$\n",
    "P(P=p \\mid C=c) = P(P=p) \\quad \\forall p \\in P, c \\in C\n",
    "$$\n",
    "\n",
    "De nuestro ejercicio:\n",
    "\n",
    "- Sabemos que \n",
    "\n",
    "$$\n",
    "(P(P=0) = P(P=1) = 1/2)  \n",
    "$$\n",
    "\n",
    "- Y del literal c), calculamos:\n",
    "\n",
    "$$\n",
    "P(P=0 \\mid C=0) = \\frac{1}{2} = P(P=0)\n",
    "$$\n",
    "\n",
    "$$\n",
    "P(P=1 \\mid C=0) = \\frac{1}{2} = P(P=1)\n",
    "$$\n",
    "\n",
    "De forma simétrica hacemos que para \\(C=1\\):\n",
    "\n",
    "$$\n",
    "P(P=0 \\mid C=1) = \\frac{1}{2} = P(P=0)\n",
    "$$\n",
    "\n",
    "$$\n",
    "P(P=1 \\mid C=1) = \\frac{1}{2} = P(P=1)\n",
    "$$\n",
    "\n",
    "Finalmente, como $$(P(P \\mid C) = P(P))$$ para **todas las combinaciones**, el cifrado **sí cumple con secreto perfecto** según la definición de Shannon.\n"
   ]
  },
  {
   "cell_type": "markdown",
   "id": "77fca5a0",
   "metadata": {},
   "source": [
    "**e)** What happens to perfect secrecy if we reuse the key for multiple bits?\n",
    "\n",
    "Si reutilizamos la misma clave para cifrar **múltiples bits**, el cipher **ya no mantiene secreto perfecto**, ya que:\n",
    "\n",
    "- Para un solo bit, cada ciphertext es independiente del plaintext gracias a la clave aleatoria de un solo bit.  \n",
    "- Si usamos la misma clave \\(K\\) para varios bits, se introduce **dependencia entre los ciphertexts**.  \n",
    "- Por ejemplo, si ciframos dos bits \\(P_1, P_2\\) con la misma clave \\(K\\):\n",
    "\n",
    "$$\n",
    "C_1 = P_1 \\oplus K, \\quad C_2 = P_2 \\oplus K\n",
    "$$\n",
    "\n",
    "- Conociendo \\(C1\\) y \\(C2\\), un atacante puede calcular:\n",
    "\n",
    "$$\n",
    "C_1 \\oplus C_2 = P_1 \\oplus P_2\n",
    "$$\n",
    "\n",
    "- Esto **filtra información sobre los plaintexts** y permite inferencias, rompiendo la independencia requerida por Shannon.  \n",
    "\n",
    "#### Por eso, reusar la clave compromete la seguridad y **el cipher deja de tener secreto perfecto**.\n",
    "\n"
   ]
  },
  {
   "cell_type": "markdown",
   "id": "6618fc40",
   "metadata": {},
   "source": [
    "___\n",
    "#### **Exercise 4: Entropy and Key Analysis**\n",
    "Consider the following scenarios:\n",
    "\n",
    "***Scenario A: A password system where:***\n",
    "- Passwords are exactly 4 characters long\n",
    "- Each character is chosen uniformly from {A, B, C, D}\n",
    "\n",
    "***Scenario B: A Vigenère cipher with:***\n",
    "- Key length = 3\n",
    "- Each key character chosen uniformly from 26-letter alphabet"
   ]
  },
  {
   "cell_type": "markdown",
   "id": "5f35ac67",
   "metadata": {},
   "source": [
    "**a)** Calculate the entropy (in bits) for Scenario A"
   ]
  },
  {
   "cell_type": "markdown",
   "id": "f4be2e1c",
   "metadata": {},
   "source": [
    "Datos:\n",
    "\n",
    "- Cada contraseña tiene 4 caracteres.  \n",
    "- Cada carácter se elige uniformemente de \\(\\{A, B, C, D\\}\\), es decir **4 opciones**.  \n",
    "\n",
    "Sabemos que la fórmula de entropía para un espacio uniforme es:\n",
    "\n",
    "$$\n",
    "H = \\log_2(N)\n",
    "$$\n",
    "\n",
    "donde \\(N\\) es el número de combinaciones posibles.  \n",
    "\n",
    "Ahora, el número de combinaciones posibles:\n",
    "\n",
    "$$\n",
    "N = 4^4 = 256\n",
    "$$\n",
    "\n",
    "Por lo tanto, la entropía sería:\n",
    "\n",
    "$$\n",
    "H_A = \\log_2(256) = 8 \\text{ bits}\n",
    "$$"
   ]
  },
  {
   "cell_type": "code",
   "execution_count": 20,
   "id": "ff249ec8",
   "metadata": {},
   "outputs": [
    {
     "name": "stdout",
     "output_type": "stream",
     "text": [
      "Número total de combinaciones = 256\n",
      "Entropía = 8.0 bits\n"
     ]
    }
   ],
   "source": [
    "import math\n",
    "\n",
    "#Ponemos los datos\n",
    "num_caracteres = 4 #longitud de la contraseña\n",
    "opciones_por_caracter = 4 #A, B, C, D\n",
    "\n",
    "#Número total de combinaciones\n",
    "N = opciones_por_caracter ** num_caracteres\n",
    "\n",
    "#Entropía en bits\n",
    "H = math.log2(N)\n",
    "\n",
    "print(\"Número total de combinaciones =\", N)\n",
    "print(\"Entropía =\", H, \"bits\")\n"
   ]
  },
  {
   "cell_type": "markdown",
   "id": "141b303f",
   "metadata": {},
   "source": [
    "**b)** Calculate the entropy (in bits) for Scenario B\n",
    "\n",
    "Sabemos que:\n",
    "\n",
    "- Longitud de la clave: 3 caracteres  \n",
    "- Cada carácter se elige uniformemente de 26 letras  \n",
    "\n",
    "El número de combinaciones posibles:\n",
    "\n",
    "$$\n",
    "N = 26^3 = 17576\n",
    "$$\n",
    "\n",
    "Y por ende la entropía sería:\n",
    "\n",
    "$$\n",
    "H_B = \\log_2(26^3) = 3 \\cdot \\log_2(26) \\approx 14.09 \\text{ bits}\n",
    "$$"
   ]
  },
  {
   "cell_type": "code",
   "execution_count": 21,
   "id": "89fe3e4d",
   "metadata": {},
   "outputs": [
    {
     "name": "stdout",
     "output_type": "stream",
     "text": [
      "Número total de combinaciones= 17576\n",
      "Entropía= 14.101319154423278 bits\n"
     ]
    }
   ],
   "source": [
    "import math\n",
    "\n",
    "#Ponemos los datos\n",
    "long_clave = 3 # longitud de la clave\n",
    "opciones_por_caracter = 26 # letras del alfabeto\n",
    "\n",
    "#El número total de combinaciones\n",
    "N = opciones_por_caracter ** long_clave\n",
    "\n",
    "#Entropía en bits\n",
    "H = long_clave * math.log2(opciones_por_caracter)\n",
    "\n",
    "print(\"Número total de combinaciones=\", N)\n",
    "print(\"Entropía=\", H, \"bits\")"
   ]
  },
  {
   "cell_type": "markdown",
   "id": "47c40f7a",
   "metadata": {},
   "source": [
    "**c)** If an attacker can test 1000 keys per second, how long would it take to break each system in the worst case?\n",
    "\n",
    "Tomemos en cuenta el **peor caso**, donde el atacante prueba todas las combinaciones posibles:\n",
    "\n",
    "- En el escenario A:\n",
    "\n",
    "$$\n",
    "t_A = \\frac{N_A}{1000} = \\frac{256}{1000} \\text{ s} \\approx 0.256 \\text{ s}\n",
    "$$\n",
    "\n",
    "- En el escenario B:\n",
    "\n",
    "$$\n",
    "t_B = \\frac{N_B}{1000} = \\frac{17576}{1000} \\text{ s} \\approx 17.576 \\text{ s}\n",
    "$$"
   ]
  },
  {
   "cell_type": "markdown",
   "id": "487b87e5",
   "metadata": {},
   "source": [
    "**d)** Calculate the \"unicity distance\" concept: If English text has entropy ≈ 1.5 bits per character, how much ciphertext would theoretically be needed to uniquely determine a 3-character Vigenère key?\n",
    "\n",
    "La definición de U, es la cantidad mínima de texto cifrado necesaria para determinar **únicamente** la clave.  \n",
    "\n",
    "Fórmula aproximada:\n",
    "\n",
    "$$\n",
    "U \\approx \\frac{H(K)}{D}\n",
    "$$\n",
    "\n",
    "donde:\n",
    "\n",
    "- \\(H(K)\\) = entropía de la clave  \n",
    "- \\(D\\) = entropía por carácter del texto en bits  \n",
    "\n",
    "Datos:\n",
    "\n",
    "- \\(H(K) = 14.09 \\text{ bits}\\) (del literal b)  \n",
    "- Entropía del inglés ≈ 1.5 bits por carácter  \n",
    "\n",
    "Por lo tanto:\n",
    "\n",
    "$$\n",
    "U \\approx \\frac{14.09}{1.5} \\approx 9.39 \\text{ caracteres}\n",
    "$$\n",
    "\n",
    "Entonces, se necesitan al menos **10 caracteres de ciphertext** para determinar la clave de 3 caracteres con alta probabilidad."
   ]
  }
 ],
 "metadata": {
  "kernelspec": {
   "display_name": "Python 3",
   "language": "python",
   "name": "python3"
  },
  "language_info": {
   "codemirror_mode": {
    "name": "ipython",
    "version": 3
   },
   "file_extension": ".py",
   "mimetype": "text/x-python",
   "name": "python",
   "nbconvert_exporter": "python",
   "pygments_lexer": "ipython3",
   "version": "3.10.11"
  }
 },
 "nbformat": 4,
 "nbformat_minor": 5
}
