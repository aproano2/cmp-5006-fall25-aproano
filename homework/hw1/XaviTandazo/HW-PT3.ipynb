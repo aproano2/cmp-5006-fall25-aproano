{
 "cells": [
  {
   "cell_type": "markdown",
   "id": "b0ed3216",
   "metadata": {},
   "source": [
    "# **Parte III: Pico CTF**\n",
    "### *Xavier Tandazo*\n",
    "___"
   ]
  },
  {
   "cell_type": "markdown",
   "id": "c98fc272",
   "metadata": {},
   "source": [
    "#### **Exercise 1: Custom Cyclical Cipher (C3)**\n",
    "\n",
    "**Description**\n",
    "\n",
    "We found a brand new type of encryption, can you break the secret code? (Wrap with picoCTF{})"
   ]
  },
  {
   "cell_type": "markdown",
   "id": "0a9293eb",
   "metadata": {},
   "source": [
    "**Explicación:**\n",
    "\n",
    "La tarea nos da 2 archivos: *cyphertext* y *convert.py*. El script de python toma el *cyphertest* y, carácter por carácter, convierte cada carácter usando dos tablas, ***lookup1 y lookup2***, pero depende del carácter anterior mediante una variable *prev*. \n",
    "\n",
    "Lo que se hace es que se almacena todo el texto en variables ***chars***, la variable **prev** se inicializa con 0, y una por una, primero se busca el carácter en la tabla ***lookup1***, esta variable se llama **cur**; posteriormente lo que se hace es identificar ese carácter en la tabla ***lookup2*** y entonces se aplica la siguiente función:\n",
    "$$\n",
    "(cur - prev) mod 40\n",
    "$$\n",
    "El resultado, es la variable que se llama **out**. Se actualiza el valor de **prev**, haciéndolo igual a **cur** y se continúa el proceso con el siguiente carácter."
   ]
  },
  {
   "cell_type": "markdown",
   "id": "9111689b",
   "metadata": {},
   "source": [
    "Sabemos que la fórmula esencial de este algoritmo es:\n",
    "$$\n",
    "k=(cur - prev)mod40\n",
    "$$\n",
    "Entonces si sabemos que **k(out)** es el índice que ahora tenemos, es decir el caractér de ***lookup2***, es necesario despejarlo para recuperar el **cur**. Con esto luego actualizaríamos el **prev** y con eso iríamos de carácter en carácter decifrando el mensaje:\n",
    "$$\n",
    "cur=(k + prev)mod40\n",
    "$$"
   ]
  },
  {
   "cell_type": "code",
   "execution_count": 9,
   "id": "ee3f56e6",
   "metadata": {},
   "outputs": [
    {
     "name": "stdout",
     "output_type": "stream",
     "text": [
      "#asciiorder\n",
      "#fortychars\n",
      "#selfinput\n",
      "#pythontwo\n",
      "\n",
      "chars = \"\"\n",
      "from fileinput import input\n",
      "for line in input():\n",
      "    chars += line\n",
      "b = 1 / 1\n",
      "\n",
      "for i in range(len(chars)):\n",
      "    if i == b * b * b:\n",
      "        print chars[i] #prints\n",
      "        b += 1 / 1\n",
      "\n"
     ]
    }
   ],
   "source": [
    "cipher = \"DLSeGAGDgBNJDQJDCFSFnRBIDjgHoDFCFtHDgJpiHtGDmMAQFnRBJKkBAsTMrsPSDDnEFCFtIbEDtDCIbFCFtHTJDKerFldbFObFCFtLBFkBAAAPFnRBJGEkerFlcPgKkImHnIlATJDKbTbFOkdNnsgbnJRMFnRBNAFkBAAAbrcbTKAkOgFpOgFpOpkBAAAAAAAiClFGIPFnRBaKliCgClFGtIBAAAAAAAOgGEkImHnIl\"\n",
    "lookup1 = \"\\n \\\"#()*+/1:=[]abcdefghijklmnopqrstuvwxyz\"\n",
    "lookup2 = \"ABCDEFGHIJKLMNOPQRSTabcdefghijklmnopqrst\"\n",
    "\n",
    "out = \"\"\n",
    "prev = 0\n",
    "for ch in cipher:\n",
    "    k = lookup2.index(ch) #este es el índice en lookup2 del carácter cifrado\n",
    "    cur = (k + prev) % 40 #formula invertida\n",
    "    out += lookup1[cur] #recuperamos el carácter original\n",
    "    prev = cur\n",
    "\n",
    "print(out)"
   ]
  },
  {
   "cell_type": "markdown",
   "id": "a27fb35c",
   "metadata": {},
   "source": [
    "El resultado es un script de python2, así que lo corremos en la página *https://onecompiler.com/python2/43xwh9hn3* y obtendremos la flag que es:\n",
    "### \"adlibs\""
   ]
  },
  {
   "cell_type": "markdown",
   "id": "55aaacb2",
   "metadata": {},
   "source": [
    "___\n",
    "#### **Exercise 2: Easy Peasy (OTP reuse)**"
   ]
  },
  {
   "cell_type": "markdown",
   "id": "3f6e279f",
   "metadata": {},
   "source": [
    "**Explicación**\n",
    "\n",
    "El ejercicio nos da un servicio OTP remoto (nc mercury.picoctf.net 58913) y el código otp.py.\n",
    "\n",
    "El servidor imprime primero la **bandera cifrada** usando una clave ***key*** y un índice interno ***key_location*** que avanza después de cada cifrado. Esto nois permite enviar texto para cifrar; para cada petición se hace lo siguiente:\n",
    "\n",
    "- Tomamos *start = key_location* y *stop = key_location + len(ui)*,\n",
    "- Extraemos la porción de clave ***key[start:stop]*** y XOR‑ea byte a byte con lo que enviaste ***ui***,\n",
    "- Actualizamos ***key_location = stop***.\n",
    "\n",
    "Cuando ***stop >= KEY_LEN*** la implementación hace ***stop = stop % KEY_LEN*** y construye la porción de clave como ***kf[start:] + kf[:stop]***. Es decir, **la clave \"da la vuelta\"** (wrap‑around) y se vuelve a usar desde el inicio.\n",
    "\n",
    "Si la misma porción de ***key*** cifra dos mensajes diferentes, los bytes de la clave se cancelan si XOReas los dos cifrados. Entonces:\n",
    "\n",
    "$$C1 = P1 XOR K$$\n",
    "$$C2 = P2 XOR K$$\n",
    "$$C1 XOR C2 = P1 XOR P2$$\n",
    "\n",
    "Entonces si conocemos *P2*, entonces *P1 = (C1 XOR C2) XOR P2*. Es decir: con un texto conocido podemos recuperar el otro.\n",
    "\n",
    "Al conectarnos, el servidor ya nos da *C_flag* (el cifrado de la bandera), entonces lo guardamos.  \n",
    "\n",
    "Si hacemos que *key_location* vuelva al principio y le pedimos al servidor que cifre un texto **conocido** de la **misma longitud** que la bandera, entonces ese texto conocido será cifrado con exactamente la misma porción de clave que se usó para la bandera.  \n",
    "\n",
    "De tal manera que con *C_flag* y *C_known* (los dos cifrados) podemos calcular la bandera con la fórmula:\n",
    "  $$\n",
    "  FLAG = (C_flag XOR C_known) XOR KNOWN\n",
    "  $$\n",
    "  donde *KNOWN* es el texto que nosotros enviamos.\n",
    "\n",
    "\n",
    "Entonces debemos conectarnos y copiar el *C_flag* que imprime el servidor. Posteriormente, calculamos cuánto padding enviar para que *key_location* vuelva al inicio; si la bandera ocupa *F* bytes, enviar *KEY_LEN - F* bytes de relleno hará que la siguiente petición use la clave desde el byte 0.\n",
    "\n",
    "Ahora, se envía un mensaje conocido de longitud *F* y se copia *C_known*. Calculamos *FLAG_bytes = C_flag XOR C_known XOR b'B'*F* y lo convertiremos a texto; esto nos dará la representación de la flag, en hex por ejemplo.\n",
    "\n",
    "Sabemos que un **OTP** sólo es seguro si cada byte de clave se usa ***una sola vez***. Aquí la implementación reusa la clave (wrap), así la seguridad se rompe y podemos recuperar la bandera con un texto conocido.\n"
   ]
  },
  {
   "cell_type": "markdown",
   "id": "d7e09ffd",
   "metadata": {},
   "source": [
    "**Código:**\n",
    "\n",
    "Ejecutaremos el script contenido en la carpeta: *C:\\Users\\xavie\\Downloads\\Deber1-Security\\PT3\\EasyPeasy\\exploit_easy_peasy.py*\n",
    "\n",
    "y esto nos dara la siguiente impresion en la parte final de la terminal, esa será la flag que buscamos para PicoCTF:\n",
    "\n",
    "#### \"...35ecb423b3b43472c35cc2f41011c6d2\""
   ]
  },
  {
   "cell_type": "markdown",
   "id": "609d9a0a",
   "metadata": {},
   "source": [
    "___\n",
    "#### **Exercise 3: New Caesar**\n",
    "\n",
    "**Description**\n",
    "\n",
    "We found a brand new type of encryption, can you break the secret code? (Wrap with picoCTF{})"
   ]
  },
  {
   "cell_type": "markdown",
   "id": "9530f977",
   "metadata": {},
   "source": [
    "**Explicación**\n",
    "\n",
    "El script **news_caesar.py** implementa un nuevo tipo de César, pero sobre un alfabeto de 16. Entonces, el mensaje original se transforma primero en **binario de 8 bits** por carácter, y luego cada nibble de 4 bits se convierte en una letra del alfabeto reducido.\n",
    "\n",
    "Se convierte el carácter a su código ASCII:\n",
    "\n",
    "$$\n",
    "\\text{byte} = \\text{ord}(\\text{plain})\n",
    "$$\n",
    "\n",
    "Se separa en dos nibbles de 4 bits:\n",
    "\n",
    "$$\n",
    "\\text{hi} = \\left\\lfloor \\frac{\\text{byte}}{16} \\right\\rfloor, \\quad \n",
    "\\text{lo} = \\text{byte} \\bmod 16\n",
    "$$\n",
    "\n",
    "Para cada nibble se codifica en una letra del alfabeto reducido:\n",
    "\n",
    "$$\n",
    "\\text{b16} = ALPHABET[\\text{hi}] \\, ALPHABET[\\text{lo}]\n",
    "$$\n",
    "\n",
    "El cifrado final aplica un desplazamiento \\(k\\) módulo 16 a cada letra codificada:\n",
    "\n",
    "$$\n",
    "c = (b + k) \\bmod 16\n",
    "$$\n",
    "\n",
    "donde:  \n",
    "- \\(b\\) es la posición de la letra en el alfabeto reducido a..p  \n",
    "- \\(c\\) es la letra cifrada  \n",
    "- \\(k\\) es la clave (un solo carácter)\n",
    "\n",
    "De esta forma entonces tenemos:\n",
    "\n",
    "#### \"apbopjbobpnjpjnmnnnmnlnbamnpnononpnaaaamnlnkapndnkncamnpapncnbannaapncndnlnpna\""
   ]
  },
  {
   "cell_type": "markdown",
   "id": "6869ca62",
   "metadata": {},
   "source": [
    "Ahora para revertir el cifrado:\n",
    "\n",
    "Revertimos el desplazamiento César\n",
    "\n",
    "$$\n",
    "b = (c - k) \\bmod 16\n",
    "$$\n",
    "\n",
    "Ahora los agrupamos en pares y reconstruimos el byte original:\n",
    "\n",
    "$$\n",
    "\\text{byte} = (\\text{hi} \\times 16) + \\text{lo}\n",
    "$$\n",
    "\n",
    "donde:\n",
    "\n",
    "$$\n",
    "\\text{hi} = \\text{ALPHABET.index}(b_{}), \\quad\n",
    "\\text{lo} = \\text{ALPHABET.index}(b_{})\n",
    "$$\n",
    "\n",
    "Convertimos el byte a ASCII:\n",
    "\n",
    "$$\n",
    "\\text{plain} = \\text{chr}(\\text{byte})\n",
    "$$\n",
    "\n",
    "De esta forma, concatenando todos los caracteres obtenemos el **mensaje original**. Y este proceso se repetiría hasta reconstruir todo el mensaje y obtener la flag.\n"
   ]
  },
  {
   "cell_type": "code",
   "execution_count": null,
   "id": "e6818f05",
   "metadata": {},
   "outputs": [
    {
     "name": "stdout",
     "output_type": "stream",
     "text": [
      "Mejor k: k\n",
      "Resultado: et_tu?_23217b54456fb10e908b5e87c6e89156\n"
     ]
    }
   ],
   "source": [
    "import string \n",
    "ALPHABET = string.ascii_lowercase[:16]  #alfabeto de 16 letras\n",
    "\n",
    "ciphertext = \"apbopjbobpnjpjnmnnnmnlnbamnpnononpnaaaamnlnkapndnkncamnpapncnbannaapncndnlnpna\"\n",
    "\n",
    "def unshift(c, k):\n",
    "    t1 = ord(c) - ord('a')  #calculamos la posicion de la letra cifrada en base a a\n",
    "    t2 = ord(k) - ord('a')  #calculamos la posicion de la clave en base a a\n",
    "    return ALPHABET[(t1 - t2) % len(ALPHABET)]  # e calcula el desplazamiento inverso modulo 16\n",
    "\n",
    "#funcion para decodificar b16 a ascii\n",
    "def b16_decode(enc):\n",
    "    plain = \"\"  \n",
    "    for i in range(0, len(enc), 2):  #analizamos el texto de dos en dos letras\n",
    "        hi = ALPHABET.index(enc[i])  #calculamos el nibble alto a partir de la primera letra\n",
    "        lo = ALPHABET.index(enc[i+1])  #calculamos el nibble bajo a partir de la segunda letra\n",
    "        byte = (hi << 4) | lo  #ahora reconstruimos el byte original combinando hi y lo\n",
    "        plain += chr(byte)  #y convertimos el byte a caracter ascii y concatenamos\n",
    "    return plain\n",
    "\n",
    "#lista de candidatos\n",
    "candidates = []  #almacenamos los resultados de cada clave\n",
    "\n",
    "#todas las posibles claves del alfabeto\n",
    "for k in ALPHABET:\n",
    "    unshifted = \"\".join(unshift(c, k) for c in ciphertext) \n",
    "    try:\n",
    "        flag = b16_decode(unshifted) \n",
    "    except Exception:\n",
    "        continue  \n",
    "\n",
    "    pr = sum(1 for ch in flag if ch.isprintable()) / len(flag)\n",
    "\n",
    "    hexlen = max((len(r) for r in re.findall(r'[0-9a-fA-F]{4,}', flag)), default=0)\n",
    "\n",
    "    letters = sum(1 for ch in flag if ch.isalpha())\n",
    "    candidates.append((k, flag, pr, hexlen, letters))  #almacenamos los valores calculados para cada clave\n",
    "\n",
    "#ordenamos los candidatos por proporcion de imprimibles, longitud de secuencia hex y cantidad de letras\n",
    "candidates.sort(key=lambda x: (x[2], x[3], x[4]), reverse=True)\n",
    "\n",
    "# imprimimos solo la mejor opcion\n",
    "if candidates:\n",
    "    best_k, best_flag, best_pr, best_hexlen, _ = candidates[0] \n",
    "    print(\"Mejor k:\", best_k)\n",
    "    print(\"Resultado:\", best_flag)  \n",
    "else:\n",
    "    print(\"No hay candidatos válida.\") \n"
   ]
  },
  {
   "cell_type": "markdown",
   "id": "fcf21615",
   "metadata": {},
   "source": [
    "Entonces la flag es:\n",
    "\n",
    "#### et_tu?_23217b54456fb10e908b5e87c6e89156"
   ]
  },
  {
   "cell_type": "markdown",
   "id": "9a7c53f2",
   "metadata": {},
   "source": [
    "___\n",
    "#### **Exercise 4: Rotation**\n",
    "\n",
    "**Description**\n",
    "\n",
    "You will find the flag after decrypting this file:\n",
    "\n",
    "#### xqkwKBN{z0bib1wv_l3kzgxb3l_i4j7l759}"
   ]
  },
  {
   "cell_type": "markdown",
   "id": "676caf4b",
   "metadata": {},
   "source": [
    "**Explicación**\n",
    "\n",
    "Este ejercicio se basa en un cifrado por **rotación** en el que cada letra del texto se desplaza un número fijo de posiciones a lo largo del alfabeto. Tal y como indica el título del enunciado, y teniendo en cuenta que la pista dice: \"*Sometimes rotation is right*\", el reto es **descifrar el mensaje aplicando la rotación inversa correcta** para recuperar la flag.\n",
    "\n",
    "Observando el texto cifrado *xqkwKBN{z0bib1wv_l3kzgxb3l_i4j7l759}*, notamos que solo las letras están desplazadas, mientras que los símbolos permanecen intactos. De entrada, notamos que ya nos está dando el formato de una flag para pico: \"picoCTF{...}\"\n",
    "\n",
    "Como el alfabeto latino tiene 26 letras, existen **26 posibles desplazamientos**. Para cada desplazamiento, se aplica la rotación inversa a cada letra del texto cifrado:\n",
    "   \n",
    "Letras minúsculas:  \n",
    "     $$\n",
    "     c_i = (c_\\text{orig} - n) \\bmod 26\n",
    "     $$\n",
    "   \n",
    "Letras mayúsculas:  \n",
    "     $$\n",
    "     C_i = (C_\\text{orig} - n) \\bmod 26\n",
    "     $$\n",
    "\n",
    "\n",
    "Entonces, se revisarían todos los resultados de todas las rotaciones y se identifica la que genera un texto legible y que contenga la estructura de flag. En este caso, la rotación correcta produce:\n"
   ]
  },
  {
   "cell_type": "code",
   "execution_count": null,
   "id": "327f0012",
   "metadata": {},
   "outputs": [
    {
     "name": "stdout",
     "output_type": "stream",
     "text": [
      "shift: 18\n",
      "picoCTF{r0tat1on_d3crypt3d_a4b7d759}\n"
     ]
    }
   ],
   "source": [
    "def rot(s, n):\n",
    "    res = []\n",
    "    for ch in s:\n",
    "        if 'a' <= ch <= 'z':\n",
    "            res.append(chr((ord(ch) - ord('a') + n) % 26 + ord('a')))\n",
    "        elif 'A' <= ch <= 'Z':\n",
    "            res.append(chr((ord(ch) - ord('A') + n) % 26 + ord('A')))\n",
    "        else:\n",
    "            res.append(ch)\n",
    "    return ''.join(res)\n",
    "\n",
    "cipher = \"xqkwKBN{z0bib1wv_l3kzgxb3l_i4j7l759}\"\n",
    "\n",
    "for shift in range(26):\n",
    "    candidate = rot(cipher, shift)\n",
    "    if \"picoCTF{\" in candidate:\n",
    "        print(\"shift:\", shift)\n",
    "        print(candidate)\n",
    "        break\n"
   ]
  },
  {
   "cell_type": "markdown",
   "id": "5172831e",
   "metadata": {},
   "source": [
    "Entonces la flag es:\n",
    "\n",
    "#### r0tat1on_d3crypt3d_a4b7d759"
   ]
  },
  {
   "cell_type": "markdown",
   "id": "0793583f",
   "metadata": {},
   "source": [
    "___\n",
    "#### **Exercise 5: Vigenere**\n",
    "\n",
    "**Description**\n",
    "\n",
    "Can you decrypt this message?:\n",
    "\n",
    "#### rgnoDVD{O0NU_WQ3_G1G3O3T3_A1AH3S_f85729e7}\n",
    "\n",
    "Decrypt this message using this key \"CYLAB\"."
   ]
  },
  {
   "cell_type": "markdown",
   "id": "6850117a",
   "metadata": {},
   "source": [
    "**Explicación**\n",
    "\n",
    "Sabemos que el cifrado de Vigenère es un cifrado por sustitución **polialfabético** que utiliza una **clave repetida** para cifrar un mensaje. \n",
    "\n",
    "Entonces cada letra se convierte en un número del 0 al 25:\n",
    "\n",
    "$$\n",
    "A = 0, \\; B = 1, \\; C = 2, \\dots, Z = 25\n",
    "$$\n",
    "\n",
    "Para cifrar un mensaje \\(m\\) usando una clave \\(k\\) de longitud \\(|k|\\):\n",
    "\n",
    "1. Repetimos la clave tantas veces como sea necesario para cubrir todo el mensaje.\n",
    "2. Para cada letra \\(m\\) del mensaje, sumamos el valor de la letra correspondiente de la clave \\(k_j\\):\n",
    "\n",
    "$$\n",
    "c = (m + k_{i \\bmod |k|}) \\bmod 26\n",
    "$$\n",
    "\n",
    "Donde:  \n",
    "- \\(c\\) es la letra cifrada,  \n",
    "- \\(m\\) es la letra original del mensaje,  \n",
    "- \\(k_{i \\bmod |k|}\\) es la letra de la clave correspondiente.\n",
    "\n",
    "\n",
    "Entonces si queremos recuperar el mensaje original, solo despejamos la m:\n",
    "\n",
    "$$\n",
    "m = (c - k_{i \\bmod |k|}) \\bmod 26\n",
    "$$\n",
    "\n",
    "Es necesario saber que los caracteres no alfabéticos **no se cifran** y se mantienen igual.\n"
   ]
  },
  {
   "cell_type": "code",
   "execution_count": 11,
   "id": "e6115b89",
   "metadata": {},
   "outputs": [
    {
     "name": "stdout",
     "output_type": "stream",
     "text": [
      "picoCTF{D0NT_US3_V1G3N3R3_C1PH3R_d85729g7}\n"
     ]
    }
   ],
   "source": [
    "def vigenere_decrypt(ciphertext, key):\n",
    "    plaintext = \"\"\n",
    "    key_indices = [ord(k.upper()) - ord('A') for k in key]  #convertimos la clave a números 0-25\n",
    "    key_len = len(key)\n",
    "    key_idx = 0  #indice para recorrer la clave\n",
    "\n",
    "    for ch in ciphertext:\n",
    "        if ch.isupper():  #mayúsculas\n",
    "            c = ord(ch) - ord('A')  #convertimos la letra cifrada a número\n",
    "            m = (c - key_indices[key_idx % key_len]) % 26  #aplicamos la fórmula m\n",
    "            plaintext += chr(m + ord('A'))\n",
    "            key_idx += 1\n",
    "        elif ch.islower():  #letras minúsculas\n",
    "            c = ord(ch) - ord('a')\n",
    "            m = (c - key_indices[key_idx % key_len]) % 26\n",
    "            plaintext += chr(m + ord('a'))\n",
    "            key_idx += 1\n",
    "        else:  #caracteres no alfabéticos se dejan igual\n",
    "            plaintext += ch\n",
    "\n",
    "    return plaintext\n",
    "\n",
    "ciphertext = \"rgnoDVD{O0NU_WQ3_G1G3O3T3_A1AH3S_f85729e7}\"\n",
    "key = \"CYLAB\"\n",
    "\n",
    "flag = vigenere_decrypt(ciphertext, key)\n",
    "print(flag)"
   ]
  },
  {
   "cell_type": "markdown",
   "id": "b125e68f",
   "metadata": {},
   "source": [
    "Entonces la flag es:\n",
    "\n",
    "#### D0NT_US3_V1G3N3R3_C1PH3R_d85729g7"
   ]
  }
 ],
 "metadata": {
  "kernelspec": {
   "display_name": "Python 3",
   "language": "python",
   "name": "python3"
  },
  "language_info": {
   "codemirror_mode": {
    "name": "ipython",
    "version": 3
   },
   "file_extension": ".py",
   "mimetype": "text/x-python",
   "name": "python",
   "nbconvert_exporter": "python",
   "pygments_lexer": "ipython3",
   "version": "3.10.11"
  }
 },
 "nbformat": 4,
 "nbformat_minor": 5
}
