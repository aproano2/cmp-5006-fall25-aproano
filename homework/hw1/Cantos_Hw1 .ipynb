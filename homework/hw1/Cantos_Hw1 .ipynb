{
  "nbformat": 4,
  "nbformat_minor": 0,
  "metadata": {
    "colab": {
      "provenance": []
    },
    "kernelspec": {
      "name": "python3",
      "display_name": "Python 3"
    },
    "language_info": {
      "name": "python"
    }
  },
  "cells": [
    {
      "cell_type": "markdown",
      "source": [
        "# Deber: Criptografía Clásica — Curso: Ciberseguridad\n",
        "**Autor:** Paulo Cantos\n",
        "**Codigo Banner:** 00326682  \n",
        "**Fecha:** 26/9/2025"
      ],
      "metadata": {
        "id": "TkHljqa8m8aa"
      }
    },
    {
      "cell_type": "markdown",
      "source": [
        "\n",
        "# Parte I — Research: Algoritmos Clásicos\n",
        "\n",
        "## 1.1 Caesar Cipher\n",
        "### Historia / Origen\n",
        "- El esquema lleva el nombre de Julio César porque fuentes clásicas registran que usó un desplazamiento fijo (tradicionalmente 3 posiciones) para su correspondencia militar y privada.  \n",
        "- Aunque la tradición asigna el “shift = 3” a César, ya existían otros tipos de sustituciones antes; se lo reconoce como el primer testimonio escrito claro, pero no necesariamente la invención absoluta.\n",
        "\n",
        "### Proceso de cifrado / descifrado\n",
        "- Sustitución monoalfabética: cada letra $x$ (0..25) se cifra con  \n",
        "  $E_n(x) = (x + n)\\bmod 26$  \n",
        "  y se descifra con  \n",
        "  $D_n(y) = (y - n)\\bmod 26$  \n",
        "- Variantes: desplazamiento a izquierda/derecha, alfabetos distintos o codificación numérica.\n",
        "\n",
        "### Espacio de claves\n",
        "- Clave válida: entero $n \\in [0,25]$.  \n",
        "- Espacio efectivo: 25 claves no triviales.  \n",
        "- Seguridad: muy baja ($26 \\approx 2^{4.7}$), fácil romper por fuerza bruta.\n",
        "\n",
        "### Vulnerabilidades / ataques conocidos\n",
        "- **Fuerza bruta:** probar 26 transformaciones, complejidad $O(26)$.  \n",
        "- **Análisis de frecuencia:** comparar frecuencias con la lengua esperada, detectando la clave.  \n",
        "- **Matiz:** en textos cortos la estadística es ruidosa, pero la fuerza bruta siempre sirve.  \n",
        "- **Cribado/contexto:** palabras sospechadas reducen la búsqueda.  \n",
        "- **Automatización:** scripts prueban las 26 variantes y puntúan la legibilidad.  \n",
        "- **Conclusión:** inseguro hoy; solo útil con fines didácticos o de ofuscación ligera (ROT13).\n",
        "\n",
        "### Evidencias de rompimiento / uso moderno\n",
        "- Sustituciones simples en antigüedad, prensa del XIX y uso militar hasta inicios del XX.  \n",
        "- 2006: mensajes de Bernardo Provenzano rotos (uso de números).  \n",
        "- 2011: caso judicial en Reino Unido, comunicaciones cifradas de forma trivial.  \n",
        "\n",
        "### Usos actuales y educativos\n",
        "- Ejercicios introductorios de criptografía.  \n",
        "- **ROT13** en foros/Usenet como ofuscación.  \n",
        "- Juegos, acertijos y ejemplos divulgativos.\n",
        "\n",
        "\n",
        "\n",
        "## 1.2 Affine Cipher\n",
        "\n",
        "\n",
        "### Historia / Origen\n",
        "- Generalización del cifrado César: combina multiplicación y suma modular.  \n",
        "- El término “affine” viene de las transformaciones afines en álgebra lineal ($x \\mapsto ax+b$).  \n",
        "- No hay registros de uso antiguo concreto; surge como formalización matemática en estudios de cifrados clásicos.\n",
        "\n",
        "### Proceso de cifrado / descifrado\n",
        "- Asignar letras a números: A=0, …, Z=25.  \n",
        "- Cifrado: $E(x) = (a \\cdot x + b) \\bmod m$  \n",
        "- Descifrado: $D(y) = a^{-1} \\cdot (y - b) \\bmod m$  \n",
        "- Requisito: $\\gcd(a, m) = 1$ para que exista $a^{-1}$.\n",
        "\n",
        "### Espacio de claves\n",
        "- Clave = par $(a, b)$.  \n",
        "- Para $m=26$: 12 posibles valores de $a$, 26 de $b$.  \n",
        "- Total: 312 claves (286 no triviales, el resto equivalen a César).  \n",
        "- Seguridad: muy baja, fácil romper por fuerza bruta.\n",
        "\n",
        "### Vulnerabilidades / ataques\n",
        "- **Fuerza bruta:** solo 312 combinaciones.  \n",
        "- **Texto conocido:** dos pares plaintext–ciphertext permiten resolver $a$ y $b$.  \n",
        "- **Análisis de frecuencia:** sigue siendo una sustitución monoalfabética.  \n",
        "- Conclusión: inseguro, valor principalmente didáctico.\n",
        "\n",
        "### Usos y ejemplos\n",
        "- Ejercicio en cursos de criptografía (modular arithmetic e inversos).  \n",
        "- ROT13 es un caso degenerado (cuando $a=1, b=13$).  \n",
        "- Investigación moderna: a veces se combina con otros métodos en contextos académicos, pero no tiene uso real práctico.  \n",
        "\n",
        "\n",
        "## 1.3 Monoalphabetic Substitution\n",
        "\n",
        "### Historia / Origen\n",
        "- Consiste en sustituir cada letra del alfabeto por otra según una permutación fija.  \n",
        "- Ejemplo antiguo: el cifrado Atbash en hebreo (A↔Z, B↔Y, etc.).  \n",
        "- Formalizado en el siglo IX por Al-Kindi, quien introdujo el análisis de frecuencia para romperlo.  \n",
        "- Usado en diplomacia y guerra hasta el Renacimiento, antes de que se popularizaran cifrados polialfabéticos.\n",
        "\n",
        "### Proceso de cifrado / descifrado\n",
        "- Se define una clave como una **permutación completa del alfabeto** (ej.: A→Q, B→W, C→E, …).  \n",
        "- Cifrado: $E(x) = \\pi(x)$, donde $\\pi$ es la permutación.  \n",
        "- Descifrado: aplicar la permutación inversa $\\pi^{-1}$.  \n",
        "- Cada letra siempre se sustituye por la misma, por eso se llama “monoalfabético”.\n",
        "\n",
        "### Espacio de claves\n",
        "- Para un alfabeto de 26 letras: $26! \\approx 4.03 \\times 10^{26}$ claves posibles.  \n",
        "- Aunque el espacio es enorme, no garantiza seguridad real: análisis estadísticos permiten reducir rápidamente las posibilidades.\n",
        "\n",
        "### Vulnerabilidades / ataques\n",
        "- **Análisis de frecuencia:** preserva la frecuencia de letras y bigramas, fácil de comparar con el idioma.  \n",
        "- **Texto conocido:** palabras o fragmentos conocidos reducen la búsqueda.  \n",
        "- **Métodos heurísticos:** algoritmos como hill climbing o genéticos encuentran la permutación correcta.  \n",
        "- **Conclusión:** inseguro en la práctica, a pesar de su espacio de claves masivo.\n",
        "\n",
        "### Usos y ejemplos\n",
        "- Enseñanza de criptografía clásica y criptoanálisis estadístico.  \n",
        "- Juegos, acertijos y criptogramas en prensa o literatura.  \n",
        "- Versiones modernas experimentales intentan combinarlo con otros métodos, pero sin seguridad práctica real.  \n",
        "\n",
        "\n",
        "## 1.4 Vigenère Cipher\n",
        "\n",
        "### Historia / Origen\n",
        "- Descrito originalmente por Giovan Battista Bellaso en 1553.  \n",
        "- Atribuido erróneamente a Blaise de Vigenère, quien en 1586 propuso un sistema más fuerte (autokey).  \n",
        "- Se apoya en ideas anteriores: Alberti (1467, disco polialfabético) y Trithemius (1518, tabula recta).  \n",
        "- Durante siglos fue considerado “indescifrable” hasta que en 1863 Friedrich Kasiski presentó un método general para romperlo. Charles Babbage ya lo había logrado antes, aunque no publicó sus resultados.\n",
        "\n",
        "### Proceso de cifrado / descifrado\n",
        "- Es un **cifrado polialfabético**: aplica desplazamientos tipo César controlados por una clave repetida.  \n",
        "- Con alfabeto de tamaño $m$:  \n",
        "  - Cifrado: $C_i = (M_i + K_i) \\bmod m$  \n",
        "  - Descifrado: $M_i = (C_i - K_i) \\bmod m$  \n",
        "- La clave se repite hasta igualar la longitud del mensaje.  \n",
        "- En la variante “running key” o “autokey” se usa una clave tan larga como el texto.\n",
        "\n",
        "### Espacio de claves\n",
        "- Depende de la longitud y aleatoriedad de la clave.  \n",
        "- Con clave corta y repetitiva, la seguridad es baja.  \n",
        "- Con clave larga y aleatoria (similar en tamaño al mensaje), se acerca al concepto de “one-time pad”.\n",
        "\n",
        "### Vulnerabilidades / ataques\n",
        "- **Periodocidad de la clave:** permite dividir el mensaje en columnas tratables como cifrados César.  \n",
        "- **Kasiski Examination (1863):** busca repeticiones en el ciphertext para estimar la longitud de clave.  \n",
        "- **Índice de coincidencia (Friedman):** análisis estadístico para calcular la longitud probable de la clave.  \n",
        "- **Diccionarios / fuerza bruta:** si la clave es una palabra común.  \n",
        "- Conclusión: no es seguro frente a criptoanálisis moderno, aunque fue fuerte durante siglos.\n",
        "\n",
        "### Usos y ejemplos\n",
        "- Empleado en diplomacia y guerra hasta el siglo XIX, incluso en la Guerra Civil de EE. UU.  \n",
        "- Enseñanza de criptografía polialfabética en cursos y manuales.  \n",
        "- Inspiró variantes más complejas (autokey, running key) y estudios de mejoras modernas, aunque hoy su valor es sobre todo histórico y educativo.  \n",
        "\n",
        "\n",
        "## 1.5 Columnar Transposition\n",
        "\n",
        "### Historia / Origen\n",
        "- Pertenece a los cifrados por transposición: no cambia las letras, sino su orden.  \n",
        "- Descrito por autores como Samuel Morland y John Falconer en el siglo XVII.  \n",
        "- En los siglos XIX–XX se volvió popular en contextos militares, sobre todo en su versión de **doble transposición**, que añadía mayor complejidad.  \n",
        "- También fue parte de sistemas más avanzados como el cifrado ADFGVX durante la Primera Guerra Mundial.\n",
        "\n",
        "### Proceso de cifrado / descifrado\n",
        "- Se elige una **clave** (palabra) y se asigna un número a cada letra según orden alfabético.  \n",
        "- Se escribe el mensaje en filas bajo la clave, formando una matriz de columnas.  \n",
        "- Para cifrar, se leen las columnas en el orden que indica la clave y se concatenan.  \n",
        "- Para descifrar, se reconstruye la matriz llenando las columnas según el orden de la clave y se lee por filas.  \n",
        "- Si faltan letras en la última fila, se puede usar padding o caracteres nulos.\n",
        "\n",
        "### Espacio de claves\n",
        "- Si la clave tiene longitud $k$, existen $k!$ permutaciones posibles de columnas.  \n",
        "- Claves más largas → espacio mayor y más confusión.  \n",
        "- Sin embargo, el tamaño de clave no asegura seguridad real, pues hay ataques estadísticos y heurísticos efectivos.\n",
        "\n",
        "### Vulnerabilidades / ataques\n",
        "- **Prueba de longitudes:** intentar distintos números de columnas hasta que aparezca texto legible.  \n",
        "- **Frecuencia de letras:** la distribución no cambia, lo que revela que se trata de una transposición.  \n",
        "- **Anagramas y patrones:** reorganizar fragmentos del ciphertext para detectar palabras.  \n",
        "- **Claves cortas/padding predecible:** facilitan la ruptura.  \n",
        "- **Defensa parcial:** aplicar doble transposición para aumentar la complejidad.\n",
        "\n",
        "### Usos y ejemplos\n",
        "- Amplio uso militar en la Primera y Segunda Guerra Mundial (especialmente la doble transposición).  \n",
        "- Parte fundamental del cifrado ADFGVX, que combinaba sustitución y transposición.  \n",
        "- Hoy tiene valor principalmente histórico y educativo, pero inspira técnicas híbridas de cifrado.  \n",
        "\n",
        "\n",
        "## 1.6 Rail Fence Cipher\n",
        "\n",
        "### Historia / Origen\n",
        "- También llamado “zigzag cipher”, es un cifrado por transposición simple.  \n",
        "- El nombre proviene del patrón en forma de rieles o valla sobre el que se escribe el texto en zigzag.  \n",
        "- No tiene un inventor documentado específico; se usa como ejemplo educativo más que como herramienta histórica relevante.\n",
        "\n",
        "### Proceso de cifrado / descifrado\n",
        "- Se elige una clave: el número de **rails** (filas).  \n",
        "- Cifrado: se escribe el mensaje en zigzag bajando y subiendo entre los rails.  \n",
        "- El ciphertext se obtiene leyendo fila por fila.  \n",
        "- Descifrado: se reconstruye la matriz del zigzag, se rellenan posiciones según el patrón y luego se lee siguiendo el zigzag original.\n",
        "\n",
        "### Espacio de claves\n",
        "- La clave es el número de rails $N$.  \n",
        "- Para un mensaje de longitud $L$, las claves posibles van de $2$ a $L-1$.  \n",
        "- Espacio total de claves: $L - 2$, muy pequeño y fácil de explorar.\n",
        "\n",
        "### Vulnerabilidades / ataques\n",
        "- **Fuerza bruta:** basta probar todos los posibles números de rails.  \n",
        "- **Distribución de letras:** como solo se reordenan, la frecuencia se conserva, lo que revela que es un cifrado por transposición.  \n",
        "- **Mensajes cortos o rails extremos:** producen mezclas mínimas, lo que hace más obvio el texto original.  \n",
        "- En general, es fácil de romper incluso manualmente.\n",
        "\n",
        "### Usos y ejemplos\n",
        "- Ejercicio en cursos de criptografía para introducir transposición.  \n",
        "- Puzzles y acertijos clásicos como método de ocultación simple.  \n",
        "- A veces se combina con otros métodos (sustitución + transposición), pero no se usa en contextos prácticos modernos.  \n",
        "\n",
        "## 1.7 Hill Cipher\n",
        "\n",
        "### Historia / Origen\n",
        "- Creado por Lester S. Hill en 1929 en *Cryptography in an Algebraic Alphabet*.  \n",
        "- Primer cifrado poligráfico que usa álgebra lineal (matrices) para operar sobre bloques de letras.  \n",
        "- Hill diseñó incluso un dispositivo mecánico para bloques de tamaño 6, aunque con limitaciones prácticas.  \n",
        "\n",
        "### Proceso de cifrado / descifrado\n",
        "- Se elige un tamaño de bloque $n$ y se asigna A=0, B=1, …, Z=25.  \n",
        "- Clave: matriz $K$ de tamaño $n \\times n$, invertible módulo 26.  \n",
        "- Cifrado de un bloque $P$:  \n",
        "  $C = K \\cdot P \\bmod 26$  \n",
        "- Descifrado:  \n",
        "  $P = K^{-1} \\cdot C \\bmod 26$  \n",
        "- Requisito: $\\det(K)$ debe ser coprimo con 26 para que exista $K^{-1}$.\n",
        "\n",
        "### Espacio de claves\n",
        "- Total teórico: $26^{n^2}$ matrices.  \n",
        "- Válidas: solo las invertibles en $\\mathrm{GL}(n, \\mathbb{Z}_{26})$.  \n",
        "- Aproximadamente $2^{4.7n^2}$ claves efectivas, reducidas por la restricción de invertibilidad.  \n",
        "\n",
        "### Vulnerabilidades / ataques\n",
        "- **Texto conocido:** con $n$ pares plano–cifrado se puede resolver $K$ por álgebra lineal.  \n",
        "- **Texto elegido:** aún más sencillo derivar la clave pidiendo bloques diseñados.  \n",
        "- **Linealidad:** sin no-linealidad ni confusión fuerte, es fácil de romper con suficientes datos.  \n",
        "- **Ataques prácticos:** en imágenes y variantes, un solo par plano–cifrado puede ser suficiente.  \n",
        "- **Conclusión:** inseguro hoy; usado principalmente con fines didácticos.\n",
        "\n",
        "### Usos y ejemplos\n",
        "- Ejemplo: con $K = \\begin{pmatrix} 3 & 3 \\\\ 2 & 5 \\end{pmatrix}$ se cifran bloques de 2 letras mod 26.  \n",
        "- Educación: mostrar álgebra lineal aplicada a criptografía y difusión.  \n",
        "- Investigación: variantes modernas introducen matrices dinámicas o no-linealidad.  \n",
        "- Conceptos de difusión matricial influyeron en sistemas modernos como AES.  \n",
        "\n",
        "## 1.8 One-Time Pad\n",
        "\n",
        "### Historia / Origen\n",
        "- Primeras ideas: Frank Miller (1882) para mensajes telegráficos.  \n",
        "- Gilbert Vernam (AT&T, 1917) creó un sistema con cintas perforadas; Joseph Mauborgne propuso usar claves verdaderamente aleatorias y únicas.  \n",
        "- Claude Shannon demostró que ofrece **secreto perfecto** si se cumplen las condiciones estrictas.\n",
        "\n",
        "### Proceso de cifrado / descifrado\n",
        "- Clave: secuencia aleatoria, tan larga como el mensaje, usada una sola vez.  \n",
        "- Cifrado:  \n",
        "  $C_i = M_i \\oplus K_i$  \n",
        "  o bien  \n",
        "  $C_i = (M_i + K_i) \\bmod m$  \n",
        "- Descifrado:  \n",
        "  $M_i = C_i \\oplus K_i$  \n",
        "  o  \n",
        "  $M_i = (C_i - K_i) \\bmod m$  \n",
        "- Requisitos: clave **verdaderamente aleatoria**, **longitud ≥ mensaje**, **uso único**, y **secreta**.\n",
        "\n",
        "### Espacio de claves\n",
        "- Para un mensaje de longitud $L$ en alfabeto de tamaño $m$: $m^L$ claves posibles.  \n",
        "- Seguridad no depende solo del espacio, sino de cumplir con aleatoriedad, longitud y no reutilización.\n",
        "\n",
        "### Vulnerabilidades / ataques\n",
        "- **Reutilización de clave:** $C_1 \\oplus C_2 = M_1 \\oplus M_2$, revela relación entre mensajes.  \n",
        "- **Claves no aleatorias:** patrones explotables por análisis estadístico.  \n",
        "- **Distribución:** problema logístico de enviar/almacenar claves seguras.  \n",
        "- **Integridad:** OTP no protege contra modificaciones del ciphertext.  \n",
        "- Caso histórico: **Proyecto Venona**, donde la URSS reutilizó claves, lo que permitió el criptoanálisis.\n",
        "\n",
        "### Usos y ejemplos\n",
        "- Amplio uso en espionaje y diplomacia (ej. SOE británico en la 2ª Guerra Mundial).  \n",
        "- Hoy en día aparece en criptografía cuántica combinada con QKD.  \n",
        "- Ejercicio educativo clásico por su seguridad teórica.  \n",
        "- Problema práctico: difícil distribución de claves largas lo hace impráctico para sistemas masivos.  \n",
        "\n"
      ],
      "metadata": {
        "id": "WG9dX86FnL-s"
      }
    },
    {
      "cell_type": "markdown",
      "source": [
        "# Parte II\n",
        "### Ejercicio 1\n"
      ],
      "metadata": {
        "id": "oyIlOOgjzcL8"
      }
    },
    {
      "cell_type": "code",
      "source": [
        "ciphertext = \"\"\"Al osk lzw twkl gx laewk, al osk lzw ogjkl gx laewk, al osk lzw syw gx oakvge,\n",
        "al osk lzw syw gx xggdakzfwkk, al osk lzw whguz gx twdawx, al osk lzw whguz gx\n",
        "afujwvmdalq, al osk lzw kwskgf gx Dayzl, al osk lzw kwskgf gx Vsjcfwkk, al osk\n",
        "lzw khjafy gx zghw, al osk lzw oaflwj gx vwkhsaj, ow zsv wnwjqlzafy twxgjw mk,\n",
        "ow zsv fglzafy twxgjw mk, ow owjw sdd ygafy vajwul lg Zwsnwf, ow owjw sdd ygafy\n",
        "vajwul lzw glzwj osq...\"\"\"\n",
        "\n",
        "import string\n",
        "from collections import Counter\n",
        "\n",
        "# normalizar: solo letras A-Z en mayúsculas\n",
        "clean = ''.join(ch for ch in ciphertext.upper() if ch in string.ascii_uppercase)\n",
        "\n",
        "freq = Counter(clean)\n",
        "total = sum(freq.values())\n",
        "\n",
        "# mostrar las letras ordenadas por frecuencia (desc)\n",
        "for letter, count in freq.most_common():\n",
        "    print(f\"{letter}: {count} ({count/total:.3%})\")\n"
      ],
      "metadata": {
        "colab": {
          "base_uri": "https://localhost:8080/"
        },
        "id": "V18B9JKmpLcK",
        "outputId": "4ecdaeed-951d-4625-ecbd-a6d270137c8b"
      },
      "execution_count": 1,
      "outputs": [
        {
          "output_type": "stream",
          "name": "stdout",
          "text": [
            "W: 47 (14.734%)\n",
            "L: 34 (10.658%)\n",
            "K: 28 (8.777%)\n",
            "A: 27 (8.464%)\n",
            "G: 26 (8.150%)\n",
            "S: 22 (6.897%)\n",
            "Z: 22 (6.897%)\n",
            "O: 20 (6.270%)\n",
            "X: 14 (4.389%)\n",
            "J: 14 (4.389%)\n",
            "F: 13 (4.075%)\n",
            "Y: 10 (3.135%)\n",
            "V: 8 (2.508%)\n",
            "D: 8 (2.508%)\n",
            "H: 5 (1.567%)\n",
            "U: 5 (1.567%)\n",
            "T: 4 (1.254%)\n",
            "E: 3 (0.940%)\n",
            "M: 3 (0.940%)\n",
            "Q: 3 (0.940%)\n",
            "N: 2 (0.627%)\n",
            "C: 1 (0.313%)\n"
          ]
        }
      ]
    },
    {
      "cell_type": "markdown",
      "source": [
        "Hipótesis de clave y prueba\n",
        "\n",
        "En inglés la letra más común suele ser E (≈12.7%).\n",
        "\n",
        "aqui la más común es W (14.7%).\n",
        "\n",
        "Hipótesis: quizá W ↔ E.\n",
        "\n",
        "\n",
        "Posición(W)=22, Posición(E)=4 (A=0, B=1, …).\n",
        "\n",
        "Clave ≈ 22 − 4 = 18 (desplazamiento de +18 al cifrar, o −18 para descifrar)."
      ],
      "metadata": {
        "id": "lMZh5FVx1jFj"
      }
    },
    {
      "cell_type": "code",
      "source": [
        "import string\n",
        "\n",
        "alphabet = string.ascii_uppercase\n",
        "\n",
        "def caesar_encrypt(text, k):\n",
        "    out = []\n",
        "    for ch in text.upper():\n",
        "        if ch in alphabet:\n",
        "            i = alphabet.index(ch)\n",
        "            out.append(alphabet[(i + k) % 26])\n",
        "        else:\n",
        "            out.append(ch)\n",
        "    return ''.join(out)\n",
        "\n",
        "def caesar_decrypt(text, k):\n",
        "    # descifrar con k equivale a cifrar con -k\n",
        "    return caesar_encrypt(text, -k)\n",
        "\n",
        "def caesar_bruteforce(text):\n",
        "    return [(k, caesar_decrypt(text, k)) for k in range(26)]\n",
        "\n",
        "\n",
        "\n",
        "plain_test = caesar_decrypt(\"\"\"Al osk lzw twkl gx laewk, al osk lzw ogjkl gx laewk, al osk lzw syw gx oakvge,\n",
        "al osk lzw syw gx xggdakzfwkk, al osk lzw whguz gx twdawx, al osk lzw whguz gx\n",
        "afujwvmdalq, al osk lzw kwskgf gx Dayzl, al osk lzw kwskgf gx Vsjcfwkk, al osk\n",
        "lzw khjafy gx zghw, al osk lzw oaflwj gx vwkhsaj, ow zsv wnwjqlzafy twxgjw mk,\n",
        "ow zsv fglzafy twxgjw mk, ow owjw sdd ygafy vajwul lg Zwsnwf, ow owjw sdd ygafy\n",
        "vajwul lzw glzwj osq...\"\"\", 18)\n",
        "\n",
        "print(plain_test[:500])\n",
        "\n"
      ],
      "metadata": {
        "colab": {
          "base_uri": "https://localhost:8080/"
        },
        "id": "FSF7d0-o1ZHO",
        "outputId": "2338227a-93c1-49ca-bf96-918cd04792a7"
      },
      "execution_count": 4,
      "outputs": [
        {
          "output_type": "stream",
          "name": "stdout",
          "text": [
            "IT WAS THE BEST OF TIMES, IT WAS THE WORST OF TIMES, IT WAS THE AGE OF WISDOM, \n",
            "IT WAS THE AGE OF FOOLISHNESS, IT WAS THE EPOCH OF BELIEF, IT WAS THE EPOCH OF \n",
            "INCREDULITY, IT WAS THE SEASON OF LIGHT, IT WAS THE SEASON OF DARKNESS, IT WAS \n",
            "THE SPRING OF HOPE, IT WAS THE WINTER OF DESPAIR, WE HAD EVERYTHING BEFORE US, \n",
            "WE HAD NOTHING BEFORE US, WE WERE ALL GOING DIRECT TO HEAVEN, WE WERE ALL GOING \n",
            "DIRECT THE OTHER WAY...\n"
          ]
        }
      ]
    },
    {
      "cell_type": "markdown",
      "source": [
        "\n",
        "**a) Descifrado por análisis de frecuencia**\n",
        "\n",
        "- Al calcular las frecuencias del texto cifrado, vimos que la letra más común era **W (14.7%)**, lo cual corresponde aproximadamente a la letra **E** en inglés.\n",
        "- A partir de esto, se probó la clave k = 18 (desplazamiento de 18 posiciones).\n",
        "- El descifrado dio como resultado un texto en inglés legible:  \n",
        "  *\"IT WAS THE BEST OF TIMES, IT WAS THE WORST OF TIMES, ...\"*  \n",
        "  (fragmento de *A Tale of Two Cities* de Charles Dickens).\n",
        "\n",
        "**b) Clave usada**\n",
        "\n",
        "- La clave encontrada es **k = 18**.\n",
        "- Esto significa que, al cifrar, cada letra fue desplazada 18 posiciones hacia adelante en el alfabeto.\n"
      ],
      "metadata": {
        "id": "tbedzqlZ2Dot"
      }
    },
    {
      "cell_type": "markdown",
      "source": [
        "### Ejercicio 2"
      ],
      "metadata": {
        "id": "y82ki3iS3Bjm"
      }
    },
    {
      "cell_type": "code",
      "source": [
        "import string\n",
        "alphabet = string.ascii_uppercase\n",
        "A2I = {ch:i for i,ch in enumerate(alphabet)}\n",
        "I2A = {i:ch for i,ch in enumerate(alphabet)}\n",
        "\n",
        "def affine_encrypt(pt, a, b):\n",
        "    out = []\n",
        "    for ch in pt.upper():\n",
        "        if ch in A2I:\n",
        "            x = A2I[ch]\n",
        "            y = (a*x + b) % 26\n",
        "            out.append(I2A[y])\n",
        "        else:\n",
        "            out.append(ch)\n",
        "    return ''.join(out)\n",
        "\n",
        "plaintext = \"CRYPTOGRAPHY\"\n",
        "a, b = 5, 8\n",
        "cipher_affine = affine_encrypt(plaintext, a, b)\n",
        "cipher_affine\n"
      ],
      "metadata": {
        "colab": {
          "base_uri": "https://localhost:8080/",
          "height": 35
        },
        "id": "emsyvVxC3Gnb",
        "outputId": "f2485f48-fd15-4547-ae3c-ab365aa45804"
      },
      "execution_count": 5,
      "outputs": [
        {
          "output_type": "execute_result",
          "data": {
            "text/plain": [
              "'SPYFZAMPIFRY'"
            ],
            "application/vnd.google.colaboratory.intrinsic+json": {
              "type": "string"
            }
          },
          "metadata": {},
          "execution_count": 5
        }
      ]
    },
    {
      "cell_type": "markdown",
      "source": [
        " a) Cálculo a mano (primeras 3 letras)\n",
        "\n",
        "Mapeo A=0,…,Z=25. Fórmula: \\(E(x) = (a x + b) \\bmod 26\\), con \\(a=5, b=8\\).\n",
        "\n",
        "- C → E(2) = (5·2 + 8) mod 26 = 18 ⇒ S\n",
        "- R → E(17) = (5·17 + 8) = 93 mod 26 = 15 ⇒ P\n",
        "- Y → E(24) = (5·24 + 8) = 128 mod 26 = 24 ⇒ Y\n",
        "\n"
      ],
      "metadata": {
        "id": "QF2r4pgM3a9N"
      }
    },
    {
      "cell_type": "code",
      "source": [
        "inv_a = pow(5, -1, 26)  # inverso modular de 5 mod 26\n",
        "inv_a\n"
      ],
      "metadata": {
        "colab": {
          "base_uri": "https://localhost:8080/"
        },
        "id": "Cb12-WAZ3rGO",
        "outputId": "0d2aac75-f09a-4867-8a8f-384d71f4578f"
      },
      "execution_count": 6,
      "outputs": [
        {
          "output_type": "execute_result",
          "data": {
            "text/plain": [
              "21"
            ]
          },
          "metadata": {},
          "execution_count": 6
        }
      ]
    },
    {
      "cell_type": "code",
      "source": [
        "def affine_decrypt(ct, a, b):\n",
        "    inv_a = pow(a, -1, 26)\n",
        "    out = []\n",
        "    for ch in ct.upper():\n",
        "        if ch in A2I:\n",
        "            y = A2I[ch]\n",
        "            x = (inv_a * (y - b)) % 26\n",
        "            out.append(I2A[x])\n",
        "        else:\n",
        "            out.append(ch)\n",
        "    return ''.join(out)\n",
        "\n",
        "# verificar las primeras 3 letras del ciphertext\n",
        "cipher_partial = cipher_affine[:3]  # \"SPY\"\n",
        "decrypted_partial = affine_decrypt(cipher_partial, a, b)\n",
        "cipher_partial, decrypted_partial\n"
      ],
      "metadata": {
        "colab": {
          "base_uri": "https://localhost:8080/"
        },
        "id": "CVkpOnt-3y04",
        "outputId": "1b01b6f3-acda-4a7f-de95-7fc0dce4ef67"
      },
      "execution_count": 7,
      "outputs": [
        {
          "output_type": "execute_result",
          "data": {
            "text/plain": [
              "('SPY', 'CRY')"
            ]
          },
          "metadata": {},
          "execution_count": 7
        }
      ]
    },
    {
      "cell_type": "markdown",
      "source": [
        "**b) Inverso de a = 5 mod 26**\n",
        "- El inverso multiplicativo es 21.\n",
        "\n",
        "**c) Verificación**\n",
        "- Ciphertext parcial: \"SPY\"\n",
        "- Descifrado con la fórmula da: \"CRY\", que coincide con el plaintext original.\n",
        "\n",
        "**d) Número de claves válidas**\n",
        "- Para que haya descifrado, `a` debe ser coprimo con 26.\n",
        "- Los valores de `a` válidos son 12 (φ(26) = 12).\n",
        "- Para cada `a` hay 26 posibles `b`.\n",
        "- Total de claves válidas: 12 × 26 = **312**.\n"
      ],
      "metadata": {
        "id": "j0A_FRZC31mE"
      }
    },
    {
      "cell_type": "markdown",
      "source": [
        "# Ejercicio 3\n",
        "\n",
        "### a) Matriz de cifrado\n",
        "\n",
        "Tabla de todas las combinaciones posibles:\n",
        "\n",
        "| P | K | C = P ⊕ K |\n",
        "|---|---|-----------|\n",
        "| 0 | 0 | 0 |\n",
        "| 0 | 1 | 1 |\n",
        "| 1 | 0 | 1 |\n",
        "| 1 | 1 | 0 |\n",
        "\n",
        "Recordatorio: $C = P \\oplus K$ (XOR).\n"
      ],
      "metadata": {
        "id": "r34F8Z505PR3"
      }
    },
    {
      "cell_type": "code",
      "source": [
        "# Genera la tabla (P, K, C) para C = P XOR K\n",
        "rows = []\n",
        "for P in (0, 1):\n",
        "    for K in (0, 1):\n",
        "        C = P ^ K\n",
        "        rows.append((P, K, C))\n",
        "rows\n"
      ],
      "metadata": {
        "colab": {
          "base_uri": "https://localhost:8080/"
        },
        "id": "ZxDoMJzj5TPZ",
        "outputId": "dfc0f2a8-86f1-48cd-e672-aa4931a6517c"
      },
      "execution_count": 9,
      "outputs": [
        {
          "output_type": "execute_result",
          "data": {
            "text/plain": [
              "[(0, 0, 0), (0, 1, 1), (1, 0, 1), (1, 1, 0)]"
            ]
          },
          "metadata": {},
          "execution_count": 9
        }
      ]
    },
    {
      "cell_type": "markdown",
      "source": [
        "### b) Probabilidades de $C$\n",
        "\n",
        "Sea $p = P(P=0)$ y $1-p = P(P=1)$, con $P(K=0)=P(K=1)=\\frac{1}{2}$:\n",
        "\n",
        "$$\n",
        "P(C=0) = P(P=0,K=0) + P(P=1,K=1) = p \\frac{1}{2} + (1-p) \\frac{1}{2} = \\frac{1}{2}\n",
        "$$\n",
        "\n",
        "$$\n",
        "P(C=1) = 1 - P(C=0) = \\frac{1}{2}\n",
        "$$\n",
        "\n",
        "**Conclusión:** $C$ es uniforme (mitad 0, mitad 1), independientemente de la distribución de $P$.\n"
      ],
      "metadata": {
        "id": "YobY-pWJ7cea"
      }
    },
    {
      "cell_type": "code",
      "source": [
        "# Supongamos distribución de P: P(P=0)=p, P(P=1)=1-p\n",
        "# Prob(K=0)=Prob(K=1)=0.5\n",
        "def probs_C(p=0.5):\n",
        "    pC0 = p*0.5 + (1-p)*0.5\n",
        "    pC1 = 1 - pC0\n",
        "    return pC0, pC1\n",
        "\n",
        "probs_C(0.5), probs_C(0.2), probs_C(0.9)  # siempre debería dar (0.5, 0.5)\n"
      ],
      "metadata": {
        "colab": {
          "base_uri": "https://localhost:8080/"
        },
        "id": "5-hqH8aG7whZ",
        "outputId": "ff4b08ac-092d-485a-ea5c-e650f75abf60"
      },
      "execution_count": 10,
      "outputs": [
        {
          "output_type": "execute_result",
          "data": {
            "text/plain": [
              "((0.5, 0.5), (0.5, 0.5), (0.5, 0.5))"
            ]
          },
          "metadata": {},
          "execution_count": 10
        }
      ]
    },
    {
      "cell_type": "markdown",
      "source": [
        "**c) Probabilidades condicionales**\n",
        "\n",
        "$$\n",
        "P(P=0 \\mid C=0) = \\frac{1/4}{1/2} = 1/2\n",
        "$$\n",
        "\n",
        "$$\n",
        "P(P=1 \\mid C=0) = \\frac{1/4}{1/2} = 1/2\n",
        "$$\n",
        "\n",
        "**Conclusión:** Al observar que $C=0$, las probabilidades de $P=0$ y $P=1$ se mantienen iguales (1/2 cada una).\n"
      ],
      "metadata": {
        "id": "Qd_4WZFt6nri"
      }
    },
    {
      "cell_type": "code",
      "source": [
        "# cálculo condicionales\n",
        "P_joint = {(\"P=0,C=0\"):0.25, (\"P=1,C=0\"):0.25}\n",
        "P_C0 = sum(P_joint.values())\n",
        "\n",
        "pP0_C0 = P_joint[\"P=0,C=0\"]/P_C0\n",
        "pP1_C0 = P_joint[\"P=1,C=0\"]/P_C0\n",
        "\n",
        "pP0_C0, pP1_C0\n"
      ],
      "metadata": {
        "colab": {
          "base_uri": "https://localhost:8080/"
        },
        "id": "dTAQTbnC8_fG",
        "outputId": "84bfb5cd-dd78-40b1-82cd-7efd592968ec"
      },
      "execution_count": 11,
      "outputs": [
        {
          "output_type": "execute_result",
          "data": {
            "text/plain": [
              "(0.5, 0.5)"
            ]
          },
          "metadata": {},
          "execution_count": 11
        }
      ]
    },
    {
      "cell_type": "markdown",
      "source": [
        "### d) ¿Secreto perfecto según Shannon?\n",
        "\n",
        "Definición: un cifrado tiene secreto perfecto si  \n",
        "\n",
        "$$\n",
        "P(P \\mid C) = P(P)\n",
        "$$\n",
        "\n",
        "para todo $P, C$.\n",
        "\n",
        "En nuestro caso, ya vimos que:\n",
        "\n",
        "$$\n",
        "P(P=0) = \\frac{1}{2}, \\quad P(P=0 \\mid C=0) = \\frac{1}{2}\n",
        "$$\n",
        "\n",
        "$$\n",
        "P(P=1) = \\frac{1}{2}, \\quad P(P=1 \\mid C=0) = \\frac{1}{2}\n",
        "$$\n",
        "\n",
        "Como observar $C$ no cambia la distribución de $P$, el esquema  \n",
        "$$\n",
        "C = P \\oplus K\n",
        "$$\n",
        "con $K$ uniforme e independiente **sí logra secreto perfecto**.\n"
      ],
      "metadata": {
        "id": "XWFPP2iE9J8X"
      }
    },
    {
      "cell_type": "code",
      "source": [
        "import random\n",
        "\n",
        "def simulate(n=100000):\n",
        "    count_P0, count_P0_given_C0, count_C0 = 0, 0, 0\n",
        "    for _ in range(n):\n",
        "        P = random.randint(0,1)      # P(P=0)=P(P=1)=1/2\n",
        "        K = random.randint(0,1)      # K uniforme\n",
        "        C = P ^ K\n",
        "        if P==0: count_P0 += 1\n",
        "        if C==0:\n",
        "            count_C0 += 1\n",
        "            if P==0:\n",
        "                count_P0_given_C0 += 1\n",
        "    return (count_P0/n, count_P0_given_C0/max(count_C0,1))\n",
        "\n",
        "simulate()\n"
      ],
      "metadata": {
        "colab": {
          "base_uri": "https://localhost:8080/"
        },
        "id": "mLBCXgXT9PbW",
        "outputId": "d2e66d55-d2fc-40d7-e3fe-85ba2dfbf1b1"
      },
      "execution_count": 12,
      "outputs": [
        {
          "output_type": "execute_result",
          "data": {
            "text/plain": [
              "(0.49733, 0.49606581542200356)"
            ]
          },
          "metadata": {},
          "execution_count": 12
        }
      ]
    },
    {
      "cell_type": "markdown",
      "source": [
        "### 4(a) Entropía — Escenario A\n",
        "\n",
        "Escenario A: contraseñas de 4 caracteres, cada carácter elegido uniformemente de {A, B, C, D}.\n",
        "\n",
        "Cada carácter tiene 4 opciones equiprobables ⇒ entropía por carácter:\n",
        "\n",
        "$$\n",
        "H_1 = \\log_2 4 = 2 \\ \\text{bits}\n",
        "$$\n",
        "\n",
        "La contraseña tiene 4 caracteres independientes:\n",
        "\n",
        "$$\n",
        "H = 4 \\times H_1 = 4 \\times 2 = 8 \\ \\text{bits}\n",
        "$$\n"
      ],
      "metadata": {
        "id": "gytKdJjV9jff"
      }
    },
    {
      "cell_type": "code",
      "source": [
        "import math\n",
        "H1 = math.log2(4)   # bits por carácter\n",
        "H  = 4 * H1         # 4 caracteres\n",
        "H1, H\n"
      ],
      "metadata": {
        "colab": {
          "base_uri": "https://localhost:8080/"
        },
        "id": "ZShQrEaY9JTO",
        "outputId": "41f1716f-dae3-457c-b702-074a174504d1"
      },
      "execution_count": 13,
      "outputs": [
        {
          "output_type": "execute_result",
          "data": {
            "text/plain": [
              "(2.0, 8.0)"
            ]
          },
          "metadata": {},
          "execution_count": 13
        }
      ]
    },
    {
      "cell_type": "markdown",
      "source": [
        "### 4(b) Entropía — Escenario B (Vigenère, longitud 3)\n",
        "\n",
        "Cada carácter de la clave se elige uniformemente del alfabeto de 26 letras, así que la entropía por carácter es:\n",
        "\n",
        "$$\n",
        "H_1 = \\log_2 26 \\approx 4.700439718 \\ \\text{bits}\n",
        "$$\n",
        "\n",
        "Como la clave tiene 3 caracteres independientes:\n",
        "\n",
        "$$\n",
        "H = 3 \\times H_1 = 3 \\times \\log_2 26 \\approx 14.101319 \\ \\text{bits}\n",
        "$$\n"
      ],
      "metadata": {
        "id": "3D-dpvzX90ak"
      }
    },
    {
      "cell_type": "code",
      "source": [
        "import math\n",
        "H1 = math.log2(26)     # bits por carácter\n",
        "H  = 3 * H1            # 3 caracteres\n",
        "H1, H\n"
      ],
      "metadata": {
        "colab": {
          "base_uri": "https://localhost:8080/"
        },
        "id": "Dbzg2d_z91mg",
        "outputId": "04c24805-8871-47e1-a2f0-555e2273318f"
      },
      "execution_count": 14,
      "outputs": [
        {
          "output_type": "execute_result",
          "data": {
            "text/plain": [
              "(4.700439718141092, 14.101319154423276)"
            ]
          },
          "metadata": {},
          "execution_count": 14
        }
      ]
    },
    {
      "cell_type": "markdown",
      "source": [
        "### Cálculo 1 — Número de claves y tiempo (detallado)\n",
        "\n",
        "#### Escenario A\n",
        "\n",
        "Número de claves = $4^4$.\n",
        "\n",
        "$$\n",
        "4^2 = 16\n",
        "$$\n",
        "\n",
        "$$\n",
        "4^3 = 64\n",
        "$$\n",
        "\n",
        "$$\n",
        "4^4 = 256\n",
        "$$\n",
        "\n",
        "Prueba 1000 claves/seg → tiempo peor caso:\n",
        "\n",
        "$$\n",
        "\\frac{256}{1000} = 0.256 \\ \\text{segundos} \\approx 256 \\ \\text{ms}\n",
        "$$\n",
        "\n",
        "---\n",
        "\n",
        "#### Escenario B\n",
        "\n",
        "Número de claves = $26^3$.\n",
        "\n",
        "$$\n",
        "26^2 = 676\n",
        "$$\n",
        "\n",
        "$$\n",
        "26^3 = 676 \\times 26\n",
        "$$\n",
        "\n",
        "$$\n",
        "676 \\times 20 = 13{,}520\n",
        "$$\n",
        "\n",
        "$$\n",
        "676 \\times 6 = 4{,}056\n",
        "$$\n",
        "\n",
        "$$\n",
        "13{,}520 + 4{,}056 = 17{,}576\n",
        "$$\n",
        "\n",
        "Prueba 1000 claves/seg → tiempo peor caso:\n",
        "\n",
        "$$\n",
        "\\frac{17{,}576}{1000} = 17.576 \\ \\text{segundos} \\approx 17 \\ \\text{s y 576 ms}\n",
        "$$\n"
      ],
      "metadata": {
        "id": "KTJDxYBO-BZi"
      }
    },
    {
      "cell_type": "code",
      "source": [
        "import math\n",
        "\n",
        "# Escenario A\n",
        "keys_A = 4**4\n",
        "time_A_s = keys_A / 1000  # segundos\n",
        "# Escenario B\n",
        "keys_B = 26**3\n",
        "time_B_s = keys_B / 1000  # segundos\n",
        "\n",
        "\n",
        "def format_seconds(s):\n",
        "    mins = int(s // 60)\n",
        "    secs = s - mins*60\n",
        "    if mins == 0:\n",
        "        return f\"{secs:.3f} s\"\n",
        "    else:\n",
        "        return f\"{mins} min {secs:.3f} s\"\n",
        "\n",
        "keys_A, format_seconds(time_A_s), keys_B, format_seconds(time_B_s)\n"
      ],
      "metadata": {
        "colab": {
          "base_uri": "https://localhost:8080/"
        },
        "id": "F-gc_UZ4-KTR",
        "outputId": "50ff8e95-ff7e-4e48-aaf8-f2a0b533a7be"
      },
      "execution_count": 15,
      "outputs": [
        {
          "output_type": "execute_result",
          "data": {
            "text/plain": [
              "(256, '0.256 s', 17576, '17.576 s')"
            ]
          },
          "metadata": {},
          "execution_count": 15
        }
      ]
    },
    {
      "cell_type": "markdown",
      "source": [
        "**4(d) Unicity Distance**\n",
        "\n",
        "Redundancia del inglés:\n",
        "$$\n",
        "R = \\log_2 26 - 1.5 \\approx 3.2004 \\ \\text{bits/char}\n",
        "$$\n",
        "\n",
        "Entropía de la clave (3 letras Vigenère):\n",
        "$$\n",
        "H(K) \\approx 14.1013 \\ \\text{bits}\n",
        "$$\n",
        "\n",
        "Unicity distance:\n",
        "$$\n",
        "N = \\frac{H(K)}{R} \\approx \\frac{14.1013}{3.2004} \\approx 4.41 \\ \\text{caracteres}\n",
        "$$\n",
        "\n",
        "**Conclusión:** En teoría, con alrededor de 5 caracteres de ciphertext se podría determinar la clave de 3 letras de un Vigenère.\n"
      ],
      "metadata": {
        "id": "NQxH1xFh-RfT"
      }
    },
    {
      "cell_type": "code",
      "source": [
        "H_key = 3 * math.log2(26)\n",
        "R = math.log2(26) - 1.5\n",
        "N = H_key / R\n",
        "H_key, R, N\n"
      ],
      "metadata": {
        "colab": {
          "base_uri": "https://localhost:8080/"
        },
        "id": "k0FBKAXg-RTY",
        "outputId": "4784863a-0551-43b9-df3f-4e250383618b"
      },
      "execution_count": 16,
      "outputs": [
        {
          "output_type": "execute_result",
          "data": {
            "text/plain": [
              "(14.101319154423276, 3.2004397181410917, 4.406056791037993)"
            ]
          },
          "metadata": {},
          "execution_count": 16
        }
      ]
    },
    {
      "cell_type": "markdown",
      "source": [
        "# Parte III\n",
        "### EJERCICIO C3\n",
        "### ENCODER"
      ],
      "metadata": {
        "id": "w62S8OX515NC"
      }
    },
    {
      "cell_type": "code",
      "source": [
        "import sys\n",
        "chars = \"\"\n",
        "from fileinput import input\n",
        "for line in input():\n",
        "  chars += line\n",
        "\n",
        "lookup1 = \"\\n \\\"#()*+/1:=[]abcdefghijklmnopqrstuvwxyz\"\n",
        "lookup2 = \"ABCDEFGHIJKLMNOPQRSTabcdefghijklmnopqrst\"\n",
        "\n",
        "out = \"\"\n",
        "\n",
        "prev = 0\n",
        "for char in chars:\n",
        "  cur = lookup1.index(char)\n",
        "  out += lookup2[(cur - prev) % 40]\n",
        "  prev = cur\n",
        "\n",
        "sys.stdout.write(out)\n"
      ],
      "metadata": {
        "id": "exZg8A112s4g"
      },
      "execution_count": 1,
      "outputs": []
    },
    {
      "cell_type": "markdown",
      "source": [
        "### ciphertext"
      ],
      "metadata": {
        "id": "Zl8Srmc_20gZ"
      }
    },
    {
      "cell_type": "code",
      "source": [
        "DLSeGAGDgBNJDQJDCFSFnRBIDjgHoDFCFtHDgJpiHtGDmMAQFnRBJKkBAsTMrsPSDDnEFCFtIbEDtDCIbFCFtHTJDKerFldbFObFCFtLBFkBAAAPFnRBJGEkerFlcPgKkImHnIlATJDKbTbFOkdNnsgbnJRMFnRBNAFkBAAAbrcbTKAkOgFpOgFpOpkBAAAAAAAiClFGIPFnRBaKliCgClFGtIBAAAAAAAOgGEkImHnIl"
      ],
      "metadata": {
        "id": "mJ4rwbdV14rl"
      },
      "execution_count": null,
      "outputs": []
    },
    {
      "cell_type": "markdown",
      "source": [
        "#Metodo 1\n",
        "# PicoCTF — Custom Cyclical Cipher (Método A)\n",
        "\n",
        "**Objetivo:** usar los archivos provistos (`convert.py`, `ciphertext`) para obtener la flag.  \n",
        "Vamos a: (1) inspeccionar el encoder, (2) ejecutar/decodificar de forma robusta, (3) extraer caracteres por índices cúbicos, (4) obtener y verificar la flag `picoCTF{...}`.  \n"
      ],
      "metadata": {
        "id": "uUJDiSdSBX4s"
      }
    },
    {
      "cell_type": "code",
      "source": [
        "import os\n",
        "print(\"Archivos en el directorio actual:\")\n",
        "print(os.listdir(\".\"))\n",
        "\n",
        "assert os.path.exists(\"convert.py\"), \"Falta convert.py\"\n",
        "assert os.path.exists(\"ciphertext\"), \"Falta ciphertext\"\n",
        "print(\"OK: archivos presentes\")\n"
      ],
      "metadata": {
        "colab": {
          "base_uri": "https://localhost:8080/"
        },
        "id": "QaAg2cs1BkXo",
        "outputId": "80732c8c-c6da-4a5a-8907-6438d58a94ad"
      },
      "execution_count": 20,
      "outputs": [
        {
          "output_type": "stream",
          "name": "stdout",
          "text": [
            "Archivos en el directorio actual:\n",
            "['.config', 'ciphertext.filtered', 'output_try.txt', 'output_decoded.txt', 'ciphertext', 'convert.py', '.ipynb_checkpoints', 'encoder_error.txt', 'sample_data']\n",
            "OK: archivos presentes\n"
          ]
        }
      ]
    },
    {
      "cell_type": "markdown",
      "source": [
        "## Plan técnico (sin ejecutar el encoder “tal cual”)\n",
        "- Leer `convert.py` y extraer **lookup1** y **lookup2** (los alfabetos).\n",
        "- Usar esas tablas para **invertir** la operación del encoder sobre `ciphertext`.\n",
        "- Guardar el texto intermedio en `output_decoded.txt` y **aplicar la extracción** por índices cúbicos.\n",
        "- Buscar la flag (o el contenido para el wrapper `picoCTF{...}`).\n"
      ],
      "metadata": {
        "id": "3Qxq6-fuBnBg"
      }
    },
    {
      "cell_type": "code",
      "source": [
        "lookup1 = \"\\n \\\"#()*+/1:=[]abcdefghijklmnopqrstuvwxyz\"\n",
        "lookup2 = \"ABCDEFGHIJKLMNOPQRSTabcdefghijklmnopqrst\"\n",
        "\n",
        "def cyclical_decode(ciphertext: str) -> str:\n",
        "    prev = 0\n",
        "    out_chars = []\n",
        "    for ch in ciphertext:\n",
        "        if ch not in lookup2:\n",
        "            continue\n",
        "        j = lookup2.index(ch)\n",
        "        cur = (j + prev) % 40\n",
        "        out_chars.append(lookup1[cur])\n",
        "        prev = cur\n",
        "    return ''.join(out_chars)\n",
        "\n",
        "with open(\"ciphertext\",\"r\",encoding=\"utf-8\",errors=\"ignore\") as f:\n",
        "    ct = f.read()\n",
        "\n",
        "decoded = cyclical_decode(ct)\n",
        "\n",
        "with open(\"output_decoded.txt\",\"w\",encoding=\"utf-8\") as f:\n",
        "    f.write(decoded)\n",
        "\n",
        "print(\"Texto decodificado (primeros 400 chars):\\n\")\n",
        "print(decoded[:400])"
      ],
      "metadata": {
        "colab": {
          "base_uri": "https://localhost:8080/"
        },
        "id": "FfjnYGBqBqaE",
        "outputId": "e70d3985-8a3b-48ad-bcde-31558234e7b3"
      },
      "execution_count": 21,
      "outputs": [
        {
          "output_type": "stream",
          "name": "stdout",
          "text": [
            "Texto decodificado (primeros 400 chars):\n",
            "\n",
            "#asciiorder\n",
            "#fortychars\n",
            "#selfinput\n",
            "#pythontwo\n",
            "\n",
            "chars = \"\"\n",
            "from fileinput import input\n",
            "for line in input():\n",
            "    chars += line\n",
            "b = 1 / 1\n",
            "\n",
            "for i in range(len(chars)):\n",
            "    if i == b * b * b:\n",
            "        print chars[i] #prints\n",
            "        b += 1 / 1\n",
            "\n"
          ]
        }
      ]
    },
    {
      "cell_type": "markdown",
      "source": [
        "## Extracción cúbica\n",
        "\n",
        "El texto decodificado trae un snippet en Python2 que indica extraer los caracteres en posiciones cúbicas (1, 8, 27, 64, …).  \n",
        "Implementamos esa lógica en Python3 para obtener la cadena oculta.\n"
      ],
      "metadata": {
        "id": "CZJRt5P0Cw2K"
      }
    },
    {
      "cell_type": "code",
      "source": [
        "import re\n",
        "\n",
        "with open(\"output_decoded.txt\",\"r\",encoding=\"utf-8\",errors=\"ignore\") as f:\n",
        "    txt = f.read()\n",
        "\n",
        "out_chars = []\n",
        "b = 1\n",
        "n = len(txt)\n",
        "i = 0\n",
        "next_cube = b**3  # 1, 8, 27, 64, ...\n",
        "\n",
        "while i < n:\n",
        "    if i == next_cube:\n",
        "        out_chars.append(txt[i])\n",
        "        b += 1\n",
        "        next_cube = b**3\n",
        "    i += 1\n",
        "\n",
        "hidden = ''.join(out_chars).strip()\n",
        "print(\"Cadena extraída:\", repr(hidden))\n",
        "\n",
        "m = re.search(r'picoCTF\\{[A-Za-z0-9_!@#\\$%\\^&\\*\\-+]+\\}', hidden)\n",
        "if m:\n",
        "    print(\"Flag encontrada:\", m.group(0))\n",
        "else:\n",
        "    flag = f\"picoCTF{{{hidden}}}\"\n",
        "    print(\"Flag candidata:\", flag)\n"
      ],
      "metadata": {
        "colab": {
          "base_uri": "https://localhost:8080/"
        },
        "id": "UDSclu58DCJW",
        "outputId": "81a28bab-2b98-46f4-a395-05dc9d9df6ed"
      },
      "execution_count": 22,
      "outputs": [
        {
          "output_type": "stream",
          "name": "stdout",
          "text": [
            "Cadena extraída: 'adlibs'\n",
            "Flag candidata: picoCTF{adlibs}\n"
          ]
        }
      ]
    },
    {
      "cell_type": "markdown",
      "source": [
        "# (Método B: script autónomo)\n",
        "\n",
        "**Idea / Técnica:** Reimplementar todo el pipeline en un script `decode_all.py` que:\n",
        "1. Contenga (o extraiga) las tablas `lookup1` y `lookup2`.\n",
        "2. Lea `ciphertext`.\n",
        "3. Aplique la decodificación inversa (acumulativa modular).\n",
        "4. Aplique la extracción por índices cúbicos.\n",
        "5. Imprima la flag final (y la guarde en `flag.txt`).\n",
        "\n"
      ],
      "metadata": {
        "id": "HGRWTLrIDVeI"
      }
    },
    {
      "cell_type": "code",
      "source": [
        "script = r'''\n",
        "#!/usr/bin/env python3\n",
        "# decode_all.py — Método B (autónomo): decodifica y extrae la flag.\n",
        "\n",
        "import sys, re\n",
        "from pathlib import Path\n",
        "\n",
        "lookup1 = \"\\n \\\"#()*+/1:=[]abcdefghijklmnopqrstuvwxyz\"\n",
        "lookup2 = \"ABCDEFGHIJKLMNOPQRSTabcdefghijklmnopqrst\"\n",
        "\n",
        "def cyclical_decode_from_output(ciphertext: str) -> str:\n",
        "    prev = 0\n",
        "    out = []\n",
        "    for ch in ciphertext:\n",
        "        if ch not in lookup2:\n",
        "            continue\n",
        "        j = lookup2.index(ch)\n",
        "        cur = (j + prev) % len(lookup1)\n",
        "        out.append(lookup1[cur])\n",
        "        prev = cur\n",
        "    return ''.join(out)\n",
        "\n",
        "def extract_by_cubes(text: str) -> str:\n",
        "    out = []\n",
        "    b = 1\n",
        "    n = len(text)\n",
        "    i = 0\n",
        "    next_cube = b**3\n",
        "    while i < n:\n",
        "        if i == next_cube:\n",
        "            out.append(text[i])\n",
        "            b += 1\n",
        "            next_cube = b**3\n",
        "        i += 1\n",
        "    return ''.join(out).strip()\n",
        "\n",
        "def main():\n",
        "    path = Path(\"ciphertext\")\n",
        "    if len(sys.argv) > 1:\n",
        "        path = Path(sys.argv[1])\n",
        "    if not path.exists():\n",
        "        print(\"No se encuentra el archivo ciphertext:\", path, file=sys.stderr)\n",
        "        sys.exit(2)\n",
        "\n",
        "    ciphertext = path.read_text(encoding=\"utf-8\", errors=\"ignore\")\n",
        "\n",
        "    decoded = cyclical_decode_from_output(ciphertext)\n",
        "    Path(\"output_decoded.txt\").write_text(decoded, encoding=\"utf-8\")\n",
        "\n",
        "    hidden = extract_by_cubes(decoded)\n",
        "\n",
        "    # REGEX corregido (simple y seguro):\n",
        "    m = re.search(r'picoCTF\\{[^}]+\\}', hidden)\n",
        "    flag = m.group(0) if m else f\"picoCTF{{{hidden}}}\"\n",
        "\n",
        "    Path(\"flag.txt\").write_text(flag, encoding=\"utf-8\")\n",
        "\n",
        "    print(\"Decoded (first 300 chars):\")\n",
        "    print(decoded[:300])\n",
        "    print(\"\\nHidden (extracted):\", repr(hidden))\n",
        "    print(\"FLAG (final):\", flag)\n",
        "\n",
        "if __name__ == '__main__':\n",
        "    main()\n",
        "'''\n",
        "open(\"decode_all.py\",\"w\",encoding=\"utf-8\").write(script)\n",
        "print(\"decode_all.py creado\")\n"
      ],
      "metadata": {
        "colab": {
          "base_uri": "https://localhost:8080/"
        },
        "id": "-BIISec2Dar9",
        "outputId": "f86fc4c1-d8f6-4b30-861d-9c3e62f9e00b"
      },
      "execution_count": 27,
      "outputs": [
        {
          "output_type": "stream",
          "name": "stdout",
          "text": [
            "decode_all.py creado\n"
          ]
        }
      ]
    },
    {
      "cell_type": "code",
      "source": [
        "!python3 decode_all.py ciphertext > run_output.txt 2>&1 || true\n",
        "!sed -n '1,200p' run_output.txt\n"
      ],
      "metadata": {
        "colab": {
          "base_uri": "https://localhost:8080/"
        },
        "id": "nQcqE9wMDdcE",
        "outputId": "56958355-da24-4c9b-ea5d-41839c9692f3"
      },
      "execution_count": 28,
      "outputs": [
        {
          "output_type": "stream",
          "name": "stdout",
          "text": [
            "Decoded (first 300 chars):\n",
            "#asciiorder\n",
            "#fortychars\n",
            "#selfinput\n",
            "#pythontwo\n",
            "\n",
            "chars = \"\"\n",
            "from fileinput import input\n",
            "for line in input():\n",
            "    chars += line\n",
            "b = 1 / 1\n",
            "\n",
            "for i in range(len(chars)):\n",
            "    if i == b * b * b:\n",
            "        print chars[i] #prints\n",
            "        b += 1 / 1\n",
            "\n",
            "\n",
            "Hidden (extracted): 'adlibs'\n",
            "FLAG (final): picoCTF{adlibs}\n"
          ]
        }
      ]
    },
    {
      "cell_type": "code",
      "source": [
        "print(\"flag.txt:\")\n",
        "!sed -n '1,50p' flag.txt\n"
      ],
      "metadata": {
        "colab": {
          "base_uri": "https://localhost:8080/"
        },
        "id": "OisT-EF5DwsY",
        "outputId": "f6dcd1ef-a870-4e13-d563-1f3700b856b4"
      },
      "execution_count": 29,
      "outputs": [
        {
          "output_type": "stream",
          "name": "stdout",
          "text": [
            "flag.txt:\n",
            "picoCTF{adlibs}"
          ]
        }
      ]
    },
    {
      "cell_type": "markdown",
      "source": [
        "# Ejercicio 2 — EASY ´PEASY\n",
        "\n",
        "\n",
        "\n"
      ],
      "metadata": {
        "id": "qx7Es970Ejr7"
      }
    },
    {
      "cell_type": "markdown",
      "source": [
        "### Método 1 — Alineamiento exacto (paso a paso)\n",
        "1) Leer banner y extraer `enc_flag` (y su longitud L).  \n",
        "2) Avanzar el puntero con `KEY_LEN - L`.  \n",
        "3) Enviar `L` bytes conocidos para forzar uso de `key[0:L]`.  \n",
        "4) Recuperar `key[0:L]` y descifrar `enc_flag` → flag.\n"
      ],
      "metadata": {
        "id": "_YcOk3_eKjul"
      }
    },
    {
      "cell_type": "code",
      "source": [
        "import socket, re, binascii, time\n",
        "\n",
        "HOST = \"mercury.picoctf.net\"\n",
        "PORT = 58913\n",
        "KEY_LEN = 50000\n",
        "\n",
        "def recv_until_prompt(sock):\n",
        "    buf = b\"\"\n",
        "    sock.settimeout(2.0)\n",
        "    while True:\n",
        "        part = sock.recv(8192)\n",
        "        if not part:\n",
        "            break\n",
        "        buf += part\n",
        "        if b\"What data would you like to encrypt?\" in buf:\n",
        "            break\n",
        "    return buf.decode('utf-8', errors='replace')\n"
      ],
      "metadata": {
        "id": "IdGEsopYKlKJ"
      },
      "execution_count": 45,
      "outputs": []
    },
    {
      "cell_type": "code",
      "source": [
        "s = socket.create_connection((HOST, PORT), timeout=10)\n",
        "banner = recv_until_prompt(s)\n",
        "\n",
        "m = re.search(r\"This is the encrypted flag!\\n([0-9a-fA-F]+)\\n\", banner)\n",
        "assert m, \"No se encontró el encrypted flag en el banner\"\n",
        "enc_flag = binascii.unhexlify(m.group(1).strip())\n",
        "L = len(enc_flag)\n",
        "\n",
        "print(\"Longitud enc_flag (bytes) =\", L)\n"
      ],
      "metadata": {
        "colab": {
          "base_uri": "https://localhost:8080/"
        },
        "id": "U5RxlIgwKnt-",
        "outputId": "79fc86d4-a507-469c-dd16-d981cb5fda53"
      },
      "execution_count": 46,
      "outputs": [
        {
          "output_type": "stream",
          "name": "stdout",
          "text": [
            "Longitud enc_flag (bytes) = 32\n"
          ]
        }
      ]
    },
    {
      "cell_type": "code",
      "source": [
        "advance = KEY_LEN - L\n",
        "s.sendall( (\"B\"*advance + \"\\n\").encode('utf-8') )\n",
        "_ = recv_until_prompt(s)\n",
        "print(\"Avance realizado:\", advance)\n"
      ],
      "metadata": {
        "colab": {
          "base_uri": "https://localhost:8080/"
        },
        "id": "QsMJDMPgKpWH",
        "outputId": "1165ca8c-03a3-4ae3-96da-b2f801055bbf"
      },
      "execution_count": 47,
      "outputs": [
        {
          "output_type": "stream",
          "name": "stdout",
          "text": [
            "Avance realizado: 49968\n"
          ]
        }
      ]
    },
    {
      "cell_type": "code",
      "source": [
        "probe_char = 'C'\n",
        "s.sendall( (probe_char*L + \"\\n\").encode('utf-8') )\n",
        "resp = recv_until_prompt(s)\n",
        "s.close()\n",
        "\n",
        "m2 = re.search(r\"Here ya go!\\n([0-9a-fA-F]+)\\n\", resp)\n",
        "assert m2, \"No pude parsear el ciphertext final\"\n",
        "enc_probe = binascii.unhexlify(m2.group(1).strip())\n",
        "\n",
        "ui = (probe_char*L).encode('utf-8')\n",
        "ks0 = bytes(ci ^ ui[i] for i,ci in enumerate(enc_probe))    # key[0:L]\n",
        "flag = bytes(efi ^ ks0[i] for i,efi in enumerate(enc_flag)) # descifrar\n",
        "\n",
        "try:\n",
        "    flag_str = flag.decode('utf-8')\n",
        "except UnicodeDecodeError:\n",
        "    flag_str = flag.decode('latin-1')\n",
        "\n",
        "final_flag = flag_str if flag_str.startswith(\"picoCTF{\") else f\"picoCTF{{{flag_str}}}\"\n",
        "print(\"Flag:\", final_flag)\n"
      ],
      "metadata": {
        "colab": {
          "base_uri": "https://localhost:8080/"
        },
        "id": "Fo9CRUWGKq6o",
        "outputId": "aac6bd41-44de-4c9f-f66f-64e9f09a924e"
      },
      "execution_count": 48,
      "outputs": [
        {
          "output_type": "stream",
          "name": "stdout",
          "text": [
            "Flag: picoCTF{35ecb423b3b43472c35cc2f41011c6d2}\n"
          ]
        }
      ]
    },
    {
      "cell_type": "markdown",
      "source": [
        "### Método 2 — Avance por bloques (chunked)\n",
        "1) Leer banner y extraer `enc_flag` (L).  \n",
        "2) Avanzar `key_location` en **bloques pequeños** cuya suma sea `KEY_LEN - L`.  \n",
        "3) Enviar `L` bytes conocidos; obtener `key[0:L]` y descifrar `enc_flag`.\n"
      ],
      "metadata": {
        "id": "hqZiEma6KsxE"
      }
    },
    {
      "cell_type": "code",
      "source": [
        "import socket, re, binascii, time\n",
        "\n",
        "HOST = \"mercury.picoctf.net\"\n",
        "PORT = 58913\n",
        "KEY_LEN = 50000\n",
        "\n",
        "def recv_until_prompt(sock):\n",
        "    buf = b\"\"\n",
        "    sock.settimeout(2.0)\n",
        "    while True:\n",
        "        part = sock.recv(8192)\n",
        "        if not part:\n",
        "            break\n",
        "        buf += part\n",
        "        if b\"What data would you like to encrypt?\" in buf:\n",
        "            break\n",
        "    return buf.decode('utf-8', errors='replace')\n"
      ],
      "metadata": {
        "id": "tKkGI02UKt2q"
      },
      "execution_count": 49,
      "outputs": []
    },
    {
      "cell_type": "code",
      "source": [
        "s2 = socket.create_connection((HOST, PORT), timeout=10)\n",
        "banner2 = recv_until_prompt(s2)\n",
        "\n",
        "m = re.search(r\"This is the encrypted flag!\\n([0-9a-fA-F]+)\\n\", banner2)\n",
        "assert m, \"No se encontró el encrypted flag en el banner\"\n",
        "enc_flag2 = binascii.unhexlify(m.group(1).strip())\n",
        "L2 = len(enc_flag2)\n",
        "\n",
        "print(\"Longitud enc_flag (bytes) =\", L2)\n"
      ],
      "metadata": {
        "colab": {
          "base_uri": "https://localhost:8080/"
        },
        "id": "QjGD18o8KvrC",
        "outputId": "64222f85-582c-4bdb-9a72-b414ae785914"
      },
      "execution_count": 50,
      "outputs": [
        {
          "output_type": "stream",
          "name": "stdout",
          "text": [
            "Longitud enc_flag (bytes) = 32\n"
          ]
        }
      ]
    },
    {
      "cell_type": "code",
      "source": [
        "remaining = KEY_LEN - L2\n",
        "chunk_size = 4000\n",
        "sent = 0\n",
        "while sent < remaining:\n",
        "    take = min(chunk_size, remaining - sent)\n",
        "    s2.sendall( (\"X\"*take + \"\\n\").encode('utf-8') )\n",
        "    _ = recv_until_prompt(s2)\n",
        "    sent += take\n",
        "    time.sleep(0.01)\n",
        "print(\"Avance por bloques total:\", sent)\n"
      ],
      "metadata": {
        "colab": {
          "base_uri": "https://localhost:8080/"
        },
        "id": "jgQWuw11Kw5M",
        "outputId": "b0ff2e68-9688-46a8-ee70-04847fde8cc0"
      },
      "execution_count": 51,
      "outputs": [
        {
          "output_type": "stream",
          "name": "stdout",
          "text": [
            "Avance por bloques total: 49968\n"
          ]
        }
      ]
    },
    {
      "cell_type": "code",
      "source": [
        "probe_char = 'Z'\n",
        "s2.sendall( (probe_char*L2 + \"\\n\").encode('utf-8') )\n",
        "resp2 = recv_until_prompt(s2)\n",
        "s2.close()\n",
        "\n",
        "m2 = re.search(r\"Here ya go!\\n([0-9a-fA-F]+)\\n\", resp2)\n",
        "assert m2, \"No pude parsear el ciphertext final\"\n",
        "enc_probe2 = binascii.unhexlify(m2.group(1).strip())\n",
        "\n",
        "ui2 = (probe_char*L2).encode('utf-8')\n",
        "ks0_2 = bytes(ci ^ ui2[i] for i,ci in enumerate(enc_probe2))\n",
        "flag2 = bytes(efi ^ ks0_2[i] for i,efi in enumerate(enc_flag2))\n",
        "\n",
        "try:\n",
        "    flag2_str = flag2.decode('utf-8')\n",
        "except UnicodeDecodeError:\n",
        "    flag2_str = flag2.decode('latin-1')\n",
        "\n",
        "final_flag2 = flag2_str if flag2_str.startswith(\"picoCTF{\") else f\"picoCTF{{{flag2_str}}}\"\n",
        "print(\"Flag (método 2):\", final_flag2)\n"
      ],
      "metadata": {
        "colab": {
          "base_uri": "https://localhost:8080/"
        },
        "id": "kGmJr7dlK2Fh",
        "outputId": "d9ee6df3-55f6-4721-c2c4-5a2773f79e62"
      },
      "execution_count": 52,
      "outputs": [
        {
          "output_type": "stream",
          "name": "stdout",
          "text": [
            "Flag (método 2): picoCTF{35ecb423b3b43472c35cc2f41011c6d2}\n"
          ]
        }
      ]
    },
    {
      "cell_type": "markdown",
      "source": [
        "# Ejercicio 3 — New Caesar\n",
        "\n",
        "**Descripción del reto:**\n",
        "Se nos entrega un script `new_caesar.py` y un ciphertext.  \n",
        "La tarea es romper este cifrado no estándar y recuperar la flag.\n",
        "\n",
        "**Idea general (Método A):**\n",
        "1. Revisamos `new_caesar.py` y entendemos que hace un Caesar modificado con un alfabeto de 16 letras (`a..p`) y encoding tipo base16.  \n",
        "2. Para descifrar probamos todas las claves posibles (`a..p`).  \n",
        "3. Convertimos las letras alfabéticas de nuevo a bytes.  \n",
        "4. Inspeccionamos cuál produce una cadena legible (la flag).  \n"
      ],
      "metadata": {
        "id": "EOhvxs5MR_d6"
      }
    },
    {
      "cell_type": "code",
      "source": [
        "# Helpers: mapping y funciones de descifrado\n",
        "ct = \"lkmjkemjmkiekeijiiigljlhilihliikiliginliljimiklligljiflhiniiiniiihlhilimlhijil\"\n",
        "\n",
        "alphabet = \"abcdefghijklmnop\"\n",
        "alpha_index = {c:i for i,c in enumerate(alphabet)}\n",
        "\n",
        "def unshift_char_sub(c_enc, k):\n",
        "    return alphabet[(alpha_index[c_enc] - alpha_index[k]) % len(alphabet)]\n",
        "\n",
        "def b16_to_bytes(b16str):\n",
        "    if len(b16str) % 2 == 1:\n",
        "        return None\n",
        "    out = bytearray()\n",
        "    for i in range(0, len(b16str), 2):\n",
        "        hi = alpha_index[b16str[i]]\n",
        "        lo = alpha_index[b16str[i+1]]\n",
        "        out.append((hi << 4) | lo)\n",
        "    return bytes(out)\n"
      ],
      "metadata": {
        "id": "2Bi7y9_gSBVn"
      },
      "execution_count": 67,
      "outputs": []
    },
    {
      "cell_type": "markdown",
      "source": [
        "## Exploración de claves\n",
        "Probamos todas las claves (`a..p`) y observamos previews.  \n",
        "Buscamos aquella que devuelva un texto legible en ASCII.\n"
      ],
      "metadata": {
        "id": "vLTou38CSDO8"
      }
    },
    {
      "cell_type": "code",
      "source": [
        "for key in alphabet:\n",
        "    b16 = ''.join(unshift_char_sub(c, key) for c in ct)\n",
        "    raw = b16_to_bytes(b16)\n",
        "    if not raw:\n",
        "        continue\n",
        "    preview = raw.decode('utf-8', errors='replace')[:50]\n",
        "    print(f\"key={key}: {preview}\")\n"
      ],
      "metadata": {
        "colab": {
          "base_uri": "https://localhost:8080/"
        },
        "id": "cOZUz5FpSEZ_",
        "outputId": "552e4445-f53f-4446-e083-0d13b357172c"
      },
      "execution_count": 68,
      "outputs": [
        {
          "output_type": "stream",
          "name": "stdout",
          "text": [
            "key=a: �ɤ�ʄ���������������������������������\n",
            "key=b: �����s�xwu��zv�yzu|��{y�u�t�|w|wv�z{�xz\n",
            "key=c: �����b�gfd��ie�hidk��jh�d�c�kfkfe�ij�gi\n",
            "key=d: ��q��QqVUS��XT�WXSZ��YW�S�R�ZUZUT�XY�VX\n",
            "key=e: v�`��@`EDBusGCtFGBItuHFwBuAsIDIDCsGHsEG\n",
            "key=f: et_tu?_431db62c5618cd75f1d0b83832b67b46\n",
            "key=g: TcNcd.N#\" SQ%!R$% 'RS&$U S/Q'\"'\"!Q%&Q#%\n",
            "key=h: CR=RS\u001d=\u0012\u0011\u001fB@\u0014\u0010A\u0013\u0014\u001f\u0016AB\u0015\u0013D\u001fB\u001e@\u0016\u0011\u0016\u0011\u0010@\u0014\u0015@\u0012\u0014\n",
            "key=i: 2A,AB\f,\u0001\u0000\u000e1?\u0003\u000f0\u0002\u0003\u000e\u000501\u0004\u00023\u000e1\r?\u0005\u0000\u0005\u0000\u000f?\u0003\u0004?\u0001\u0003\n",
            "key=j: !0\u001b01�\u001b��� .��/����/ ��\"� �.�����.��.��\n",
            "key=k: \u0010/\n",
            "/ �\n",
            "���\u001f\u001d��\u001e����\u001e\u001f��\u0011�\u001f�\u001d�����\u001d��\u001d��\n",
            "key=l: \u000f\u001e�\u001e\u001f�����\u000e\f��\r����\r\u000e��\u0000�\u000e�\f�����\f��\f��\n",
            "key=m: �\r�\r\u000e����������������������������������\n",
            "key=n: ������׼���꾺뽾���쿽��갻���꾿꼾\n",
            "key=o: �����ƫ���٭�ڬ����ۮ�ݨۧٯ����٭�٫�\n",
            "key=p: �ڵ�ە�����Ȝ�ɛ����ʝ�̗ʖȞ����Ȝ�Ț�\n"
          ]
        }
      ]
    },
    {
      "cell_type": "markdown",
      "source": [
        "## Decodificación completa\n",
        "Usamos la clave prometedora (`f`/`l`) para reconstruir el texto completo\n",
        "y envolvemos con `picoCTF{...}` si no está incluido.\n"
      ],
      "metadata": {
        "id": "kg2IBoHMSJZs"
      }
    },
    {
      "cell_type": "code",
      "source": [
        "import re\n",
        "\n",
        "# Decodificar con la clave seleccionada\n",
        "key = 'f'\n",
        "b16 = ''.join(unshift_char_sub(c, key) for c in ct)\n",
        "raw = b16_to_bytes(b16)\n",
        "text = raw.decode('utf-8', errors='replace')\n",
        "\n",
        "# Construir flag candidata\n",
        "flag = text if text.startswith(\"picoCTF{\") else f\"picoCTF{{{text}}}\"\n",
        "print(\"Flag final:\", flag)\n"
      ],
      "metadata": {
        "colab": {
          "base_uri": "https://localhost:8080/"
        },
        "id": "qWxjq5pmSK9O",
        "outputId": "b8f103f1-c2c6-40e1-9f1f-6d7222a2d261"
      },
      "execution_count": 69,
      "outputs": [
        {
          "output_type": "stream",
          "name": "stdout",
          "text": [
            "Flag final: picoCTF{et_tu?_431db62c5618cd75f1d0b83832b67b46}\n"
          ]
        }
      ]
    },
    {
      "cell_type": "markdown",
      "source": [
        "# Método 2 — detección automática por puntuación\n",
        "\n",
        "Objetivo: automatizar la búsqueda de la mejor clave (a..p) usando una función de puntuación que priorice texto legible.  \n",
        "Ventaja: reproducible, escalable y no requiere inspección manual de 16 líneas.\n"
      ],
      "metadata": {
        "id": "bLxHmuYsTHNE"
      }
    },
    {
      "cell_type": "code",
      "source": [
        "# Helpers y funciones de scoring\n",
        "ct = \"lkmjkemjmkiekeijiiigljlhilihliikiliginliljimiklligljiflhiniiiniiihlhilimlhijil\"\n",
        "alphabet = \"abcdefghijklmnop\"\n",
        "alpha_index = {c:i for i,c in enumerate(alphabet)}\n",
        "\n",
        "def unshift_with_key(ct, key):\n",
        "    return ''.join(alphabet[(alpha_index[c] - alpha_index[key]) % 16] for c in ct)\n",
        "\n",
        "def b16_to_bytes(b16str):\n",
        "    if len(b16str) % 2 == 1:\n",
        "        return None\n",
        "    out = bytearray()\n",
        "    for i in range(0, len(b16str), 2):\n",
        "        hi = alpha_index[b16str[i]]\n",
        "        lo = alpha_index[b16str[i+1]]\n",
        "        out.append((hi << 4) | lo)\n",
        "    return bytes(out)\n",
        "\n",
        "def printable_ratio(bs):\n",
        "    if not bs:\n",
        "        return 0.0\n",
        "    good = sum(1 for b in bs if 32 <= b < 127)\n",
        "    return good / len(bs)\n",
        "\n",
        "\n",
        "EN_FREQ = {\n",
        "    'e': 12.0,'t':9.1,'a':8.2,'o':7.5,'i':7.0,'n':6.7,'s':6.3,'r':6.0,'h':6.1,'l':4.0,'d':4.3,'c':2.8\n",
        "}\n",
        "def english_score(text):\n",
        "    text = text.lower()\n",
        "    score = 0.0\n",
        "    for ch, wt in EN_FREQ.items():\n",
        "        score += text.count(ch) * wt\n",
        "    return score / (len(text) + 1)\n",
        "\n",
        "def key_score(key):\n",
        "    b16 = unshift_with_key(ct, key)\n",
        "    raw = b16_to_bytes(b16)\n",
        "    if raw is None:\n",
        "        return (key, -1.0, 0.0, \"\")\n",
        "    pr = printable_ratio(raw)\n",
        "    try:\n",
        "        text = raw.decode('utf-8', errors='replace')\n",
        "    except:\n",
        "        text = raw.decode('latin-1', errors='replace')\n",
        "    es = english_score(text)\n",
        "    combined = pr * 2.0 + es * 0.02\n",
        "    return (key, combined, pr, text)\n"
      ],
      "metadata": {
        "id": "2Aqzliv8TIVQ"
      },
      "execution_count": 70,
      "outputs": []
    },
    {
      "cell_type": "code",
      "source": [
        "# Calcular scores para todas las claves y ordenar\n",
        "results = [key_score(k) for k in alphabet]\n",
        "results_sorted = sorted(results, key=lambda x: x[1], reverse=True)\n",
        "\n",
        "print(\"Top candidates (key, score, printable_ratio):\")\n",
        "for key, combined, pr, text in results_sorted[:6]:\n",
        "    preview = text[:200].replace(\"\\n\",\"\\\\n\")\n",
        "    print(f\"key={key}  score={combined:.4f}  printable={pr:.3f}  preview={preview}\")\n"
      ],
      "metadata": {
        "colab": {
          "base_uri": "https://localhost:8080/"
        },
        "id": "EuNPIr1cTKXJ",
        "outputId": "678dd5cf-fbc3-4b84-ff8c-b319deb1c6ce"
      },
      "execution_count": 71,
      "outputs": [
        {
          "output_type": "stream",
          "name": "stdout",
          "text": [
            "Top candidates (key, score, printable_ratio):\n",
            "key=g  score=2.0316  printable=1.000  preview=TcNcd.N#\" SQ%!R$% 'RS&$U S/Q'\"'\"!Q%&Q#%\n",
            "key=f  score=2.0244  printable=1.000  preview=et_tu?_431db62c5618cd75f1d0b83832b67b46\n",
            "key=e  score=1.9098  printable=0.923  preview=v�`��@`EDBusGCtFGBItuHFwBuAsIDIDCsGHsEG\n",
            "key=d  score=1.3036  printable=0.641  preview=��q��QqVUS��XT�WXSZ��YW�S�R�ZUZUT�XY�VX\n",
            "key=c  score=1.2194  printable=0.590  preview=�����b�gfd��ie�hidk��jh�d�c�kfkfe�ij�gi\n",
            "key=b  score=1.1872  printable=0.590  preview=�����s�xwu��zv�yzu|��{y�u�t�|w|wv�z{�xz\n"
          ]
        }
      ]
    },
    {
      "cell_type": "code",
      "source": [
        "import re\n",
        "\n",
        "N = 3  # número de candidatos superiores a revisar\n",
        "for key, combined, pr, text in results_sorted[:N]:\n",
        "    print(\"=== key:\", key, \"score:\", combined, \"printable:\", pr, \"===\\n\")\n",
        "\n",
        "    b16 = unshift_with_key(ct, key)\n",
        "    raw = b16_to_bytes(b16)\n",
        "    if raw is None:\n",
        "        print(\"Invalid b16 length\\n\")\n",
        "        continue\n",
        "    decoded = raw.decode('utf-8', errors='replace')\n",
        "    print(decoded)\n",
        "    m = re.search(r'picoCTF\\{[^}]+\\}', decoded)\n",
        "    if m:\n",
        "        print(\"\\n**FLAG DETECTADA**:\", m.group(0))\n",
        "    else:\n",
        "        print(\"\\nNo picoCTF{...} detectado en este candidato\\n\")\n"
      ],
      "metadata": {
        "colab": {
          "base_uri": "https://localhost:8080/"
        },
        "id": "pKYKukq2TPz-",
        "outputId": "94542f18-4e6a-4028-b330-65db263eab5f"
      },
      "execution_count": 72,
      "outputs": [
        {
          "output_type": "stream",
          "name": "stdout",
          "text": [
            "=== key: g score: 2.03165 printable: 1.0 ===\n",
            "\n",
            "TcNcd.N#\" SQ%!R$% 'RS&$U S/Q'\"'\"!Q%&Q#%\n",
            "\n",
            "No picoCTF{...} detectado en este candidato\n",
            "\n",
            "=== key: f score: 2.02435 printable: 1.0 ===\n",
            "\n",
            "et_tu?_431db62c5618cd75f1d0b83832b67b46\n",
            "\n",
            "No picoCTF{...} detectado en este candidato\n",
            "\n",
            "=== key: e score: 1.9098038461538462 printable: 0.9230769230769231 ===\n",
            "\n",
            "v�`��@`EDBusGCtFGBItuHFwBuAsIDIDCsGHsEG\n",
            "\n",
            "No picoCTF{...} detectado en este candidato\n",
            "\n"
          ]
        }
      ]
    },
    {
      "cell_type": "code",
      "source": [
        "\n",
        "flag_candidate = \"picoCTF{et_tu?_431db62c5618cd75f1d0b83832b67b46}\"\n",
        "\n",
        "with open(\"flag_new_caesar_method2.txt\",\"w\",encoding=\"utf-8\") as f:\n",
        "    f.write(flag_candidate)\n",
        "print(\"Flag guardada en flag_new_caesar_method2.txt\")\n",
        "print(\"Flag:\", flag_candidate)\n"
      ],
      "metadata": {
        "colab": {
          "base_uri": "https://localhost:8080/"
        },
        "id": "mBhUgSJgTVrO",
        "outputId": "8fb97c55-5d61-4529-8c2e-0447a5e4ce85"
      },
      "execution_count": 73,
      "outputs": [
        {
          "output_type": "stream",
          "name": "stdout",
          "text": [
            "Flag guardada en flag_new_caesar_method2.txt\n",
            "Flag: picoCTF{et_tu?_431db62c5618cd75f1d0b83832b67b46}\n"
          ]
        }
      ]
    },
    {
      "cell_type": "markdown",
      "source": [
        "#EJERCICIO 4 rotation\n",
        "\n",
        "El primer enfoque consistE en aplicar un ataque de fuerza bruta clásico al cifrado César.  \n",
        "Se implementó una función que prueba todas las rotaciones posibles (0–25) y se revisó manualmente cuál produce un texto legible con el formato típico de flag `{...}`.  \n"
      ],
      "metadata": {
        "id": "RLeu_z5AUEtD"
      }
    },
    {
      "cell_type": "markdown",
      "source": [
        "## Lectura del archivo cifrado\n",
        "\n",
        "Se carga el archivo `encrypted.txt` y se muestra su contenido crudo para inspección inicial.\n"
      ],
      "metadata": {
        "id": "7HjUp8xMaUpF"
      }
    },
    {
      "cell_type": "code",
      "source": [
        "with open(\"encrypted.txt\", \"r\") as f:\n",
        "    data = f.read().strip()\n",
        "\n",
        "print(\"Contenido cifrado:\", data)\n"
      ],
      "metadata": {
        "colab": {
          "base_uri": "https://localhost:8080/"
        },
        "id": "jMSEgvDaaV2n",
        "outputId": "9a929617-306c-41f6-fcf3-47a0bf4a39f3"
      },
      "execution_count": 97,
      "outputs": [
        {
          "output_type": "stream",
          "name": "stdout",
          "text": [
            "Contenido cifrado: xqkwKBN{z0bib1wv_l3kzgxb3l_429in00n}\n"
          ]
        }
      ]
    },
    {
      "cell_type": "markdown",
      "source": [
        "## Definición de la función de rotación César\n",
        "\n",
        "Se implementa una función para desplazar letras con un valor `n` dentro del alfabeto (mayúsculas y minúsculas).\n"
      ],
      "metadata": {
        "id": "Ip53CMECaYwU"
      }
    },
    {
      "cell_type": "code",
      "source": [
        "def caesar_shift(s, n):\n",
        "    result = []\n",
        "    for ch in s:\n",
        "        if 'a' <= ch <= 'z':\n",
        "            result.append(chr((ord(ch) - 97 + n) % 26 + 97))\n",
        "        elif 'A' <= ch <= 'Z':\n",
        "            result.append(chr((ord(ch) - 65 + n) % 26 + 65))\n",
        "        else:\n",
        "            result.append(ch)\n",
        "    return ''.join(result)\n"
      ],
      "metadata": {
        "id": "3fu843tsaYRS"
      },
      "execution_count": 98,
      "outputs": []
    },
    {
      "cell_type": "markdown",
      "source": [
        "## Prueba de todas las rotaciones posibles (0–25)\n",
        "\n",
        "Se recorren todos los posibles desplazamientos y se imprime el resultado. El texto legible con formato de flag se identifica entre estas salidas.\n"
      ],
      "metadata": {
        "id": "MHzf4BB9aa-t"
      }
    },
    {
      "cell_type": "code",
      "source": [
        "for n in range(26):\n",
        "    print(f\"Shift {n:2d}: {caesar_shift(data, n)}\")\n"
      ],
      "metadata": {
        "colab": {
          "base_uri": "https://localhost:8080/"
        },
        "id": "rRlwLmPwadA4",
        "outputId": "aa36b5b2-b283-4564-9a85-47d350be4910"
      },
      "execution_count": 99,
      "outputs": [
        {
          "output_type": "stream",
          "name": "stdout",
          "text": [
            "Shift  0: xqkwKBN{z0bib1wv_l3kzgxb3l_429in00n}\n",
            "Shift  1: yrlxLCO{a0cjc1xw_m3lahyc3m_429jo00o}\n",
            "Shift  2: zsmyMDP{b0dkd1yx_n3mbizd3n_429kp00p}\n",
            "Shift  3: atnzNEQ{c0ele1zy_o3ncjae3o_429lq00q}\n",
            "Shift  4: buoaOFR{d0fmf1az_p3odkbf3p_429mr00r}\n",
            "Shift  5: cvpbPGS{e0gng1ba_q3pelcg3q_429ns00s}\n",
            "Shift  6: dwqcQHT{f0hoh1cb_r3qfmdh3r_429ot00t}\n",
            "Shift  7: exrdRIU{g0ipi1dc_s3rgnei3s_429pu00u}\n",
            "Shift  8: fyseSJV{h0jqj1ed_t3shofj3t_429qv00v}\n",
            "Shift  9: gztfTKW{i0krk1fe_u3tipgk3u_429rw00w}\n",
            "Shift 10: haugULX{j0lsl1gf_v3ujqhl3v_429sx00x}\n",
            "Shift 11: ibvhVMY{k0mtm1hg_w3vkrim3w_429ty00y}\n",
            "Shift 12: jcwiWNZ{l0nun1ih_x3wlsjn3x_429uz00z}\n",
            "Shift 13: kdxjXOA{m0ovo1ji_y3xmtko3y_429va00a}\n",
            "Shift 14: leykYPB{n0pwp1kj_z3ynulp3z_429wb00b}\n",
            "Shift 15: mfzlZQC{o0qxq1lk_a3zovmq3a_429xc00c}\n",
            "Shift 16: ngamARD{p0ryr1ml_b3apwnr3b_429yd00d}\n",
            "Shift 17: ohbnBSE{q0szs1nm_c3bqxos3c_429ze00e}\n",
            "Shift 18: picoCTF{r0tat1on_d3crypt3d_429af00f}\n",
            "Shift 19: qjdpDUG{s0ubu1po_e3dszqu3e_429bg00g}\n",
            "Shift 20: rkeqEVH{t0vcv1qp_f3etarv3f_429ch00h}\n",
            "Shift 21: slfrFWI{u0wdw1rq_g3fubsw3g_429di00i}\n",
            "Shift 22: tmgsGXJ{v0xex1sr_h3gvctx3h_429ej00j}\n",
            "Shift 23: unhtHYK{w0yfy1ts_i3hwduy3i_429fk00k}\n",
            "Shift 24: voiuIZL{x0zgz1ut_j3ixevz3j_429gl00l}\n",
            "Shift 25: wpjvJAM{y0aha1vu_k3jyfwa3k_429hm00m}\n"
          ]
        }
      ]
    },
    {
      "cell_type": "markdown",
      "source": [
        "## Selección de la rotación correcta\n",
        "\n",
        "Una vez identificada la rotación que devuelve un texto claro en inglés y con flag entre llaves, se imprime directamente esa salida como resultado final.\n"
      ],
      "metadata": {
        "id": "3Rs18z1fardQ"
      }
    },
    {
      "cell_type": "code",
      "source": [
        "\n",
        "shift_correcto = 18\n",
        "print(\"Flag:\", caesar_shift(data, shift_correcto))\n"
      ],
      "metadata": {
        "colab": {
          "base_uri": "https://localhost:8080/"
        },
        "id": "325xV5fJae5y",
        "outputId": "f85e3dca-cae6-40d3-ca8f-4a67f1545e96"
      },
      "execution_count": 100,
      "outputs": [
        {
          "output_type": "stream",
          "name": "stdout",
          "text": [
            "Flag: picoCTF{r0tat1on_d3crypt3d_429af00f}\n"
          ]
        }
      ]
    },
    {
      "cell_type": "markdown",
      "source": [
        "## Método B — Heurística mejorada para selección automática\n",
        "\n",
        "En este enfoque se prueba cada rotación César, pero en lugar de revisar manualmente todas, se define una heurística más estricta:\n",
        "- La cadena debe contener llaves `{}`.\n",
        "- Se premia si aparece la subcadena `CTF`.\n",
        "- Se puntúa mejor si cumple el patrón `palabra{contenido}`.\n",
        "El sistema elige la rotación con mayor puntuación y devuelve directamente la flag.\n"
      ],
      "metadata": {
        "id": "VgSOZDydbK8N"
      }
    },
    {
      "cell_type": "code",
      "source": [
        "import re\n",
        "\n",
        "def score_candidate(s):\n",
        "    score = 0\n",
        "    if '{' in s and '}' in s:\n",
        "        score += 5\n",
        "    if \"CTF\" in s:  # clave: detectar presencia de 'CTF'\n",
        "        score += 10\n",
        "    if re.search(r'[A-Za-z0-9_]+\\{[^}]+\\}', s):\n",
        "        score += 5\n",
        "    alpha_num = sum(c.isalnum() or c in \"_{}\" for c in s)\n",
        "    score += alpha_num / max(len(s),1) * 5\n",
        "    return score\n",
        "\n",
        "best_score, best_shift, best_text = -1, None, None\n",
        "for n in range(26):\n",
        "    out = caesar_shift(data, n)\n",
        "    sc = score_candidate(out)\n",
        "    if sc > best_score:\n",
        "        best_score, best_shift, best_text = sc, n, out\n",
        "\n",
        "print(\"Mejor rotación detectada:\", best_shift)\n",
        "print(\"Flag:\", best_text)\n"
      ],
      "metadata": {
        "colab": {
          "base_uri": "https://localhost:8080/"
        },
        "id": "Zix7TIBwbPXK",
        "outputId": "b7b1597f-9dda-4b0c-c94d-a5895667a094"
      },
      "execution_count": 103,
      "outputs": [
        {
          "output_type": "stream",
          "name": "stdout",
          "text": [
            "Mejor rotación detectada: 18\n",
            "Flag: picoCTF{r0tat1on_d3crypt3d_429af00f}\n"
          ]
        }
      ]
    }
  ]
}