{
  "nbformat": 4,
  "nbformat_minor": 0,
  "metadata": {
    "colab": {
      "provenance": []
    },
    "kernelspec": {
      "name": "python3",
      "display_name": "Python 3"
    },
    "language_info": {
      "name": "python"
    }
  },
  "cells": [
    {
      "cell_type": "markdown",
      "source": [
        "#  Deber: Criptografía Clásica (Ciberseguridad\n",
        "**Codigo Banner:** 00326682  \n",
        "**Fecha:** 26/9/2025"
      ],
      "metadata": {
        "id": "TkHljqa8m8aa"
      }
    },
    {
      "cell_type": "markdown",
      "source": [
        "\n",
        "# Parte I — Research: Algoritmos Clásicos\n",
        "\n",
        "## 1.1 Caesar Cipher\n",
        "### Historia / Origen\n",
        "- El esquema lleva el nombre de Julio César porque fuentes clásicas registran que usó un desplazamiento fijo (tradicionalmente 3 posiciones) para su correspondencia militar y privada.  \n",
        "- Aunque la tradición asigna el “shift = 3” a César, ya existían otros tipos de sustituciones antes; se lo reconoce como el primer testimonio escrito claro, pero no necesariamente la invención absoluta.\n",
        "\n",
        "### Proceso de cifrado / descifrado\n",
        "- Sustitución monoalfabética: cada letra $x$ (0..25) se cifra con  \n",
        "  $E_n(x) = (x + n)\\bmod 26$  \n",
        "  y se descifra con  \n",
        "  $D_n(y) = (y - n)\\bmod 26$  \n",
        "- Variantes: desplazamiento a izquierda/derecha, alfabetos distintos o codificación numérica.\n",
        "\n",
        "### Espacio de claves\n",
        "- Clave válida: entero $n \\in [0,25]$.  \n",
        "- Espacio efectivo: 25 claves no triviales.  \n",
        "- Seguridad: muy baja ($26 \\approx 2^{4.7}$), fácil romper por fuerza bruta.\n",
        "\n",
        "### Vulnerabilidades / ataques conocidos\n",
        "- **Fuerza bruta:** probar 26 transformaciones, complejidad $O(26)$.  \n",
        "- **Análisis de frecuencia:** comparar frecuencias con la lengua esperada, detectando la clave.  \n",
        "- **Matiz:** en textos cortos la estadística es ruidosa, pero la fuerza bruta siempre sirve.  \n",
        "- **Cribado/contexto:** palabras sospechadas reducen la búsqueda.  \n",
        "- **Automatización:** scripts prueban las 26 variantes y puntúan la legibilidad.  \n",
        "- **Conclusión:** inseguro hoy; solo útil con fines didácticos o de ofuscación ligera (ROT13).\n",
        "\n",
        "### Evidencias de rompimiento / uso moderno\n",
        "- Sustituciones simples en antigüedad, prensa del XIX y uso militar hasta inicios del XX.  \n",
        "- 2006: mensajes de Bernardo Provenzano rotos (uso de números).  \n",
        "- 2011: caso judicial en Reino Unido, comunicaciones cifradas de forma trivial.  \n",
        "\n",
        "### Usos actuales y educativos\n",
        "- Ejercicios introductorios de criptografía.  \n",
        "- **ROT13** en foros/Usenet como ofuscación.  \n",
        "- Juegos, acertijos y ejemplos divulgativos.\n",
        "\n",
        "\n",
        "\n",
        "## 1.2 Affine Cipher\n",
        "\n",
        "\n",
        "### Historia / Origen\n",
        "- Generalización del cifrado César: combina multiplicación y suma modular.  \n",
        "- El término “affine” viene de las transformaciones afines en álgebra lineal ($x \\mapsto ax+b$).  \n",
        "- No hay registros de uso antiguo concreto; surge como formalización matemática en estudios de cifrados clásicos.\n",
        "\n",
        "### Proceso de cifrado / descifrado\n",
        "- Asignar letras a números: A=0, …, Z=25.  \n",
        "- Cifrado: $E(x) = (a \\cdot x + b) \\bmod m$  \n",
        "- Descifrado: $D(y) = a^{-1} \\cdot (y - b) \\bmod m$  \n",
        "- Requisito: $\\gcd(a, m) = 1$ para que exista $a^{-1}$.\n",
        "\n",
        "### Espacio de claves\n",
        "- Clave = par $(a, b)$.  \n",
        "- Para $m=26$: 12 posibles valores de $a$, 26 de $b$.  \n",
        "- Total: 312 claves (286 no triviales, el resto equivalen a César).  \n",
        "- Seguridad: muy baja, fácil romper por fuerza bruta.\n",
        "\n",
        "### Vulnerabilidades / ataques\n",
        "- **Fuerza bruta:** solo 312 combinaciones.  \n",
        "- **Texto conocido:** dos pares plaintext–ciphertext permiten resolver $a$ y $b$.  \n",
        "- **Análisis de frecuencia:** sigue siendo una sustitución monoalfabética.  \n",
        "- Conclusión: inseguro, valor principalmente didáctico.\n",
        "\n",
        "### Usos y ejemplos\n",
        "- Ejercicio en cursos de criptografía (modular arithmetic e inversos).  \n",
        "- ROT13 es un caso degenerado (cuando $a=1, b=13$).  \n",
        "- Investigación moderna: a veces se combina con otros métodos en contextos académicos, pero no tiene uso real práctico.  \n",
        "\n",
        "\n",
        "## 1.3 Monoalphabetic Substitution\n",
        "\n",
        "### Historia / Origen\n",
        "- Consiste en sustituir cada letra del alfabeto por otra según una permutación fija.  \n",
        "- Ejemplo antiguo: el cifrado Atbash en hebreo (A↔Z, B↔Y, etc.).  \n",
        "- Formalizado en el siglo IX por Al-Kindi, quien introdujo el análisis de frecuencia para romperlo.  \n",
        "- Usado en diplomacia y guerra hasta el Renacimiento, antes de que se popularizaran cifrados polialfabéticos.\n",
        "\n",
        "### Proceso de cifrado / descifrado\n",
        "- Se define una clave como una **permutación completa del alfabeto** (ej.: A→Q, B→W, C→E, …).  \n",
        "- Cifrado: $E(x) = \\pi(x)$, donde $\\pi$ es la permutación.  \n",
        "- Descifrado: aplicar la permutación inversa $\\pi^{-1}$.  \n",
        "- Cada letra siempre se sustituye por la misma, por eso se llama “monoalfabético”.\n",
        "\n",
        "### Espacio de claves\n",
        "- Para un alfabeto de 26 letras: $26! \\approx 4.03 \\times 10^{26}$ claves posibles.  \n",
        "- Aunque el espacio es enorme, no garantiza seguridad real: análisis estadísticos permiten reducir rápidamente las posibilidades.\n",
        "\n",
        "### Vulnerabilidades / ataques\n",
        "- **Análisis de frecuencia:** preserva la frecuencia de letras y bigramas, fácil de comparar con el idioma.  \n",
        "- **Texto conocido:** palabras o fragmentos conocidos reducen la búsqueda.  \n",
        "- **Métodos heurísticos:** algoritmos como hill climbing o genéticos encuentran la permutación correcta.  \n",
        "- **Conclusión:** inseguro en la práctica, a pesar de su espacio de claves masivo.\n",
        "\n",
        "### Usos y ejemplos\n",
        "- Enseñanza de criptografía clásica y criptoanálisis estadístico.  \n",
        "- Juegos, acertijos y criptogramas en prensa o literatura.  \n",
        "- Versiones modernas experimentales intentan combinarlo con otros métodos, pero sin seguridad práctica real.  \n",
        "\n",
        "\n",
        "## 1.4 Vigenère Cipher\n",
        "\n",
        "### Historia / Origen\n",
        "- Descrito originalmente por Giovan Battista Bellaso en 1553.  \n",
        "- Atribuido erróneamente a Blaise de Vigenère, quien en 1586 propuso un sistema más fuerte (autokey).  \n",
        "- Se apoya en ideas anteriores: Alberti (1467, disco polialfabético) y Trithemius (1518, tabula recta).  \n",
        "- Durante siglos fue considerado “indescifrable” hasta que en 1863 Friedrich Kasiski presentó un método general para romperlo. Charles Babbage ya lo había logrado antes, aunque no publicó sus resultados.\n",
        "\n",
        "### Proceso de cifrado / descifrado\n",
        "- Es un **cifrado polialfabético**: aplica desplazamientos tipo César controlados por una clave repetida.  \n",
        "- Con alfabeto de tamaño $m$:  \n",
        "  - Cifrado: $C_i = (M_i + K_i) \\bmod m$  \n",
        "  - Descifrado: $M_i = (C_i - K_i) \\bmod m$  \n",
        "- La clave se repite hasta igualar la longitud del mensaje.  \n",
        "- En la variante “running key” o “autokey” se usa una clave tan larga como el texto.\n",
        "\n",
        "### Espacio de claves\n",
        "- Depende de la longitud y aleatoriedad de la clave.  \n",
        "- Con clave corta y repetitiva, la seguridad es baja.  \n",
        "- Con clave larga y aleatoria (similar en tamaño al mensaje), se acerca al concepto de “one-time pad”.\n",
        "\n",
        "### Vulnerabilidades / ataques\n",
        "- **Periodocidad de la clave:** permite dividir el mensaje en columnas tratables como cifrados César.  \n",
        "- **Kasiski Examination (1863):** busca repeticiones en el ciphertext para estimar la longitud de clave.  \n",
        "- **Índice de coincidencia (Friedman):** análisis estadístico para calcular la longitud probable de la clave.  \n",
        "- **Diccionarios / fuerza bruta:** si la clave es una palabra común.  \n",
        "- Conclusión: no es seguro frente a criptoanálisis moderno, aunque fue fuerte durante siglos.\n",
        "\n",
        "### Usos y ejemplos\n",
        "- Empleado en diplomacia y guerra hasta el siglo XIX, incluso en la Guerra Civil de EE. UU.  \n",
        "- Enseñanza de criptografía polialfabética en cursos y manuales.  \n",
        "- Inspiró variantes más complejas (autokey, running key) y estudios de mejoras modernas, aunque hoy su valor es sobre todo histórico y educativo.  \n",
        "\n",
        "\n",
        "## 1.5 Columnar Transposition\n",
        "\n",
        "### Historia / Origen\n",
        "- Pertenece a los cifrados por transposición: no cambia las letras, sino su orden.  \n",
        "- Descrito por autores como Samuel Morland y John Falconer en el siglo XVII.  \n",
        "- En los siglos XIX–XX se volvió popular en contextos militares, sobre todo en su versión de **doble transposición**, que añadía mayor complejidad.  \n",
        "- También fue parte de sistemas más avanzados como el cifrado ADFGVX durante la Primera Guerra Mundial.\n",
        "\n",
        "### Proceso de cifrado / descifrado\n",
        "- Se elige una **clave** (palabra) y se asigna un número a cada letra según orden alfabético.  \n",
        "- Se escribe el mensaje en filas bajo la clave, formando una matriz de columnas.  \n",
        "- Para cifrar, se leen las columnas en el orden que indica la clave y se concatenan.  \n",
        "- Para descifrar, se reconstruye la matriz llenando las columnas según el orden de la clave y se lee por filas.  \n",
        "- Si faltan letras en la última fila, se puede usar padding o caracteres nulos.\n",
        "\n",
        "### Espacio de claves\n",
        "- Si la clave tiene longitud $k$, existen $k!$ permutaciones posibles de columnas.  \n",
        "- Claves más largas → espacio mayor y más confusión.  \n",
        "- Sin embargo, el tamaño de clave no asegura seguridad real, pues hay ataques estadísticos y heurísticos efectivos.\n",
        "\n",
        "### Vulnerabilidades / ataques\n",
        "- **Prueba de longitudes:** intentar distintos números de columnas hasta que aparezca texto legible.  \n",
        "- **Frecuencia de letras:** la distribución no cambia, lo que revela que se trata de una transposición.  \n",
        "- **Anagramas y patrones:** reorganizar fragmentos del ciphertext para detectar palabras.  \n",
        "- **Claves cortas/padding predecible:** facilitan la ruptura.  \n",
        "- **Defensa parcial:** aplicar doble transposición para aumentar la complejidad.\n",
        "\n",
        "### Usos y ejemplos\n",
        "- Amplio uso militar en la Primera y Segunda Guerra Mundial (especialmente la doble transposición).  \n",
        "- Parte fundamental del cifrado ADFGVX, que combinaba sustitución y transposición.  \n",
        "- Hoy tiene valor principalmente histórico y educativo, pero inspira técnicas híbridas de cifrado.  \n",
        "\n",
        "\n",
        "## 1.6 Rail Fence Cipher\n",
        "\n",
        "### Historia / Origen\n",
        "- También llamado “zigzag cipher”, es un cifrado por transposición simple.  \n",
        "- El nombre proviene del patrón en forma de rieles o valla sobre el que se escribe el texto en zigzag.  \n",
        "- No tiene un inventor documentado específico; se usa como ejemplo educativo más que como herramienta histórica relevante.\n",
        "\n",
        "### Proceso de cifrado / descifrado\n",
        "- Se elige una clave: el número de **rails** (filas).  \n",
        "- Cifrado: se escribe el mensaje en zigzag bajando y subiendo entre los rails.  \n",
        "- El ciphertext se obtiene leyendo fila por fila.  \n",
        "- Descifrado: se reconstruye la matriz del zigzag, se rellenan posiciones según el patrón y luego se lee siguiendo el zigzag original.\n",
        "\n",
        "### Espacio de claves\n",
        "- La clave es el número de rails $N$.  \n",
        "- Para un mensaje de longitud $L$, las claves posibles van de $2$ a $L-1$.  \n",
        "- Espacio total de claves: $L - 2$, muy pequeño y fácil de explorar.\n",
        "\n",
        "### Vulnerabilidades / ataques\n",
        "- **Fuerza bruta:** basta probar todos los posibles números de rails.  \n",
        "- **Distribución de letras:** como solo se reordenan, la frecuencia se conserva, lo que revela que es un cifrado por transposición.  \n",
        "- **Mensajes cortos o rails extremos:** producen mezclas mínimas, lo que hace más obvio el texto original.  \n",
        "- En general, es fácil de romper incluso manualmente.\n",
        "\n",
        "### Usos y ejemplos\n",
        "- Ejercicio en cursos de criptografía para introducir transposición.  \n",
        "- Puzzles y acertijos clásicos como método de ocultación simple.  \n",
        "- A veces se combina con otros métodos (sustitución + transposición), pero no se usa en contextos prácticos modernos.  \n",
        "\n",
        "## 1.7 Hill Cipher\n",
        "\n",
        "### Historia / Origen\n",
        "- Creado por Lester S. Hill en 1929 en *Cryptography in an Algebraic Alphabet*.  \n",
        "- Primer cifrado poligráfico que usa álgebra lineal (matrices) para operar sobre bloques de letras.  \n",
        "- Hill diseñó incluso un dispositivo mecánico para bloques de tamaño 6, aunque con limitaciones prácticas.  \n",
        "\n",
        "### Proceso de cifrado / descifrado\n",
        "- Se elige un tamaño de bloque $n$ y se asigna A=0, B=1, …, Z=25.  \n",
        "- Clave: matriz $K$ de tamaño $n \\times n$, invertible módulo 26.  \n",
        "- Cifrado de un bloque $P$:  \n",
        "  $C = K \\cdot P \\bmod 26$  \n",
        "- Descifrado:  \n",
        "  $P = K^{-1} \\cdot C \\bmod 26$  \n",
        "- Requisito: $\\det(K)$ debe ser coprimo con 26 para que exista $K^{-1}$.\n",
        "\n",
        "### Espacio de claves\n",
        "- Total teórico: $26^{n^2}$ matrices.  \n",
        "- Válidas: solo las invertibles en $\\mathrm{GL}(n, \\mathbb{Z}_{26})$.  \n",
        "- Aproximadamente $2^{4.7n^2}$ claves efectivas, reducidas por la restricción de invertibilidad.  \n",
        "\n",
        "### Vulnerabilidades / ataques\n",
        "- **Texto conocido:** con $n$ pares plano–cifrado se puede resolver $K$ por álgebra lineal.  \n",
        "- **Texto elegido:** aún más sencillo derivar la clave pidiendo bloques diseñados.  \n",
        "- **Linealidad:** sin no-linealidad ni confusión fuerte, es fácil de romper con suficientes datos.  \n",
        "- **Ataques prácticos:** en imágenes y variantes, un solo par plano–cifrado puede ser suficiente.  \n",
        "- **Conclusión:** inseguro hoy; usado principalmente con fines didácticos.\n",
        "\n",
        "### Usos y ejemplos\n",
        "- Ejemplo: con $K = \\begin{pmatrix} 3 & 3 \\\\ 2 & 5 \\end{pmatrix}$ se cifran bloques de 2 letras mod 26.  \n",
        "- Educación: mostrar álgebra lineal aplicada a criptografía y difusión.  \n",
        "- Investigación: variantes modernas introducen matrices dinámicas o no-linealidad.  \n",
        "- Conceptos de difusión matricial influyeron en sistemas modernos como AES.  \n",
        "\n",
        "## 1.8 One-Time Pad\n",
        "\n",
        "### Historia / Origen\n",
        "- Primeras ideas: Frank Miller (1882) para mensajes telegráficos.  \n",
        "- Gilbert Vernam (AT&T, 1917) creó un sistema con cintas perforadas; Joseph Mauborgne propuso usar claves verdaderamente aleatorias y únicas.  \n",
        "- Claude Shannon demostró que ofrece **secreto perfecto** si se cumplen las condiciones estrictas.\n",
        "\n",
        "### Proceso de cifrado / descifrado\n",
        "- Clave: secuencia aleatoria, tan larga como el mensaje, usada una sola vez.  \n",
        "- Cifrado:  \n",
        "  $C_i = M_i \\oplus K_i$  \n",
        "  o bien  \n",
        "  $C_i = (M_i + K_i) \\bmod m$  \n",
        "- Descifrado:  \n",
        "  $M_i = C_i \\oplus K_i$  \n",
        "  o  \n",
        "  $M_i = (C_i - K_i) \\bmod m$  \n",
        "- Requisitos: clave **verdaderamente aleatoria**, **longitud ≥ mensaje**, **uso único**, y **secreta**.\n",
        "\n",
        "### Espacio de claves\n",
        "- Para un mensaje de longitud $L$ en alfabeto de tamaño $m$: $m^L$ claves posibles.  \n",
        "- Seguridad no depende solo del espacio, sino de cumplir con aleatoriedad, longitud y no reutilización.\n",
        "\n",
        "### Vulnerabilidades / ataques\n",
        "- **Reutilización de clave:** $C_1 \\oplus C_2 = M_1 \\oplus M_2$, revela relación entre mensajes.  \n",
        "- **Claves no aleatorias:** patrones explotables por análisis estadístico.  \n",
        "- **Distribución:** problema logístico de enviar/almacenar claves seguras.  \n",
        "- **Integridad:** OTP no protege contra modificaciones del ciphertext.  \n",
        "- Caso histórico: **Proyecto Venona**, donde la URSS reutilizó claves, lo que permitió el criptoanálisis.\n",
        "\n",
        "### Usos y ejemplos\n",
        "- Amplio uso en espionaje y diplomacia (ej. SOE británico en la 2ª Guerra Mundial).  \n",
        "- Hoy en día aparece en criptografía cuántica combinada con QKD.  \n",
        "- Ejercicio educativo clásico por su seguridad teórica.  \n",
        "- Problema práctico: difícil distribución de claves largas lo hace impráctico para sistemas masivos.  \n",
        "\n"
      ],
      "metadata": {
        "id": "WG9dX86FnL-s"
      }
    },
    {
      "cell_type": "markdown",
      "source": [
        "# Parte II\n",
        "### Ejercicio 1\n"
      ],
      "metadata": {
        "id": "oyIlOOgjzcL8"
      }
    },
    {
      "cell_type": "code",
      "source": [
        "ciphertext = \"\"\"Al osk lzw twkl gx laewk, al osk lzw ogjkl gx laewk, al osk lzw syw gx oakvge,\n",
        "al osk lzw syw gx xggdakzfwkk, al osk lzw whguz gx twdawx, al osk lzw whguz gx\n",
        "afujwvmdalq, al osk lzw kwskgf gx Dayzl, al osk lzw kwskgf gx Vsjcfwkk, al osk\n",
        "lzw khjafy gx zghw, al osk lzw oaflwj gx vwkhsaj, ow zsv wnwjqlzafy twxgjw mk,\n",
        "ow zsv fglzafy twxgjw mk, ow owjw sdd ygafy vajwul lg Zwsnwf, ow owjw sdd ygafy\n",
        "vajwul lzw glzwj osq...\"\"\"\n",
        "\n",
        "import string\n",
        "from collections import Counter\n",
        "\n",
        "# normalizar: solo letras A-Z en mayúsculas\n",
        "clean = ''.join(ch for ch in ciphertext.upper() if ch in string.ascii_uppercase)\n",
        "\n",
        "freq = Counter(clean)\n",
        "total = sum(freq.values())\n",
        "\n",
        "# mostrar las letras ordenadas por frecuencia (desc)\n",
        "for letter, count in freq.most_common():\n",
        "    print(f\"{letter}: {count} ({count/total:.3%})\")\n"
      ],
      "metadata": {
        "colab": {
          "base_uri": "https://localhost:8080/"
        },
        "id": "V18B9JKmpLcK",
        "outputId": "e617d3d4-a191-4ee4-c814-88cb43621080"
      },
      "execution_count": 196,
      "outputs": [
        {
          "output_type": "stream",
          "name": "stdout",
          "text": [
            "W: 47 (14.734%)\n",
            "L: 34 (10.658%)\n",
            "K: 28 (8.777%)\n",
            "A: 27 (8.464%)\n",
            "G: 26 (8.150%)\n",
            "S: 22 (6.897%)\n",
            "Z: 22 (6.897%)\n",
            "O: 20 (6.270%)\n",
            "X: 14 (4.389%)\n",
            "J: 14 (4.389%)\n",
            "F: 13 (4.075%)\n",
            "Y: 10 (3.135%)\n",
            "V: 8 (2.508%)\n",
            "D: 8 (2.508%)\n",
            "H: 5 (1.567%)\n",
            "U: 5 (1.567%)\n",
            "T: 4 (1.254%)\n",
            "E: 3 (0.940%)\n",
            "M: 3 (0.940%)\n",
            "Q: 3 (0.940%)\n",
            "N: 2 (0.627%)\n",
            "C: 1 (0.313%)\n"
          ]
        }
      ]
    },
    {
      "cell_type": "markdown",
      "source": [
        "Hipótesis de clave y prueba\n",
        "\n",
        "En inglés la letra más común suele ser E (≈12.7%).\n",
        "\n",
        "aqui la más común es W (14.7%).\n",
        "\n",
        "Hipótesis: quizá W ↔ E.\n",
        "\n",
        "\n",
        "Posición(W)=22, Posición(E)=4 (A=0, B=1, …).\n",
        "\n",
        "Clave ≈ 22 − 4 = 18 (desplazamiento de +18 al cifrar, o −18 para descifrar)."
      ],
      "metadata": {
        "id": "lMZh5FVx1jFj"
      }
    },
    {
      "cell_type": "code",
      "source": [
        "import string\n",
        "\n",
        "alphabet = string.ascii_uppercase\n",
        "\n",
        "def caesar_encrypt(text, k):\n",
        "    out = []\n",
        "    for ch in text.upper():\n",
        "        if ch in alphabet:\n",
        "            i = alphabet.index(ch)\n",
        "            out.append(alphabet[(i + k) % 26])\n",
        "        else:\n",
        "            out.append(ch)\n",
        "    return ''.join(out)\n",
        "\n",
        "def caesar_decrypt(text, k):\n",
        "    # descifrar con k equivale a cifrar con -k\n",
        "    return caesar_encrypt(text, -k)\n",
        "\n",
        "def caesar_bruteforce(text):\n",
        "    return [(k, caesar_decrypt(text, k)) for k in range(26)]\n",
        "\n",
        "\n",
        "\n",
        "plain_test = caesar_decrypt(\"\"\"Al osk lzw twkl gx laewk, al osk lzw ogjkl gx laewk, al osk lzw syw gx oakvge,\n",
        "al osk lzw syw gx xggdakzfwkk, al osk lzw whguz gx twdawx, al osk lzw whguz gx\n",
        "afujwvmdalq, al osk lzw kwskgf gx Dayzl, al osk lzw kwskgf gx Vsjcfwkk, al osk\n",
        "lzw khjafy gx zghw, al osk lzw oaflwj gx vwkhsaj, ow zsv wnwjqlzafy twxgjw mk,\n",
        "ow zsv fglzafy twxgjw mk, ow owjw sdd ygafy vajwul lg Zwsnwf, ow owjw sdd ygafy\n",
        "vajwul lzw glzwj osq...\"\"\", 18)\n",
        "\n",
        "print(plain_test[:500])\n",
        "\n"
      ],
      "metadata": {
        "colab": {
          "base_uri": "https://localhost:8080/"
        },
        "id": "FSF7d0-o1ZHO",
        "outputId": "5a1c5727-f77d-4fe0-c3d5-64dfd57e75f7"
      },
      "execution_count": 197,
      "outputs": [
        {
          "output_type": "stream",
          "name": "stdout",
          "text": [
            "IT WAS THE BEST OF TIMES, IT WAS THE WORST OF TIMES, IT WAS THE AGE OF WISDOM, \n",
            "IT WAS THE AGE OF FOOLISHNESS, IT WAS THE EPOCH OF BELIEF, IT WAS THE EPOCH OF \n",
            "INCREDULITY, IT WAS THE SEASON OF LIGHT, IT WAS THE SEASON OF DARKNESS, IT WAS \n",
            "THE SPRING OF HOPE, IT WAS THE WINTER OF DESPAIR, WE HAD EVERYTHING BEFORE US, \n",
            "WE HAD NOTHING BEFORE US, WE WERE ALL GOING DIRECT TO HEAVEN, WE WERE ALL GOING \n",
            "DIRECT THE OTHER WAY...\n"
          ]
        }
      ]
    },
    {
      "cell_type": "markdown",
      "source": [
        "\n",
        "**a) Descifrado por análisis de frecuencia**\n",
        "\n",
        "- Al calcular las frecuencias del texto cifrado, vimos que la letra más común era **W (14.7%)**, lo cual corresponde aproximadamente a la letra **E** en inglés.\n",
        "- A partir de esto, se probó la clave k = 18 (desplazamiento de 18 posiciones).\n",
        "- El descifrado dio como resultado un texto en inglés legible:  \n",
        "  *\"IT WAS THE BEST OF TIMES, IT WAS THE WORST OF TIMES, ...\"*  \n",
        "  (fragmento de *A Tale of Two Cities* de Charles Dickens).\n",
        "\n",
        "**b) Clave usada**\n",
        "\n",
        "- La clave encontrada es **k = 18**.\n",
        "- Esto significa que, al cifrar, cada letra fue desplazada 18 posiciones hacia adelante en el alfabeto.\n"
      ],
      "metadata": {
        "id": "tbedzqlZ2Dot"
      }
    },
    {
      "cell_type": "markdown",
      "source": [
        "### Ejercicio 2"
      ],
      "metadata": {
        "id": "y82ki3iS3Bjm"
      }
    },
    {
      "cell_type": "code",
      "source": [
        "import string\n",
        "alphabet = string.ascii_uppercase\n",
        "A2I = {ch:i for i,ch in enumerate(alphabet)}\n",
        "I2A = {i:ch for i,ch in enumerate(alphabet)}\n",
        "\n",
        "def affine_encrypt(pt, a, b):\n",
        "    out = []\n",
        "    for ch in pt.upper():\n",
        "        if ch in A2I:\n",
        "            x = A2I[ch]\n",
        "            y = (a*x + b) % 26\n",
        "            out.append(I2A[y])\n",
        "        else:\n",
        "            out.append(ch)\n",
        "    return ''.join(out)\n",
        "\n",
        "plaintext = \"CRYPTOGRAPHY\"\n",
        "a, b = 5, 8\n",
        "cipher_affine = affine_encrypt(plaintext, a, b)\n",
        "cipher_affine\n"
      ],
      "metadata": {
        "colab": {
          "base_uri": "https://localhost:8080/",
          "height": 35
        },
        "id": "emsyvVxC3Gnb",
        "outputId": "f49b69aa-9315-4326-85fc-3f15399a6a2d"
      },
      "execution_count": 198,
      "outputs": [
        {
          "output_type": "execute_result",
          "data": {
            "text/plain": [
              "'SPYFZAMPIFRY'"
            ],
            "application/vnd.google.colaboratory.intrinsic+json": {
              "type": "string"
            }
          },
          "metadata": {},
          "execution_count": 198
        }
      ]
    },
    {
      "cell_type": "markdown",
      "source": [
        " a) Cálculo a mano (primeras 3 letras)\n",
        "\n",
        "Mapeo A=0,…,Z=25. Fórmula: \\(E(x) = (a x + b) \\bmod 26\\), con \\(a=5, b=8\\).\n",
        "\n",
        "- C → E(2) = (5·2 + 8) mod 26 = 18 ⇒ S\n",
        "- R → E(17) = (5·17 + 8) = 93 mod 26 = 15 ⇒ P\n",
        "- Y → E(24) = (5·24 + 8) = 128 mod 26 = 24 ⇒ Y\n",
        "\n"
      ],
      "metadata": {
        "id": "QF2r4pgM3a9N"
      }
    },
    {
      "cell_type": "code",
      "source": [
        "inv_a = pow(5, -1, 26)  # inverso modular de 5 mod 26\n",
        "inv_a\n"
      ],
      "metadata": {
        "colab": {
          "base_uri": "https://localhost:8080/"
        },
        "id": "Cb12-WAZ3rGO",
        "outputId": "2c965117-38c3-497f-f46a-7f78a21af5eb"
      },
      "execution_count": 199,
      "outputs": [
        {
          "output_type": "execute_result",
          "data": {
            "text/plain": [
              "21"
            ]
          },
          "metadata": {},
          "execution_count": 199
        }
      ]
    },
    {
      "cell_type": "code",
      "source": [
        "def affine_decrypt(ct, a, b):\n",
        "    inv_a = pow(a, -1, 26)\n",
        "    out = []\n",
        "    for ch in ct.upper():\n",
        "        if ch in A2I:\n",
        "            y = A2I[ch]\n",
        "            x = (inv_a * (y - b)) % 26\n",
        "            out.append(I2A[x])\n",
        "        else:\n",
        "            out.append(ch)\n",
        "    return ''.join(out)\n",
        "\n",
        "# verificar las primeras 3 letras del ciphertext\n",
        "cipher_partial = cipher_affine[:3]  # \"SPY\"\n",
        "decrypted_partial = affine_decrypt(cipher_partial, a, b)\n",
        "cipher_partial, decrypted_partial\n"
      ],
      "metadata": {
        "colab": {
          "base_uri": "https://localhost:8080/"
        },
        "id": "CVkpOnt-3y04",
        "outputId": "f4153660-c843-46cf-d3d6-06b5d83a0828"
      },
      "execution_count": 200,
      "outputs": [
        {
          "output_type": "execute_result",
          "data": {
            "text/plain": [
              "('SPY', 'CRY')"
            ]
          },
          "metadata": {},
          "execution_count": 200
        }
      ]
    },
    {
      "cell_type": "markdown",
      "source": [
        "**b) Inverso de a = 5 mod 26**\n",
        "- El inverso multiplicativo es 21.\n",
        "\n",
        "**c) Verificación**\n",
        "- Ciphertext parcial: \"SPY\"\n",
        "- Descifrado con la fórmula da: \"CRY\", que coincide con el plaintext original.\n",
        "\n",
        "**d) Número de claves válidas**\n",
        "- Para que haya descifrado, `a` debe ser coprimo con 26.\n",
        "- Los valores de `a` válidos son 12 (φ(26) = 12).\n",
        "- Para cada `a` hay 26 posibles `b`.\n",
        "- Total de claves válidas: 12 × 26 = **312**.\n"
      ],
      "metadata": {
        "id": "j0A_FRZC31mE"
      }
    },
    {
      "cell_type": "markdown",
      "source": [
        "# Ejercicio 3\n",
        "\n",
        "### a) Matriz de cifrado\n",
        "\n",
        "Tabla de todas las combinaciones posibles:\n",
        "\n",
        "| P | K | C = P ⊕ K |\n",
        "|---|---|-----------|\n",
        "| 0 | 0 | 0 |\n",
        "| 0 | 1 | 1 |\n",
        "| 1 | 0 | 1 |\n",
        "| 1 | 1 | 0 |\n",
        "\n",
        "Recordatorio: $C = P \\oplus K$ (XOR).\n"
      ],
      "metadata": {
        "id": "r34F8Z505PR3"
      }
    },
    {
      "cell_type": "code",
      "source": [
        "# Genera la tabla (P, K, C) para C = P XOR K\n",
        "rows = []\n",
        "for P in (0, 1):\n",
        "    for K in (0, 1):\n",
        "        C = P ^ K\n",
        "        rows.append((P, K, C))\n",
        "rows\n"
      ],
      "metadata": {
        "colab": {
          "base_uri": "https://localhost:8080/"
        },
        "id": "ZxDoMJzj5TPZ",
        "outputId": "8eb42c15-1049-4a1e-e2ee-4482c743f5d1"
      },
      "execution_count": 201,
      "outputs": [
        {
          "output_type": "execute_result",
          "data": {
            "text/plain": [
              "[(0, 0, 0), (0, 1, 1), (1, 0, 1), (1, 1, 0)]"
            ]
          },
          "metadata": {},
          "execution_count": 201
        }
      ]
    },
    {
      "cell_type": "markdown",
      "source": [
        "### b) Probabilidades de $C$\n",
        "\n",
        "Sea $p = P(P=0)$ y $1-p = P(P=1)$, con $P(K=0)=P(K=1)=\\frac{1}{2}$:\n",
        "\n",
        "$$\n",
        "P(C=0) = P(P=0,K=0) + P(P=1,K=1) = p \\frac{1}{2} + (1-p) \\frac{1}{2} = \\frac{1}{2}\n",
        "$$\n",
        "\n",
        "$$\n",
        "P(C=1) = 1 - P(C=0) = \\frac{1}{2}\n",
        "$$\n",
        "\n",
        "**Conclusión:** $C$ es uniforme (mitad 0, mitad 1), independientemente de la distribución de $P$.\n"
      ],
      "metadata": {
        "id": "YobY-pWJ7cea"
      }
    },
    {
      "cell_type": "code",
      "source": [
        "# Supongamos distribución de P: P(P=0)=p, P(P=1)=1-p\n",
        "# Prob(K=0)=Prob(K=1)=0.5\n",
        "def probs_C(p=0.5):\n",
        "    pC0 = p*0.5 + (1-p)*0.5\n",
        "    pC1 = 1 - pC0\n",
        "    return pC0, pC1\n",
        "\n",
        "probs_C(0.5), probs_C(0.2), probs_C(0.9)  # siempre debería dar (0.5, 0.5)\n"
      ],
      "metadata": {
        "colab": {
          "base_uri": "https://localhost:8080/"
        },
        "id": "5-hqH8aG7whZ",
        "outputId": "a66105ae-ba9d-4930-b639-481c040e809f"
      },
      "execution_count": 202,
      "outputs": [
        {
          "output_type": "execute_result",
          "data": {
            "text/plain": [
              "((0.5, 0.5), (0.5, 0.5), (0.5, 0.5))"
            ]
          },
          "metadata": {},
          "execution_count": 202
        }
      ]
    },
    {
      "cell_type": "markdown",
      "source": [
        "**c) Probabilidades condicionales**\n",
        "\n",
        "$$\n",
        "P(P=0 \\mid C=0) = \\frac{1/4}{1/2} = 1/2\n",
        "$$\n",
        "\n",
        "$$\n",
        "P(P=1 \\mid C=0) = \\frac{1/4}{1/2} = 1/2\n",
        "$$\n",
        "\n",
        "**Conclusión:** Al observar que $C=0$, las probabilidades de $P=0$ y $P=1$ se mantienen iguales (1/2 cada una).\n"
      ],
      "metadata": {
        "id": "Qd_4WZFt6nri"
      }
    },
    {
      "cell_type": "code",
      "source": [
        "# cálculo condicionales\n",
        "P_joint = {(\"P=0,C=0\"):0.25, (\"P=1,C=0\"):0.25}\n",
        "P_C0 = sum(P_joint.values())\n",
        "\n",
        "pP0_C0 = P_joint[\"P=0,C=0\"]/P_C0\n",
        "pP1_C0 = P_joint[\"P=1,C=0\"]/P_C0\n",
        "\n",
        "pP0_C0, pP1_C0\n"
      ],
      "metadata": {
        "colab": {
          "base_uri": "https://localhost:8080/"
        },
        "id": "dTAQTbnC8_fG",
        "outputId": "b84a9867-6137-4f7b-d5fc-6efcc06d6135"
      },
      "execution_count": 203,
      "outputs": [
        {
          "output_type": "execute_result",
          "data": {
            "text/plain": [
              "(0.5, 0.5)"
            ]
          },
          "metadata": {},
          "execution_count": 203
        }
      ]
    },
    {
      "cell_type": "markdown",
      "source": [
        "### d) ¿Secreto perfecto según Shannon?\n",
        "\n",
        "Definición: un cifrado tiene secreto perfecto si  \n",
        "\n",
        "$$\n",
        "P(P \\mid C) = P(P)\n",
        "$$\n",
        "\n",
        "para todo $P, C$.\n",
        "\n",
        "En nuestro caso, ya vimos que:\n",
        "\n",
        "$$\n",
        "P(P=0) = \\frac{1}{2}, \\quad P(P=0 \\mid C=0) = \\frac{1}{2}\n",
        "$$\n",
        "\n",
        "$$\n",
        "P(P=1) = \\frac{1}{2}, \\quad P(P=1 \\mid C=0) = \\frac{1}{2}\n",
        "$$\n",
        "\n",
        "Como observar $C$ no cambia la distribución de $P$, el esquema  \n",
        "$$\n",
        "C = P \\oplus K\n",
        "$$\n",
        "con $K$ uniforme e independiente **sí logra secreto perfecto**.\n"
      ],
      "metadata": {
        "id": "XWFPP2iE9J8X"
      }
    },
    {
      "cell_type": "code",
      "source": [
        "import random\n",
        "\n",
        "def simulate(n=100000):\n",
        "    count_P0, count_P0_given_C0, count_C0 = 0, 0, 0\n",
        "    for _ in range(n):\n",
        "        P = random.randint(0,1)      # P(P=0)=P(P=1)=1/2\n",
        "        K = random.randint(0,1)      # K uniforme\n",
        "        C = P ^ K\n",
        "        if P==0: count_P0 += 1\n",
        "        if C==0:\n",
        "            count_C0 += 1\n",
        "            if P==0:\n",
        "                count_P0_given_C0 += 1\n",
        "    return (count_P0/n, count_P0_given_C0/max(count_C0,1))\n",
        "\n",
        "simulate()\n"
      ],
      "metadata": {
        "colab": {
          "base_uri": "https://localhost:8080/"
        },
        "id": "mLBCXgXT9PbW",
        "outputId": "66d78901-829d-40c0-f8d4-1926805f0147"
      },
      "execution_count": 204,
      "outputs": [
        {
          "output_type": "execute_result",
          "data": {
            "text/plain": [
              "(0.50337, 0.5076415283056611)"
            ]
          },
          "metadata": {},
          "execution_count": 204
        }
      ]
    },
    {
      "cell_type": "markdown",
      "source": [
        "### 4(a) Entropía — Escenario A\n",
        "\n",
        "Escenario A: contraseñas de 4 caracteres, cada carácter elegido uniformemente de {A, B, C, D}.\n",
        "\n",
        "Cada carácter tiene 4 opciones equiprobables ⇒ entropía por carácter:\n",
        "\n",
        "$$\n",
        "H_1 = \\log_2 4 = 2 \\ \\text{bits}\n",
        "$$\n",
        "\n",
        "La contraseña tiene 4 caracteres independientes:\n",
        "\n",
        "$$\n",
        "H = 4 \\times H_1 = 4 \\times 2 = 8 \\ \\text{bits}\n",
        "$$\n"
      ],
      "metadata": {
        "id": "gytKdJjV9jff"
      }
    },
    {
      "cell_type": "code",
      "source": [
        "import math\n",
        "H1 = math.log2(4)   # bits por carácter\n",
        "H  = 4 * H1         # 4 caracteres\n",
        "H1, H\n"
      ],
      "metadata": {
        "colab": {
          "base_uri": "https://localhost:8080/"
        },
        "id": "ZShQrEaY9JTO",
        "outputId": "64994624-fa90-4afe-d852-3710e152669d"
      },
      "execution_count": 205,
      "outputs": [
        {
          "output_type": "execute_result",
          "data": {
            "text/plain": [
              "(2.0, 8.0)"
            ]
          },
          "metadata": {},
          "execution_count": 205
        }
      ]
    },
    {
      "cell_type": "markdown",
      "source": [
        "### 4(b) Entropía — Escenario B (Vigenère, longitud 3)\n",
        "\n",
        "Cada carácter de la clave se elige uniformemente del alfabeto de 26 letras, así que la entropía por carácter es:\n",
        "\n",
        "$$\n",
        "H_1 = \\log_2 26 \\approx 4.700439718 \\ \\text{bits}\n",
        "$$\n",
        "\n",
        "Como la clave tiene 3 caracteres independientes:\n",
        "\n",
        "$$\n",
        "H = 3 \\times H_1 = 3 \\times \\log_2 26 \\approx 14.101319 \\ \\text{bits}\n",
        "$$\n"
      ],
      "metadata": {
        "id": "3D-dpvzX90ak"
      }
    },
    {
      "cell_type": "code",
      "source": [
        "import math\n",
        "H1 = math.log2(26)     # bits por carácter\n",
        "H  = 3 * H1            # 3 caracteres\n",
        "H1, H\n"
      ],
      "metadata": {
        "colab": {
          "base_uri": "https://localhost:8080/"
        },
        "id": "Dbzg2d_z91mg",
        "outputId": "5dbae377-9149-4a45-f1b5-ec7d5181a03a"
      },
      "execution_count": 206,
      "outputs": [
        {
          "output_type": "execute_result",
          "data": {
            "text/plain": [
              "(4.700439718141092, 14.101319154423276)"
            ]
          },
          "metadata": {},
          "execution_count": 206
        }
      ]
    },
    {
      "cell_type": "markdown",
      "source": [
        "### Cálculo 1 — Número de claves y tiempo (detallado)\n",
        "\n",
        "#### Escenario A\n",
        "\n",
        "Número de claves = $4^4$.\n",
        "\n",
        "$$\n",
        "4^2 = 16\n",
        "$$\n",
        "\n",
        "$$\n",
        "4^3 = 64\n",
        "$$\n",
        "\n",
        "$$\n",
        "4^4 = 256\n",
        "$$\n",
        "\n",
        "Prueba 1000 claves/seg → tiempo peor caso:\n",
        "\n",
        "$$\n",
        "\\frac{256}{1000} = 0.256 \\ \\text{segundos} \\approx 256 \\ \\text{ms}\n",
        "$$\n",
        "\n",
        "---\n",
        "\n",
        "#### Escenario B\n",
        "\n",
        "Número de claves = $26^3$.\n",
        "\n",
        "$$\n",
        "26^2 = 676\n",
        "$$\n",
        "\n",
        "$$\n",
        "26^3 = 676 \\times 26\n",
        "$$\n",
        "\n",
        "$$\n",
        "676 \\times 20 = 13{,}520\n",
        "$$\n",
        "\n",
        "$$\n",
        "676 \\times 6 = 4{,}056\n",
        "$$\n",
        "\n",
        "$$\n",
        "13{,}520 + 4{,}056 = 17{,}576\n",
        "$$\n",
        "\n",
        "Prueba 1000 claves/seg → tiempo peor caso:\n",
        "\n",
        "$$\n",
        "\\frac{17{,}576}{1000} = 17.576 \\ \\text{segundos} \\approx 17 \\ \\text{s y 576 ms}\n",
        "$$\n"
      ],
      "metadata": {
        "id": "KTJDxYBO-BZi"
      }
    },
    {
      "cell_type": "code",
      "source": [
        "import math\n",
        "\n",
        "# Escenario A\n",
        "keys_A = 4**4\n",
        "time_A_s = keys_A / 1000  # segundos\n",
        "# Escenario B\n",
        "keys_B = 26**3\n",
        "time_B_s = keys_B / 1000  # segundos\n",
        "\n",
        "\n",
        "def format_seconds(s):\n",
        "    mins = int(s // 60)\n",
        "    secs = s - mins*60\n",
        "    if mins == 0:\n",
        "        return f\"{secs:.3f} s\"\n",
        "    else:\n",
        "        return f\"{mins} min {secs:.3f} s\"\n",
        "\n",
        "keys_A, format_seconds(time_A_s), keys_B, format_seconds(time_B_s)\n"
      ],
      "metadata": {
        "colab": {
          "base_uri": "https://localhost:8080/"
        },
        "id": "F-gc_UZ4-KTR",
        "outputId": "f015fa62-acc6-4cb9-f62d-c9a8d782dbb2"
      },
      "execution_count": 207,
      "outputs": [
        {
          "output_type": "execute_result",
          "data": {
            "text/plain": [
              "(256, '0.256 s', 17576, '17.576 s')"
            ]
          },
          "metadata": {},
          "execution_count": 207
        }
      ]
    },
    {
      "cell_type": "markdown",
      "source": [
        "**4(d) Unicity Distance**\n",
        "\n",
        "Redundancia del inglés:\n",
        "$$\n",
        "R = \\log_2 26 - 1.5 \\approx 3.2004 \\ \\text{bits/char}\n",
        "$$\n",
        "\n",
        "Entropía de la clave (3 letras Vigenère):\n",
        "$$\n",
        "H(K) \\approx 14.1013 \\ \\text{bits}\n",
        "$$\n",
        "\n",
        "Unicity distance:\n",
        "$$\n",
        "N = \\frac{H(K)}{R} \\approx \\frac{14.1013}{3.2004} \\approx 4.41 \\ \\text{caracteres}\n",
        "$$\n",
        "\n",
        "**Conclusión:** En teoría, con alrededor de 5 caracteres de ciphertext se podría determinar la clave de 3 letras de un Vigenère.\n"
      ],
      "metadata": {
        "id": "NQxH1xFh-RfT"
      }
    },
    {
      "cell_type": "code",
      "source": [
        "H_key = 3 * math.log2(26)\n",
        "R = math.log2(26) - 1.5\n",
        "N = H_key / R\n",
        "H_key, R, N\n"
      ],
      "metadata": {
        "colab": {
          "base_uri": "https://localhost:8080/"
        },
        "id": "k0FBKAXg-RTY",
        "outputId": "95da2d98-8912-41d0-bcde-5ae54e740ecc"
      },
      "execution_count": 208,
      "outputs": [
        {
          "output_type": "execute_result",
          "data": {
            "text/plain": [
              "(14.101319154423276, 3.2004397181410917, 4.406056791037993)"
            ]
          },
          "metadata": {},
          "execution_count": 208
        }
      ]
    },
    {
      "cell_type": "markdown",
      "source": [
        "# Parte III\n",
        "### EJERCICIO C3\n",
        "### ENCODER"
      ],
      "metadata": {
        "id": "w62S8OX515NC"
      }
    },
    {
      "cell_type": "markdown",
      "source": [
        "import sys\n",
        "chars = \"\"\n",
        "from fileinput import input\n",
        "for line in input():\n",
        "  chars += line\n",
        "\n",
        "lookup1 = \"\\n \\\"#()*+/1:=[]abcdefghijklmnopqrstuvwxyz\"\n",
        "lookup2 = \"ABCDEFGHIJKLMNOPQRSTabcdefghijklmnopqrst\"\n",
        "\n",
        "out = \"\"\n",
        "\n",
        "prev = 0\n",
        "for char in chars:\n",
        "  cur = lookup1.index(char)\n",
        "  out += lookup2[(cur - prev) % 40]\n",
        "  prev = cur\n",
        "\n",
        "sys.stdout.write(out)\n"
      ],
      "metadata": {
        "id": "pyqGDamHqgGP"
      }
    },
    {
      "cell_type": "markdown",
      "source": [
        "### ciphertext"
      ],
      "metadata": {
        "id": "Zl8Srmc_20gZ"
      }
    },
    {
      "cell_type": "markdown",
      "source": [
        "DLSeGAGDgBNJDQJDCFSFnRBIDjgHoDFCFtHDgJpiHtGDmMAQFnRBJKkBAsTMrsPSDDnEFCFtIbEDtDCIbFCFtHTJDKerFldbFObFCFtLBFkBAAAPFnRBJGEkerFlcPgKkImHnIlATJDKbTbFOkdNnsgbnJRMFnRBNAFkBAAAbrcbTKAkOgFpOgFpOpkBAAAAAAAiClFGIPFnRBaKliCgClFGtIBAAAAAAAOgGEkImHnIl"
      ],
      "metadata": {
        "id": "iizOvUwLqj0G"
      }
    },
    {
      "cell_type": "markdown",
      "source": [
        "#Metodo 1\n",
        "# PicoCTF — Custom Cyclical Cipher (Método A)\n",
        "\n",
        "**Objetivo:** usar los archivos provistos (`convert.py`, `ciphertext`) para obtener la flag.  \n",
        "Vamos a: (1) inspeccionar el encoder, (2) ejecutar/decodificar de forma robusta, (3) extraer caracteres por índices cúbicos, (4) obtener y verificar la flag `picoCTF{...}`.  \n"
      ],
      "metadata": {
        "id": "uUJDiSdSBX4s"
      }
    },
    {
      "cell_type": "code",
      "source": [
        "import os\n",
        "print(\"Archivos en el directorio actual:\")\n",
        "print(os.listdir(\".\"))\n",
        "\n",
        "assert os.path.exists(\"convert.py\"), \"Falta convert.py\"\n",
        "assert os.path.exists(\"ciphertext\"), \"Falta ciphertext\"\n",
        "print(\"archivos presentes\")\n"
      ],
      "metadata": {
        "colab": {
          "base_uri": "https://localhost:8080/"
        },
        "id": "QaAg2cs1BkXo",
        "outputId": "a91cf2ef-d3c9-4a6f-b6cf-cddb0762ba75"
      },
      "execution_count": 209,
      "outputs": [
        {
          "output_type": "stream",
          "name": "stdout",
          "text": [
            "Archivos en el directorio actual:\n",
            "['.config', 'ciphertext.filtered', 'run_output.txt', 'submission_CYLAB.txt', 'crib_candidate_CTF_3_MKQ.txt', 'crib_candidate_pico_3_ZVTP.txt', 'img5.png', 'decrypted_masked.txt', 'flag_new_caesar.txt', 'C3.png', 'crib_candidate_pico_1_RFMP.txt', 'crib_candidate_CTF_2_LVY.txt', 'crib_candidate_pico_0_CYLA.txt', 'New Caesar.png', 'output_try.txt', 'output_decoded.txt', 'C3 (1).png', 'img3.png', 'wasy peasy (1).png', 'decrypted_with_CYLABCY.txt', 'submission_flag.txt', 'crib_candidate_picoCTF_0_CYLABCY.txt', 'submission_CYLABCY.txt', 'wasy peasy (2).png', 'decrypted_with_CYLAB.txt', 'crib_candidate_flag_2_IDDP.txt', 'img_embebida.png', 'crib_candidate_flag_3_JSVX.txt', 'cipher.txt', 'VIGENERE.png', 'c3.png', 'crib_candidate_CTF_0_PNI.txt', 'ciphertext', 'token_masked.txt', 'crib_candidate_pico_2_YGBH.txt', 'img1.png', 'token_full.txt', 'crib_candidate_flag_0_MVNI.txt', 'flag_new_caesar_method2.txt', 'img4.png', 'selected_rotation_full.txt', 'otp.py', 'convert.py', 'ROTATION.png', 'crib_candidate_picoctf_0_CYLABCY.txt', 'decrypted_auto.txt', 'crib_candidate_CTF_4_BCY.txt', '.ipynb_checkpoints', 'decode_all.py', 'encrypted.txt', 'decrypted_manual.txt', 'new_caesar.py', 'wasy peasy.png', 'flag.txt', 'encoder_error.txt', 'img2.png', 'crib_candidate_CTF_1_EUJ.txt', 'decrypted_full.txt', 'crib_candidate_flag_1_BCOX.txt', 'sample_data']\n",
            "OK: archivos presentes\n"
          ]
        }
      ]
    },
    {
      "cell_type": "markdown",
      "source": [
        "\n",
        "- Leer `convert.py` y extraer **lookup1** y **lookup2** (los alfabetos).\n",
        "- Usar esas tablas para **invertir** la operación del encoder sobre `ciphertext`.\n",
        "- Guardar el texto intermedio en `output_decoded.txt` y **aplicar la extracción** por índices cúbicos.\n",
        "- Buscar la flag (o el contenido para el wrapper `picoCTF{...}`).\n"
      ],
      "metadata": {
        "id": "3Qxq6-fuBnBg"
      }
    },
    {
      "cell_type": "code",
      "source": [
        "lookup1 = \"\\n \\\"#()*+/1:=[]abcdefghijklmnopqrstuvwxyz\"\n",
        "lookup2 = \"ABCDEFGHIJKLMNOPQRSTabcdefghijklmnopqrst\"\n",
        "\n",
        "def cyclical_decode(ciphertext: str) -> str:\n",
        "    prev = 0\n",
        "    out_chars = []\n",
        "    for ch in ciphertext:\n",
        "        if ch not in lookup2:\n",
        "            continue\n",
        "        j = lookup2.index(ch)\n",
        "        cur = (j + prev) % 40\n",
        "        out_chars.append(lookup1[cur])\n",
        "        prev = cur\n",
        "    return ''.join(out_chars)\n",
        "\n",
        "with open(\"ciphertext\",\"r\",encoding=\"utf-8\",errors=\"ignore\") as f:\n",
        "    ct = f.read()\n",
        "\n",
        "decoded = cyclical_decode(ct)\n",
        "\n",
        "with open(\"output_decoded.txt\",\"w\",encoding=\"utf-8\") as f:\n",
        "    f.write(decoded)\n",
        "\n",
        "print(\"Texto decodificado (primeros 400 chars):\\n\")\n",
        "print(decoded[:400])"
      ],
      "metadata": {
        "colab": {
          "base_uri": "https://localhost:8080/"
        },
        "id": "FfjnYGBqBqaE",
        "outputId": "565a18c2-a6c6-4ca6-d4a3-633bf3f3b058"
      },
      "execution_count": 210,
      "outputs": [
        {
          "output_type": "stream",
          "name": "stdout",
          "text": [
            "Texto decodificado (primeros 400 chars):\n",
            "\n",
            "#asciiorder\n",
            "#fortychars\n",
            "#selfinput\n",
            "#pythontwo\n",
            "\n",
            "chars = \"\"\n",
            "from fileinput import input\n",
            "for line in input():\n",
            "    chars += line\n",
            "b = 1 / 1\n",
            "\n",
            "for i in range(len(chars)):\n",
            "    if i == b * b * b:\n",
            "        print chars[i] #prints\n",
            "        b += 1 / 1\n",
            "\n"
          ]
        }
      ]
    },
    {
      "cell_type": "markdown",
      "source": [
        "## Extracción cúbica\n",
        "\n",
        "El texto decodificado trae un snippet en Python2 que indica extraer los caracteres en posiciones cúbicas (1, 8, 27, 64, …).  \n",
        "Implementamos esa lógica en Python3 para obtener la cadena oculta.\n"
      ],
      "metadata": {
        "id": "CZJRt5P0Cw2K"
      }
    },
    {
      "cell_type": "code",
      "source": [
        "import re\n",
        "\n",
        "with open(\"output_decoded.txt\",\"r\",encoding=\"utf-8\",errors=\"ignore\") as f:\n",
        "    txt = f.read()\n",
        "\n",
        "out_chars = []\n",
        "b = 1\n",
        "n = len(txt)\n",
        "i = 0\n",
        "next_cube = b**3  # 1, 8, 27, 64, ...\n",
        "\n",
        "while i < n:\n",
        "    if i == next_cube:\n",
        "        out_chars.append(txt[i])\n",
        "        b += 1\n",
        "        next_cube = b**3\n",
        "    i += 1\n",
        "\n",
        "hidden = ''.join(out_chars).strip()\n",
        "print(\"Cadena extraída:\", repr(hidden))\n",
        "\n",
        "m = re.search(r'picoCTF\\{[A-Za-z0-9_!@#\\$%\\^&\\*\\-+]+\\}', hidden)\n",
        "if m:\n",
        "    print(\"Flag encontrada:\", m.group(0))\n",
        "else:\n",
        "    flag = f\"picoCTF{{{hidden}}}\"\n",
        "    print(\"Flag candidata:\", flag)\n"
      ],
      "metadata": {
        "colab": {
          "base_uri": "https://localhost:8080/"
        },
        "id": "UDSclu58DCJW",
        "outputId": "fb932844-7691-4281-8410-5e80c00bf56d"
      },
      "execution_count": 211,
      "outputs": [
        {
          "output_type": "stream",
          "name": "stdout",
          "text": [
            "Cadena extraída: 'adlibs'\n",
            "Flag candidata: picoCTF{adlibs}\n"
          ]
        }
      ]
    },
    {
      "cell_type": "markdown",
      "source": [
        "# (Método B: script autónomo)\n",
        "\n",
        "**Idea / Técnica:** Reimplementar todo el pipeline en un script `decode_all.py` que:\n",
        "1. Contenga (o extraiga) las tablas `lookup1` y `lookup2`.\n",
        "2. Lea `ciphertext`.\n",
        "3. Aplique la decodificación inversa (acumulativa modular).\n",
        "4. Aplique la extracción por índices cúbicos.\n",
        "5. Imprima la flag final (y la guarde en `flag.txt`).\n",
        "\n"
      ],
      "metadata": {
        "id": "HGRWTLrIDVeI"
      }
    },
    {
      "cell_type": "code",
      "source": [
        "script = r'''\n",
        "#!/usr/bin/env python3\n",
        "# decode_all.py — Método B (autónomo): decodifica y extrae la flag.\n",
        "\n",
        "import sys, re\n",
        "from pathlib import Path\n",
        "\n",
        "lookup1 = \"\\n \\\"#()*+/1:=[]abcdefghijklmnopqrstuvwxyz\"\n",
        "lookup2 = \"ABCDEFGHIJKLMNOPQRSTabcdefghijklmnopqrst\"\n",
        "\n",
        "def cyclical_decode_from_output(ciphertext: str) -> str:\n",
        "    prev = 0\n",
        "    out = []\n",
        "    for ch in ciphertext:\n",
        "        if ch not in lookup2:\n",
        "            continue\n",
        "        j = lookup2.index(ch)\n",
        "        cur = (j + prev) % len(lookup1)\n",
        "        out.append(lookup1[cur])\n",
        "        prev = cur\n",
        "    return ''.join(out)\n",
        "\n",
        "def extract_by_cubes(text: str) -> str:\n",
        "    out = []\n",
        "    b = 1\n",
        "    n = len(text)\n",
        "    i = 0\n",
        "    next_cube = b**3\n",
        "    while i < n:\n",
        "        if i == next_cube:\n",
        "            out.append(text[i])\n",
        "            b += 1\n",
        "            next_cube = b**3\n",
        "        i += 1\n",
        "    return ''.join(out).strip()\n",
        "\n",
        "def main():\n",
        "    path = Path(\"ciphertext\")\n",
        "    if len(sys.argv) > 1:\n",
        "        path = Path(sys.argv[1])\n",
        "    if not path.exists():\n",
        "        print(\"No se encuentra el archivo ciphertext:\", path, file=sys.stderr)\n",
        "        sys.exit(2)\n",
        "\n",
        "    ciphertext = path.read_text(encoding=\"utf-8\", errors=\"ignore\")\n",
        "\n",
        "    decoded = cyclical_decode_from_output(ciphertext)\n",
        "    Path(\"output_decoded.txt\").write_text(decoded, encoding=\"utf-8\")\n",
        "\n",
        "    hidden = extract_by_cubes(decoded)\n",
        "\n",
        "    # REGEX corregido (simple y seguro):\n",
        "    m = re.search(r'picoCTF\\{[^}]+\\}', hidden)\n",
        "    flag = m.group(0) if m else f\"picoCTF{{{hidden}}}\"\n",
        "\n",
        "    Path(\"flag.txt\").write_text(flag, encoding=\"utf-8\")\n",
        "\n",
        "    print(\"Decoded (first 300 chars):\")\n",
        "    print(decoded[:300])\n",
        "    print(\"\\nHidden (extracted):\", repr(hidden))\n",
        "    print(\"FLAG (final):\", flag)\n",
        "\n",
        "if __name__ == '__main__':\n",
        "    main()\n",
        "'''\n",
        "open(\"decode_all.py\",\"w\",encoding=\"utf-8\").write(script)\n",
        "print(\"decode_all.py creado\")\n"
      ],
      "metadata": {
        "colab": {
          "base_uri": "https://localhost:8080/"
        },
        "id": "-BIISec2Dar9",
        "outputId": "25001214-50c4-48ea-b308-537629096f17"
      },
      "execution_count": 212,
      "outputs": [
        {
          "output_type": "stream",
          "name": "stdout",
          "text": [
            "decode_all.py creado\n"
          ]
        }
      ]
    },
    {
      "cell_type": "code",
      "source": [
        "!python3 decode_all.py ciphertext > run_output.txt 2>&1 || true\n",
        "!sed -n '1,200p' run_output.txt\n"
      ],
      "metadata": {
        "colab": {
          "base_uri": "https://localhost:8080/"
        },
        "id": "nQcqE9wMDdcE",
        "outputId": "27cfd1c5-9d1d-4f87-8510-2f38f1b1f332"
      },
      "execution_count": 213,
      "outputs": [
        {
          "output_type": "stream",
          "name": "stdout",
          "text": [
            "Decoded (first 300 chars):\n",
            "#asciiorder\n",
            "#fortychars\n",
            "#selfinput\n",
            "#pythontwo\n",
            "\n",
            "chars = \"\"\n",
            "from fileinput import input\n",
            "for line in input():\n",
            "    chars += line\n",
            "b = 1 / 1\n",
            "\n",
            "for i in range(len(chars)):\n",
            "    if i == b * b * b:\n",
            "        print chars[i] #prints\n",
            "        b += 1 / 1\n",
            "\n",
            "\n",
            "Hidden (extracted): 'adlibs'\n",
            "FLAG (final): picoCTF{adlibs}\n"
          ]
        }
      ]
    },
    {
      "cell_type": "code",
      "source": [
        "print(\"flag.txt:\")\n",
        "!sed -n '1,50p' flag.txt\n"
      ],
      "metadata": {
        "colab": {
          "base_uri": "https://localhost:8080/"
        },
        "id": "OisT-EF5DwsY",
        "outputId": "9c7a0964-1140-47e1-a572-a4b05318c894"
      },
      "execution_count": 214,
      "outputs": [
        {
          "output_type": "stream",
          "name": "stdout",
          "text": [
            "flag.txt:\n",
            "picoCTF{adlibs}"
          ]
        }
      ]
    },
    {
      "cell_type": "markdown",
      "source": [
        "#Evidencia"
      ],
      "metadata": {
        "id": "kx4y----oI0N"
      }
    },
    {
      "cell_type": "code",
      "source": [
        "# Celda 1 — subir hasta 5 imágenes desde la laptop y guardarlas como img1.png .. img5.png\n",
        "from google.colab import files\n",
        "from PIL import Image\n",
        "import io, os\n",
        "\n",
        "print(\"Seleccioná hasta 5 archivos en el diálogo (Ctrl/Shift para multi-selección).\")\n",
        "uploaded = files.upload()  # abre diálogo\n",
        "\n",
        "if not uploaded:\n",
        "    print(\"No se subió ningún archivo.\")\n",
        "else:\n",
        "    filenames = list(uploaded.keys())\n",
        "    mapping = {}\n",
        "    max_size = (1200, 1200)  # ajustar si querés otra resolución máxima\n",
        "    for i, orig_name in enumerate(filenames[:5]):  # solo los primeros 5\n",
        "        try:\n",
        "            img = Image.open(io.BytesIO(uploaded[orig_name]))\n",
        "            # convertir a RGB si tiene transparencia y formato incompatible\n",
        "            if img.mode in (\"RGBA\", \"LA\") or (img.mode == \"P\" and \"transparency\" in img.info):\n",
        "                img = img.convert(\"RGB\")\n",
        "            img.thumbnail(max_size, Image.LANCZOS)\n",
        "            outname = f\"img{i+1}.png\"\n",
        "            img.save(outname, optimize=True, quality=85)\n",
        "            mapping[i+1] = outname\n",
        "        except Exception as e:\n",
        "            print(f\"Error procesando {orig_name}: {e}\")\n",
        "            mapping[i+1] = None\n",
        "\n",
        "    # si subiste menos de 5, los índices restantes quedan vacíos\n",
        "    for j in range(len(filenames)+1, 6):\n",
        "        mapping[j] = None\n",
        "\n",
        "    print(\"Asignación de archivos (imgN -> archivo guardado):\")\n",
        "    for k in range(1, 6):\n",
        "        print(f\" img{k} -> {mapping[k] if mapping[k] else '(vacío)'}\")\n"
      ],
      "metadata": {
        "colab": {
          "base_uri": "https://localhost:8080/",
          "height": 73
        },
        "id": "oqrlwRlto7zA",
        "outputId": "f24a18b3-70a9-4538-f5e3-6f01b235f453"
      },
      "execution_count": 215,
      "outputs": [
        {
          "output_type": "stream",
          "name": "stdout",
          "text": [
            "Seleccioná hasta 5 archivos en el diálogo (Ctrl/Shift para multi-selección).\n"
          ]
        },
        {
          "output_type": "display_data",
          "data": {
            "text/plain": [
              "<IPython.core.display.HTML object>"
            ],
            "text/html": [
              "\n",
              "     <input type=\"file\" id=\"files-d7dc7587-a23c-428f-817c-b20faaf9683c\" name=\"files[]\" multiple disabled\n",
              "        style=\"border:none\" />\n",
              "     <output id=\"result-d7dc7587-a23c-428f-817c-b20faaf9683c\">\n",
              "      Upload widget is only available when the cell has been executed in the\n",
              "      current browser session. Please rerun this cell to enable.\n",
              "      </output>\n",
              "      <script>// Copyright 2017 Google LLC\n",
              "//\n",
              "// Licensed under the Apache License, Version 2.0 (the \"License\");\n",
              "// you may not use this file except in compliance with the License.\n",
              "// You may obtain a copy of the License at\n",
              "//\n",
              "//      http://www.apache.org/licenses/LICENSE-2.0\n",
              "//\n",
              "// Unless required by applicable law or agreed to in writing, software\n",
              "// distributed under the License is distributed on an \"AS IS\" BASIS,\n",
              "// WITHOUT WARRANTIES OR CONDITIONS OF ANY KIND, either express or implied.\n",
              "// See the License for the specific language governing permissions and\n",
              "// limitations under the License.\n",
              "\n",
              "/**\n",
              " * @fileoverview Helpers for google.colab Python module.\n",
              " */\n",
              "(function(scope) {\n",
              "function span(text, styleAttributes = {}) {\n",
              "  const element = document.createElement('span');\n",
              "  element.textContent = text;\n",
              "  for (const key of Object.keys(styleAttributes)) {\n",
              "    element.style[key] = styleAttributes[key];\n",
              "  }\n",
              "  return element;\n",
              "}\n",
              "\n",
              "// Max number of bytes which will be uploaded at a time.\n",
              "const MAX_PAYLOAD_SIZE = 100 * 1024;\n",
              "\n",
              "function _uploadFiles(inputId, outputId) {\n",
              "  const steps = uploadFilesStep(inputId, outputId);\n",
              "  const outputElement = document.getElementById(outputId);\n",
              "  // Cache steps on the outputElement to make it available for the next call\n",
              "  // to uploadFilesContinue from Python.\n",
              "  outputElement.steps = steps;\n",
              "\n",
              "  return _uploadFilesContinue(outputId);\n",
              "}\n",
              "\n",
              "// This is roughly an async generator (not supported in the browser yet),\n",
              "// where there are multiple asynchronous steps and the Python side is going\n",
              "// to poll for completion of each step.\n",
              "// This uses a Promise to block the python side on completion of each step,\n",
              "// then passes the result of the previous step as the input to the next step.\n",
              "function _uploadFilesContinue(outputId) {\n",
              "  const outputElement = document.getElementById(outputId);\n",
              "  const steps = outputElement.steps;\n",
              "\n",
              "  const next = steps.next(outputElement.lastPromiseValue);\n",
              "  return Promise.resolve(next.value.promise).then((value) => {\n",
              "    // Cache the last promise value to make it available to the next\n",
              "    // step of the generator.\n",
              "    outputElement.lastPromiseValue = value;\n",
              "    return next.value.response;\n",
              "  });\n",
              "}\n",
              "\n",
              "/**\n",
              " * Generator function which is called between each async step of the upload\n",
              " * process.\n",
              " * @param {string} inputId Element ID of the input file picker element.\n",
              " * @param {string} outputId Element ID of the output display.\n",
              " * @return {!Iterable<!Object>} Iterable of next steps.\n",
              " */\n",
              "function* uploadFilesStep(inputId, outputId) {\n",
              "  const inputElement = document.getElementById(inputId);\n",
              "  inputElement.disabled = false;\n",
              "\n",
              "  const outputElement = document.getElementById(outputId);\n",
              "  outputElement.innerHTML = '';\n",
              "\n",
              "  const pickedPromise = new Promise((resolve) => {\n",
              "    inputElement.addEventListener('change', (e) => {\n",
              "      resolve(e.target.files);\n",
              "    });\n",
              "  });\n",
              "\n",
              "  const cancel = document.createElement('button');\n",
              "  inputElement.parentElement.appendChild(cancel);\n",
              "  cancel.textContent = 'Cancel upload';\n",
              "  const cancelPromise = new Promise((resolve) => {\n",
              "    cancel.onclick = () => {\n",
              "      resolve(null);\n",
              "    };\n",
              "  });\n",
              "\n",
              "  // Wait for the user to pick the files.\n",
              "  const files = yield {\n",
              "    promise: Promise.race([pickedPromise, cancelPromise]),\n",
              "    response: {\n",
              "      action: 'starting',\n",
              "    }\n",
              "  };\n",
              "\n",
              "  cancel.remove();\n",
              "\n",
              "  // Disable the input element since further picks are not allowed.\n",
              "  inputElement.disabled = true;\n",
              "\n",
              "  if (!files) {\n",
              "    return {\n",
              "      response: {\n",
              "        action: 'complete',\n",
              "      }\n",
              "    };\n",
              "  }\n",
              "\n",
              "  for (const file of files) {\n",
              "    const li = document.createElement('li');\n",
              "    li.append(span(file.name, {fontWeight: 'bold'}));\n",
              "    li.append(span(\n",
              "        `(${file.type || 'n/a'}) - ${file.size} bytes, ` +\n",
              "        `last modified: ${\n",
              "            file.lastModifiedDate ? file.lastModifiedDate.toLocaleDateString() :\n",
              "                                    'n/a'} - `));\n",
              "    const percent = span('0% done');\n",
              "    li.appendChild(percent);\n",
              "\n",
              "    outputElement.appendChild(li);\n",
              "\n",
              "    const fileDataPromise = new Promise((resolve) => {\n",
              "      const reader = new FileReader();\n",
              "      reader.onload = (e) => {\n",
              "        resolve(e.target.result);\n",
              "      };\n",
              "      reader.readAsArrayBuffer(file);\n",
              "    });\n",
              "    // Wait for the data to be ready.\n",
              "    let fileData = yield {\n",
              "      promise: fileDataPromise,\n",
              "      response: {\n",
              "        action: 'continue',\n",
              "      }\n",
              "    };\n",
              "\n",
              "    // Use a chunked sending to avoid message size limits. See b/62115660.\n",
              "    let position = 0;\n",
              "    do {\n",
              "      const length = Math.min(fileData.byteLength - position, MAX_PAYLOAD_SIZE);\n",
              "      const chunk = new Uint8Array(fileData, position, length);\n",
              "      position += length;\n",
              "\n",
              "      const base64 = btoa(String.fromCharCode.apply(null, chunk));\n",
              "      yield {\n",
              "        response: {\n",
              "          action: 'append',\n",
              "          file: file.name,\n",
              "          data: base64,\n",
              "        },\n",
              "      };\n",
              "\n",
              "      let percentDone = fileData.byteLength === 0 ?\n",
              "          100 :\n",
              "          Math.round((position / fileData.byteLength) * 100);\n",
              "      percent.textContent = `${percentDone}% done`;\n",
              "\n",
              "    } while (position < fileData.byteLength);\n",
              "  }\n",
              "\n",
              "  // All done.\n",
              "  yield {\n",
              "    response: {\n",
              "      action: 'complete',\n",
              "    }\n",
              "  };\n",
              "}\n",
              "\n",
              "scope.google = scope.google || {};\n",
              "scope.google.colab = scope.google.colab || {};\n",
              "scope.google.colab._files = {\n",
              "  _uploadFiles,\n",
              "  _uploadFilesContinue,\n",
              "};\n",
              "})(self);\n",
              "</script> "
            ]
          },
          "metadata": {}
        },
        {
          "output_type": "stream",
          "name": "stdout",
          "text": [
            "No se subió ningún archivo.\n"
          ]
        }
      ]
    },
    {
      "cell_type": "code",
      "source": [
        "\n",
        "from IPython.display import Image, display, Markdown\n",
        "import os\n",
        "\n",
        "fname = \"img5.png\"\n",
        "if os.path.exists(fname):\n",
        "    display(Markdown(\"### Imagen 1\"))\n",
        "    display(Image(fname))\n",
        "else:\n",
        "    print(f\"No se encontró {fname}. Ejecutá la celda de subida y asegurate de haber subido al menos 1 imagen.\")\n"
      ],
      "metadata": {
        "colab": {
          "base_uri": "https://localhost:8080/",
          "height": 568
        },
        "id": "GUPouhrEpC_Z",
        "outputId": "65b163a1-e326-44ee-dec8-6b45ceb702c0"
      },
      "execution_count": 216,
      "outputs": [
        {
          "output_type": "display_data",
          "data": {
            "text/plain": [
              "<IPython.core.display.Markdown object>"
            ],
            "text/markdown": "### Imagen 1"
          },
          "metadata": {}
        },
        {
          "output_type": "display_data",
          "data": {
            "image/png": "[encoded data removed]",
            "text/plain": [
              "<IPython.core.display.Image object>"
            ]
          },
          "metadata": {}
        }
      ]
    },
    {
      "cell_type": "markdown",
      "source": [
        "# Ejercicio 2 — EASY ´PEASY\n",
        "\n",
        "\n",
        "\n"
      ],
      "metadata": {
        "id": "qx7Es970Ejr7"
      }
    },
    {
      "cell_type": "markdown",
      "source": [
        "### Método 1 — Alineamiento exacto (paso a paso)\n",
        "1) Leer banner y extraer `enc_flag` (y su longitud L).  \n",
        "2) Avanzar el puntero con `KEY_LEN - L`.  \n",
        "3) Enviar `L` bytes conocidos para forzar uso de `key[0:L]`.  \n",
        "4) Recuperar `key[0:L]` y descifrar `enc_flag` → flag.\n"
      ],
      "metadata": {
        "id": "_YcOk3_eKjul"
      }
    },
    {
      "cell_type": "code",
      "source": [
        "import socket, re, binascii, time\n",
        "\n",
        "HOST = \"mercury.picoctf.net\"\n",
        "PORT = 58913\n",
        "KEY_LEN = 50000\n",
        "\n",
        "def recv_until_prompt(sock):\n",
        "    buf = b\"\"\n",
        "    sock.settimeout(2.0)\n",
        "    while True:\n",
        "        part = sock.recv(8192)\n",
        "        if not part:\n",
        "            break\n",
        "        buf += part\n",
        "        if b\"What data would you like to encrypt?\" in buf:\n",
        "            break\n",
        "    return buf.decode('utf-8', errors='replace')\n"
      ],
      "metadata": {
        "id": "IdGEsopYKlKJ"
      },
      "execution_count": 217,
      "outputs": []
    },
    {
      "cell_type": "code",
      "source": [
        "s = socket.create_connection((HOST, PORT), timeout=10)\n",
        "banner = recv_until_prompt(s)\n",
        "\n",
        "m = re.search(r\"This is the encrypted flag!\\n([0-9a-fA-F]+)\\n\", banner)\n",
        "assert m, \"No se encontró el encrypted flag en el banner\"\n",
        "enc_flag = binascii.unhexlify(m.group(1).strip())\n",
        "L = len(enc_flag)\n",
        "\n",
        "print(\"Longitud enc_flag (bytes) =\", L)\n"
      ],
      "metadata": {
        "colab": {
          "base_uri": "https://localhost:8080/"
        },
        "id": "U5RxlIgwKnt-",
        "outputId": "e8150ec3-246e-428a-c636-d4e1ef56f536"
      },
      "execution_count": 218,
      "outputs": [
        {
          "output_type": "stream",
          "name": "stdout",
          "text": [
            "Longitud enc_flag (bytes) = 32\n"
          ]
        }
      ]
    },
    {
      "cell_type": "code",
      "source": [
        "advance = KEY_LEN - L\n",
        "s.sendall( (\"B\"*advance + \"\\n\").encode('utf-8') )\n",
        "_ = recv_until_prompt(s)\n",
        "print(\"Avance realizado:\", advance)\n"
      ],
      "metadata": {
        "colab": {
          "base_uri": "https://localhost:8080/"
        },
        "id": "QsMJDMPgKpWH",
        "outputId": "4e17ab7b-82fd-4194-f7f6-dc8ab115f9c2"
      },
      "execution_count": 219,
      "outputs": [
        {
          "output_type": "stream",
          "name": "stdout",
          "text": [
            "Avance realizado: 49968\n"
          ]
        }
      ]
    },
    {
      "cell_type": "code",
      "source": [
        "probe_char = 'C'\n",
        "s.sendall( (probe_char*L + \"\\n\").encode('utf-8') )\n",
        "resp = recv_until_prompt(s)\n",
        "s.close()\n",
        "\n",
        "m2 = re.search(r\"Here ya go!\\n([0-9a-fA-F]+)\\n\", resp)\n",
        "assert m2, \"No pude parsear el ciphertext final\"\n",
        "enc_probe = binascii.unhexlify(m2.group(1).strip())\n",
        "\n",
        "ui = (probe_char*L).encode('utf-8')\n",
        "ks0 = bytes(ci ^ ui[i] for i,ci in enumerate(enc_probe))    # key[0:L]\n",
        "flag = bytes(efi ^ ks0[i] for i,efi in enumerate(enc_flag)) # descifrar\n",
        "\n",
        "try:\n",
        "    flag_str = flag.decode('utf-8')\n",
        "except UnicodeDecodeError:\n",
        "    flag_str = flag.decode('latin-1')\n",
        "\n",
        "final_flag = flag_str if flag_str.startswith(\"picoCTF{\") else f\"picoCTF{{{flag_str}}}\"\n",
        "print(\"Flag:\", final_flag)\n"
      ],
      "metadata": {
        "colab": {
          "base_uri": "https://localhost:8080/"
        },
        "id": "Fo9CRUWGKq6o",
        "outputId": "f416d1ec-fcd6-44a9-c6f4-b13e65cc4169"
      },
      "execution_count": 220,
      "outputs": [
        {
          "output_type": "stream",
          "name": "stdout",
          "text": [
            "Flag: picoCTF{35ecb423b3b43472c35cc2f41011c6d2}\n"
          ]
        }
      ]
    },
    {
      "cell_type": "markdown",
      "source": [
        "### Método 2 — Avance por bloques (chunked)\n",
        "1) Leer banner y extraer `enc_flag` (L).  \n",
        "2) Avanzar `key_location` en **bloques pequeños** cuya suma sea `KEY_LEN - L`.  \n",
        "3) Enviar `L` bytes conocidos; obtener `key[0:L]` y descifrar `enc_flag`.\n"
      ],
      "metadata": {
        "id": "hqZiEma6KsxE"
      }
    },
    {
      "cell_type": "code",
      "source": [
        "import socket, re, binascii, time\n",
        "\n",
        "HOST = \"mercury.picoctf.net\"\n",
        "PORT = 58913\n",
        "KEY_LEN = 50000\n",
        "\n",
        "def recv_until_prompt(sock):\n",
        "    buf = b\"\"\n",
        "    sock.settimeout(2.0)\n",
        "    while True:\n",
        "        part = sock.recv(8192)\n",
        "        if not part:\n",
        "            break\n",
        "        buf += part\n",
        "        if b\"What data would you like to encrypt?\" in buf:\n",
        "            break\n",
        "    return buf.decode('utf-8', errors='replace')\n"
      ],
      "metadata": {
        "id": "tKkGI02UKt2q"
      },
      "execution_count": 221,
      "outputs": []
    },
    {
      "cell_type": "code",
      "source": [
        "s2 = socket.create_connection((HOST, PORT), timeout=10)\n",
        "banner2 = recv_until_prompt(s2)\n",
        "\n",
        "m = re.search(r\"This is the encrypted flag!\\n([0-9a-fA-F]+)\\n\", banner2)\n",
        "assert m, \"No se encontró el encrypted flag en el banner\"\n",
        "enc_flag2 = binascii.unhexlify(m.group(1).strip())\n",
        "L2 = len(enc_flag2)\n",
        "\n",
        "print(\"Longitud enc_flag (bytes) =\", L2)\n"
      ],
      "metadata": {
        "colab": {
          "base_uri": "https://localhost:8080/"
        },
        "id": "QjGD18o8KvrC",
        "outputId": "adfa406b-ae2f-464b-ce37-088ac0825175"
      },
      "execution_count": 222,
      "outputs": [
        {
          "output_type": "stream",
          "name": "stdout",
          "text": [
            "Longitud enc_flag (bytes) = 32\n"
          ]
        }
      ]
    },
    {
      "cell_type": "code",
      "source": [
        "remaining = KEY_LEN - L2\n",
        "chunk_size = 4000\n",
        "sent = 0\n",
        "while sent < remaining:\n",
        "    take = min(chunk_size, remaining - sent)\n",
        "    s2.sendall( (\"X\"*take + \"\\n\").encode('utf-8') )\n",
        "    _ = recv_until_prompt(s2)\n",
        "    sent += take\n",
        "    time.sleep(0.01)\n",
        "print(\"Avance por bloques total:\", sent)\n"
      ],
      "metadata": {
        "colab": {
          "base_uri": "https://localhost:8080/"
        },
        "id": "jgQWuw11Kw5M",
        "outputId": "2ce4ebc0-50e0-414c-e3b6-8a8c790db9a4"
      },
      "execution_count": 223,
      "outputs": [
        {
          "output_type": "stream",
          "name": "stdout",
          "text": [
            "Avance por bloques total: 49968\n"
          ]
        }
      ]
    },
    {
      "cell_type": "code",
      "source": [
        "probe_char = 'Z'\n",
        "s2.sendall( (probe_char*L2 + \"\\n\").encode('utf-8') )\n",
        "resp2 = recv_until_prompt(s2)\n",
        "s2.close()\n",
        "\n",
        "m2 = re.search(r\"Here ya go!\\n([0-9a-fA-F]+)\\n\", resp2)\n",
        "assert m2, \"No pude parsear el ciphertext final\"\n",
        "enc_probe2 = binascii.unhexlify(m2.group(1).strip())\n",
        "\n",
        "ui2 = (probe_char*L2).encode('utf-8')\n",
        "ks0_2 = bytes(ci ^ ui2[i] for i,ci in enumerate(enc_probe2))\n",
        "flag2 = bytes(efi ^ ks0_2[i] for i,efi in enumerate(enc_flag2))\n",
        "\n",
        "try:\n",
        "    flag2_str = flag2.decode('utf-8')\n",
        "except UnicodeDecodeError:\n",
        "    flag2_str = flag2.decode('latin-1')\n",
        "\n",
        "final_flag2 = flag2_str if flag2_str.startswith(\"picoCTF{\") else f\"picoCTF{{{flag2_str}}}\"\n",
        "print(\"Flag (método 2):\", final_flag2)\n"
      ],
      "metadata": {
        "colab": {
          "base_uri": "https://localhost:8080/"
        },
        "id": "kGmJr7dlK2Fh",
        "outputId": "7c66a7b3-be95-4d45-9481-708848ad3e68"
      },
      "execution_count": 224,
      "outputs": [
        {
          "output_type": "stream",
          "name": "stdout",
          "text": [
            "Flag (método 2): picoCTF{35ecb423b3b43472c35cc2f41011c6d2}\n"
          ]
        }
      ]
    },
    {
      "cell_type": "markdown",
      "source": [
        "#Evidencia"
      ],
      "metadata": {
        "id": "Ec1CMcs8oN4Q"
      }
    },
    {
      "cell_type": "code",
      "source": [
        "\n",
        "from IPython.display import Image, display, Markdown\n",
        "import os\n",
        "\n",
        "fname = \"img4.png\"\n",
        "if os.path.exists(fname):\n",
        "    display(Markdown(\"### Imagen 1\"))\n",
        "    display(Image(fname))\n",
        "else:\n",
        "    print(f\"No se encontró {fname}. Ejecutá la celda de subida y asegurate de haber subido al menos 1 imagen.\")"
      ],
      "metadata": {
        "colab": {
          "base_uri": "https://localhost:8080/",
          "height": 520
        },
        "id": "Aat0i-URpMsD",
        "outputId": "892e1841-70f7-43dd-97ed-8f220e433bd6"
      },
      "execution_count": 225,
      "outputs": [
        {
          "output_type": "display_data",
          "data": {
            "text/plain": [
              "<IPython.core.display.Markdown object>"
            ],
            "text/markdown": "### Imagen 1"
          },
          "metadata": {}
        },
        {
          "output_type": "display_data",
          "data": {
            "image/png": "[encoded data removed]",
            "text/plain": [
              "<IPython.core.display.Image object>"
            ]
          },
          "metadata": {}
        }
      ]
    },
    {
      "cell_type": "markdown",
      "source": [
        "# Ejercicio 3 — New Caesar\n",
        "\n",
        "**Descripción del reto:**\n",
        "Se nos entrega un script `new_caesar.py` y un ciphertext.  \n",
        "La tarea es romper este cifrado no estándar y recuperar la flag.\n",
        "\n",
        "**Idea general (Método A):**\n",
        "1. Revisamos `new_caesar.py` y entendemos que hace un Caesar modificado con un alfabeto de 16 letras (`a..p`) y encoding tipo base16.  \n",
        "2. Para descifrar probamos todas las claves posibles (`a..p`).  \n",
        "3. Convertimos las letras alfabéticas de nuevo a bytes.  \n",
        "4. Inspeccionamos cuál produce una cadena legible (la flag).  \n"
      ],
      "metadata": {
        "id": "EOhvxs5MR_d6"
      }
    },
    {
      "cell_type": "code",
      "source": [
        "# Helpers: mapping y funciones de descifrado\n",
        "ct = \"lkmjkemjmkiekeijiiigljlhilihliikiliginliljimiklligljiflhiniiiniiihlhilimlhijil\"\n",
        "\n",
        "alphabet = \"abcdefghijklmnop\"\n",
        "alpha_index = {c:i for i,c in enumerate(alphabet)}\n",
        "\n",
        "def unshift_char_sub(c_enc, k):\n",
        "    return alphabet[(alpha_index[c_enc] - alpha_index[k]) % len(alphabet)]\n",
        "\n",
        "def b16_to_bytes(b16str):\n",
        "    if len(b16str) % 2 == 1:\n",
        "        return None\n",
        "    out = bytearray()\n",
        "    for i in range(0, len(b16str), 2):\n",
        "        hi = alpha_index[b16str[i]]\n",
        "        lo = alpha_index[b16str[i+1]]\n",
        "        out.append((hi << 4) | lo)\n",
        "    return bytes(out)\n"
      ],
      "metadata": {
        "id": "2Bi7y9_gSBVn"
      },
      "execution_count": 226,
      "outputs": []
    },
    {
      "cell_type": "markdown",
      "source": [
        "## Exploración de claves\n",
        "Probamos todas las claves (`a..p`) y observamos previews.  \n",
        "Buscamos aquella que devuelva un texto legible en ASCII.\n"
      ],
      "metadata": {
        "id": "vLTou38CSDO8"
      }
    },
    {
      "cell_type": "code",
      "source": [
        "for key in alphabet:\n",
        "    b16 = ''.join(unshift_char_sub(c, key) for c in ct)\n",
        "    raw = b16_to_bytes(b16)\n",
        "    if not raw:\n",
        "        continue\n",
        "    preview = raw.decode('utf-8', errors='replace')[:50]\n",
        "    print(f\"key={key}: {preview}\")\n"
      ],
      "metadata": {
        "colab": {
          "base_uri": "https://localhost:8080/"
        },
        "id": "cOZUz5FpSEZ_",
        "outputId": "a9d5ed1b-a481-40c1-909a-6a7ee469c235"
      },
      "execution_count": 227,
      "outputs": [
        {
          "output_type": "stream",
          "name": "stdout",
          "text": [
            "key=a: �ɤ�ʄ���������������������������������\n",
            "key=b: �����s�xwu��zv�yzu|��{y�u�t�|w|wv�z{�xz\n",
            "key=c: �����b�gfd��ie�hidk��jh�d�c�kfkfe�ij�gi\n",
            "key=d: ��q��QqVUS��XT�WXSZ��YW�S�R�ZUZUT�XY�VX\n",
            "key=e: v�`��@`EDBusGCtFGBItuHFwBuAsIDIDCsGHsEG\n",
            "key=f: et_tu?_431db62c5618cd75f1d0b83832b67b46\n",
            "key=g: TcNcd.N#\" SQ%!R$% 'RS&$U S/Q'\"'\"!Q%&Q#%\n",
            "key=h: CR=RS\u001d=\u0012\u0011\u001fB@\u0014\u0010A\u0013\u0014\u001f\u0016AB\u0015\u0013D\u001fB\u001e@\u0016\u0011\u0016\u0011\u0010@\u0014\u0015@\u0012\u0014\n",
            "key=i: 2A,AB\f,\u0001\u0000\u000e1?\u0003\u000f0\u0002\u0003\u000e\u000501\u0004\u00023\u000e1\r?\u0005\u0000\u0005\u0000\u000f?\u0003\u0004?\u0001\u0003\n",
            "key=j: !0\u001b01�\u001b��� .��/����/ ��\"� �.�����.��.��\n",
            "key=k: \u0010/\n",
            "/ �\n",
            "���\u001f\u001d��\u001e����\u001e\u001f��\u0011�\u001f�\u001d�����\u001d��\u001d��\n",
            "key=l: \u000f\u001e�\u001e\u001f�����\u000e\f��\r����\r\u000e��\u0000�\u000e�\f�����\f��\f��\n",
            "key=m: �\r�\r\u000e����������������������������������\n",
            "key=n: ������׼���꾺뽾���쿽��갻���꾿꼾\n",
            "key=o: �����ƫ���٭�ڬ����ۮ�ݨۧٯ����٭�٫�\n",
            "key=p: �ڵ�ە�����Ȝ�ɛ����ʝ�̗ʖȞ����Ȝ�Ț�\n"
          ]
        }
      ]
    },
    {
      "cell_type": "markdown",
      "source": [
        "## Decodificación completa\n",
        "Usamos la clave prometedora (`f`/`l`) para reconstruir el texto completo\n",
        "y envolvemos con `picoCTF{...}` si no está incluido.\n"
      ],
      "metadata": {
        "id": "kg2IBoHMSJZs"
      }
    },
    {
      "cell_type": "code",
      "source": [
        "import re\n",
        "\n",
        "# Decodificar con la clave seleccionada\n",
        "key = 'f'\n",
        "b16 = ''.join(unshift_char_sub(c, key) for c in ct)\n",
        "raw = b16_to_bytes(b16)\n",
        "text = raw.decode('utf-8', errors='replace')\n",
        "\n",
        "# Construir flag candidata\n",
        "flag = text if text.startswith(\"picoCTF{\") else f\"picoCTF{{{text}}}\"\n",
        "print(\"Flag final:\", flag)\n"
      ],
      "metadata": {
        "colab": {
          "base_uri": "https://localhost:8080/"
        },
        "id": "qWxjq5pmSK9O",
        "outputId": "ddf6ca0d-4062-48aa-b888-0a97288962a8"
      },
      "execution_count": 228,
      "outputs": [
        {
          "output_type": "stream",
          "name": "stdout",
          "text": [
            "Flag final: picoCTF{et_tu?_431db62c5618cd75f1d0b83832b67b46}\n"
          ]
        }
      ]
    },
    {
      "cell_type": "markdown",
      "source": [
        "# Método 2 — detección automática por puntuación\n",
        "\n",
        "automatizar la búsqueda de la mejor clave (a..p) usando una función de puntuación que priorice texto legible.  \n",
        "Ventaja: reproducible, escalable y no requiere inspección manual de 16 líneas.\n"
      ],
      "metadata": {
        "id": "bLxHmuYsTHNE"
      }
    },
    {
      "cell_type": "code",
      "source": [
        "# Helpers y funciones de scoring\n",
        "ct = \"lkmjkemjmkiekeijiiigljlhilihliikiliginliljimiklligljiflhiniiiniiihlhilimlhijil\"\n",
        "alphabet = \"abcdefghijklmnop\"\n",
        "alpha_index = {c:i for i,c in enumerate(alphabet)}\n",
        "\n",
        "def unshift_with_key(ct, key):\n",
        "    return ''.join(alphabet[(alpha_index[c] - alpha_index[key]) % 16] for c in ct)\n",
        "\n",
        "def b16_to_bytes(b16str):\n",
        "    if len(b16str) % 2 == 1:\n",
        "        return None\n",
        "    out = bytearray()\n",
        "    for i in range(0, len(b16str), 2):\n",
        "        hi = alpha_index[b16str[i]]\n",
        "        lo = alpha_index[b16str[i+1]]\n",
        "        out.append((hi << 4) | lo)\n",
        "    return bytes(out)\n",
        "\n",
        "def printable_ratio(bs):\n",
        "    if not bs:\n",
        "        return 0.0\n",
        "    good = sum(1 for b in bs if 32 <= b < 127)\n",
        "    return good / len(bs)\n",
        "\n",
        "\n",
        "EN_FREQ = {\n",
        "    'e': 12.0,'t':9.1,'a':8.2,'o':7.5,'i':7.0,'n':6.7,'s':6.3,'r':6.0,'h':6.1,'l':4.0,'d':4.3,'c':2.8\n",
        "}\n",
        "def english_score(text):\n",
        "    text = text.lower()\n",
        "    score = 0.0\n",
        "    for ch, wt in EN_FREQ.items():\n",
        "        score += text.count(ch) * wt\n",
        "    return score / (len(text) + 1)\n",
        "\n",
        "def key_score(key):\n",
        "    b16 = unshift_with_key(ct, key)\n",
        "    raw = b16_to_bytes(b16)\n",
        "    if raw is None:\n",
        "        return (key, -1.0, 0.0, \"\")\n",
        "    pr = printable_ratio(raw)\n",
        "    try:\n",
        "        text = raw.decode('utf-8', errors='replace')\n",
        "    except:\n",
        "        text = raw.decode('latin-1', errors='replace')\n",
        "    es = english_score(text)\n",
        "    combined = pr * 2.0 + es * 0.02\n",
        "    return (key, combined, pr, text)\n"
      ],
      "metadata": {
        "id": "2Aqzliv8TIVQ"
      },
      "execution_count": 229,
      "outputs": []
    },
    {
      "cell_type": "code",
      "source": [
        "# Calcular scores para todas las claves y ordenar\n",
        "results = [key_score(k) for k in alphabet]\n",
        "results_sorted = sorted(results, key=lambda x: x[1], reverse=True)\n",
        "\n",
        "print(\"Top candidates (key, score, printable_ratio):\")\n",
        "for key, combined, pr, text in results_sorted[:6]:\n",
        "    preview = text[:200].replace(\"\\n\",\"\\\\n\")\n",
        "    print(f\"key={key}  score={combined:.4f}  printable={pr:.3f}  preview={preview}\")\n"
      ],
      "metadata": {
        "colab": {
          "base_uri": "https://localhost:8080/"
        },
        "id": "EuNPIr1cTKXJ",
        "outputId": "f4a4937d-73f5-4cd5-c0b9-cbe345afe5f3"
      },
      "execution_count": 230,
      "outputs": [
        {
          "output_type": "stream",
          "name": "stdout",
          "text": [
            "Top candidates (key, score, printable_ratio):\n",
            "key=g  score=2.0316  printable=1.000  preview=TcNcd.N#\" SQ%!R$% 'RS&$U S/Q'\"'\"!Q%&Q#%\n",
            "key=f  score=2.0244  printable=1.000  preview=et_tu?_431db62c5618cd75f1d0b83832b67b46\n",
            "key=e  score=1.9098  printable=0.923  preview=v�`��@`EDBusGCtFGBItuHFwBuAsIDIDCsGHsEG\n",
            "key=d  score=1.3036  printable=0.641  preview=��q��QqVUS��XT�WXSZ��YW�S�R�ZUZUT�XY�VX\n",
            "key=c  score=1.2194  printable=0.590  preview=�����b�gfd��ie�hidk��jh�d�c�kfkfe�ij�gi\n",
            "key=b  score=1.1872  printable=0.590  preview=�����s�xwu��zv�yzu|��{y�u�t�|w|wv�z{�xz\n"
          ]
        }
      ]
    },
    {
      "cell_type": "code",
      "source": [
        "import re\n",
        "\n",
        "N = 3  # número de candidatos superiores a revisar\n",
        "for key, combined, pr, text in results_sorted[:N]:\n",
        "    print(\"=== key:\", key, \"score:\", combined, \"printable:\", pr, \"===\\n\")\n",
        "\n",
        "    b16 = unshift_with_key(ct, key)\n",
        "    raw = b16_to_bytes(b16)\n",
        "    if raw is None:\n",
        "        print(\"Invalid b16 length\\n\")\n",
        "        continue\n",
        "    decoded = raw.decode('utf-8', errors='replace')\n",
        "    print(decoded)\n",
        "    m = re.search(r'picoCTF\\{[^}]+\\}', decoded)\n",
        "    if m:\n",
        "        print(\"\\n**FLAG DETECTADA**:\", m.group(0))\n",
        "    else:\n",
        "        print(\"\\nNo picoCTF{...} detectado en este candidato\\n\")\n"
      ],
      "metadata": {
        "colab": {
          "base_uri": "https://localhost:8080/"
        },
        "id": "pKYKukq2TPz-",
        "outputId": "6bf2423c-5167-4bb4-839a-2128e9ab967a"
      },
      "execution_count": 231,
      "outputs": [
        {
          "output_type": "stream",
          "name": "stdout",
          "text": [
            "=== key: g score: 2.03165 printable: 1.0 ===\n",
            "\n",
            "TcNcd.N#\" SQ%!R$% 'RS&$U S/Q'\"'\"!Q%&Q#%\n",
            "\n",
            "No picoCTF{...} detectado en este candidato\n",
            "\n",
            "=== key: f score: 2.02435 printable: 1.0 ===\n",
            "\n",
            "et_tu?_431db62c5618cd75f1d0b83832b67b46\n",
            "\n",
            "No picoCTF{...} detectado en este candidato\n",
            "\n",
            "=== key: e score: 1.9098038461538462 printable: 0.9230769230769231 ===\n",
            "\n",
            "v�`��@`EDBusGCtFGBItuHFwBuAsIDIDCsGHsEG\n",
            "\n",
            "No picoCTF{...} detectado en este candidato\n",
            "\n"
          ]
        }
      ]
    },
    {
      "cell_type": "code",
      "source": [
        "\n",
        "flag_candidate = \"picoCTF{et_tu?_431db62c5618cd75f1d0b83832b67b46}\"\n",
        "\n",
        "with open(\"flag_new_caesar_method2.txt\",\"w\",encoding=\"utf-8\") as f:\n",
        "    f.write(flag_candidate)\n",
        "print(\"Flag guardada en flag_new_caesar_method2.txt\")\n",
        "print(\"Flag:\", flag_candidate)\n"
      ],
      "metadata": {
        "colab": {
          "base_uri": "https://localhost:8080/"
        },
        "id": "mBhUgSJgTVrO",
        "outputId": "b379f38b-95ed-4c70-fae6-df056e98b244"
      },
      "execution_count": 232,
      "outputs": [
        {
          "output_type": "stream",
          "name": "stdout",
          "text": [
            "Flag guardada en flag_new_caesar_method2.txt\n",
            "Flag: picoCTF{et_tu?_431db62c5618cd75f1d0b83832b67b46}\n"
          ]
        }
      ]
    },
    {
      "cell_type": "markdown",
      "source": [
        "#Evidencia"
      ],
      "metadata": {
        "id": "7k7TG2H_pQYs"
      }
    },
    {
      "cell_type": "code",
      "source": [
        "\n",
        "from IPython.display import Image, display, Markdown\n",
        "import os\n",
        "\n",
        "fname = \"img3.png\"\n",
        "if os.path.exists(fname):\n",
        "    display(Markdown(\"### Imagen 1\"))\n",
        "    display(Image(fname))\n",
        "else:\n",
        "    print(f\"No se encontró {fname}. Ejecutá la celda de subida y asegurate de haber subido al menos 1 imagen.\")"
      ],
      "metadata": {
        "colab": {
          "base_uri": "https://localhost:8080/",
          "height": 466
        },
        "id": "i0GDJfkKpSpk",
        "outputId": "df2466f9-bb4e-44ee-d0e3-f0df749701bb"
      },
      "execution_count": 233,
      "outputs": [
        {
          "output_type": "display_data",
          "data": {
            "text/plain": [
              "<IPython.core.display.Markdown object>"
            ],
            "text/markdown": "### Imagen 1"
          },
          "metadata": {}
        },
        {
          "output_type": "display_data",
          "data": {
            "image/png": "[encoded data removed]",
            "text/plain": [
              "<IPython.core.display.Image object>"
            ]
          },
          "metadata": {}
        }
      ]
    },
    {
      "cell_type": "markdown",
      "source": [
        "#EJERCICIO 4 rotation\n",
        "\n",
        "El primer enfoque consistE en aplicar un ataque de fuerza bruta clásico al cifrado César.  \n",
        "Se implementó una función que prueba todas las rotaciones posibles (0–25) y se revisó manualmente cuál produce un texto legible con el formato típico de flag `{...}`.  \n"
      ],
      "metadata": {
        "id": "RLeu_z5AUEtD"
      }
    },
    {
      "cell_type": "markdown",
      "source": [
        "## Lectura del archivo cifrado\n",
        "\n",
        "Se carga el archivo `encrypted.txt` y se muestra su contenido crudo para inspección inicial.\n"
      ],
      "metadata": {
        "id": "7HjUp8xMaUpF"
      }
    },
    {
      "cell_type": "code",
      "source": [
        "with open(\"encrypted.txt\", \"r\") as f:\n",
        "    data = f.read().strip()\n",
        "\n",
        "print(\"Contenido cifrado:\", data)\n"
      ],
      "metadata": {
        "colab": {
          "base_uri": "https://localhost:8080/"
        },
        "id": "jMSEgvDaaV2n",
        "outputId": "467bac7a-87e3-4b2a-a99a-53e36b54e77d"
      },
      "execution_count": 234,
      "outputs": [
        {
          "output_type": "stream",
          "name": "stdout",
          "text": [
            "Contenido cifrado: xqkwKBN{z0bib1wv_l3kzgxb3l_429in00n}\n"
          ]
        }
      ]
    },
    {
      "cell_type": "markdown",
      "source": [
        "## Definición de la función de rotación César\n",
        "\n",
        "Se implementa una función para desplazar letras con un valor `n` dentro del alfabeto (mayúsculas y minúsculas).\n"
      ],
      "metadata": {
        "id": "Ip53CMECaYwU"
      }
    },
    {
      "cell_type": "code",
      "source": [
        "def caesar_shift(s, n):\n",
        "    result = []\n",
        "    for ch in s:\n",
        "        if 'a' <= ch <= 'z':\n",
        "            result.append(chr((ord(ch) - 97 + n) % 26 + 97))\n",
        "        elif 'A' <= ch <= 'Z':\n",
        "            result.append(chr((ord(ch) - 65 + n) % 26 + 65))\n",
        "        else:\n",
        "            result.append(ch)\n",
        "    return ''.join(result)\n"
      ],
      "metadata": {
        "id": "3fu843tsaYRS"
      },
      "execution_count": 235,
      "outputs": []
    },
    {
      "cell_type": "markdown",
      "source": [
        "## Prueba de todas las rotaciones posibles (0–25)\n",
        "\n",
        "Se recorren todos los posibles desplazamientos y se imprime el resultado. El texto legible con formato de flag se identifica entre estas salidas.\n"
      ],
      "metadata": {
        "id": "MHzf4BB9aa-t"
      }
    },
    {
      "cell_type": "code",
      "source": [
        "for n in range(26):\n",
        "    print(f\"Shift {n:2d}: {caesar_shift(data, n)}\")\n"
      ],
      "metadata": {
        "colab": {
          "base_uri": "https://localhost:8080/"
        },
        "id": "rRlwLmPwadA4",
        "outputId": "c545c60f-c7f8-46fd-b28e-dd1ca253e2db"
      },
      "execution_count": 236,
      "outputs": [
        {
          "output_type": "stream",
          "name": "stdout",
          "text": [
            "Shift  0: xqkwKBN{z0bib1wv_l3kzgxb3l_429in00n}\n",
            "Shift  1: yrlxLCO{a0cjc1xw_m3lahyc3m_429jo00o}\n",
            "Shift  2: zsmyMDP{b0dkd1yx_n3mbizd3n_429kp00p}\n",
            "Shift  3: atnzNEQ{c0ele1zy_o3ncjae3o_429lq00q}\n",
            "Shift  4: buoaOFR{d0fmf1az_p3odkbf3p_429mr00r}\n",
            "Shift  5: cvpbPGS{e0gng1ba_q3pelcg3q_429ns00s}\n",
            "Shift  6: dwqcQHT{f0hoh1cb_r3qfmdh3r_429ot00t}\n",
            "Shift  7: exrdRIU{g0ipi1dc_s3rgnei3s_429pu00u}\n",
            "Shift  8: fyseSJV{h0jqj1ed_t3shofj3t_429qv00v}\n",
            "Shift  9: gztfTKW{i0krk1fe_u3tipgk3u_429rw00w}\n",
            "Shift 10: haugULX{j0lsl1gf_v3ujqhl3v_429sx00x}\n",
            "Shift 11: ibvhVMY{k0mtm1hg_w3vkrim3w_429ty00y}\n",
            "Shift 12: jcwiWNZ{l0nun1ih_x3wlsjn3x_429uz00z}\n",
            "Shift 13: kdxjXOA{m0ovo1ji_y3xmtko3y_429va00a}\n",
            "Shift 14: leykYPB{n0pwp1kj_z3ynulp3z_429wb00b}\n",
            "Shift 15: mfzlZQC{o0qxq1lk_a3zovmq3a_429xc00c}\n",
            "Shift 16: ngamARD{p0ryr1ml_b3apwnr3b_429yd00d}\n",
            "Shift 17: ohbnBSE{q0szs1nm_c3bqxos3c_429ze00e}\n",
            "Shift 18: picoCTF{r0tat1on_d3crypt3d_429af00f}\n",
            "Shift 19: qjdpDUG{s0ubu1po_e3dszqu3e_429bg00g}\n",
            "Shift 20: rkeqEVH{t0vcv1qp_f3etarv3f_429ch00h}\n",
            "Shift 21: slfrFWI{u0wdw1rq_g3fubsw3g_429di00i}\n",
            "Shift 22: tmgsGXJ{v0xex1sr_h3gvctx3h_429ej00j}\n",
            "Shift 23: unhtHYK{w0yfy1ts_i3hwduy3i_429fk00k}\n",
            "Shift 24: voiuIZL{x0zgz1ut_j3ixevz3j_429gl00l}\n",
            "Shift 25: wpjvJAM{y0aha1vu_k3jyfwa3k_429hm00m}\n"
          ]
        }
      ]
    },
    {
      "cell_type": "markdown",
      "source": [
        "## Selección de la rotación correcta\n",
        "\n",
        "Una vez identificada la rotación que devuelve un texto claro en inglés y con flag entre llaves, se imprime directamente esa salida como resultado final.\n"
      ],
      "metadata": {
        "id": "3Rs18z1fardQ"
      }
    },
    {
      "cell_type": "code",
      "source": [
        "\n",
        "shift_correcto = 18\n",
        "print(\"Flag:\", caesar_shift(data, shift_correcto))\n"
      ],
      "metadata": {
        "colab": {
          "base_uri": "https://localhost:8080/"
        },
        "id": "325xV5fJae5y",
        "outputId": "7133ada3-38b7-40e6-982c-e6b327a09c1f"
      },
      "execution_count": 237,
      "outputs": [
        {
          "output_type": "stream",
          "name": "stdout",
          "text": [
            "Flag: picoCTF{r0tat1on_d3crypt3d_429af00f}\n"
          ]
        }
      ]
    },
    {
      "cell_type": "markdown",
      "source": [
        "## Método B — Heurística mejorada para selección automática\n",
        "\n",
        "En este enfoque se prueba cada rotación César, pero en lugar de revisar manualmente todas, se define una heurística más estricta:\n",
        "- La cadena debe contener llaves `{}`.\n",
        "- Se premia si aparece la subcadena `CTF`.\n",
        "- Se puntúa mejor si cumple el patrón `palabra{contenido}`.\n",
        "El sistema elige la rotación con mayor puntuación y devuelve directamente la flag.\n"
      ],
      "metadata": {
        "id": "VgSOZDydbK8N"
      }
    },
    {
      "cell_type": "code",
      "source": [
        "import re\n",
        "\n",
        "def score_candidate(s):\n",
        "    score = 0\n",
        "    if '{' in s and '}' in s:\n",
        "        score += 5\n",
        "    if \"CTF\" in s:  # clave: detectar presencia de 'CTF'\n",
        "        score += 10\n",
        "    if re.search(r'[A-Za-z0-9_]+\\{[^}]+\\}', s):\n",
        "        score += 5\n",
        "    alpha_num = sum(c.isalnum() or c in \"_{}\" for c in s)\n",
        "    score += alpha_num / max(len(s),1) * 5\n",
        "    return score\n",
        "\n",
        "best_score, best_shift, best_text = -1, None, None\n",
        "for n in range(26):\n",
        "    out = caesar_shift(data, n)\n",
        "    sc = score_candidate(out)\n",
        "    if sc > best_score:\n",
        "        best_score, best_shift, best_text = sc, n, out\n",
        "\n",
        "print(\"Mejor rotación detectada:\", best_shift)\n",
        "print(\"Flag:\", best_text)\n"
      ],
      "metadata": {
        "colab": {
          "base_uri": "https://localhost:8080/"
        },
        "id": "Zix7TIBwbPXK",
        "outputId": "7e0a51ad-ec4b-4efc-db1a-b0eab2b63abd"
      },
      "execution_count": 238,
      "outputs": [
        {
          "output_type": "stream",
          "name": "stdout",
          "text": [
            "Mejor rotación detectada: 18\n",
            "Flag: picoCTF{r0tat1on_d3crypt3d_429af00f}\n"
          ]
        }
      ]
    },
    {
      "cell_type": "markdown",
      "source": [
        "#Evidencia"
      ],
      "metadata": {
        "id": "m-EH1v95pVyH"
      }
    },
    {
      "cell_type": "code",
      "source": [
        "\n",
        "from IPython.display import Image, display, Markdown\n",
        "import os\n",
        "\n",
        "fname = \"img2.png\"\n",
        "if os.path.exists(fname):\n",
        "    display(Markdown(\"### Imagen 1\"))\n",
        "    display(Image(fname))\n",
        "else:\n",
        "    print(f\"No se encontró {fname}. Ejecutá la celda de subida y asegurate de haber subido al menos 1 imagen.\")"
      ],
      "metadata": {
        "colab": {
          "base_uri": "https://localhost:8080/",
          "height": 496
        },
        "id": "5WOiWCr_pXaZ",
        "outputId": "faed0d1f-a56f-4b50-b8d1-7f6162fdb2d3"
      },
      "execution_count": 239,
      "outputs": [
        {
          "output_type": "display_data",
          "data": {
            "text/plain": [
              "<IPython.core.display.Markdown object>"
            ],
            "text/markdown": "### Imagen 1"
          },
          "metadata": {}
        },
        {
          "output_type": "display_data",
          "data": {
            "image/png": "[encoded data removed]",
            "text/plain": [
              "<IPython.core.display.Image object>"
            ]
          },
          "metadata": {}
        }
      ]
    },
    {
      "cell_type": "markdown",
      "source": [
        "# Ejercicio5 — Vigenère\n",
        "\n",
        "Se presentan dos métodos:\n",
        "- **Método A:** descifrado directo con la clave conocida `CYLAB`.\n",
        "- **Método B:** crib-drag (ataque por crib) para derivar fragmentos de clave y generar candidatos.\n"
      ],
      "metadata": {
        "id": "5QSyTArfln8O"
      }
    },
    {
      "cell_type": "markdown",
      "source": [
        "## Método A — Descifrado con clave conocida (\"CYLAB\")\n",
        "\n",
        "Lectura del ciphertext, descifrado con la clave `CYLAB`, guardado del resultado y cálculo del SHA-256. Se muestra un preview enmascarado; la revelación completa está controlada por `REVEAL`.\n"
      ],
      "metadata": {
        "id": "tE1JQ3_glqMx"
      }
    },
    {
      "cell_type": "code",
      "source": [
        "# Método A: descifrado con clave conocida\n",
        "import re, hashlib, os\n",
        "\n",
        "def vigenere_decrypt(ciphertext, key):\n",
        "    res = []\n",
        "    key_shifts = [(ord(k.upper()) - ord('A')) for k in key]\n",
        "    ki = 0\n",
        "    for ch in ciphertext:\n",
        "        if 'A' <= ch <= 'Z':\n",
        "            shift = key_shifts[ki % len(key_shifts)]\n",
        "            res.append(chr((ord(ch) - ord('A') - shift) % 26 + ord('A')))\n",
        "            ki += 1\n",
        "        elif 'a' <= ch <= 'z':\n",
        "            shift = key_shifts[ki % len(key_shifts)]\n",
        "            res.append(chr((ord(ch) - ord('a') - shift) % 26 + ord('a')))\n",
        "            ki += 1\n",
        "        else:\n",
        "            res.append(ch)\n",
        "    return ''.join(res)\n",
        "\n",
        "# leer ciphertext\n",
        "with open(\"cipher.txt\", \"r\", encoding=\"utf-8\", errors=\"ignore\") as f:\n",
        "    cipher = f.read().strip()\n",
        "\n",
        "# descifrar con clave conocida\n",
        "key = \"CYLAB\"\n",
        "plain_A = vigenere_decrypt(cipher, key)\n",
        "\n",
        "# guardar resultado oficial para Método A (nombre consistente)\n",
        "outA = \"decrypted_with_CYLAB.txt\"\n",
        "with open(outA, \"w\", encoding=\"utf-8\") as fo:\n",
        "    fo.write(plain_A)\n",
        "\n",
        "# preparar impresión enmascarada y SHA256\n",
        "masked_A = re.sub(r'\\{([^}]*)\\}', '{[REDACTED]}', plain_A)\n",
        "sha_A = hashlib.sha256(plain_A.encode(\"utf-8\")).hexdigest()\n",
        "\n",
        "print(\"Método A — Clave usada:\", key)\n",
        "print(\"Preview enmascarado:\", masked_A)\n",
        "print(\"SHA-256:\", sha_A)\n",
        "print(\"Archivo guardado:\", outA)\n"
      ],
      "metadata": {
        "colab": {
          "base_uri": "https://localhost:8080/"
        },
        "id": "X5IU1342lrSY",
        "outputId": "dabcad6d-f8d0-4e96-89a7-7421ae87ba97"
      },
      "execution_count": 240,
      "outputs": [
        {
          "output_type": "stream",
          "name": "stdout",
          "text": [
            "Método A — Clave usada: CYLAB\n",
            "Preview enmascarado: picoCTF{[REDACTED]}\n",
            "SHA-256: c5613bc3881b4dfb28755d8e52229189caf7f8bbddd4bad874f5c64d2776274c\n",
            "Archivo guardado: decrypted_with_CYLAB.txt\n"
          ]
        }
      ]
    },
    {
      "cell_type": "markdown",
      "source": [
        "## Revelación controlada (Método A)\n",
        "\n"
      ],
      "metadata": {
        "id": "XOrHxJ-AltRK"
      }
    },
    {
      "cell_type": "code",
      "source": [
        "# Revelación consciente del Método A\n",
        "REVEAL = True\n",
        "\n",
        "if REVEAL:\n",
        "    with open(\"decrypted_with_CYLAB.txt\", \"r\", encoding=\"utf-8\", errors=\"ignore\") as f:\n",
        "        print(f.read())\n",
        "else:\n",
        "    print(\"REVEAL = False -> no se imprimió el contenido completo del Método A.\")\n"
      ],
      "metadata": {
        "colab": {
          "base_uri": "https://localhost:8080/"
        },
        "id": "2UtmY9HwluWa",
        "outputId": "579cd070-00d1-490a-d9ff-f93786cfe141"
      },
      "execution_count": 241,
      "outputs": [
        {
          "output_type": "stream",
          "name": "stdout",
          "text": [
            "picoCTF{D0NT_US3_V1G3N3R3_C1PH3R_2951a89h}\n"
          ]
        }
      ]
    },
    {
      "cell_type": "markdown",
      "source": [
        "## Método B — Crib-drag (ataque por \"crib\")\n",
        "\n",
        "Alinea cribs probables (ej. \"picoCTF\") sobre el ciphertext para derivar fragmentos de la clave.  \n",
        "Cada fragmento se usa como clave candidata repetida; se guardan archivos `crib_candidate_<crib>_<pos>_<frag>.txt` con el plaintext completo (la parte enmascarada aparece primero en el fichero).\n"
      ],
      "metadata": {
        "id": "VNnT800Qlznu"
      }
    },
    {
      "cell_type": "code",
      "source": [
        "# Crib-drag: generar candidatos derivados del crib y guardar resultados\n",
        "import re, collections, hashlib, glob, os\n",
        "\n",
        "def vigenere_decrypt_with_key(ciphertext, key):\n",
        "    res = []\n",
        "    shifts = [(ord(k.upper()) - ord('A')) for k in key]\n",
        "    ki = 0\n",
        "    for ch in ciphertext:\n",
        "        if 'A' <= ch <= 'Z':\n",
        "            shift = shifts[ki % len(shifts)]\n",
        "            res.append(chr((ord(ch) - ord('A') - shift) % 26 + ord('A')))\n",
        "            ki += 1\n",
        "        elif 'a' <= ch <= 'z':\n",
        "            shift = shifts[ki % len(shifts)]\n",
        "            res.append(chr((ord(ch) - ord('a') - shift) % 26 + ord('a')))\n",
        "            ki += 1\n",
        "        else:\n",
        "            res.append(ch)\n",
        "    return ''.join(res)\n",
        "\n",
        "def derive_key_fragment(cipher_segment, crib):\n",
        "    frag = []\n",
        "    for c, p in zip(cipher_segment, crib):\n",
        "        if c.isalpha() and p.isalpha():\n",
        "            shift = (ord(c.upper()) - ord(p.upper())) % 26\n",
        "            frag.append(chr(shift + ord('A')))\n",
        "        else:\n",
        "            return None\n",
        "    return ''.join(frag)\n",
        "\n",
        "\n",
        "cribs = [\"picoCTF\", \"pico\", \"CTF\", \"flag\"]\n",
        "candidates = []\n",
        "\n",
        "for crib in cribs:\n",
        "    L = len(crib)\n",
        "    for pos in range(len(cipher) - L + 1):\n",
        "        segment = cipher[pos:pos+L]\n",
        "        key_frag = derive_key_fragment(segment, crib)\n",
        "        if not key_frag:\n",
        "            continue\n",
        "        key_candidate = key_frag\n",
        "        plain_candidate = vigenere_decrypt_with_key(cipher, key_candidate)\n",
        "        masked = re.sub(r'\\{([^}]*)\\}', '{[REDACTED]}', plain_candidate)\n",
        "        sha = hashlib.sha256(plain_candidate.encode(\"utf-8\")).hexdigest()\n",
        "        fname = f\"crib_candidate_{crib}_{pos}_{key_candidate}.txt\"\n",
        "        with open(fname, \"w\", encoding=\"utf-8\") as fh:\n",
        "            fh.write(masked + \"\\n\\n--- FULL BELOW (local only) ---\\n\\n\")\n",
        "            fh.write(plain_candidate)\n",
        "        candidates.append((crib, pos, key_candidate, masked, sha, fname))\n",
        "\n",
        "# mostrar candidatos (primera página)\n",
        "print(\"Candidatos generados (muestra):\")\n",
        "for c in candidates[:30]:\n",
        "    print(c[0], c[1], c[2], c[3], c[4], c[5])\n",
        "print(\"\\nNúmero total de candidatos generados:\", len(candidates))\n",
        "print(\"Archivos crib_candidate_*.txt guardados en el directorio actual.\")\n"
      ],
      "metadata": {
        "colab": {
          "base_uri": "https://localhost:8080/"
        },
        "id": "8e5PrxySl1eG",
        "outputId": "d308942e-b47a-48d8-8ef8-1aa09e0de165"
      },
      "execution_count": 242,
      "outputs": [
        {
          "output_type": "stream",
          "name": "stdout",
          "text": [
            "Candidatos generados (muestra):\n",
            "picoCTF 0 CYLABCY picoCTF{[REDACTED]} 93127c1fb7833c2a5e551e40508761f185caf937b8bfde7d4358271f4bd0f953 crib_candidate_picoCTF_0_CYLABCY.txt\n",
            "pico 0 CYLA picoBXS{[REDACTED]} 5d866a5d699a986e206d3733f369026ecf72f67197955ba28bd922419a2bf78b crib_candidate_pico_0_CYLA.txt\n",
            "pico 1 RFMP abbzMQR{[REDACTED]} a67b684e15a2df4e6967ea2440b1384a4cb1a046db59c6671be1d22a46f4a498 crib_candidate_pico_1_RFMP.txt\n",
            "pico 2 YGBH tamhFPC{[REDACTED]} 7946bf5ee0451c89010aa9a390315d62b980e4b26b10fffcb0a6c4910d586364 crib_candidate_pico_2_YGBH.txt\n",
            "pico 3 ZVTP sluzEAK{[REDACTED]} 4d3dd3873041a00fd5793134c652303b6ba6b6b1bdeb614b702b5aabd96f0d14 crib_candidate_pico_3_ZVTP.txt\n",
            "CTF 0 PNI ctfzQNO{[REDACTED]} c4af188800cfe188d2652d796f8b1daa87cfe93084904f7bd9c6b1491fc04e04 crib_candidate_CTF_0_PNI.txt\n",
            "CTF 1 EUJ nmekJMZ{[REDACTED]} 36605f49608bdfa8b4d76bd7385dee6735003b11cda6dfcb704eb89343c70b97 crib_candidate_CTF_1_EUJ.txt\n",
            "CTF 2 LVY glpdIXS{[REDACTED]} a6338a21edda9aac5b91da0f4f5724bffeb4c31b2c07d40ab4aa909015dee6b0 crib_candidate_CTF_2_LVY.txt\n",
            "CTF 3 MKQ fwxcTFR{[REDACTED]} 23b8dddd829d48ebf71587e3ff5e987a8a1abe673979a43c3fd4a756befe18f2 crib_candidate_CTF_3_MKQ.txt\n",
            "CTF 4 BCY qepnBXC{[REDACTED]} 8f115e70011c65211f0c60ecfc038a38d7c6c221ee7fa323668c2c4fda4de82f crib_candidate_CTF_4_BCY.txt\n",
            "flag 0 MVNI flagRAQ{[REDACTED]} 70f96afdd4fc732178a8fa4b22d62a1da5d1bd4644e0bc1e7bc406fead9df5fb crib_candidate_flag_0_MVNI.txt\n",
            "flag 1 BCOX qezrCTP{[REDACTED]} 5613df8c8159d86aafbc9c64bf4a18acd36ec64eb865451b37944c9ad7e61231 crib_candidate_flag_1_BCOX.txt\n",
            "flag 2 IDDP jdkzVSA{[REDACTED]} a5aeb49a425e9a47832a5e3c6afaef8e9dbdd7b0a2f8a4f307fbf6c6ceb3c65a crib_candidate_flag_2_IDDP.txt\n",
            "flag 3 JSVX iosrUDI{[REDACTED]} d809cb8c5d95da0273ad567470795bcbfbb9f81b7c5200e50a8d13331a6011c6 crib_candidate_flag_3_JSVX.txt\n",
            "\n",
            "Número total de candidatos generados: 14\n",
            "Archivos crib_candidate_*.txt guardados en el directorio actual.\n"
          ]
        }
      ]
    },
    {
      "cell_type": "markdown",
      "source": [
        "## Listado y revelación controlada de candidatos (Método B)\n",
        "\n",
        "La siguiente celda lista todos los `crib_candidate_*.txt`\n"
      ],
      "metadata": {
        "id": "RnFkfHK4l3sS"
      }
    },
    {
      "cell_type": "code",
      "source": [
        "# Listar candidatos que contienen picoCTF y revelación controlada\n",
        "files = sorted(glob.glob(\"crib_candidate_*.txt\"))\n",
        "matches = []\n",
        "for i, fname in enumerate(files):\n",
        "    data = open(fname, \"r\", encoding=\"utf-8\", errors=\"ignore\").read()\n",
        "    finds = re.findall(r'(picoCTF\\{[^}]*\\})', data, flags=re.IGNORECASE)\n",
        "    sha = hashlib.sha256(data.encode(\"utf-8\")).hexdigest()\n",
        "    preview = \", \".join([re.sub(r'\\{([^}]*)\\}', '{[REDACTED]}', f) for f in finds]) if finds else re.sub(r'\\{([^}]*)\\}', '{[REDACTED]}', data.strip().replace(\"\\n\",\" \")[:120])\n",
        "    print(f\"[{i}] {fname}  |  SHA256: {sha}  |  preview: {preview}\")\n",
        "    if finds:\n",
        "        matches.append((i, fname, sha, finds))\n",
        "print()\n",
        "print(\"Índices con ocurrencias de picoCTF:\", [m[0] for m in matches])\n",
        "\n",
        "# Control de revelación\n",
        "INDEX = 0\n",
        "REVEAL = True\n",
        "\n",
        "if REVEAL:\n",
        "    if 0 <= INDEX < len(files):\n",
        "        print(\"\\n--- REVELANDO:\", files[INDEX], \"---\\n\")\n",
        "        print(open(files[INDEX], \"r\", encoding=\"utf-8\", errors=\"ignore\").read())\n",
        "    else:\n",
        "        print(\"Índice fuera de rango.\")\n",
        "else:\n",
        "    print(\"REVEAL = False → no se imprimió el contenido completo.\")\n"
      ],
      "metadata": {
        "colab": {
          "base_uri": "https://localhost:8080/"
        },
        "id": "BCe-o5lyl4nT",
        "outputId": "0a9fc393-d460-4efb-f552-5563205cf266"
      },
      "execution_count": 243,
      "outputs": [
        {
          "output_type": "stream",
          "name": "stdout",
          "text": [
            "[0] crib_candidate_CTF_0_PNI.txt  |  SHA256: 27d3af80d121a71d1f11a0d3a247361adc4375a694e6a12368c498dd306ee77f  |  preview: ctfzQNO{[REDACTED]}  --- FULL BELOW (local only) ---  ctfzQNO{[REDACTED]}\n",
            "[1] crib_candidate_CTF_1_EUJ.txt  |  SHA256: 296658738d21dd40ffdf8d623bb698bdd455cfe725ac3dc1fcefc22e6a0cfc5d  |  preview: nmekJMZ{[REDACTED]}  --- FULL BELOW (local only) ---  nmekJMZ{[REDACTED]}\n",
            "[2] crib_candidate_CTF_2_LVY.txt  |  SHA256: 06b34322cf6d697fee40a227b43e59ebd900e17373b8ade77ed0b668ae5d4069  |  preview: glpdIXS{[REDACTED]}  --- FULL BELOW (local only) ---  glpdIXS{[REDACTED]}\n",
            "[3] crib_candidate_CTF_3_MKQ.txt  |  SHA256: fdca4014ab6969e814917c23f510a7a026acce8b4df9f12251e4a866ab15f9cc  |  preview: fwxcTFR{[REDACTED]}  --- FULL BELOW (local only) ---  fwxcTFR{[REDACTED]}\n",
            "[4] crib_candidate_CTF_4_BCY.txt  |  SHA256: 1b79e43f48af70e02317a0996251cce4a20330e8fd5f48bd61d29eb89a0eaa55  |  preview: qepnBXC{[REDACTED]}  --- FULL BELOW (local only) ---  qepnBXC{[REDACTED]}\n",
            "[5] crib_candidate_flag_0_MVNI.txt  |  SHA256: 6a612ed9b43b082c355144f3231bf67ade908c677252950297da2b61f6add0a8  |  preview: flagRAQ{[REDACTED]}  --- FULL BELOW (local only) ---  flagRAQ{[REDACTED]}\n",
            "[6] crib_candidate_flag_1_BCOX.txt  |  SHA256: b205ac134e7fb49876bb36f6a6e4e1b17d82b8ff2629238a8c5d670c0d20bd31  |  preview: qezrCTP{[REDACTED]}  --- FULL BELOW (local only) ---  qezrCTP{[REDACTED]}\n",
            "[7] crib_candidate_flag_2_IDDP.txt  |  SHA256: d4300f5620050d0a1154f6327d605dd6d1a17e81ca3175fd2d6679a8207511a7  |  preview: jdkzVSA{[REDACTED]}  --- FULL BELOW (local only) ---  jdkzVSA{[REDACTED]}\n",
            "[8] crib_candidate_flag_3_JSVX.txt  |  SHA256: af2f3ab1e103f3b08157088c47be71d10ce83ec7f92718ab5e1908900eadf103  |  preview: iosrUDI{[REDACTED]}  --- FULL BELOW (local only) ---  iosrUDI{[REDACTED]}\n",
            "[9] crib_candidate_picoCTF_0_CYLABCY.txt  |  SHA256: 723c6116ebd2f59a1839d9dbabae08d290a30e08b88028ed17d9f523280ec8a4  |  preview: picoCTF{[REDACTED]}, picoCTF{[REDACTED]}\n",
            "[10] crib_candidate_pico_0_CYLA.txt  |  SHA256: b8164087f678b817e5404ef6e30da0a6dacb1b8467d351d115f83dc14c355210  |  preview: picoBXS{[REDACTED]}  --- FULL BELOW (local only) ---  picoBXS{[REDACTED]}\n",
            "[11] crib_candidate_pico_1_RFMP.txt  |  SHA256: eea68aaac1427163b48f48280354575096bc7ceb7f3c35b603a809aa9fcfa43f  |  preview: abbzMQR{[REDACTED]}  --- FULL BELOW (local only) ---  abbzMQR{[REDACTED]}\n",
            "[12] crib_candidate_pico_2_YGBH.txt  |  SHA256: 12b9cf71873590acf35acbb2e07fb8181e67b2227e48efff1fe4be0daebcc870  |  preview: tamhFPC{[REDACTED]}  --- FULL BELOW (local only) ---  tamhFPC{[REDACTED]}\n",
            "[13] crib_candidate_pico_3_ZVTP.txt  |  SHA256: c69074e2177833107867e9693a9b935ca6b100653aca51b76841eb0bb1b57e74  |  preview: sluzEAK{[REDACTED]}  --- FULL BELOW (local only) ---  sluzEAK{[REDACTED]}\n",
            "[14] crib_candidate_picoctf_0_CYLABCY.txt  |  SHA256: 723c6116ebd2f59a1839d9dbabae08d290a30e08b88028ed17d9f523280ec8a4  |  preview: picoCTF{[REDACTED]}, picoCTF{[REDACTED]}\n",
            "\n",
            "Índices con ocurrencias de picoCTF: [9, 14]\n",
            "\n",
            "--- REVELANDO: crib_candidate_CTF_0_PNI.txt ---\n",
            "\n",
            "ctfzQNO{[REDACTED]}\n",
            "\n",
            "--- FULL BELOW (local only) ---\n",
            "\n",
            "ctfzQNO{B0FF_JI3_R1T3G3E3_N1SS3F_2951u89q}\n"
          ]
        }
      ]
    },
    {
      "cell_type": "code",
      "source": [
        "# === Mostrar la flag desde un archivo de envío\n",
        "import os, hashlib\n",
        "\n",
        "FILENAME = \"submission_CYLAB.txt\"\n",
        "\n",
        "EXPECTED_SHA_CYLAB = \"c5613bc3881b4dfb28755d8e52229189caf7f8bbddd4bad874f5c64d2776274c\"\n",
        "EXPECTED_SHA_CYLABCY = \"93127c1fb7833c2a5e551e40508761f185caf937b8bfde7d4358271f4bd0f953\"\n",
        "\n",
        "if not os.path.exists(FILENAME):\n",
        "    print(\"Archivo no encontrado:\", FILENAME)\n",
        "else:\n",
        "    data = open(FILENAME, \"rb\").read()\n",
        "    sha = hashlib.sha256(data).hexdigest()\n",
        "    print(\"Archivo:\", FILENAME)\n",
        "    print(\"SHA-256:\", sha)\n",
        "    if FILENAME.lower().startswith(\"submission_cylab\"):\n",
        "        print(\"SHA esperada para CYLAB:\", EXPECTED_SHA_CYLAB)\n",
        "    elif FILENAME.lower().startswith(\"submission_cylabcy\"):\n",
        "        print(\"SHA esperada para CYLABCY:\", EXPECTED_SHA_CYLABCY)\n",
        "    if sha != EXPECTED_SHA_CYLAB and sha != EXPECTED_SHA_CYLABCY:\n",
        "        print(\"**Aviso:** el SHA del archivo no coincide con las SHA documentadas. Revisa que estés usando el archivo correcto.\")\n",
        "    print(\"\\n--- FLAG / CONTENIDO DEL ARCHIVO\")\n",
        "\n",
        "    try:\n",
        "        print(data.decode(\"utf-8\"))\n",
        "    except Exception:\n",
        "        print(data)\n",
        "\n",
        "\n"
      ],
      "metadata": {
        "colab": {
          "base_uri": "https://localhost:8080/"
        },
        "id": "LLu3vG6Il-qS",
        "outputId": "ce56dbcb-1ad5-4910-aec3-42451da89b6a"
      },
      "execution_count": 244,
      "outputs": [
        {
          "output_type": "stream",
          "name": "stdout",
          "text": [
            "Archivo: submission_CYLAB.txt\n",
            "SHA-256: c5613bc3881b4dfb28755d8e52229189caf7f8bbddd4bad874f5c64d2776274c\n",
            "SHA esperada para CYLAB: c5613bc3881b4dfb28755d8e52229189caf7f8bbddd4bad874f5c64d2776274c\n",
            "\n",
            "--- FLAG / CONTENIDO DEL ARCHIVO\n",
            "picoCTF{D0NT_US3_V1G3N3R3_C1PH3R_2951a89h}\n"
          ]
        }
      ]
    },
    {
      "cell_type": "markdown",
      "source": [
        "#Evidencia"
      ],
      "metadata": {
        "id": "VO8BSb2mpaW7"
      }
    },
    {
      "cell_type": "code",
      "source": [
        "\n",
        "from IPython.display import Image, display, Markdown\n",
        "import os\n",
        "\n",
        "fname = \"img1.png\"\n",
        "if os.path.exists(fname):\n",
        "    display(Markdown(\"### Imagen 1\"))\n",
        "    display(Image(fname))\n",
        "else:\n",
        "    print(f\"No se encontró {fname}. Ejecutá la celda de subida y asegurate de haber subido al menos 1 imagen.\")"
      ],
      "metadata": {
        "colab": {
          "base_uri": "https://localhost:8080/",
          "height": 483
        },
        "id": "14CE7Pnbpcx7",
        "outputId": "2aad9ed8-f8b5-4502-af2c-355a236ac452"
      },
      "execution_count": 245,
      "outputs": [
        {
          "output_type": "display_data",
          "data": {
            "text/plain": [
              "<IPython.core.display.Markdown object>"
            ],
            "text/markdown": "### Imagen 1"
          },
          "metadata": {}
        },
        {
          "output_type": "display_data",
          "data": {
            "image/png": "[encoded data removed]",
            "text/plain": [
              "<IPython.core.display.Image object>"
            ]
          },
          "metadata": {}
        }
      ]
    }
  ]
}